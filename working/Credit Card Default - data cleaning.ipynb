{
 "cells": [
  {
   "cell_type": "markdown",
   "metadata": {},
   "source": [
    "## Credit Card Default Dataset - Data Cleaning\n",
    "Steps:\n",
    "1. Check missing values\n",
    "2. Check undocumented labels in categorical variables\n",
    "3. Check outliers in numerical variables\n",
    "4. Export pre-processed training & testing data"
   ]
  },
  {
   "cell_type": "code",
   "execution_count": 1,
   "metadata": {},
   "outputs": [
    {
     "name": "stdout",
     "output_type": "stream",
     "text": [
      "Requirement already satisfied: imblearn in /Users/sylvia/opt/anaconda3/lib/python3.8/site-packages (0.0)\n",
      "Requirement already satisfied: imbalanced-learn in /Users/sylvia/opt/anaconda3/lib/python3.8/site-packages (from imblearn) (0.7.0)\n",
      "Requirement already satisfied: joblib>=0.11 in /Users/sylvia/opt/anaconda3/lib/python3.8/site-packages (from imbalanced-learn->imblearn) (0.17.0)\n",
      "Requirement already satisfied: scikit-learn>=0.23 in /Users/sylvia/opt/anaconda3/lib/python3.8/site-packages (from imbalanced-learn->imblearn) (0.23.2)\n",
      "Requirement already satisfied: scipy>=0.19.1 in /Users/sylvia/opt/anaconda3/lib/python3.8/site-packages (from imbalanced-learn->imblearn) (1.5.3)\n",
      "Requirement already satisfied: numpy>=1.13.3 in /Users/sylvia/opt/anaconda3/lib/python3.8/site-packages (from imbalanced-learn->imblearn) (1.18.5)\n",
      "Requirement already satisfied: threadpoolctl>=2.0.0 in /Users/sylvia/opt/anaconda3/lib/python3.8/site-packages (from scikit-learn>=0.23->imbalanced-learn->imblearn) (2.1.0)\n"
     ]
    }
   ],
   "source": [
    "!pip install imblearn"
   ]
  },
  {
   "cell_type": "code",
   "execution_count": 214,
   "metadata": {},
   "outputs": [],
   "source": [
    "import pandas as pd\n",
    "import numpy as np\n",
    "from imblearn.over_sampling import SMOTE\n",
    "from imblearn.over_sampling import BorderlineSMOTE\n",
    "from collections import Counter\n",
    "import matplotlib.pyplot as plt\n",
    "from sklearn.model_selection import train_test_split\n",
    "from collections import Counter\n",
    "from sklearn.datasets import make_classification\n",
    "from imblearn.over_sampling import SMOTE\n",
    "from matplotlib import pyplot\n",
    "from numpy import where"
   ]
  },
  {
   "cell_type": "markdown",
   "metadata": {},
   "source": [
    "### Load original datasets"
   ]
  },
  {
   "cell_type": "code",
   "execution_count": 249,
   "metadata": {},
   "outputs": [],
   "source": [
    "path = '/Users/sylvia/Desktop/3/BENG0095 Data Mining/BENG0095 (202021) Group Coursework Brief-20201106/DataFiles/' # change to your local file location\n",
    "\n",
    "df_train = pd.read_csv(path + 'CreditCard_train.csv', header = 1) # pass the second line in the CSV file as column names\n",
    "df_train.rename(columns={'PAY_0':'PAY_1'}, inplace=True) # change strange (inconsistent) column name 'PAY_0'\n",
    "df_train.rename(columns={'default payment next month':'default'}, inplace=True) # shorten the name of target column\n",
    "\n",
    "df_test = pd.read_csv(path + 'CreditCard_test.csv', header=1)\n",
    "df_test.rename(columns={'PAY_0':'PAY_1'}, inplace=True)\n",
    "df_test.rename(columns={'default payment next month':'default'}, inplace=True)"
   ]
  },
  {
   "cell_type": "code",
   "execution_count": 127,
   "metadata": {},
   "outputs": [
    {
     "data": {
      "text/html": [
       "<div>\n",
       "<style scoped>\n",
       "    .dataframe tbody tr th:only-of-type {\n",
       "        vertical-align: middle;\n",
       "    }\n",
       "\n",
       "    .dataframe tbody tr th {\n",
       "        vertical-align: top;\n",
       "    }\n",
       "\n",
       "    .dataframe thead th {\n",
       "        text-align: right;\n",
       "    }\n",
       "</style>\n",
       "<table border=\"1\" class=\"dataframe\">\n",
       "  <thead>\n",
       "    <tr style=\"text-align: right;\">\n",
       "      <th></th>\n",
       "      <th>ID</th>\n",
       "      <th>LIMIT_BAL</th>\n",
       "      <th>SEX</th>\n",
       "      <th>EDUCATION</th>\n",
       "      <th>MARRIAGE</th>\n",
       "      <th>AGE</th>\n",
       "      <th>PAY_1</th>\n",
       "      <th>PAY_2</th>\n",
       "      <th>PAY_3</th>\n",
       "      <th>PAY_4</th>\n",
       "      <th>...</th>\n",
       "      <th>BILL_AMT4</th>\n",
       "      <th>BILL_AMT5</th>\n",
       "      <th>BILL_AMT6</th>\n",
       "      <th>PAY_AMT1</th>\n",
       "      <th>PAY_AMT2</th>\n",
       "      <th>PAY_AMT3</th>\n",
       "      <th>PAY_AMT4</th>\n",
       "      <th>PAY_AMT5</th>\n",
       "      <th>PAY_AMT6</th>\n",
       "      <th>default</th>\n",
       "    </tr>\n",
       "  </thead>\n",
       "  <tbody>\n",
       "    <tr>\n",
       "      <th>0</th>\n",
       "      <td>1</td>\n",
       "      <td>20000</td>\n",
       "      <td>2</td>\n",
       "      <td>2</td>\n",
       "      <td>1</td>\n",
       "      <td>24</td>\n",
       "      <td>2</td>\n",
       "      <td>2</td>\n",
       "      <td>-1</td>\n",
       "      <td>-1</td>\n",
       "      <td>...</td>\n",
       "      <td>0</td>\n",
       "      <td>0</td>\n",
       "      <td>0</td>\n",
       "      <td>0</td>\n",
       "      <td>689</td>\n",
       "      <td>0</td>\n",
       "      <td>0</td>\n",
       "      <td>0</td>\n",
       "      <td>0</td>\n",
       "      <td>1</td>\n",
       "    </tr>\n",
       "    <tr>\n",
       "      <th>1</th>\n",
       "      <td>2</td>\n",
       "      <td>120000</td>\n",
       "      <td>2</td>\n",
       "      <td>2</td>\n",
       "      <td>2</td>\n",
       "      <td>26</td>\n",
       "      <td>-1</td>\n",
       "      <td>2</td>\n",
       "      <td>0</td>\n",
       "      <td>0</td>\n",
       "      <td>...</td>\n",
       "      <td>3272</td>\n",
       "      <td>3455</td>\n",
       "      <td>3261</td>\n",
       "      <td>0</td>\n",
       "      <td>1000</td>\n",
       "      <td>1000</td>\n",
       "      <td>1000</td>\n",
       "      <td>0</td>\n",
       "      <td>2000</td>\n",
       "      <td>1</td>\n",
       "    </tr>\n",
       "    <tr>\n",
       "      <th>2</th>\n",
       "      <td>3</td>\n",
       "      <td>90000</td>\n",
       "      <td>2</td>\n",
       "      <td>2</td>\n",
       "      <td>2</td>\n",
       "      <td>34</td>\n",
       "      <td>0</td>\n",
       "      <td>0</td>\n",
       "      <td>0</td>\n",
       "      <td>0</td>\n",
       "      <td>...</td>\n",
       "      <td>14331</td>\n",
       "      <td>14948</td>\n",
       "      <td>15549</td>\n",
       "      <td>1518</td>\n",
       "      <td>1500</td>\n",
       "      <td>1000</td>\n",
       "      <td>1000</td>\n",
       "      <td>1000</td>\n",
       "      <td>5000</td>\n",
       "      <td>0</td>\n",
       "    </tr>\n",
       "    <tr>\n",
       "      <th>3</th>\n",
       "      <td>4</td>\n",
       "      <td>50000</td>\n",
       "      <td>2</td>\n",
       "      <td>2</td>\n",
       "      <td>1</td>\n",
       "      <td>37</td>\n",
       "      <td>0</td>\n",
       "      <td>0</td>\n",
       "      <td>0</td>\n",
       "      <td>0</td>\n",
       "      <td>...</td>\n",
       "      <td>28314</td>\n",
       "      <td>28959</td>\n",
       "      <td>29547</td>\n",
       "      <td>2000</td>\n",
       "      <td>2019</td>\n",
       "      <td>1200</td>\n",
       "      <td>1100</td>\n",
       "      <td>1069</td>\n",
       "      <td>1000</td>\n",
       "      <td>0</td>\n",
       "    </tr>\n",
       "    <tr>\n",
       "      <th>4</th>\n",
       "      <td>5</td>\n",
       "      <td>50000</td>\n",
       "      <td>1</td>\n",
       "      <td>2</td>\n",
       "      <td>1</td>\n",
       "      <td>57</td>\n",
       "      <td>-1</td>\n",
       "      <td>0</td>\n",
       "      <td>-1</td>\n",
       "      <td>0</td>\n",
       "      <td>...</td>\n",
       "      <td>20940</td>\n",
       "      <td>19146</td>\n",
       "      <td>19131</td>\n",
       "      <td>2000</td>\n",
       "      <td>36681</td>\n",
       "      <td>10000</td>\n",
       "      <td>9000</td>\n",
       "      <td>689</td>\n",
       "      <td>679</td>\n",
       "      <td>0</td>\n",
       "    </tr>\n",
       "  </tbody>\n",
       "</table>\n",
       "<p>5 rows × 25 columns</p>\n",
       "</div>"
      ],
      "text/plain": [
       "   ID  LIMIT_BAL  SEX  EDUCATION  MARRIAGE  AGE  PAY_1  PAY_2  PAY_3  PAY_4  \\\n",
       "0   1      20000    2          2         1   24      2      2     -1     -1   \n",
       "1   2     120000    2          2         2   26     -1      2      0      0   \n",
       "2   3      90000    2          2         2   34      0      0      0      0   \n",
       "3   4      50000    2          2         1   37      0      0      0      0   \n",
       "4   5      50000    1          2         1   57     -1      0     -1      0   \n",
       "\n",
       "   ...  BILL_AMT4  BILL_AMT5  BILL_AMT6  PAY_AMT1  PAY_AMT2  PAY_AMT3  \\\n",
       "0  ...          0          0          0         0       689         0   \n",
       "1  ...       3272       3455       3261         0      1000      1000   \n",
       "2  ...      14331      14948      15549      1518      1500      1000   \n",
       "3  ...      28314      28959      29547      2000      2019      1200   \n",
       "4  ...      20940      19146      19131      2000     36681     10000   \n",
       "\n",
       "   PAY_AMT4  PAY_AMT5  PAY_AMT6  default  \n",
       "0         0         0         0        1  \n",
       "1      1000         0      2000        1  \n",
       "2      1000      1000      5000        0  \n",
       "3      1100      1069      1000        0  \n",
       "4      9000       689       679        0  \n",
       "\n",
       "[5 rows x 25 columns]"
      ]
     },
     "execution_count": 127,
     "metadata": {},
     "output_type": "execute_result"
    }
   ],
   "source": [
    "df_train.head()"
   ]
  },
  {
   "cell_type": "code",
   "execution_count": 102,
   "metadata": {},
   "outputs": [
    {
     "data": {
      "text/html": [
       "<div>\n",
       "<style scoped>\n",
       "    .dataframe tbody tr th:only-of-type {\n",
       "        vertical-align: middle;\n",
       "    }\n",
       "\n",
       "    .dataframe tbody tr th {\n",
       "        vertical-align: top;\n",
       "    }\n",
       "\n",
       "    .dataframe thead th {\n",
       "        text-align: right;\n",
       "    }\n",
       "</style>\n",
       "<table border=\"1\" class=\"dataframe\">\n",
       "  <thead>\n",
       "    <tr style=\"text-align: right;\">\n",
       "      <th></th>\n",
       "      <th>ID</th>\n",
       "      <th>LIMIT_BAL</th>\n",
       "      <th>SEX</th>\n",
       "      <th>EDUCATION</th>\n",
       "      <th>MARRIAGE</th>\n",
       "      <th>AGE</th>\n",
       "      <th>PAY_1</th>\n",
       "      <th>PAY_2</th>\n",
       "      <th>PAY_3</th>\n",
       "      <th>PAY_4</th>\n",
       "      <th>...</th>\n",
       "      <th>BILL_AMT4</th>\n",
       "      <th>BILL_AMT5</th>\n",
       "      <th>BILL_AMT6</th>\n",
       "      <th>PAY_AMT1</th>\n",
       "      <th>PAY_AMT2</th>\n",
       "      <th>PAY_AMT3</th>\n",
       "      <th>PAY_AMT4</th>\n",
       "      <th>PAY_AMT5</th>\n",
       "      <th>PAY_AMT6</th>\n",
       "      <th>default</th>\n",
       "    </tr>\n",
       "  </thead>\n",
       "  <tbody>\n",
       "    <tr>\n",
       "      <th>0</th>\n",
       "      <td>24001</td>\n",
       "      <td>50000</td>\n",
       "      <td>1</td>\n",
       "      <td>2</td>\n",
       "      <td>2</td>\n",
       "      <td>23</td>\n",
       "      <td>2</td>\n",
       "      <td>2</td>\n",
       "      <td>0</td>\n",
       "      <td>0</td>\n",
       "      <td>...</td>\n",
       "      <td>44116</td>\n",
       "      <td>21247</td>\n",
       "      <td>20066</td>\n",
       "      <td>8</td>\n",
       "      <td>2401</td>\n",
       "      <td>2254</td>\n",
       "      <td>2004</td>\n",
       "      <td>704</td>\n",
       "      <td>707</td>\n",
       "      <td>0</td>\n",
       "    </tr>\n",
       "    <tr>\n",
       "      <th>1</th>\n",
       "      <td>24002</td>\n",
       "      <td>60000</td>\n",
       "      <td>1</td>\n",
       "      <td>2</td>\n",
       "      <td>2</td>\n",
       "      <td>26</td>\n",
       "      <td>0</td>\n",
       "      <td>0</td>\n",
       "      <td>0</td>\n",
       "      <td>0</td>\n",
       "      <td>...</td>\n",
       "      <td>55736</td>\n",
       "      <td>26958</td>\n",
       "      <td>28847</td>\n",
       "      <td>2282</td>\n",
       "      <td>2324</td>\n",
       "      <td>2049</td>\n",
       "      <td>2000</td>\n",
       "      <td>3000</td>\n",
       "      <td>1120</td>\n",
       "      <td>1</td>\n",
       "    </tr>\n",
       "    <tr>\n",
       "      <th>2</th>\n",
       "      <td>24003</td>\n",
       "      <td>400000</td>\n",
       "      <td>1</td>\n",
       "      <td>2</td>\n",
       "      <td>2</td>\n",
       "      <td>27</td>\n",
       "      <td>0</td>\n",
       "      <td>0</td>\n",
       "      <td>0</td>\n",
       "      <td>0</td>\n",
       "      <td>...</td>\n",
       "      <td>10745</td>\n",
       "      <td>20737</td>\n",
       "      <td>9545</td>\n",
       "      <td>2501</td>\n",
       "      <td>10009</td>\n",
       "      <td>1437</td>\n",
       "      <td>1105</td>\n",
       "      <td>510</td>\n",
       "      <td>959</td>\n",
       "      <td>0</td>\n",
       "    </tr>\n",
       "    <tr>\n",
       "      <th>3</th>\n",
       "      <td>24004</td>\n",
       "      <td>20000</td>\n",
       "      <td>1</td>\n",
       "      <td>5</td>\n",
       "      <td>2</td>\n",
       "      <td>27</td>\n",
       "      <td>5</td>\n",
       "      <td>4</td>\n",
       "      <td>3</td>\n",
       "      <td>2</td>\n",
       "      <td>...</td>\n",
       "      <td>19709</td>\n",
       "      <td>20113</td>\n",
       "      <td>19840</td>\n",
       "      <td>0</td>\n",
       "      <td>0</td>\n",
       "      <td>0</td>\n",
       "      <td>900</td>\n",
       "      <td>0</td>\n",
       "      <td>0</td>\n",
       "      <td>0</td>\n",
       "    </tr>\n",
       "    <tr>\n",
       "      <th>4</th>\n",
       "      <td>24005</td>\n",
       "      <td>50000</td>\n",
       "      <td>1</td>\n",
       "      <td>3</td>\n",
       "      <td>2</td>\n",
       "      <td>27</td>\n",
       "      <td>0</td>\n",
       "      <td>0</td>\n",
       "      <td>-2</td>\n",
       "      <td>-2</td>\n",
       "      <td>...</td>\n",
       "      <td>0</td>\n",
       "      <td>70</td>\n",
       "      <td>120</td>\n",
       "      <td>0</td>\n",
       "      <td>100</td>\n",
       "      <td>0</td>\n",
       "      <td>70</td>\n",
       "      <td>200</td>\n",
       "      <td>100</td>\n",
       "      <td>0</td>\n",
       "    </tr>\n",
       "  </tbody>\n",
       "</table>\n",
       "<p>5 rows × 25 columns</p>\n",
       "</div>"
      ],
      "text/plain": [
       "      ID  LIMIT_BAL  SEX  EDUCATION  MARRIAGE  AGE  PAY_1  PAY_2  PAY_3  \\\n",
       "0  24001      50000    1          2         2   23      2      2      0   \n",
       "1  24002      60000    1          2         2   26      0      0      0   \n",
       "2  24003     400000    1          2         2   27      0      0      0   \n",
       "3  24004      20000    1          5         2   27      5      4      3   \n",
       "4  24005      50000    1          3         2   27      0      0     -2   \n",
       "\n",
       "   PAY_4  ...  BILL_AMT4  BILL_AMT5  BILL_AMT6  PAY_AMT1  PAY_AMT2  PAY_AMT3  \\\n",
       "0      0  ...      44116      21247      20066         8      2401      2254   \n",
       "1      0  ...      55736      26958      28847      2282      2324      2049   \n",
       "2      0  ...      10745      20737       9545      2501     10009      1437   \n",
       "3      2  ...      19709      20113      19840         0         0         0   \n",
       "4     -2  ...          0         70        120         0       100         0   \n",
       "\n",
       "   PAY_AMT4  PAY_AMT5  PAY_AMT6  default  \n",
       "0      2004       704       707        0  \n",
       "1      2000      3000      1120        1  \n",
       "2      1105       510       959        0  \n",
       "3       900         0         0        0  \n",
       "4        70       200       100        0  \n",
       "\n",
       "[5 rows x 25 columns]"
      ]
     },
     "execution_count": 102,
     "metadata": {},
     "output_type": "execute_result"
    }
   ],
   "source": [
    "df_test.head()"
   ]
  },
  {
   "cell_type": "markdown",
   "metadata": {},
   "source": [
    "### Check missing values"
   ]
  },
  {
   "cell_type": "code",
   "execution_count": 103,
   "metadata": {},
   "outputs": [
    {
     "data": {
      "text/plain": [
       "ID           False\n",
       "LIMIT_BAL    False\n",
       "SEX          False\n",
       "EDUCATION    False\n",
       "MARRIAGE     False\n",
       "AGE          False\n",
       "PAY_1        False\n",
       "PAY_2        False\n",
       "PAY_3        False\n",
       "PAY_4        False\n",
       "PAY_5        False\n",
       "PAY_6        False\n",
       "BILL_AMT1    False\n",
       "BILL_AMT2    False\n",
       "BILL_AMT3    False\n",
       "BILL_AMT4    False\n",
       "BILL_AMT5    False\n",
       "BILL_AMT6    False\n",
       "PAY_AMT1     False\n",
       "PAY_AMT2     False\n",
       "PAY_AMT3     False\n",
       "PAY_AMT4     False\n",
       "PAY_AMT5     False\n",
       "PAY_AMT6     False\n",
       "default      False\n",
       "dtype: bool"
      ]
     },
     "execution_count": 103,
     "metadata": {},
     "output_type": "execute_result"
    }
   ],
   "source": [
    "df_train.isnull().any()"
   ]
  },
  {
   "cell_type": "code",
   "execution_count": 104,
   "metadata": {},
   "outputs": [
    {
     "data": {
      "text/plain": [
       "ID           False\n",
       "LIMIT_BAL    False\n",
       "SEX          False\n",
       "EDUCATION    False\n",
       "MARRIAGE     False\n",
       "AGE          False\n",
       "PAY_1        False\n",
       "PAY_2        False\n",
       "PAY_3        False\n",
       "PAY_4        False\n",
       "PAY_5        False\n",
       "PAY_6        False\n",
       "BILL_AMT1    False\n",
       "BILL_AMT2    False\n",
       "BILL_AMT3    False\n",
       "BILL_AMT4    False\n",
       "BILL_AMT5    False\n",
       "BILL_AMT6    False\n",
       "PAY_AMT1     False\n",
       "PAY_AMT2     False\n",
       "PAY_AMT3     False\n",
       "PAY_AMT4     False\n",
       "PAY_AMT5     False\n",
       "PAY_AMT6     False\n",
       "default      False\n",
       "dtype: bool"
      ]
     },
     "execution_count": 104,
     "metadata": {},
     "output_type": "execute_result"
    }
   ],
   "source": [
    "df_test.isnull().any()"
   ]
  },
  {
   "cell_type": "code",
   "execution_count": 105,
   "metadata": {},
   "outputs": [
    {
     "name": "stdout",
     "output_type": "stream",
     "text": [
      "<class 'pandas.core.frame.DataFrame'>\n",
      "RangeIndex: 24000 entries, 0 to 23999\n",
      "Data columns (total 25 columns):\n",
      " #   Column     Non-Null Count  Dtype\n",
      "---  ------     --------------  -----\n",
      " 0   ID         24000 non-null  int64\n",
      " 1   LIMIT_BAL  24000 non-null  int64\n",
      " 2   SEX        24000 non-null  int64\n",
      " 3   EDUCATION  24000 non-null  int64\n",
      " 4   MARRIAGE   24000 non-null  int64\n",
      " 5   AGE        24000 non-null  int64\n",
      " 6   PAY_1      24000 non-null  int64\n",
      " 7   PAY_2      24000 non-null  int64\n",
      " 8   PAY_3      24000 non-null  int64\n",
      " 9   PAY_4      24000 non-null  int64\n",
      " 10  PAY_5      24000 non-null  int64\n",
      " 11  PAY_6      24000 non-null  int64\n",
      " 12  BILL_AMT1  24000 non-null  int64\n",
      " 13  BILL_AMT2  24000 non-null  int64\n",
      " 14  BILL_AMT3  24000 non-null  int64\n",
      " 15  BILL_AMT4  24000 non-null  int64\n",
      " 16  BILL_AMT5  24000 non-null  int64\n",
      " 17  BILL_AMT6  24000 non-null  int64\n",
      " 18  PAY_AMT1   24000 non-null  int64\n",
      " 19  PAY_AMT2   24000 non-null  int64\n",
      " 20  PAY_AMT3   24000 non-null  int64\n",
      " 21  PAY_AMT4   24000 non-null  int64\n",
      " 22  PAY_AMT5   24000 non-null  int64\n",
      " 23  PAY_AMT6   24000 non-null  int64\n",
      " 24  default    24000 non-null  int64\n",
      "dtypes: int64(25)\n",
      "memory usage: 4.6 MB\n"
     ]
    }
   ],
   "source": [
    "df_train.info()"
   ]
  },
  {
   "cell_type": "code",
   "execution_count": 106,
   "metadata": {},
   "outputs": [
    {
     "name": "stdout",
     "output_type": "stream",
     "text": [
      "<class 'pandas.core.frame.DataFrame'>\n",
      "RangeIndex: 6000 entries, 0 to 5999\n",
      "Data columns (total 25 columns):\n",
      " #   Column     Non-Null Count  Dtype\n",
      "---  ------     --------------  -----\n",
      " 0   ID         6000 non-null   int64\n",
      " 1   LIMIT_BAL  6000 non-null   int64\n",
      " 2   SEX        6000 non-null   int64\n",
      " 3   EDUCATION  6000 non-null   int64\n",
      " 4   MARRIAGE   6000 non-null   int64\n",
      " 5   AGE        6000 non-null   int64\n",
      " 6   PAY_1      6000 non-null   int64\n",
      " 7   PAY_2      6000 non-null   int64\n",
      " 8   PAY_3      6000 non-null   int64\n",
      " 9   PAY_4      6000 non-null   int64\n",
      " 10  PAY_5      6000 non-null   int64\n",
      " 11  PAY_6      6000 non-null   int64\n",
      " 12  BILL_AMT1  6000 non-null   int64\n",
      " 13  BILL_AMT2  6000 non-null   int64\n",
      " 14  BILL_AMT3  6000 non-null   int64\n",
      " 15  BILL_AMT4  6000 non-null   int64\n",
      " 16  BILL_AMT5  6000 non-null   int64\n",
      " 17  BILL_AMT6  6000 non-null   int64\n",
      " 18  PAY_AMT1   6000 non-null   int64\n",
      " 19  PAY_AMT2   6000 non-null   int64\n",
      " 20  PAY_AMT3   6000 non-null   int64\n",
      " 21  PAY_AMT4   6000 non-null   int64\n",
      " 22  PAY_AMT5   6000 non-null   int64\n",
      " 23  PAY_AMT6   6000 non-null   int64\n",
      " 24  default    6000 non-null   int64\n",
      "dtypes: int64(25)\n",
      "memory usage: 1.1 MB\n"
     ]
    }
   ],
   "source": [
    "df_test.info()"
   ]
  },
  {
   "cell_type": "markdown",
   "metadata": {},
   "source": [
    "No missing values. All variables have numerical values (int64)."
   ]
  },
  {
   "cell_type": "markdown",
   "metadata": {},
   "source": [
    "### Check undocumented labels"
   ]
  },
  {
   "cell_type": "code",
   "execution_count": 107,
   "metadata": {},
   "outputs": [
    {
     "name": "stdout",
     "output_type": "stream",
     "text": [
      "SEX: [1, 2]\n",
      "EDUCATION: [0, 1, 2, 3, 4, 5, 6]\n",
      "MARRIAGE: [0, 1, 2, 3]\n",
      "PAY_1: [-2, -1, 0, 1, 2, 3, 4, 5, 6, 7, 8]\n",
      "PAY_2: [-2, -1, 0, 1, 2, 3, 4, 5, 6, 7, 8]\n",
      "PAY_3: [-2, -1, 0, 1, 2, 3, 4, 5, 6, 7, 8]\n",
      "PAY_4: [-2, -1, 0, 1, 2, 3, 4, 5, 6, 7, 8]\n",
      "PAY_5: [-2, -1, 0, 2, 3, 4, 5, 6, 7, 8]\n",
      "PAY_6: [-2, -1, 0, 2, 3, 4, 5, 6, 7, 8]\n",
      "default: [0, 1]\n"
     ]
    }
   ],
   "source": [
    "# check the range of variable values is well-documented\n",
    "print('SEX:', sorted(df_train['SEX'].unique()))\n",
    "print('EDUCATION:', sorted(df_train['EDUCATION'].unique()))\n",
    "print('MARRIAGE:', sorted(df_train['MARRIAGE'].unique()))\n",
    "print('PAY_1:', sorted(df_train['PAY_1'].unique()))\n",
    "print('PAY_2:', sorted(df_train['PAY_2'].unique()))\n",
    "print('PAY_3:', sorted(df_train['PAY_3'].unique()))\n",
    "print('PAY_4:', sorted(df_train['PAY_4'].unique()))\n",
    "print('PAY_5:', sorted(df_train['PAY_5'].unique()))\n",
    "print('PAY_6:', sorted(df_train['PAY_6'].unique()))\n",
    "print('default:', sorted(df_train['default'].unique()))"
   ]
  },
  {
   "cell_type": "code",
   "execution_count": 108,
   "metadata": {},
   "outputs": [
    {
     "name": "stdout",
     "output_type": "stream",
     "text": [
      "SEX: [1, 2]\n",
      "EDUCATION: [0, 1, 2, 3, 4, 5, 6]\n",
      "MARRIAGE: [0, 1, 2, 3]\n",
      "PAY_1: [-2, -1, 0, 1, 2, 3, 4, 5, 6, 7, 8]\n",
      "PAY_2: [-2, -1, 0, 1, 2, 3, 4, 5, 6, 7]\n",
      "PAY_3: [-2, -1, 0, 2, 3, 4, 5, 6, 8]\n",
      "PAY_4: [-2, -1, 0, 2, 3, 4, 5, 7]\n",
      "PAY_5: [-2, -1, 0, 2, 3, 4, 5, 6, 7]\n",
      "PAY_6: [-2, -1, 0, 2, 3, 4, 5, 6, 7]\n",
      "default: [0, 1]\n"
     ]
    }
   ],
   "source": [
    "# check the range of variable values is well-documented\n",
    "print('SEX:', sorted(df_test['SEX'].unique()))\n",
    "print('EDUCATION:', sorted(df_test['EDUCATION'].unique()))\n",
    "print('MARRIAGE:', sorted(df_test['MARRIAGE'].unique()))\n",
    "print('PAY_1:', sorted(df_test['PAY_1'].unique()))\n",
    "print('PAY_2:', sorted(df_test['PAY_2'].unique()))\n",
    "print('PAY_3:', sorted(df_test['PAY_3'].unique()))\n",
    "print('PAY_4:', sorted(df_test['PAY_4'].unique()))\n",
    "print('PAY_5:', sorted(df_test['PAY_5'].unique()))\n",
    "print('PAY_6:', sorted(df_test['PAY_6'].unique()))\n",
    "print('default:', sorted(df_test['default'].unique()))"
   ]
  },
  {
   "cell_type": "markdown",
   "metadata": {},
   "source": [
    "**Undocumented categories:**\n",
    "- **EDUCATION**: 0, 5, 6\n",
    "- **MARRIAGE**: 0\n",
    "- **PAY_1** to **PAY_6**: -2, 0\n",
    "***\n",
    "**Solution:**\n",
    "- **EDUCATION**: categorise 0, 5, 6 as 4 (**others**)\n",
    "<br> **others** may refer to education level either higher than graduate school or lower than high school.\n",
    "- **MARRIAGE**: categorise 0 as 3 (**others**)\n",
    "- **PAY_1** to **PAY_6**: categorise -2, 0 as -1 (**pay duly**)"
   ]
  },
  {
   "cell_type": "code",
   "execution_count": 109,
   "metadata": {
    "scrolled": true
   },
   "outputs": [
    {
     "name": "stdout",
     "output_type": "stream",
     "text": [
      "EDUCATION: [1, 2, 3, 4]\n",
      "MARRIAGE: [1, 2, 3]\n"
     ]
    }
   ],
   "source": [
    "df_train.loc[(df_train['EDUCATION'] == 0) | (df_train['EDUCATION'] == 5) | (df_train['EDUCATION'] == 6), 'EDUCATION'] = 4\n",
    "df_train.loc[df_train['MARRIAGE'] == 0, 'MARRIAGE'] = 3\n",
    "\n",
    "print('EDUCATION:', sorted(df_train['EDUCATION'].unique()))\n",
    "print('MARRIAGE:', sorted(df_train['MARRIAGE'].unique()))"
   ]
  },
  {
   "cell_type": "code",
   "execution_count": 110,
   "metadata": {},
   "outputs": [
    {
     "name": "stdout",
     "output_type": "stream",
     "text": [
      "EDUCATION: [1, 2, 3, 4]\n",
      "MARRIAGE: [1, 2, 3]\n"
     ]
    }
   ],
   "source": [
    "df_test.loc[(df_test['EDUCATION'] == 0) | (df_test['EDUCATION'] == 5) | (df_test['EDUCATION'] == 6), 'EDUCATION'] = 4\n",
    "df_test.loc[df_test['MARRIAGE'] == 0, 'MARRIAGE'] = 3\n",
    "\n",
    "print('EDUCATION:', sorted(df_test['EDUCATION'].unique()))\n",
    "print('MARRIAGE:', sorted(df_test['MARRIAGE'].unique()))"
   ]
  },
  {
   "cell_type": "code",
   "execution_count": 111,
   "metadata": {},
   "outputs": [
    {
     "name": "stdout",
     "output_type": "stream",
     "text": [
      "PAY_1: [-1, 1, 2, 3, 4, 5, 6, 7, 8]\n",
      "PAY_2: [-1, 1, 2, 3, 4, 5, 6, 7, 8]\n",
      "PAY_3: [-1, 1, 2, 3, 4, 5, 6, 7, 8]\n",
      "PAY_4: [-1, 1, 2, 3, 4, 5, 6, 7, 8]\n",
      "PAY_5: [-1, 2, 3, 4, 5, 6, 7, 8]\n",
      "PAY_6: [-1, 2, 3, 4, 5, 6, 7, 8]\n"
     ]
    }
   ],
   "source": [
    "df_train.loc[(df_train['PAY_1'] == -2) | (df_train['PAY_1'] == 0), 'PAY_1'] = -1\n",
    "df_train.loc[(df_train['PAY_2'] == -2) | (df_train['PAY_2'] == 0), 'PAY_2'] = -1\n",
    "df_train.loc[(df_train['PAY_3'] == -2) | (df_train['PAY_3'] == 0), 'PAY_3'] = -1\n",
    "df_train.loc[(df_train['PAY_4'] == -2) | (df_train['PAY_4'] == 0), 'PAY_4'] = -1\n",
    "df_train.loc[(df_train['PAY_5'] == -2) | (df_train['PAY_5'] == 0), 'PAY_5'] = -1\n",
    "df_train.loc[(df_train['PAY_6'] == -2) | (df_train['PAY_6'] == 0), 'PAY_6'] = -1\n",
    "\n",
    "print('PAY_1:', sorted(df_train['PAY_1'].unique()))\n",
    "print('PAY_2:', sorted(df_train['PAY_2'].unique()))\n",
    "print('PAY_3:', sorted(df_train['PAY_3'].unique()))\n",
    "print('PAY_4:', sorted(df_train['PAY_4'].unique()))\n",
    "print('PAY_5:', sorted(df_train['PAY_5'].unique()))\n",
    "print('PAY_6:', sorted(df_train['PAY_6'].unique()))"
   ]
  },
  {
   "cell_type": "code",
   "execution_count": 112,
   "metadata": {},
   "outputs": [
    {
     "name": "stdout",
     "output_type": "stream",
     "text": [
      "PAY_1: [-1, 1, 2, 3, 4, 5, 6, 7, 8]\n",
      "PAY_2: [-1, 1, 2, 3, 4, 5, 6, 7]\n",
      "PAY_3: [-1, 2, 3, 4, 5, 6, 8]\n",
      "PAY_4: [-1, 2, 3, 4, 5, 7]\n",
      "PAY_5: [-1, 2, 3, 4, 5, 6, 7]\n",
      "PAY_6: [-1, 2, 3, 4, 5, 6, 7]\n"
     ]
    }
   ],
   "source": [
    "df_test.loc[(df_test['PAY_1'] == -2) | (df_test['PAY_1'] == 0), 'PAY_1'] = -1\n",
    "df_test.loc[(df_test['PAY_2'] == -2) | (df_test['PAY_2'] == 0), 'PAY_2'] = -1\n",
    "df_test.loc[(df_test['PAY_3'] == -2) | (df_test['PAY_3'] == 0), 'PAY_3'] = -1\n",
    "df_test.loc[(df_test['PAY_4'] == -2) | (df_test['PAY_4'] == 0), 'PAY_4'] = -1\n",
    "df_test.loc[(df_test['PAY_5'] == -2) | (df_test['PAY_5'] == 0), 'PAY_5'] = -1\n",
    "df_test.loc[(df_test['PAY_6'] == -2) | (df_test['PAY_6'] == 0), 'PAY_6'] = -1\n",
    "\n",
    "print('PAY_1:', sorted(df_test['PAY_1'].unique()))\n",
    "print('PAY_2:', sorted(df_test['PAY_2'].unique()))\n",
    "print('PAY_3:', sorted(df_test['PAY_3'].unique()))\n",
    "print('PAY_4:', sorted(df_test['PAY_4'].unique()))\n",
    "print('PAY_5:', sorted(df_test['PAY_5'].unique()))\n",
    "print('PAY_6:', sorted(df_test['PAY_6'].unique()))"
   ]
  },
  {
   "cell_type": "markdown",
   "metadata": {},
   "source": [
    "### Check outliers in numerical variables"
   ]
  },
  {
   "cell_type": "code",
   "execution_count": 113,
   "metadata": {},
   "outputs": [
    {
     "data": {
      "text/html": [
       "<div>\n",
       "<style scoped>\n",
       "    .dataframe tbody tr th:only-of-type {\n",
       "        vertical-align: middle;\n",
       "    }\n",
       "\n",
       "    .dataframe tbody tr th {\n",
       "        vertical-align: top;\n",
       "    }\n",
       "\n",
       "    .dataframe thead th {\n",
       "        text-align: right;\n",
       "    }\n",
       "</style>\n",
       "<table border=\"1\" class=\"dataframe\">\n",
       "  <thead>\n",
       "    <tr style=\"text-align: right;\">\n",
       "      <th></th>\n",
       "      <th>LIMIT_BAL</th>\n",
       "    </tr>\n",
       "  </thead>\n",
       "  <tbody>\n",
       "    <tr>\n",
       "      <th>count</th>\n",
       "      <td>24000.000000</td>\n",
       "    </tr>\n",
       "    <tr>\n",
       "      <th>mean</th>\n",
       "      <td>165495.986667</td>\n",
       "    </tr>\n",
       "    <tr>\n",
       "      <th>std</th>\n",
       "      <td>129128.744855</td>\n",
       "    </tr>\n",
       "    <tr>\n",
       "      <th>min</th>\n",
       "      <td>10000.000000</td>\n",
       "    </tr>\n",
       "    <tr>\n",
       "      <th>25%</th>\n",
       "      <td>50000.000000</td>\n",
       "    </tr>\n",
       "    <tr>\n",
       "      <th>50%</th>\n",
       "      <td>140000.000000</td>\n",
       "    </tr>\n",
       "    <tr>\n",
       "      <th>75%</th>\n",
       "      <td>240000.000000</td>\n",
       "    </tr>\n",
       "    <tr>\n",
       "      <th>max</th>\n",
       "      <td>1000000.000000</td>\n",
       "    </tr>\n",
       "  </tbody>\n",
       "</table>\n",
       "</div>"
      ],
      "text/plain": [
       "            LIMIT_BAL\n",
       "count    24000.000000\n",
       "mean    165495.986667\n",
       "std     129128.744855\n",
       "min      10000.000000\n",
       "25%      50000.000000\n",
       "50%     140000.000000\n",
       "75%     240000.000000\n",
       "max    1000000.000000"
      ]
     },
     "execution_count": 113,
     "metadata": {},
     "output_type": "execute_result"
    }
   ],
   "source": [
    "# Amount of the given credit description\n",
    "df_train[['LIMIT_BAL']].describe()\n",
    "# alternative: histogram"
   ]
  },
  {
   "cell_type": "code",
   "execution_count": 114,
   "metadata": {},
   "outputs": [
    {
     "data": {
      "text/html": [
       "<div>\n",
       "<style scoped>\n",
       "    .dataframe tbody tr th:only-of-type {\n",
       "        vertical-align: middle;\n",
       "    }\n",
       "\n",
       "    .dataframe tbody tr th {\n",
       "        vertical-align: top;\n",
       "    }\n",
       "\n",
       "    .dataframe thead th {\n",
       "        text-align: right;\n",
       "    }\n",
       "</style>\n",
       "<table border=\"1\" class=\"dataframe\">\n",
       "  <thead>\n",
       "    <tr style=\"text-align: right;\">\n",
       "      <th></th>\n",
       "      <th>BILL_AMT1</th>\n",
       "      <th>BILL_AMT2</th>\n",
       "      <th>BILL_AMT3</th>\n",
       "      <th>BILL_AMT4</th>\n",
       "      <th>BILL_AMT5</th>\n",
       "      <th>BILL_AMT6</th>\n",
       "    </tr>\n",
       "  </thead>\n",
       "  <tbody>\n",
       "    <tr>\n",
       "      <th>count</th>\n",
       "      <td>24000.000000</td>\n",
       "      <td>24000.000000</td>\n",
       "      <td>2.400000e+04</td>\n",
       "      <td>24000.000000</td>\n",
       "      <td>24000.000000</td>\n",
       "      <td>24000.000000</td>\n",
       "    </tr>\n",
       "    <tr>\n",
       "      <th>mean</th>\n",
       "      <td>50596.884708</td>\n",
       "      <td>48646.064125</td>\n",
       "      <td>4.636706e+04</td>\n",
       "      <td>42368.188417</td>\n",
       "      <td>40000.682542</td>\n",
       "      <td>38563.710625</td>\n",
       "    </tr>\n",
       "    <tr>\n",
       "      <th>std</th>\n",
       "      <td>72649.374256</td>\n",
       "      <td>70364.600436</td>\n",
       "      <td>6.819390e+04</td>\n",
       "      <td>63070.680934</td>\n",
       "      <td>60345.012766</td>\n",
       "      <td>59155.759799</td>\n",
       "    </tr>\n",
       "    <tr>\n",
       "      <th>min</th>\n",
       "      <td>-165580.000000</td>\n",
       "      <td>-69777.000000</td>\n",
       "      <td>-1.572640e+05</td>\n",
       "      <td>-170000.000000</td>\n",
       "      <td>-81334.000000</td>\n",
       "      <td>-339603.000000</td>\n",
       "    </tr>\n",
       "    <tr>\n",
       "      <th>25%</th>\n",
       "      <td>3631.500000</td>\n",
       "      <td>3098.500000</td>\n",
       "      <td>2.773500e+03</td>\n",
       "      <td>2340.000000</td>\n",
       "      <td>1740.000000</td>\n",
       "      <td>1234.750000</td>\n",
       "    </tr>\n",
       "    <tr>\n",
       "      <th>50%</th>\n",
       "      <td>22330.000000</td>\n",
       "      <td>21339.000000</td>\n",
       "      <td>2.003900e+04</td>\n",
       "      <td>18940.500000</td>\n",
       "      <td>18107.500000</td>\n",
       "      <td>17036.000000</td>\n",
       "    </tr>\n",
       "    <tr>\n",
       "      <th>75%</th>\n",
       "      <td>65779.500000</td>\n",
       "      <td>62761.250000</td>\n",
       "      <td>5.929800e+04</td>\n",
       "      <td>52188.500000</td>\n",
       "      <td>49746.500000</td>\n",
       "      <td>48796.250000</td>\n",
       "    </tr>\n",
       "    <tr>\n",
       "      <th>max</th>\n",
       "      <td>964511.000000</td>\n",
       "      <td>983931.000000</td>\n",
       "      <td>1.664089e+06</td>\n",
       "      <td>891586.000000</td>\n",
       "      <td>927171.000000</td>\n",
       "      <td>961664.000000</td>\n",
       "    </tr>\n",
       "  </tbody>\n",
       "</table>\n",
       "</div>"
      ],
      "text/plain": [
       "           BILL_AMT1      BILL_AMT2     BILL_AMT3      BILL_AMT4  \\\n",
       "count   24000.000000   24000.000000  2.400000e+04   24000.000000   \n",
       "mean    50596.884708   48646.064125  4.636706e+04   42368.188417   \n",
       "std     72649.374256   70364.600436  6.819390e+04   63070.680934   \n",
       "min   -165580.000000  -69777.000000 -1.572640e+05 -170000.000000   \n",
       "25%      3631.500000    3098.500000  2.773500e+03    2340.000000   \n",
       "50%     22330.000000   21339.000000  2.003900e+04   18940.500000   \n",
       "75%     65779.500000   62761.250000  5.929800e+04   52188.500000   \n",
       "max    964511.000000  983931.000000  1.664089e+06  891586.000000   \n",
       "\n",
       "           BILL_AMT5      BILL_AMT6  \n",
       "count   24000.000000   24000.000000  \n",
       "mean    40000.682542   38563.710625  \n",
       "std     60345.012766   59155.759799  \n",
       "min    -81334.000000 -339603.000000  \n",
       "25%      1740.000000    1234.750000  \n",
       "50%     18107.500000   17036.000000  \n",
       "75%     49746.500000   48796.250000  \n",
       "max    927171.000000  961664.000000  "
      ]
     },
     "execution_count": 114,
     "metadata": {},
     "output_type": "execute_result"
    }
   ],
   "source": [
    "# Amount of bill statement description\n",
    "df_train[['BILL_AMT1', 'BILL_AMT2', 'BILL_AMT3', 'BILL_AMT4', 'BILL_AMT5', 'BILL_AMT6']].describe()\n",
    "# alternative: histogram"
   ]
  },
  {
   "cell_type": "markdown",
   "metadata": {},
   "source": [
    "Why there are negative values in bill statement? Can they be interpreted as credit?"
   ]
  },
  {
   "cell_type": "code",
   "execution_count": 115,
   "metadata": {},
   "outputs": [
    {
     "data": {
      "text/html": [
       "<div>\n",
       "<style scoped>\n",
       "    .dataframe tbody tr th:only-of-type {\n",
       "        vertical-align: middle;\n",
       "    }\n",
       "\n",
       "    .dataframe tbody tr th {\n",
       "        vertical-align: top;\n",
       "    }\n",
       "\n",
       "    .dataframe thead th {\n",
       "        text-align: right;\n",
       "    }\n",
       "</style>\n",
       "<table border=\"1\" class=\"dataframe\">\n",
       "  <thead>\n",
       "    <tr style=\"text-align: right;\">\n",
       "      <th></th>\n",
       "      <th>PAY_AMT1</th>\n",
       "      <th>PAY_AMT2</th>\n",
       "      <th>PAY_AMT3</th>\n",
       "      <th>PAY_AMT4</th>\n",
       "      <th>PAY_AMT5</th>\n",
       "      <th>PAY_AMT6</th>\n",
       "    </tr>\n",
       "  </thead>\n",
       "  <tbody>\n",
       "    <tr>\n",
       "      <th>count</th>\n",
       "      <td>24000.000000</td>\n",
       "      <td>24000.000000</td>\n",
       "      <td>24000.000000</td>\n",
       "      <td>24000.000000</td>\n",
       "      <td>24000.000000</td>\n",
       "      <td>24000.000000</td>\n",
       "    </tr>\n",
       "    <tr>\n",
       "      <th>mean</th>\n",
       "      <td>5542.912917</td>\n",
       "      <td>5815.336208</td>\n",
       "      <td>4969.266000</td>\n",
       "      <td>4743.480042</td>\n",
       "      <td>4783.486042</td>\n",
       "      <td>5189.399042</td>\n",
       "    </tr>\n",
       "    <tr>\n",
       "      <th>std</th>\n",
       "      <td>15068.576072</td>\n",
       "      <td>20797.031923</td>\n",
       "      <td>16095.614340</td>\n",
       "      <td>14883.269990</td>\n",
       "      <td>15270.405279</td>\n",
       "      <td>17630.371990</td>\n",
       "    </tr>\n",
       "    <tr>\n",
       "      <th>min</th>\n",
       "      <td>0.000000</td>\n",
       "      <td>0.000000</td>\n",
       "      <td>0.000000</td>\n",
       "      <td>0.000000</td>\n",
       "      <td>0.000000</td>\n",
       "      <td>0.000000</td>\n",
       "    </tr>\n",
       "    <tr>\n",
       "      <th>25%</th>\n",
       "      <td>1000.000000</td>\n",
       "      <td>800.000000</td>\n",
       "      <td>379.000000</td>\n",
       "      <td>279.750000</td>\n",
       "      <td>244.000000</td>\n",
       "      <td>60.750000</td>\n",
       "    </tr>\n",
       "    <tr>\n",
       "      <th>50%</th>\n",
       "      <td>2100.000000</td>\n",
       "      <td>2000.000000</td>\n",
       "      <td>1702.500000</td>\n",
       "      <td>1500.000000</td>\n",
       "      <td>1500.000000</td>\n",
       "      <td>1500.000000</td>\n",
       "    </tr>\n",
       "    <tr>\n",
       "      <th>75%</th>\n",
       "      <td>5000.000000</td>\n",
       "      <td>5000.000000</td>\n",
       "      <td>4347.250000</td>\n",
       "      <td>4000.000000</td>\n",
       "      <td>4005.000000</td>\n",
       "      <td>4000.000000</td>\n",
       "    </tr>\n",
       "    <tr>\n",
       "      <th>max</th>\n",
       "      <td>505000.000000</td>\n",
       "      <td>1684259.000000</td>\n",
       "      <td>896040.000000</td>\n",
       "      <td>497000.000000</td>\n",
       "      <td>417990.000000</td>\n",
       "      <td>528666.000000</td>\n",
       "    </tr>\n",
       "  </tbody>\n",
       "</table>\n",
       "</div>"
      ],
      "text/plain": [
       "            PAY_AMT1        PAY_AMT2       PAY_AMT3       PAY_AMT4  \\\n",
       "count   24000.000000    24000.000000   24000.000000   24000.000000   \n",
       "mean     5542.912917     5815.336208    4969.266000    4743.480042   \n",
       "std     15068.576072    20797.031923   16095.614340   14883.269990   \n",
       "min         0.000000        0.000000       0.000000       0.000000   \n",
       "25%      1000.000000      800.000000     379.000000     279.750000   \n",
       "50%      2100.000000     2000.000000    1702.500000    1500.000000   \n",
       "75%      5000.000000     5000.000000    4347.250000    4000.000000   \n",
       "max    505000.000000  1684259.000000  896040.000000  497000.000000   \n",
       "\n",
       "            PAY_AMT5       PAY_AMT6  \n",
       "count   24000.000000   24000.000000  \n",
       "mean     4783.486042    5189.399042  \n",
       "std     15270.405279   17630.371990  \n",
       "min         0.000000       0.000000  \n",
       "25%       244.000000      60.750000  \n",
       "50%      1500.000000    1500.000000  \n",
       "75%      4005.000000    4000.000000  \n",
       "max    417990.000000  528666.000000  "
      ]
     },
     "execution_count": 115,
     "metadata": {},
     "output_type": "execute_result"
    }
   ],
   "source": [
    "# Amount of previous payment description\n",
    "df_train[['PAY_AMT1', 'PAY_AMT2', 'PAY_AMT3', 'PAY_AMT4', 'PAY_AMT5', 'PAY_AMT6']].describe()\\\n",
    "                                        .apply(lambda s: s.apply(lambda x: format(x, 'f'))) # suppress scientific notation\n",
    "# alternative: histogram"
   ]
  },
  {
   "cell_type": "markdown",
   "metadata": {},
   "source": [
    "LIMIT_BAL, BILL_AMT and PAY_AMT all have a very broad range. Need to check if these are outliers - check if the amount of bill statement & previous payment lies within the 'sensible' range of given credit. Choose values **below 5th percentile** or **above 95th percentile**."
   ]
  },
  {
   "cell_type": "code",
   "execution_count": 116,
   "metadata": {
    "scrolled": true
   },
   "outputs": [
    {
     "name": "stdout",
     "output_type": "stream",
     "text": [
      "LIMIT_BAL percentiles: ['20000.00', '50000.00', '50000.00', '80000.00', '120000.00', '150000.00', '200000.00', '240000.00', '300000.00', '430000.00']\n",
      "PAY_AMT1 percentiles: ['0.00', '0.00', '1000.00', '1500.00', '2000.00', '2550.00', '3510.40', '5000.00', '8000.00', '18243.85']\n",
      "PAY_AMT2 percentiles: ['0.00', '0.00', '800.00', '1379.00', '1885.55', '2390.90', '3300.00', '5000.00', '7784.15', '19000.15']\n",
      "PAY_AMT3 percentiles: ['0.00', '0.00', '379.00', '1000.00', '1424.10', '2000.00', '3000.00', '4347.25', '6800.00', '16513.55']\n",
      "PAY_AMT4 percentiles: ['0.00', '0.00', '279.75', '764.65', '1100.00', '1920.00', '2728.35', '4000.00', '6200.00', '16000.00']\n",
      "PAY_AMT5 percentiles: ['0.00', '0.00', '244.00', '780.00', '1170.00', '2000.00', '2832.70', '4005.00', '6251.15', '15963.75']\n",
      "PAY_AMT6 percentiles: ['0.00', '0.00', '60.75', '690.00', '1065.00', '1911.90', '2711.00', '4000.00', '6100.00', '17398.10']\n"
     ]
    }
   ],
   "source": [
    "for var in ['LIMIT_BAL', 'PAY_AMT1', 'PAY_AMT2', 'PAY_AMT3', 'PAY_AMT4', 'PAY_AMT5', 'PAY_AMT6']:\n",
    "    percentiles = list(np.percentile(df_train[var], i) for i in range(5,100,10))\n",
    "    print('{} percentiles:'.format(var), list('%.2f' % elem for elem in percentiles))"
   ]
  },
  {
   "cell_type": "code",
   "execution_count": 117,
   "metadata": {},
   "outputs": [],
   "source": [
    "def check_outliers(field:str):\n",
    "    data = df_train[(df_train[field] < np.percentile(df_train[field], 5)) | (df_train[field] > np.percentile(df_train[field], 95))]\\\n",
    "             [['LIMIT_BAL', 'BILL_AMT1', 'BILL_AMT2', 'PAY_AMT1', 'PAY_AMT2']]\n",
    "        \n",
    "    data_out_of_range = []\n",
    "    for i in data.index.values.tolist():\n",
    "        limit_bal = df_train.loc[i, 'LIMIT_BAL']\n",
    "        bill_amt1 = df_train.loc[i, 'BILL_AMT1']\n",
    "        bill_amt2 = df_train.loc[i, 'BILL_AMT2']\n",
    "        pay_amt1 = df_train.loc[i, 'PAY_AMT1']\n",
    "        pay_amt2 = df_train.loc[i, 'PAY_AMT2']\n",
    "\n",
    "        if (limit_bal < bill_amt1) | (limit_bal < bill_amt2) | (limit_bal < pay_amt1) | (limit_bal < pay_amt2):\n",
    "            data_out_of_range.append(i)\n",
    "    \n",
    "    print('large (out-of-the-credit) values in', field, ':', len(data_out_of_range))\n",
    "    return df_train.loc[data_out_of_range, ['LIMIT_BAL', 'BILL_AMT1', 'BILL_AMT2', 'PAY_AMT1', 'PAY_AMT2', 'default']].sort_values(by=['LIMIT_BAL'])"
   ]
  },
  {
   "cell_type": "code",
   "execution_count": 118,
   "metadata": {},
   "outputs": [
    {
     "name": "stdout",
     "output_type": "stream",
     "text": [
      "large (out-of-the-credit) values in LIMIT_BAL : 75\n"
     ]
    },
    {
     "data": {
      "text/html": [
       "<div>\n",
       "<style scoped>\n",
       "    .dataframe tbody tr th:only-of-type {\n",
       "        vertical-align: middle;\n",
       "    }\n",
       "\n",
       "    .dataframe tbody tr th {\n",
       "        vertical-align: top;\n",
       "    }\n",
       "\n",
       "    .dataframe thead th {\n",
       "        text-align: right;\n",
       "    }\n",
       "</style>\n",
       "<table border=\"1\" class=\"dataframe\">\n",
       "  <thead>\n",
       "    <tr style=\"text-align: right;\">\n",
       "      <th></th>\n",
       "      <th>LIMIT_BAL</th>\n",
       "      <th>BILL_AMT1</th>\n",
       "      <th>BILL_AMT2</th>\n",
       "      <th>PAY_AMT1</th>\n",
       "      <th>PAY_AMT2</th>\n",
       "      <th>default</th>\n",
       "    </tr>\n",
       "  </thead>\n",
       "  <tbody>\n",
       "    <tr>\n",
       "      <th>293</th>\n",
       "      <td>10000</td>\n",
       "      <td>7015</td>\n",
       "      <td>10227</td>\n",
       "      <td>3507</td>\n",
       "      <td>0</td>\n",
       "      <td>1</td>\n",
       "    </tr>\n",
       "    <tr>\n",
       "      <th>8699</th>\n",
       "      <td>10000</td>\n",
       "      <td>14498</td>\n",
       "      <td>7512</td>\n",
       "      <td>2248</td>\n",
       "      <td>1120</td>\n",
       "      <td>0</td>\n",
       "    </tr>\n",
       "    <tr>\n",
       "      <th>9078</th>\n",
       "      <td>10000</td>\n",
       "      <td>9269</td>\n",
       "      <td>10400</td>\n",
       "      <td>1400</td>\n",
       "      <td>0</td>\n",
       "      <td>1</td>\n",
       "    </tr>\n",
       "    <tr>\n",
       "      <th>9434</th>\n",
       "      <td>10000</td>\n",
       "      <td>656</td>\n",
       "      <td>8748</td>\n",
       "      <td>10128</td>\n",
       "      <td>1200</td>\n",
       "      <td>0</td>\n",
       "    </tr>\n",
       "    <tr>\n",
       "      <th>9503</th>\n",
       "      <td>10000</td>\n",
       "      <td>10281</td>\n",
       "      <td>9949</td>\n",
       "      <td>25</td>\n",
       "      <td>4000</td>\n",
       "      <td>0</td>\n",
       "    </tr>\n",
       "    <tr>\n",
       "      <th>...</th>\n",
       "      <td>...</td>\n",
       "      <td>...</td>\n",
       "      <td>...</td>\n",
       "      <td>...</td>\n",
       "      <td>...</td>\n",
       "      <td>...</td>\n",
       "    </tr>\n",
       "    <tr>\n",
       "      <th>360</th>\n",
       "      <td>500000</td>\n",
       "      <td>507726</td>\n",
       "      <td>509229</td>\n",
       "      <td>10000</td>\n",
       "      <td>0</td>\n",
       "      <td>1</td>\n",
       "    </tr>\n",
       "    <tr>\n",
       "      <th>2907</th>\n",
       "      <td>500000</td>\n",
       "      <td>499231</td>\n",
       "      <td>511629</td>\n",
       "      <td>22600</td>\n",
       "      <td>501</td>\n",
       "      <td>1</td>\n",
       "    </tr>\n",
       "    <tr>\n",
       "      <th>8172</th>\n",
       "      <td>500000</td>\n",
       "      <td>504644</td>\n",
       "      <td>512650</td>\n",
       "      <td>22650</td>\n",
       "      <td>0</td>\n",
       "      <td>1</td>\n",
       "    </tr>\n",
       "    <tr>\n",
       "      <th>20892</th>\n",
       "      <td>550000</td>\n",
       "      <td>539092</td>\n",
       "      <td>552234</td>\n",
       "      <td>23000</td>\n",
       "      <td>23000</td>\n",
       "      <td>0</td>\n",
       "    </tr>\n",
       "    <tr>\n",
       "      <th>6912</th>\n",
       "      <td>590000</td>\n",
       "      <td>630458</td>\n",
       "      <td>646770</td>\n",
       "      <td>28000</td>\n",
       "      <td>61115</td>\n",
       "      <td>0</td>\n",
       "    </tr>\n",
       "  </tbody>\n",
       "</table>\n",
       "<p>75 rows × 6 columns</p>\n",
       "</div>"
      ],
      "text/plain": [
       "       LIMIT_BAL  BILL_AMT1  BILL_AMT2  PAY_AMT1  PAY_AMT2  default\n",
       "293        10000       7015      10227      3507         0        1\n",
       "8699       10000      14498       7512      2248      1120        0\n",
       "9078       10000       9269      10400      1400         0        1\n",
       "9434       10000        656       8748     10128      1200        0\n",
       "9503       10000      10281       9949        25      4000        0\n",
       "...          ...        ...        ...       ...       ...      ...\n",
       "360       500000     507726     509229     10000         0        1\n",
       "2907      500000     499231     511629     22600       501        1\n",
       "8172      500000     504644     512650     22650         0        1\n",
       "20892     550000     539092     552234     23000     23000        0\n",
       "6912      590000     630458     646770     28000     61115        0\n",
       "\n",
       "[75 rows x 6 columns]"
      ]
     },
     "execution_count": 118,
     "metadata": {},
     "output_type": "execute_result"
    }
   ],
   "source": [
    "check_outliers('LIMIT_BAL')"
   ]
  },
  {
   "cell_type": "markdown",
   "metadata": {},
   "source": [
    "Seems like there aren't anomalies. Just the case that clients with a restricted amount of or a lot of money."
   ]
  },
  {
   "cell_type": "markdown",
   "metadata": {},
   "source": [
    "## Dealing with Inbalancing classifictaions\n",
    "Reference: https://machinelearningmastery.com/smote-oversampling-for-imbalanced-classification/<br>\n",
    "<font color='red'>\n",
    "(I should included the below text inside the report but i put here for now :))<br><br>\n",
    "</font>\n",
    "In the training set, there are 18630 samples are classified as 0 (no default) while 5370 samples are calssified as 1 (default). The probability of default samples over all samples is around 0.22375. The imbalanced data sets would cause shifting of the learning. It means that the learning methods only need to return a learner that always predicts new samples as 1, it can still get around 80% accuracy, which is a worthless learning. Therefore, it is necessary to come up with a relatively good classifier under the class-imbalanced. <br>\n",
    "\n",
    "For imbalacing data, normally there are three methods to reduce or eliminate the bad effects:\n",
    "1. **Balance data using existing algorithms and techniques.** <br>\n",
    "There are two popular techniques to balancing the classification, ***Under-sampling*** and ***Over-sampling***. Clearly, if dropping most of samples with default == 0 is not doable since we are dropping around 55% datas, which  will cause data waste. As a result, we choose over-sampling the data. However, the over-sampling algorithm cannot simply resamples in the initial minority categories, which will cause serious overfitting. A better choice is to choose a representative algorithm of over-sampling ***SMOTE***. <br> <br>***SMOTE*** is proposed by Chawla, N.V., Bowyer, K.W., Hall, L.O. and Kegelmeyer, W.P. (2002), which is over-sampling the minority group by introducing synthetic samples along the line segments joining randomly chosen k nearest neighbours[3]. Synthetic samples can solve the problem with unbalancing classes. However, SMOTE will raise the overfitting prblem in some cases. According to Bunkhumpornpat, C., Sinapiromsaran, K. and Lursinsap, C. (2009), ***SMOTE*** generalised the minority classes without considering the majority classes, which will cause overlapping between classes since it does not consider the distribution of the majority samples around the minority samples[2]. As a result, ***Borderline-SMOTE*** woule be a better choice. <br> <br>***Borderline-SMOTE*** is raised by Han, H., Wang, W.Y. and Mao, B.H.(2005). They divided minority samples into 3 classes: <br>\n",
    "a. SAFE: Half or more than a half samples around the selected samples are the minority class.<br>\n",
    "b. DANGER: Half or more than a half samples around the selected samples are the majority class. This is considered as near the borderline. <br>\n",
    "c. NOISE: All the samples around the selected sample are the majority class.[4] <br> <br>Samples on or near the borderline of each class are easier to be misclassified than those who are far away from the borderline. As a result, ***Borderline-SMOTE*** only over-sampling samples near the boarder-line (DANGER), rather than over-sampling all existing minority samples.<br><br>\n",
    "\n",
    "2. **Use different assessment methods.**<br>\n",
    "For imbalanced data, accuracy would become a deceptive method to evaluate the learning method since accuracy can be really high if the learner classify all samples to the majority class. Therefore, we need to seek other assessment methods to evalucate the training method.<br> <br>***ROC-Curve*** is one of the most popular evavluation methods for imbalanced data sets (Han, H., Wang, W.Y. and Mao, B.H., 2005)[4]. \n",
    "By summarising 20 different algorithms on six criteria, Song, Y. and Peng, Y. (2019) shows that no algorithm can perform better under all criteria. But the ***AUC, F-measure, and FN rate*** are the most important performance measures with highest weight. As a result, we could evaluate the result under imbalanced data using ***ROC-curve, AUC, F-measure and FN-Rate.*** <br><br>\n",
    "\n",
    "3. **Analysis different classification techniques and choose the optimal**<br>\n",
    "Brown, I. and Mues, C. (2012) compared different technologies to classify imbalanced credict score and shows that the random forest and gradient boosting performs better in dealing with imbalanced data. \n",
    "\n",
    "*References:* <br>\n",
    "[1]Brown, I. and Mues, C., 2012. An experimental comparison of classification algorithms for imbalanced credit scoring data sets. Expert Systems with Applications, 39(3), pp.3446-3453.<br>\n",
    "\n",
    "*[2]Bunkhumpornpat, C., Sinapiromsaran, K. and Lursinsap, C., 2009, April. Safe-level-smote: Safe-level-synthetic minority over-sampling technique for handling the class imbalanced problem. In Pacific-Asia conference on knowledge discovery and data mining (pp. 475-482). Springer, Berlin, Heidelberg.* <br>\n",
    "\n",
    "*[3] Chawla, N.V., Bowyer, K.W., Hall, L.O. and Kegelmeyer, W.P., 2002. SMOTE: synthetic minority over-sampling technique. Journal of artificial intelligence research, 16, pp.321-357.*<br>\n",
    "\n",
    "*[4]Han, H., Wang, W.Y. and Mao, B.H., 2005, August. Borderline-SMOTE: a new over-sampling method in imbalanced data sets learning. In International conference on intelligent computing (pp. 878-887). Springer, Berlin, Heidelberg.*<br>\n",
    "\n",
    "[5]*Song, Y. and Peng, Y., 2019. A MCDM-based evaluation approach for imbalanced classification methods in financial risk prediction. IEEE Access, 7, pp.84897-84906.*"
   ]
  },
  {
   "cell_type": "code",
   "execution_count": 119,
   "metadata": {},
   "outputs": [
    {
     "name": "stdout",
     "output_type": "stream",
     "text": [
      "Counter({0: 18630, 1: 5370})\n",
      "Probability of default is 1 in traing data:  0.22375\n"
     ]
    },
    {
     "data": {
      "text/plain": [
       "<AxesSubplot:>"
      ]
     },
     "execution_count": 119,
     "metadata": {},
     "output_type": "execute_result"
    },
    {
     "data": {
      "image/png": "[encoded data removed]",
      "text/plain": [
       "<Figure size 432x288 with 1 Axes>"
      ]
     },
     "metadata": {
      "needs_background": "light"
     },
     "output_type": "display_data"
    }
   ],
   "source": [
    "print(Counter(df_train['default']))\n",
    "\n",
    "print(\"Probability of default is 1 in traing data: \", df_train['default'].sum() / len(df_train['default']))\n",
    "df_train['default'].value_counts().plot.bar()"
   ]
  },
  {
   "cell_type": "code",
   "execution_count": 175,
   "metadata": {},
   "outputs": [
    {
     "name": "stdout",
     "output_type": "stream",
     "text": [
      "Counter({0: 18630, 1: 5370})\n"
     ]
    },
    {
     "data": {
      "text/html": [
       "<div>\n",
       "<style scoped>\n",
       "    .dataframe tbody tr th:only-of-type {\n",
       "        vertical-align: middle;\n",
       "    }\n",
       "\n",
       "    .dataframe tbody tr th {\n",
       "        vertical-align: top;\n",
       "    }\n",
       "\n",
       "    .dataframe thead th {\n",
       "        text-align: right;\n",
       "    }\n",
       "</style>\n",
       "<table border=\"1\" class=\"dataframe\">\n",
       "  <thead>\n",
       "    <tr style=\"text-align: right;\">\n",
       "      <th></th>\n",
       "      <th>LIMIT_BAL</th>\n",
       "      <th>SEX</th>\n",
       "      <th>EDUCATION</th>\n",
       "      <th>MARRIAGE</th>\n",
       "      <th>AGE</th>\n",
       "      <th>PAY_1</th>\n",
       "      <th>PAY_2</th>\n",
       "      <th>PAY_3</th>\n",
       "      <th>PAY_4</th>\n",
       "      <th>PAY_5</th>\n",
       "      <th>...</th>\n",
       "      <th>BILL_AMT3</th>\n",
       "      <th>BILL_AMT4</th>\n",
       "      <th>BILL_AMT5</th>\n",
       "      <th>BILL_AMT6</th>\n",
       "      <th>PAY_AMT1</th>\n",
       "      <th>PAY_AMT2</th>\n",
       "      <th>PAY_AMT3</th>\n",
       "      <th>PAY_AMT4</th>\n",
       "      <th>PAY_AMT5</th>\n",
       "      <th>PAY_AMT6</th>\n",
       "    </tr>\n",
       "  </thead>\n",
       "  <tbody>\n",
       "    <tr>\n",
       "      <th>0</th>\n",
       "      <td>20000</td>\n",
       "      <td>2</td>\n",
       "      <td>2</td>\n",
       "      <td>1</td>\n",
       "      <td>24</td>\n",
       "      <td>2</td>\n",
       "      <td>2</td>\n",
       "      <td>-1</td>\n",
       "      <td>-1</td>\n",
       "      <td>-2</td>\n",
       "      <td>...</td>\n",
       "      <td>689</td>\n",
       "      <td>0</td>\n",
       "      <td>0</td>\n",
       "      <td>0</td>\n",
       "      <td>0</td>\n",
       "      <td>689</td>\n",
       "      <td>0</td>\n",
       "      <td>0</td>\n",
       "      <td>0</td>\n",
       "      <td>0</td>\n",
       "    </tr>\n",
       "    <tr>\n",
       "      <th>1</th>\n",
       "      <td>120000</td>\n",
       "      <td>2</td>\n",
       "      <td>2</td>\n",
       "      <td>2</td>\n",
       "      <td>26</td>\n",
       "      <td>-1</td>\n",
       "      <td>2</td>\n",
       "      <td>0</td>\n",
       "      <td>0</td>\n",
       "      <td>0</td>\n",
       "      <td>...</td>\n",
       "      <td>2682</td>\n",
       "      <td>3272</td>\n",
       "      <td>3455</td>\n",
       "      <td>3261</td>\n",
       "      <td>0</td>\n",
       "      <td>1000</td>\n",
       "      <td>1000</td>\n",
       "      <td>1000</td>\n",
       "      <td>0</td>\n",
       "      <td>2000</td>\n",
       "    </tr>\n",
       "    <tr>\n",
       "      <th>2</th>\n",
       "      <td>90000</td>\n",
       "      <td>2</td>\n",
       "      <td>2</td>\n",
       "      <td>2</td>\n",
       "      <td>34</td>\n",
       "      <td>0</td>\n",
       "      <td>0</td>\n",
       "      <td>0</td>\n",
       "      <td>0</td>\n",
       "      <td>0</td>\n",
       "      <td>...</td>\n",
       "      <td>13559</td>\n",
       "      <td>14331</td>\n",
       "      <td>14948</td>\n",
       "      <td>15549</td>\n",
       "      <td>1518</td>\n",
       "      <td>1500</td>\n",
       "      <td>1000</td>\n",
       "      <td>1000</td>\n",
       "      <td>1000</td>\n",
       "      <td>5000</td>\n",
       "    </tr>\n",
       "    <tr>\n",
       "      <th>3</th>\n",
       "      <td>50000</td>\n",
       "      <td>2</td>\n",
       "      <td>2</td>\n",
       "      <td>1</td>\n",
       "      <td>37</td>\n",
       "      <td>0</td>\n",
       "      <td>0</td>\n",
       "      <td>0</td>\n",
       "      <td>0</td>\n",
       "      <td>0</td>\n",
       "      <td>...</td>\n",
       "      <td>49291</td>\n",
       "      <td>28314</td>\n",
       "      <td>28959</td>\n",
       "      <td>29547</td>\n",
       "      <td>2000</td>\n",
       "      <td>2019</td>\n",
       "      <td>1200</td>\n",
       "      <td>1100</td>\n",
       "      <td>1069</td>\n",
       "      <td>1000</td>\n",
       "    </tr>\n",
       "    <tr>\n",
       "      <th>4</th>\n",
       "      <td>50000</td>\n",
       "      <td>1</td>\n",
       "      <td>2</td>\n",
       "      <td>1</td>\n",
       "      <td>57</td>\n",
       "      <td>-1</td>\n",
       "      <td>0</td>\n",
       "      <td>-1</td>\n",
       "      <td>0</td>\n",
       "      <td>0</td>\n",
       "      <td>...</td>\n",
       "      <td>35835</td>\n",
       "      <td>20940</td>\n",
       "      <td>19146</td>\n",
       "      <td>19131</td>\n",
       "      <td>2000</td>\n",
       "      <td>36681</td>\n",
       "      <td>10000</td>\n",
       "      <td>9000</td>\n",
       "      <td>689</td>\n",
       "      <td>679</td>\n",
       "    </tr>\n",
       "    <tr>\n",
       "      <th>...</th>\n",
       "      <td>...</td>\n",
       "      <td>...</td>\n",
       "      <td>...</td>\n",
       "      <td>...</td>\n",
       "      <td>...</td>\n",
       "      <td>...</td>\n",
       "      <td>...</td>\n",
       "      <td>...</td>\n",
       "      <td>...</td>\n",
       "      <td>...</td>\n",
       "      <td>...</td>\n",
       "      <td>...</td>\n",
       "      <td>...</td>\n",
       "      <td>...</td>\n",
       "      <td>...</td>\n",
       "      <td>...</td>\n",
       "      <td>...</td>\n",
       "      <td>...</td>\n",
       "      <td>...</td>\n",
       "      <td>...</td>\n",
       "      <td>...</td>\n",
       "    </tr>\n",
       "    <tr>\n",
       "      <th>23995</th>\n",
       "      <td>80000</td>\n",
       "      <td>1</td>\n",
       "      <td>2</td>\n",
       "      <td>1</td>\n",
       "      <td>25</td>\n",
       "      <td>1</td>\n",
       "      <td>2</td>\n",
       "      <td>2</td>\n",
       "      <td>0</td>\n",
       "      <td>0</td>\n",
       "      <td>...</td>\n",
       "      <td>80903</td>\n",
       "      <td>80215</td>\n",
       "      <td>63296</td>\n",
       "      <td>49854</td>\n",
       "      <td>3800</td>\n",
       "      <td>6</td>\n",
       "      <td>3636</td>\n",
       "      <td>2646</td>\n",
       "      <td>2000</td>\n",
       "      <td>1830</td>\n",
       "    </tr>\n",
       "    <tr>\n",
       "      <th>23996</th>\n",
       "      <td>20000</td>\n",
       "      <td>1</td>\n",
       "      <td>2</td>\n",
       "      <td>1</td>\n",
       "      <td>25</td>\n",
       "      <td>0</td>\n",
       "      <td>0</td>\n",
       "      <td>0</td>\n",
       "      <td>0</td>\n",
       "      <td>0</td>\n",
       "      <td>...</td>\n",
       "      <td>17562</td>\n",
       "      <td>17322</td>\n",
       "      <td>17119</td>\n",
       "      <td>17350</td>\n",
       "      <td>1552</td>\n",
       "      <td>2659</td>\n",
       "      <td>1419</td>\n",
       "      <td>606</td>\n",
       "      <td>500</td>\n",
       "      <td>1000</td>\n",
       "    </tr>\n",
       "    <tr>\n",
       "      <th>23997</th>\n",
       "      <td>10000</td>\n",
       "      <td>1</td>\n",
       "      <td>2</td>\n",
       "      <td>2</td>\n",
       "      <td>26</td>\n",
       "      <td>0</td>\n",
       "      <td>0</td>\n",
       "      <td>0</td>\n",
       "      <td>0</td>\n",
       "      <td>0</td>\n",
       "      <td>...</td>\n",
       "      <td>9825</td>\n",
       "      <td>17506</td>\n",
       "      <td>16608</td>\n",
       "      <td>9176</td>\n",
       "      <td>1300</td>\n",
       "      <td>2200</td>\n",
       "      <td>1300</td>\n",
       "      <td>320</td>\n",
       "      <td>1820</td>\n",
       "      <td>1000</td>\n",
       "    </tr>\n",
       "    <tr>\n",
       "      <th>23998</th>\n",
       "      <td>20000</td>\n",
       "      <td>1</td>\n",
       "      <td>5</td>\n",
       "      <td>2</td>\n",
       "      <td>26</td>\n",
       "      <td>0</td>\n",
       "      <td>0</td>\n",
       "      <td>0</td>\n",
       "      <td>0</td>\n",
       "      <td>0</td>\n",
       "      <td>...</td>\n",
       "      <td>19394</td>\n",
       "      <td>39950</td>\n",
       "      <td>0</td>\n",
       "      <td>0</td>\n",
       "      <td>3055</td>\n",
       "      <td>1467</td>\n",
       "      <td>1096</td>\n",
       "      <td>1000</td>\n",
       "      <td>0</td>\n",
       "      <td>0</td>\n",
       "    </tr>\n",
       "    <tr>\n",
       "      <th>23999</th>\n",
       "      <td>100000</td>\n",
       "      <td>1</td>\n",
       "      <td>1</td>\n",
       "      <td>2</td>\n",
       "      <td>26</td>\n",
       "      <td>0</td>\n",
       "      <td>-1</td>\n",
       "      <td>0</td>\n",
       "      <td>0</td>\n",
       "      <td>-1</td>\n",
       "      <td>...</td>\n",
       "      <td>2067</td>\n",
       "      <td>1944</td>\n",
       "      <td>389</td>\n",
       "      <td>1221</td>\n",
       "      <td>1100</td>\n",
       "      <td>1200</td>\n",
       "      <td>1000</td>\n",
       "      <td>500</td>\n",
       "      <td>1000</td>\n",
       "      <td>1000</td>\n",
       "    </tr>\n",
       "  </tbody>\n",
       "</table>\n",
       "<p>24000 rows × 23 columns</p>\n",
       "</div>"
      ],
      "text/plain": [
       "       LIMIT_BAL  SEX  EDUCATION  MARRIAGE  AGE  PAY_1  PAY_2  PAY_3  PAY_4  \\\n",
       "0          20000    2          2         1   24      2      2     -1     -1   \n",
       "1         120000    2          2         2   26     -1      2      0      0   \n",
       "2          90000    2          2         2   34      0      0      0      0   \n",
       "3          50000    2          2         1   37      0      0      0      0   \n",
       "4          50000    1          2         1   57     -1      0     -1      0   \n",
       "...          ...  ...        ...       ...  ...    ...    ...    ...    ...   \n",
       "23995      80000    1          2         1   25      1      2      2      0   \n",
       "23996      20000    1          2         1   25      0      0      0      0   \n",
       "23997      10000    1          2         2   26      0      0      0      0   \n",
       "23998      20000    1          5         2   26      0      0      0      0   \n",
       "23999     100000    1          1         2   26      0     -1      0      0   \n",
       "\n",
       "       PAY_5  ...  BILL_AMT3  BILL_AMT4  BILL_AMT5  BILL_AMT6  PAY_AMT1  \\\n",
       "0         -2  ...        689          0          0          0         0   \n",
       "1          0  ...       2682       3272       3455       3261         0   \n",
       "2          0  ...      13559      14331      14948      15549      1518   \n",
       "3          0  ...      49291      28314      28959      29547      2000   \n",
       "4          0  ...      35835      20940      19146      19131      2000   \n",
       "...      ...  ...        ...        ...        ...        ...       ...   \n",
       "23995      0  ...      80903      80215      63296      49854      3800   \n",
       "23996      0  ...      17562      17322      17119      17350      1552   \n",
       "23997      0  ...       9825      17506      16608       9176      1300   \n",
       "23998      0  ...      19394      39950          0          0      3055   \n",
       "23999     -1  ...       2067       1944        389       1221      1100   \n",
       "\n",
       "       PAY_AMT2  PAY_AMT3  PAY_AMT4  PAY_AMT5  PAY_AMT6  \n",
       "0           689         0         0         0         0  \n",
       "1          1000      1000      1000         0      2000  \n",
       "2          1500      1000      1000      1000      5000  \n",
       "3          2019      1200      1100      1069      1000  \n",
       "4         36681     10000      9000       689       679  \n",
       "...         ...       ...       ...       ...       ...  \n",
       "23995         6      3636      2646      2000      1830  \n",
       "23996      2659      1419       606       500      1000  \n",
       "23997      2200      1300       320      1820      1000  \n",
       "23998      1467      1096      1000         0         0  \n",
       "23999      1200      1000       500      1000      1000  \n",
       "\n",
       "[24000 rows x 23 columns]"
      ]
     },
     "execution_count": 175,
     "metadata": {},
     "output_type": "execute_result"
    }
   ],
   "source": [
    "y_train = df_train['default'].copy()\n",
    "\n",
    "counter = Counter(y_train)\n",
    "print(counter)\n",
    "\n",
    "X_train = df_train.copy()\n",
    "X_train.drop(['default', 'ID'], axis = 1)"
   ]
  },
  {
   "cell_type": "markdown",
   "metadata": {},
   "source": [
    "In order to compare the performance of the **SMOTE** and **Borerline-SMOTE**, we generalised an imbalanced classes with 2 features"
   ]
  },
  {
   "cell_type": "markdown",
   "metadata": {},
   "source": [
    "Simulated data with 10000 samples and the radio of 0 and 1 is 0.99."
   ]
  },
  {
   "cell_type": "code",
   "execution_count": 186,
   "metadata": {},
   "outputs": [
    {
     "name": "stdout",
     "output_type": "stream",
     "text": [
      "Counter({0: 9900, 1: 100})\n"
     ]
    },
    {
     "data": {
      "image/png": "[encoded data removed]",
      "text/plain": [
       "<Figure size 432x288 with 1 Axes>"
      ]
     },
     "metadata": {
      "needs_background": "light"
     },
     "output_type": "display_data"
    }
   ],
   "source": [
    "X, y = make_classification(n_samples=10000, n_features=2, n_redundant=0, n_clusters_per_class=1, weights=[0.99], flip_y=0, random_state=1)\n",
    "counter = Counter(y)\n",
    "print(counter)\n",
    "for label, _ in counter.items():\n",
    "    row_ix = where(y == label)[0]\n",
    "    pyplot.scatter(X[row_ix, 0], X[row_ix, 1], label=str(label))\n",
    "pyplot.legend()\n",
    "pyplot.show()"
   ]
  },
  {
   "cell_type": "markdown",
   "metadata": {},
   "source": [
    "Handle the data by using SMOTE method and plot the scatter graph:"
   ]
  },
  {
   "cell_type": "code",
   "execution_count": 187,
   "metadata": {},
   "outputs": [
    {
     "name": "stdout",
     "output_type": "stream",
     "text": [
      "Counter({0: 9900, 1: 9900})\n"
     ]
    },
    {
     "data": {
      "image/png": "[encoded data removed]",
      "text/plain": [
       "<Figure size 432x288 with 1 Axes>"
      ]
     },
     "metadata": {
      "needs_background": "light"
     },
     "output_type": "display_data"
    }
   ],
   "source": [
    "oversample = SMOTE()\n",
    "X_test_smote, y_test_smote = oversample.fit_sample(X, y)\n",
    "counter = Counter(y_test_smote)\n",
    "print(counter)\n",
    "for label, _ in counter.items():\n",
    "    row_ix = where(y_test_smote == label)[0]\n",
    "    pyplot.scatter(X_test_smote[row_ix, 0], X_test_smote[row_ix, 1], label=str(label))\n",
    "pyplot.legend()\n",
    "pyplot.show()\n"
   ]
  },
  {
   "cell_type": "markdown",
   "metadata": {},
   "source": [
    "All the minority samples are used to generate new synthetic data."
   ]
  },
  {
   "cell_type": "markdown",
   "metadata": {},
   "source": [
    "To improve the algorithm, we use Boarderline-SMOTE to regenerate the syntnetic samples:\n"
   ]
  },
  {
   "cell_type": "code",
   "execution_count": 191,
   "metadata": {},
   "outputs": [
    {
     "name": "stdout",
     "output_type": "stream",
     "text": [
      "Counter({0: 9900, 1: 9900})\n"
     ]
    },
    {
     "data": {
      "image/png": "[encoded data removed]",
      "text/plain": [
       "<Figure size 432x288 with 1 Axes>"
      ]
     },
     "metadata": {
      "needs_background": "light"
     },
     "output_type": "display_data"
    }
   ],
   "source": [
    "oversample = BorderlineSMOTE(random_state=42, kind=\"borderline-1\")\n",
    "X_test_BS, y_test_BS = oversample.fit_sample(X, y)\n",
    "counter = Counter(y_test_BS)\n",
    "print(counter)\n",
    "for label, _ in counter.items():\n",
    "    row_ix = where(y_test_BS == label)[0]\n",
    "    pyplot.scatter(X_test_BS[row_ix, 0], X_test_BS[row_ix, 1], label=str(label))\n",
    "pyplot.legend()\n",
    "pyplot.show()"
   ]
  },
  {
   "cell_type": "markdown",
   "metadata": {},
   "source": [
    "After applying Borderline-SMOTE, minorty samples which are far away from the decision boundary are not taken to generate new synthetic samples. Minority samples which are overlapped with the majority samples are not used to generate new synthetic samples as well. "
   ]
  },
  {
   "cell_type": "markdown",
   "metadata": {},
   "source": [
    "Then, applying SMOTE and borderline-SMOTE on Credit Card Default data:\n",
    "#### SMOTE"
   ]
  },
  {
   "cell_type": "code",
   "execution_count": 244,
   "metadata": {},
   "outputs": [
    {
     "name": "stdout",
     "output_type": "stream",
     "text": [
      "Counter({1: 18630, 0: 18630})\n",
      "0        1\n",
      "1        1\n",
      "2        0\n",
      "3        0\n",
      "4        0\n",
      "        ..\n",
      "37255    1\n",
      "37256    1\n",
      "37257    1\n",
      "37258    1\n",
      "37259    1\n",
      "Name: default, Length: 37260, dtype: int64\n"
     ]
    }
   ],
   "source": [
    "# oversample\n",
    "oversample = SMOTE()\n",
    "y_train = df_train['default'].copy()\n",
    "X_train = df_train.copy()\n",
    "X_train = X_train.drop(['default', 'ID'], axis = 1)\n",
    "X_smote, y_smote = oversample.fit_sample(X_train, y_train)\n",
    "print(Counter(y_smote))\n",
    "print(y_smote)"
   ]
  },
  {
   "cell_type": "code",
   "execution_count": 246,
   "metadata": {},
   "outputs": [
    {
     "name": "stdout",
     "output_type": "stream",
     "text": [
      "Probability of default is 1:  0.5\n"
     ]
    },
    {
     "data": {
      "text/plain": [
       "<AxesSubplot:>"
      ]
     },
     "execution_count": 246,
     "metadata": {},
     "output_type": "execute_result"
    },
    {
     "data": {
      "image/png": "[encoded data removed]",
      "text/plain": [
       "<Figure size 432x288 with 1 Axes>"
      ]
     },
     "metadata": {
      "needs_background": "light"
     },
     "output_type": "display_data"
    }
   ],
   "source": [
    "# result of SMOTE\n",
    "print(\"Probability of default is 1: \", y_smote.sum() / len(y_smote))\n",
    "y_smote.value_counts().plot.bar()"
   ]
  },
  {
   "cell_type": "markdown",
   "metadata": {},
   "source": [
    "#### Borderline-SMOTE"
   ]
  },
  {
   "cell_type": "code",
   "execution_count": 250,
   "metadata": {},
   "outputs": [
    {
     "name": "stdout",
     "output_type": "stream",
     "text": [
      "Counter({1: 18630, 0: 18630})\n"
     ]
    }
   ],
   "source": [
    "from numpy import where\n",
    "from sklearn.datasets import make_classification\n",
    "\n",
    "oversample = BorderlineSMOTE(random_state=42, kind=\"borderline-1\")\n",
    "y_train = df_train['default'].copy()\n",
    "X_train = df_train.copy()\n",
    "X_train = X_train.drop(['default', 'ID'], axis = 1)\n",
    "X_borderline_smote, y_borderline_smote = oversample.fit_sample(X_train, y_train)\n",
    "counter = Counter(y_borderline_smote)\n",
    "print(counter)\n"
   ]
  },
  {
   "cell_type": "code",
   "execution_count": 251,
   "metadata": {},
   "outputs": [
    {
     "name": "stdout",
     "output_type": "stream",
     "text": [
      "Probability of default is 1:  0.5\n"
     ]
    },
    {
     "data": {
      "text/plain": [
       "<AxesSubplot:>"
      ]
     },
     "execution_count": 251,
     "metadata": {},
     "output_type": "execute_result"
    },
    {
     "data": {
      "image/png": "[encoded data removed]",
      "text/plain": [
       "<Figure size 432x288 with 1 Axes>"
      ]
     },
     "metadata": {
      "needs_background": "light"
     },
     "output_type": "display_data"
    }
   ],
   "source": [
    "# result of SMOTE\n",
    "print(\"Probability of default is 1: \", y_borderline_smote.sum() / len(y_borderline_smote))\n",
    "y_borderline_smote.value_counts().plot.bar()"
   ]
  },
  {
   "cell_type": "markdown",
   "metadata": {},
   "source": [
    "### Save pre-processed datasets"
   ]
  },
  {
   "cell_type": "code",
   "execution_count": 26,
   "metadata": {},
   "outputs": [],
   "source": [
    "# save pre-processed training & testing data\n",
    "df_train.to_csv(path + 'CreditCard_train_processed.csv', index=False)\n",
    "df_test.to_csv(path + 'CreditCard_test_processed.csv', index=False)"
   ]
  }
 ],
 "metadata": {
  "kernelspec": {
   "display_name": "Python 3",
   "language": "python",
   "name": "python3"
  },
  "language_info": {
   "codemirror_mode": {
    "name": "ipython",
    "version": 3
   },
   "file_extension": ".py",
   "mimetype": "text/x-python",
   "name": "python",
   "nbconvert_exporter": "python",
   "pygments_lexer": "ipython3",
   "version": "3.8.3"
  }
 },
 "nbformat": 4,
 "nbformat_minor": 2
}
