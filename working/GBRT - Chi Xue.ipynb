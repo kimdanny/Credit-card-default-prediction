{
 "cells": [
  {
   "cell_type": "markdown",
   "metadata": {},
   "source": [
    "# Group Coursework - Credit Card Default Prediction\n",
    "#### This notebook has been accomplished by Group F: Chi, Jingting, Steve, Danny, Xiaoqi and Nicolas\n",
    "\n",
    "#### Steps:\n",
    "1. Introduction\n",
    "2. Data Import\n",
    "3. Data Transformation & Exploration\n",
    "4. Methodology Overview\n",
    "5. Model Training & Validation\n",
    "6. Results\n",
    "7. Final Predictions on Test Set"
   ]
  },
  {
   "cell_type": "markdown",
   "metadata": {},
   "source": [
    "## Introduction"
   ]
  },
  {
   "cell_type": "markdown",
   "metadata": {},
   "source": [
    "Blablabla... This part should be similar within the report and will be filled in after the report is done."
   ]
  },
  {
   "cell_type": "code",
   "execution_count": 10,
   "metadata": {},
   "outputs": [],
   "source": [
    "import numpy as np\n",
    "import pandas as pd\n",
    "from sklearn import preprocessing\n",
    "from sklearn import ensemble\n",
    "from sklearn.model_selection import train_test_split\n",
    "from sklearn.metrics import f1_score,classification_report\n",
    "from sklearn.impute import SimpleImputer\n",
    "from sklearn.neighbors import KNeighborsClassifier"
   ]
  },
  {
   "cell_type": "markdown",
   "metadata": {},
   "source": [
    "## Data Import"
   ]
  },
  {
   "cell_type": "code",
   "execution_count": 11,
   "metadata": {},
   "outputs": [],
   "source": [
    "# read data from train and test sets\n",
    "p_train = pd.read_csv(\"CreditCard_train.csv\",encoding='gbk')\n",
    "p_test = pd.read_csv(\"CreditCard_test.csv\",encoding='gbk')"
   ]
  },
  {
   "cell_type": "code",
   "execution_count": 12,
   "metadata": {},
   "outputs": [
    {
     "name": "stdout",
     "output_type": "stream",
     "text": [
      "      Unnamed: 0         X1   X2         X3        X4   X5     X6     X7  \\\n",
      "0             ID  LIMIT_BAL  SEX  EDUCATION  MARRIAGE  AGE  PAY_0  PAY_2   \n",
      "1              1      20000    2          2         1   24      2      2   \n",
      "2              2     120000    2          2         2   26     -1      2   \n",
      "3              3      90000    2          2         2   34      0      0   \n",
      "4              4      50000    2          2         1   37      0      0   \n",
      "...          ...        ...  ...        ...       ...  ...    ...    ...   \n",
      "23996      23996      80000    1          2         1   25      1      2   \n",
      "23997      23997      20000    1          2         1   25      0      0   \n",
      "23998      23998      10000    1          2         2   26      0      0   \n",
      "23999      23999      20000    1          5         2   26      0      0   \n",
      "24000      24000     100000    1          1         2   26      0     -1   \n",
      "\n",
      "          X8     X9  ...        X15        X16        X17       X18       X19  \\\n",
      "0      PAY_3  PAY_4  ...  BILL_AMT4  BILL_AMT5  BILL_AMT6  PAY_AMT1  PAY_AMT2   \n",
      "1         -1     -1  ...          0          0          0         0       689   \n",
      "2          0      0  ...       3272       3455       3261         0      1000   \n",
      "3          0      0  ...      14331      14948      15549      1518      1500   \n",
      "4          0      0  ...      28314      28959      29547      2000      2019   \n",
      "...      ...    ...  ...        ...        ...        ...       ...       ...   \n",
      "23996      2      0  ...      80215      63296      49854      3800         6   \n",
      "23997      0      0  ...      17322      17119      17350      1552      2659   \n",
      "23998      0      0  ...      17506      16608       9176      1300      2200   \n",
      "23999      0      0  ...      39950          0          0      3055      1467   \n",
      "24000      0      0  ...       1944        389       1221      1100      1200   \n",
      "\n",
      "            X20       X21       X22       X23                           Y  \n",
      "0      PAY_AMT3  PAY_AMT4  PAY_AMT5  PAY_AMT6  default payment next month  \n",
      "1             0         0         0         0                           1  \n",
      "2          1000      1000         0      2000                           1  \n",
      "3          1000      1000      1000      5000                           0  \n",
      "4          1200      1100      1069      1000                           0  \n",
      "...         ...       ...       ...       ...                         ...  \n",
      "23996      3636      2646      2000      1830                           0  \n",
      "23997      1419       606       500      1000                           0  \n",
      "23998      1300       320      1820      1000                           0  \n",
      "23999      1096      1000         0         0                           0  \n",
      "24000      1000       500      1000      1000                           1  \n",
      "\n",
      "[24001 rows x 25 columns]\n",
      "     Unnamed: 0         X1   X2         X3        X4   X5     X6     X7  \\\n",
      "0            ID  LIMIT_BAL  SEX  EDUCATION  MARRIAGE  AGE  PAY_0  PAY_2   \n",
      "1         24001      50000    1          2         2   23      2      2   \n",
      "2         24002      60000    1          2         2   26      0      0   \n",
      "3         24003     400000    1          2         2   27      0      0   \n",
      "4         24004      20000    1          5         2   27      5      4   \n",
      "...         ...        ...  ...        ...       ...  ...    ...    ...   \n",
      "5996      29996     220000    1          3         1   39      0      0   \n",
      "5997      29997     150000    1          3         2   43     -1     -1   \n",
      "5998      29998      30000    1          2         2   37      4      3   \n",
      "5999      29999      80000    1          3         1   41      1     -1   \n",
      "6000      30000      50000    1          2         1   46      0      0   \n",
      "\n",
      "         X8     X9  ...        X15        X16        X17       X18       X19  \\\n",
      "0     PAY_3  PAY_4  ...  BILL_AMT4  BILL_AMT5  BILL_AMT6  PAY_AMT1  PAY_AMT2   \n",
      "1         0      0  ...      44116      21247      20066         8      2401   \n",
      "2         0      0  ...      55736      26958      28847      2282      2324   \n",
      "3         0      0  ...      10745      20737       9545      2501     10009   \n",
      "4         3      2  ...      19709      20113      19840         0         0   \n",
      "...     ...    ...  ...        ...        ...        ...       ...       ...   \n",
      "5996      0      0  ...      88004      31237      15980      8500     20000   \n",
      "5997     -1     -1  ...       8979       5190          0      1837      3526   \n",
      "5998      2     -1  ...      20878      20582      19357         0         0   \n",
      "5999      0      0  ...      52774      11855      48944     85900      3409   \n",
      "6000      0      0  ...      36535      32428      15313      2078      1800   \n",
      "\n",
      "           X20       X21       X22       X23                           Y  \n",
      "0     PAY_AMT3  PAY_AMT4  PAY_AMT5  PAY_AMT6  default payment next month  \n",
      "1         2254      2004       704       707                           0  \n",
      "2         2049      2000      3000      1120                           1  \n",
      "3         1437      1105       510       959                           0  \n",
      "4            0       900         0         0                           0  \n",
      "...        ...       ...       ...       ...                         ...  \n",
      "5996      5003      3047      5000      1000                           0  \n",
      "5997      8998       129         0         0                           0  \n",
      "5998     22000      4200      2000      3100                           1  \n",
      "5999      1178      1926     52964      1804                           1  \n",
      "6000      1430      1000      1000      1000                           1  \n",
      "\n",
      "[6001 rows x 25 columns]\n"
     ]
    }
   ],
   "source": [
    "print(p_train)\n",
    "print(p_test)"
   ]
  },
  {
   "cell_type": "markdown",
   "metadata": {},
   "source": [
    "## Data Transformation & Exploration"
   ]
  },
  {
   "cell_type": "code",
   "execution_count": 13,
   "metadata": {},
   "outputs": [],
   "source": [
    "# Data cleaning\n",
    "# Delete unnecessary keys\n",
    "\n",
    "origin_keys_train = p_train.keys()\n",
    "origin_keys_test = p_test.keys()\n",
    "need_keys_train = origin_keys_train[1:]\n",
    "need_keys_test = origin_keys_test[1:]\n",
    "dataset_train = []\n",
    "dataset_test = []\n",
    "\n",
    "for key in need_keys_train:\n",
    "    data = []\n",
    "    for i in range(len(p_train[key])):\n",
    "        if i==0:\n",
    "            continue\n",
    "        else:\n",
    "            data.append(p_train[key][i])\n",
    "    dataset_train.append(data)\n",
    "    \n",
    "for key in need_keys_test:\n",
    "    data = []\n",
    "    for i in range(len(p_test[key])):\n",
    "        if i==0:\n",
    "            continue\n",
    "        else:\n",
    "            data.append(p_test[key][i])\n",
    "    dataset_test.append(data)\n",
    "\n",
    "# Transform and transpose data sets\n",
    "dataset_train = np.array(dataset_train,dtype=np.float)\n",
    "dataset_train = dataset_train.transpose()\n",
    "dataset_test= np.array(dataset_test,dtype=np.float)\n",
    "dataset_test = dataset_test.transpose()\n",
    "\n",
    "# Check if there are missing values, preprocess it if so.\n",
    "imp = SimpleImputer(missing_values=np.nan, strategy='mean')\n",
    "imp.fit(dataset_train)\n",
    "\n",
    "# Achieve the transformed data sets\n",
    "dataset_train = imp.transform(dataset_train)\n",
    "imp = SimpleImputer(missing_values=np.nan, strategy='mean')\n",
    "imp.fit(dataset_test)\n",
    "\n",
    "dataset_test = imp.transform(dataset_test)"
   ]
  },
  {
   "cell_type": "code",
   "execution_count": 14,
   "metadata": {},
   "outputs": [
    {
     "name": "stdout",
     "output_type": "stream",
     "text": [
      "(24000, 24)\n"
     ]
    }
   ],
   "source": [
    "print(dataset_train.shape)"
   ]
  },
  {
   "cell_type": "code",
   "execution_count": 15,
   "metadata": {},
   "outputs": [
    {
     "name": "stdout",
     "output_type": "stream",
     "text": [
      "(21600, 23) (2400, 23) (21600,) (2400,)\n"
     ]
    }
   ],
   "source": [
    "# data exploration\n",
    "x,y = dataset_train[:,:23],dataset_train[:,-1]\n",
    "\n",
    "# Split data sets\n",
    "x_train,x_test,y_train,y_test = train_test_split(x,y,test_size=0.1,shuffle=True)\n",
    "print(x_train.shape,x_test.shape,y_train.shape,y_test.shape)\n",
    "\n",
    "# Standarize data\n",
    "scaler = preprocessing.StandardScaler().fit(x_train)\n",
    "x_train,x_test = scaler.transform(x_train),scaler.transform(x_test)"
   ]
  },
  {
   "cell_type": "markdown",
   "metadata": {},
   "source": [
    "## Methodology Overview"
   ]
  },
  {
   "cell_type": "markdown",
   "metadata": {},
   "source": [
    "Here provided are three different methods called  Adaboost(Adaptive Boosting), Random Forest and GBRT(Gradient Boosted Regression Trees) respectively."
   ]
  },
  {
   "cell_type": "code",
   "execution_count": 16,
   "metadata": {},
   "outputs": [],
   "source": [
    "class adaboost(object):\n",
    "\n",
    "    def __init__(self):\n",
    "        # build the model\n",
    "        # self.model = ensemble.AdaBoostClassifier(n_estimators=100,learning_rate=0.001)\n",
    "        # self.model = ensemble.BaggingClassifier(base_estimator=KNeighborsClassifier(n_neighbors=12,),n_estimators=200)\n",
    "        self.model  = ensemble.AdaBoostClassifier(n_estimators=200,learning_rate=0.001)\n",
    "        # create the model\n",
    "        # self.model = ensemble.BaggingClassifier(KNeighborsClassifier(), n_estimators=10, max_samples=0.5,max_features=0.5)\n",
    "\n",
    "    def train(self,x_train,y_train):\n",
    "        # training\n",
    "        self.model.fit(x_train,y_train)\n",
    "\n",
    "    def predict(self,x_test):\n",
    "        # predicting\n",
    "        y_pred = self.model.predict(x_test)\n",
    "\n",
    "        return y_pred\n",
    "\n",
    "    \n",
    "class random_forest(object):\n",
    "\n",
    "    def __init__(self):\n",
    "        # build the model\n",
    "        # self.model = ensemble.AdaBoostClassifier(n_estimators=100,learning_rate=0.001)\n",
    "        # self.model = ensemble.BaggingClassifier(base_estimator=KNeighborsClassifier(n_neighbors=12,),n_estimators=200)\n",
    "        # self.model  = ensemble.AdaBoostClassifier(n_estimators=200,learning_rate=0.001)\n",
    "        # create the model\n",
    "        self.model = ensemble.BaggingClassifier(KNeighborsClassifier(), n_estimators=200, max_samples=0.5,max_features=0.5)\n",
    "\n",
    "    def train(self,x_train,y_train):\n",
    "        # training\n",
    "        self.model.fit(x_train,y_train)\n",
    "\n",
    "    def predict(self,x_test):\n",
    "        # predicting\n",
    "        y_pred = self.model.predict(x_test)\n",
    "        return y_pred\n",
    "\n",
    "    \n",
    "class GBRT(object):\n",
    "\n",
    "    def __init__(self):\n",
    "        # create the model\n",
    "        self.model = ensemble.GradientBoostingClassifier(n_estimators=200)\n",
    "\n",
    "    def train(self,x_train,y_train):\n",
    "        # training\n",
    "        self.model.fit(x_train,y_train)\n",
    "\n",
    "    def predict(self,x_test):\n",
    "        # predicting\n",
    "        y_pred = self.model.predict(x_test)\n",
    "        return y_pred"
   ]
  },
  {
   "cell_type": "markdown",
   "metadata": {},
   "source": [
    "## Model Training & Validation"
   ]
  },
  {
   "cell_type": "code",
   "execution_count": 17,
   "metadata": {},
   "outputs": [],
   "source": [
    "model1 = adaboost()\n",
    "model2 = random_forest()\n",
    "model3 = GBRT()\n",
    "\n",
    "model1.train(x_train,y_train)\n",
    "model2.train(x_train,y_train)\n",
    "model3.train(x_train,y_train)"
   ]
  },
  {
   "cell_type": "markdown",
   "metadata": {},
   "source": [
    "## Results"
   ]
  },
  {
   "cell_type": "code",
   "execution_count": 18,
   "metadata": {},
   "outputs": [
    {
     "name": "stdout",
     "output_type": "stream",
     "text": [
      "0.47981545559400235\n",
      "0.4034869240348693\n",
      "0.513157894736842\n",
      "              precision    recall  f1-score   support\n",
      "\n",
      "         0.0       0.83      0.95      0.89      1826\n",
      "         1.0       0.71      0.36      0.48       574\n",
      "\n",
      "    accuracy                           0.81      2400\n",
      "   macro avg       0.77      0.66      0.68      2400\n",
      "weighted avg       0.80      0.81      0.79      2400\n",
      "\n",
      "              precision    recall  f1-score   support\n",
      "\n",
      "         0.0       0.81      0.96      0.88      1826\n",
      "         1.0       0.71      0.28      0.40       574\n",
      "\n",
      "    accuracy                           0.80      2400\n",
      "   macro avg       0.76      0.62      0.64      2400\n",
      "weighted avg       0.79      0.80      0.77      2400\n",
      "\n",
      "              precision    recall  f1-score   support\n",
      "\n",
      "         0.0       0.84      0.94      0.89      1826\n",
      "         1.0       0.69      0.41      0.51       574\n",
      "\n",
      "    accuracy                           0.81      2400\n",
      "   macro avg       0.76      0.68      0.70      2400\n",
      "weighted avg       0.80      0.81      0.80      2400\n",
      "\n"
     ]
    }
   ],
   "source": [
    "# prediction\n",
    "y_pred_1 = model1.predict(x_test)\n",
    "y_pred_2 = model2.predict(x_test)\n",
    "y_pred_3 = model3.predict(x_test)\n",
    "\n",
    "# Obtain the f1 score and report for three methods\n",
    "print(f1_score(y_test,y_pred_1))\n",
    "print(f1_score(y_test,y_pred_2))\n",
    "print(f1_score(y_test,y_pred_3))\n",
    "\n",
    "print(classification_report(y_test,y_pred_1))\n",
    "print(classification_report(y_test,y_pred_2))\n",
    "print(classification_report(y_test,y_pred_3))"
   ]
  },
  {
   "cell_type": "markdown",
   "metadata": {},
   "source": [
    "## Final Predictions on Test Set"
   ]
  },
  {
   "cell_type": "code",
   "execution_count": 19,
   "metadata": {},
   "outputs": [
    {
     "name": "stdout",
     "output_type": "stream",
     "text": [
      "0.4478260869565217\n",
      "0.0962962962962963\n",
      "0.47133087848500793\n",
      "              precision    recall  f1-score   support\n",
      "\n",
      "         0.0       0.97      0.84      0.90      5426\n",
      "         1.0       0.33      0.72      0.45       574\n",
      "\n",
      "    accuracy                           0.83      6000\n",
      "   macro avg       0.65      0.78      0.67      6000\n",
      "weighted avg       0.90      0.83      0.86      6000\n",
      "\n",
      "              precision    recall  f1-score   support\n",
      "\n",
      "         0.0       1.00      0.80      0.89      5916\n",
      "         1.0       0.05      0.77      0.10        84\n",
      "\n",
      "    accuracy                           0.80      6000\n",
      "   macro avg       0.52      0.79      0.49      6000\n",
      "weighted avg       0.98      0.80      0.87      6000\n",
      "\n",
      "              precision    recall  f1-score   support\n",
      "\n",
      "         0.0       0.96      0.85      0.90      5365\n",
      "         1.0       0.35      0.71      0.47       635\n",
      "\n",
      "    accuracy                           0.83      6000\n",
      "   macro avg       0.66      0.78      0.69      6000\n",
      "weighted avg       0.90      0.83      0.86      6000\n",
      "\n"
     ]
    }
   ],
   "source": [
    "# now predict all test sets\n",
    "# retrain all the train sets by using three methods\n",
    "model1.train(x, y)\n",
    "model2.train(x, y)\n",
    "model3.train(x, y)\n",
    "\n",
    "# predictions\n",
    "x_for_test,y_for_test = dataset_test[:,:23],dataset_test[:,-1]\n",
    "y_for_pred_1 = model1.predict(x_for_test)\n",
    "y_for_pred_2 = model2.predict(x_for_test)\n",
    "y_for_pred_3 = model3.predict(x_for_test)\n",
    "\n",
    "# Obtain the f1 score and report for three methods\n",
    "print(f1_score(y_for_pred_1,y_for_test))\n",
    "print(f1_score(y_for_pred_2,y_for_test))\n",
    "print(f1_score(y_for_pred_3,y_for_test))\n",
    "\n",
    "print(classification_report(y_for_pred_1,y_for_test))\n",
    "print(classification_report(y_for_pred_2,y_for_test))\n",
    "print(classification_report(y_for_pred_3,y_for_test))"
   ]
  },
  {
   "cell_type": "code",
   "execution_count": 20,
   "metadata": {},
   "outputs": [],
   "source": [
    "# write the data into csv file\n",
    "dataframe = pd.DataFrame({'origin_data': y_for_test, 'adaboost_pred': y_for_pred_1,'random_forst_pred': y_for_pred_2,\n",
    "                          'GBRT_pred': y_for_pred_3})\n",
    "\n",
    "dataframe.to_csv(\"result.csv\",index=False,sep=\",\")\n",
    "pf = pd.read_csv(\"result.csv\",encoding=\"gbk\")"
   ]
  },
  {
   "cell_type": "code",
   "execution_count": 22,
   "metadata": {},
   "outputs": [
    {
     "name": "stdout",
     "output_type": "stream",
     "text": [
      "      origin_data  adaboost_pred  random_forst_pred  GBRT_pred\n",
      "0             0.0            1.0                0.0        1.0\n",
      "1             1.0            0.0                0.0        0.0\n",
      "2             0.0            0.0                0.0        0.0\n",
      "3             0.0            1.0                0.0        0.0\n",
      "4             0.0            0.0                0.0        0.0\n",
      "...           ...            ...                ...        ...\n",
      "5995          0.0            0.0                0.0        0.0\n",
      "5996          0.0            0.0                0.0        0.0\n",
      "5997          1.0            1.0                0.0        1.0\n",
      "5998          1.0            0.0                0.0        0.0\n",
      "5999          1.0            0.0                0.0        0.0\n",
      "\n",
      "[6000 rows x 4 columns]\n"
     ]
    }
   ],
   "source": [
    "# print the file into jupyter notebook\n",
    "print(pf)"
   ]
  },
  {
   "cell_type": "code",
   "execution_count": null,
   "metadata": {},
   "outputs": [],
   "source": []
  }
 ],
 "metadata": {
  "kernelspec": {
   "display_name": "Python 3",
   "language": "python",
   "name": "python3"
  },
  "language_info": {
   "codemirror_mode": {
    "name": "ipython",
    "version": 3
   },
   "file_extension": ".py",
   "mimetype": "text/x-python",
   "name": "python",
   "nbconvert_exporter": "python",
   "pygments_lexer": "ipython3",
   "version": "3.7.0"
  }
 },
 "nbformat": 4,
 "nbformat_minor": 2
}
