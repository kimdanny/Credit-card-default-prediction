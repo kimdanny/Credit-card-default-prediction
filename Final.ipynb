{
  "nbformat": 4,
  "nbformat_minor": 0,
  "metadata": {
    "colab": {
      "name": "Final (1).ipynb",
      "provenance": [],
      "collapsed_sections": [
        "dD_lmI_jfAVO",
        "JLUOGwH7gEOQ",
        "LMAxQylDitwk",
        "7e_xAKY0iqbx",
        "lIjbT9Pml9wR",
        "t2RgvDLp8wVZ",
        "x3__76ErW1b2",
        "IgN6Or0lScOO",
        "2R4yxI_T1hsU",
        "vMhVlDLf15D2",
        "7MlD99BQ2BGY"
      ],
      "toc_visible": true
    },
    "kernelspec": {
      "display_name": "Python 3",
      "language": "python",
      "name": "python3"
    },
    "language_info": {
      "codemirror_mode": {
        "name": "ipython",
        "version": 3
      },
      "file_extension": ".py",
      "mimetype": "text/x-python",
      "name": "python",
      "nbconvert_exporter": "python",
      "pygments_lexer": "ipython3",
      "version": "3.7.0"
    }
  },
  "cells": [
    {
      "cell_type": "markdown",
      "metadata": {
        "id": "dD_lmI_jfAVO"
      },
      "source": [
        "# **1. Introduction**"
      ]
    },
    {
      "cell_type": "code",
      "metadata": {
        "id": "Zvsj9cRWe-6M"
      },
      "source": [
        ""
      ],
      "execution_count": 191,
      "outputs": []
    },
    {
      "cell_type": "markdown",
      "metadata": {
        "id": "vhazDl7TpOb2"
      },
      "source": [
        "# **2. Data Import** \n",
        "Simply modify the data path to load your data"
      ]
    },
    {
      "cell_type": "markdown",
      "metadata": {
        "id": "T2wZnYJIncSS"
      },
      "source": [
        "**Library Imports**"
      ]
    },
    {
      "cell_type": "code",
      "metadata": {
        "id": "_lyt7FPEKbfn",
        "colab": {
          "base_uri": "https://localhost:8080/"
        },
        "outputId": "35472fb2-1698-4ea2-c205-84406d410003"
      },
      "source": [
        "!pip install sklearn"
      ],
      "execution_count": 192,
      "outputs": [
        {
          "output_type": "stream",
          "text": [
            "Requirement already satisfied: sklearn in /usr/local/lib/python3.6/dist-packages (0.0)\n",
            "Requirement already satisfied: scikit-learn in /usr/local/lib/python3.6/dist-packages (from sklearn) (0.22.2.post1)\n",
            "Requirement already satisfied: joblib>=0.11 in /usr/local/lib/python3.6/dist-packages (from scikit-learn->sklearn) (1.0.0)\n",
            "Requirement already satisfied: scipy>=0.17.0 in /usr/local/lib/python3.6/dist-packages (from scikit-learn->sklearn) (1.4.1)\n",
            "Requirement already satisfied: numpy>=1.11.0 in /usr/local/lib/python3.6/dist-packages (from scikit-learn->sklearn) (1.19.4)\n"
          ],
          "name": "stdout"
        }
      ]
    },
    {
      "cell_type": "code",
      "metadata": {
        "id": "VxPbmjogKbfn",
        "colab": {
          "base_uri": "https://localhost:8080/"
        },
        "outputId": "01458ef8-68c5-4701-bc13-015566f84c50"
      },
      "source": [
        "!pip install imbalanced-learn==0.5"
      ],
      "execution_count": 193,
      "outputs": [
        {
          "output_type": "stream",
          "text": [
            "Requirement already satisfied: imbalanced-learn==0.5 in /usr/local/lib/python3.6/dist-packages (0.5.0)\n",
            "Requirement already satisfied: scikit-learn>=0.21 in /usr/local/lib/python3.6/dist-packages (from imbalanced-learn==0.5) (0.22.2.post1)\n",
            "Requirement already satisfied: numpy>=1.11 in /usr/local/lib/python3.6/dist-packages (from imbalanced-learn==0.5) (1.19.4)\n",
            "Requirement already satisfied: scipy>=0.17 in /usr/local/lib/python3.6/dist-packages (from imbalanced-learn==0.5) (1.4.1)\n",
            "Requirement already satisfied: joblib>=0.11 in /usr/local/lib/python3.6/dist-packages (from imbalanced-learn==0.5) (1.0.0)\n"
          ],
          "name": "stdout"
        }
      ]
    },
    {
      "cell_type": "code",
      "metadata": {
        "id": "KIZ_1cgza6hW"
      },
      "source": [
        "import pandas as pd\n",
        "import numpy as np\n",
        "import io\n",
        "\n",
        "from sklearn.preprocessing import MinMaxScaler\n",
        "from sklearn.preprocessing import Normalizer\n",
        "from sklearn.preprocessing import StandardScaler\n",
        "from sklearn.datasets import make_classification\n",
        "from sklearn import ensemble\n",
        "from sklearn.model_selection import train_test_split\n",
        "from sklearn.metrics import f1_score, classification_report\n",
        "from sklearn.impute import SimpleImputer\n",
        "from sklearn.neighbors import KNeighborsClassifier\n",
        "\n",
        "from numpy import where\n",
        "from imblearn.over_sampling import SMOTE\n",
        "\n",
        "from matplotlib import pyplot\n",
        "import matplotlib.pyplot as plt\n",
        "import seaborn as sns\n",
        "\n",
        "from imblearn.over_sampling import BorderlineSMOTE\n",
        "\n",
        "from collections import Counter\n",
        "\n",
        "import tensorflow as tf\n",
        "from tensorflow import keras\n",
        "from keras.callbacks import ReduceLROnPlateau, EarlyStopping\n",
        "from keras.optimizers import RMSprop, Adam\n",
        "from keras.utils import to_categorical\n",
        "from keras.models import Sequential, load_model\n",
        "from keras.layers import Dropout, Flatten, Dense\n",
        "\n",
        "from sklearn.model_selection import KFold\n",
        "from sklearn.metrics import accuracy_score"
      ],
      "execution_count": 194,
      "outputs": []
    },
    {
      "cell_type": "code",
      "metadata": {
        "id": "1IG-lsxaoe9C"
      },
      "source": [
        "# Data path setting\n",
        "train_data_path = '/CreditCard_train.csv' # change to your local file location\n",
        "test_data_path = '/CreditCard_test.csv'   # change to your local file location"
      ],
      "execution_count": 195,
      "outputs": []
    },
    {
      "cell_type": "code",
      "metadata": {
        "id": "uxWLLWtTq82j"
      },
      "source": [
        "# df_train = pd.read_csv(io.StringIO(uploaded_train['CreditCard_train.csv'].decode('utf-8')), header=1)\n",
        "# df_test = pd.read_csv(io.StringIO(uploaded_test['CreditCard_test.csv'].decode('utf-8')), header=1)\n",
        "df_train = pd.read_csv(train_data_path, header=1)\n",
        "df_test = pd.read_csv(test_data_path, header=1)"
      ],
      "execution_count": 199,
      "outputs": []
    },
    {
      "cell_type": "code",
      "metadata": {
        "colab": {
          "base_uri": "https://localhost:8080/",
          "height": 439
        },
        "id": "mK2Tkj-mgxPf",
        "outputId": "1c47c62f-0aa7-4114-9db7-48d6f8c8ddf8"
      },
      "source": [
        "# From outside colab\n",
        "# df_train = pd.read_csv(path + 'CreditCard_train.csv', header=1) # pass the second line in the CSV file as column names\n",
        "\n",
        "df_train.rename(columns={'PAY_0':'PAY_1'}, inplace=True) # change strange (inconsistent) column name 'PAY_0'\n",
        "df_train.rename(columns={'default payment next month':'default'}, inplace=True) # shorten the name of the target column\n",
        "df_train"
      ],
      "execution_count": 200,
      "outputs": [
        {
          "output_type": "execute_result",
          "data": {
            "text/html": [
              "<div>\n",
              "<style scoped>\n",
              "    .dataframe tbody tr th:only-of-type {\n",
              "        vertical-align: middle;\n",
              "    }\n",
              "\n",
              "    .dataframe tbody tr th {\n",
              "        vertical-align: top;\n",
              "    }\n",
              "\n",
              "    .dataframe thead th {\n",
              "        text-align: right;\n",
              "    }\n",
              "</style>\n",
              "<table border=\"1\" class=\"dataframe\">\n",
              "  <thead>\n",
              "    <tr style=\"text-align: right;\">\n",
              "      <th></th>\n",
              "      <th>ID</th>\n",
              "      <th>LIMIT_BAL</th>\n",
              "      <th>SEX</th>\n",
              "      <th>EDUCATION</th>\n",
              "      <th>MARRIAGE</th>\n",
              "      <th>AGE</th>\n",
              "      <th>PAY_1</th>\n",
              "      <th>PAY_2</th>\n",
              "      <th>PAY_3</th>\n",
              "      <th>PAY_4</th>\n",
              "      <th>PAY_5</th>\n",
              "      <th>PAY_6</th>\n",
              "      <th>BILL_AMT1</th>\n",
              "      <th>BILL_AMT2</th>\n",
              "      <th>BILL_AMT3</th>\n",
              "      <th>BILL_AMT4</th>\n",
              "      <th>BILL_AMT5</th>\n",
              "      <th>BILL_AMT6</th>\n",
              "      <th>PAY_AMT1</th>\n",
              "      <th>PAY_AMT2</th>\n",
              "      <th>PAY_AMT3</th>\n",
              "      <th>PAY_AMT4</th>\n",
              "      <th>PAY_AMT5</th>\n",
              "      <th>PAY_AMT6</th>\n",
              "      <th>default</th>\n",
              "    </tr>\n",
              "  </thead>\n",
              "  <tbody>\n",
              "    <tr>\n",
              "      <th>0</th>\n",
              "      <td>1</td>\n",
              "      <td>20000</td>\n",
              "      <td>2</td>\n",
              "      <td>2</td>\n",
              "      <td>1</td>\n",
              "      <td>24</td>\n",
              "      <td>2</td>\n",
              "      <td>2</td>\n",
              "      <td>-1</td>\n",
              "      <td>-1</td>\n",
              "      <td>-2</td>\n",
              "      <td>-2</td>\n",
              "      <td>3913</td>\n",
              "      <td>3102</td>\n",
              "      <td>689</td>\n",
              "      <td>0</td>\n",
              "      <td>0</td>\n",
              "      <td>0</td>\n",
              "      <td>0</td>\n",
              "      <td>689</td>\n",
              "      <td>0</td>\n",
              "      <td>0</td>\n",
              "      <td>0</td>\n",
              "      <td>0</td>\n",
              "      <td>1</td>\n",
              "    </tr>\n",
              "    <tr>\n",
              "      <th>1</th>\n",
              "      <td>2</td>\n",
              "      <td>120000</td>\n",
              "      <td>2</td>\n",
              "      <td>2</td>\n",
              "      <td>2</td>\n",
              "      <td>26</td>\n",
              "      <td>-1</td>\n",
              "      <td>2</td>\n",
              "      <td>0</td>\n",
              "      <td>0</td>\n",
              "      <td>0</td>\n",
              "      <td>2</td>\n",
              "      <td>2682</td>\n",
              "      <td>1725</td>\n",
              "      <td>2682</td>\n",
              "      <td>3272</td>\n",
              "      <td>3455</td>\n",
              "      <td>3261</td>\n",
              "      <td>0</td>\n",
              "      <td>1000</td>\n",
              "      <td>1000</td>\n",
              "      <td>1000</td>\n",
              "      <td>0</td>\n",
              "      <td>2000</td>\n",
              "      <td>1</td>\n",
              "    </tr>\n",
              "    <tr>\n",
              "      <th>2</th>\n",
              "      <td>3</td>\n",
              "      <td>90000</td>\n",
              "      <td>2</td>\n",
              "      <td>2</td>\n",
              "      <td>2</td>\n",
              "      <td>34</td>\n",
              "      <td>0</td>\n",
              "      <td>0</td>\n",
              "      <td>0</td>\n",
              "      <td>0</td>\n",
              "      <td>0</td>\n",
              "      <td>0</td>\n",
              "      <td>29239</td>\n",
              "      <td>14027</td>\n",
              "      <td>13559</td>\n",
              "      <td>14331</td>\n",
              "      <td>14948</td>\n",
              "      <td>15549</td>\n",
              "      <td>1518</td>\n",
              "      <td>1500</td>\n",
              "      <td>1000</td>\n",
              "      <td>1000</td>\n",
              "      <td>1000</td>\n",
              "      <td>5000</td>\n",
              "      <td>0</td>\n",
              "    </tr>\n",
              "    <tr>\n",
              "      <th>3</th>\n",
              "      <td>4</td>\n",
              "      <td>50000</td>\n",
              "      <td>2</td>\n",
              "      <td>2</td>\n",
              "      <td>1</td>\n",
              "      <td>37</td>\n",
              "      <td>0</td>\n",
              "      <td>0</td>\n",
              "      <td>0</td>\n",
              "      <td>0</td>\n",
              "      <td>0</td>\n",
              "      <td>0</td>\n",
              "      <td>46990</td>\n",
              "      <td>48233</td>\n",
              "      <td>49291</td>\n",
              "      <td>28314</td>\n",
              "      <td>28959</td>\n",
              "      <td>29547</td>\n",
              "      <td>2000</td>\n",
              "      <td>2019</td>\n",
              "      <td>1200</td>\n",
              "      <td>1100</td>\n",
              "      <td>1069</td>\n",
              "      <td>1000</td>\n",
              "      <td>0</td>\n",
              "    </tr>\n",
              "    <tr>\n",
              "      <th>4</th>\n",
              "      <td>5</td>\n",
              "      <td>50000</td>\n",
              "      <td>1</td>\n",
              "      <td>2</td>\n",
              "      <td>1</td>\n",
              "      <td>57</td>\n",
              "      <td>-1</td>\n",
              "      <td>0</td>\n",
              "      <td>-1</td>\n",
              "      <td>0</td>\n",
              "      <td>0</td>\n",
              "      <td>0</td>\n",
              "      <td>8617</td>\n",
              "      <td>5670</td>\n",
              "      <td>35835</td>\n",
              "      <td>20940</td>\n",
              "      <td>19146</td>\n",
              "      <td>19131</td>\n",
              "      <td>2000</td>\n",
              "      <td>36681</td>\n",
              "      <td>10000</td>\n",
              "      <td>9000</td>\n",
              "      <td>689</td>\n",
              "      <td>679</td>\n",
              "      <td>0</td>\n",
              "    </tr>\n",
              "    <tr>\n",
              "      <th>...</th>\n",
              "      <td>...</td>\n",
              "      <td>...</td>\n",
              "      <td>...</td>\n",
              "      <td>...</td>\n",
              "      <td>...</td>\n",
              "      <td>...</td>\n",
              "      <td>...</td>\n",
              "      <td>...</td>\n",
              "      <td>...</td>\n",
              "      <td>...</td>\n",
              "      <td>...</td>\n",
              "      <td>...</td>\n",
              "      <td>...</td>\n",
              "      <td>...</td>\n",
              "      <td>...</td>\n",
              "      <td>...</td>\n",
              "      <td>...</td>\n",
              "      <td>...</td>\n",
              "      <td>...</td>\n",
              "      <td>...</td>\n",
              "      <td>...</td>\n",
              "      <td>...</td>\n",
              "      <td>...</td>\n",
              "      <td>...</td>\n",
              "      <td>...</td>\n",
              "    </tr>\n",
              "    <tr>\n",
              "      <th>23995</th>\n",
              "      <td>23996</td>\n",
              "      <td>80000</td>\n",
              "      <td>1</td>\n",
              "      <td>2</td>\n",
              "      <td>1</td>\n",
              "      <td>25</td>\n",
              "      <td>1</td>\n",
              "      <td>2</td>\n",
              "      <td>2</td>\n",
              "      <td>0</td>\n",
              "      <td>0</td>\n",
              "      <td>0</td>\n",
              "      <td>80906</td>\n",
              "      <td>82789</td>\n",
              "      <td>80903</td>\n",
              "      <td>80215</td>\n",
              "      <td>63296</td>\n",
              "      <td>49854</td>\n",
              "      <td>3800</td>\n",
              "      <td>6</td>\n",
              "      <td>3636</td>\n",
              "      <td>2646</td>\n",
              "      <td>2000</td>\n",
              "      <td>1830</td>\n",
              "      <td>0</td>\n",
              "    </tr>\n",
              "    <tr>\n",
              "      <th>23996</th>\n",
              "      <td>23997</td>\n",
              "      <td>20000</td>\n",
              "      <td>1</td>\n",
              "      <td>2</td>\n",
              "      <td>1</td>\n",
              "      <td>25</td>\n",
              "      <td>0</td>\n",
              "      <td>0</td>\n",
              "      <td>0</td>\n",
              "      <td>0</td>\n",
              "      <td>0</td>\n",
              "      <td>0</td>\n",
              "      <td>14447</td>\n",
              "      <td>15455</td>\n",
              "      <td>17562</td>\n",
              "      <td>17322</td>\n",
              "      <td>17119</td>\n",
              "      <td>17350</td>\n",
              "      <td>1552</td>\n",
              "      <td>2659</td>\n",
              "      <td>1419</td>\n",
              "      <td>606</td>\n",
              "      <td>500</td>\n",
              "      <td>1000</td>\n",
              "      <td>0</td>\n",
              "    </tr>\n",
              "    <tr>\n",
              "      <th>23997</th>\n",
              "      <td>23998</td>\n",
              "      <td>10000</td>\n",
              "      <td>1</td>\n",
              "      <td>2</td>\n",
              "      <td>2</td>\n",
              "      <td>26</td>\n",
              "      <td>0</td>\n",
              "      <td>0</td>\n",
              "      <td>0</td>\n",
              "      <td>0</td>\n",
              "      <td>0</td>\n",
              "      <td>0</td>\n",
              "      <td>8882</td>\n",
              "      <td>9933</td>\n",
              "      <td>9825</td>\n",
              "      <td>17506</td>\n",
              "      <td>16608</td>\n",
              "      <td>9176</td>\n",
              "      <td>1300</td>\n",
              "      <td>2200</td>\n",
              "      <td>1300</td>\n",
              "      <td>320</td>\n",
              "      <td>1820</td>\n",
              "      <td>1000</td>\n",
              "      <td>0</td>\n",
              "    </tr>\n",
              "    <tr>\n",
              "      <th>23998</th>\n",
              "      <td>23999</td>\n",
              "      <td>20000</td>\n",
              "      <td>1</td>\n",
              "      <td>5</td>\n",
              "      <td>2</td>\n",
              "      <td>26</td>\n",
              "      <td>0</td>\n",
              "      <td>0</td>\n",
              "      <td>0</td>\n",
              "      <td>0</td>\n",
              "      <td>0</td>\n",
              "      <td>-2</td>\n",
              "      <td>20564</td>\n",
              "      <td>20284</td>\n",
              "      <td>19394</td>\n",
              "      <td>39950</td>\n",
              "      <td>0</td>\n",
              "      <td>0</td>\n",
              "      <td>3055</td>\n",
              "      <td>1467</td>\n",
              "      <td>1096</td>\n",
              "      <td>1000</td>\n",
              "      <td>0</td>\n",
              "      <td>0</td>\n",
              "      <td>0</td>\n",
              "    </tr>\n",
              "    <tr>\n",
              "      <th>23999</th>\n",
              "      <td>24000</td>\n",
              "      <td>100000</td>\n",
              "      <td>1</td>\n",
              "      <td>1</td>\n",
              "      <td>2</td>\n",
              "      <td>26</td>\n",
              "      <td>0</td>\n",
              "      <td>-1</td>\n",
              "      <td>0</td>\n",
              "      <td>0</td>\n",
              "      <td>-1</td>\n",
              "      <td>0</td>\n",
              "      <td>1544</td>\n",
              "      <td>1049</td>\n",
              "      <td>2067</td>\n",
              "      <td>1944</td>\n",
              "      <td>389</td>\n",
              "      <td>1221</td>\n",
              "      <td>1100</td>\n",
              "      <td>1200</td>\n",
              "      <td>1000</td>\n",
              "      <td>500</td>\n",
              "      <td>1000</td>\n",
              "      <td>1000</td>\n",
              "      <td>1</td>\n",
              "    </tr>\n",
              "  </tbody>\n",
              "</table>\n",
              "<p>24000 rows × 25 columns</p>\n",
              "</div>"
            ],
            "text/plain": [
              "          ID  LIMIT_BAL  SEX  EDUCATION  ...  PAY_AMT4  PAY_AMT5  PAY_AMT6  default\n",
              "0          1      20000    2          2  ...         0         0         0        1\n",
              "1          2     120000    2          2  ...      1000         0      2000        1\n",
              "2          3      90000    2          2  ...      1000      1000      5000        0\n",
              "3          4      50000    2          2  ...      1100      1069      1000        0\n",
              "4          5      50000    1          2  ...      9000       689       679        0\n",
              "...      ...        ...  ...        ...  ...       ...       ...       ...      ...\n",
              "23995  23996      80000    1          2  ...      2646      2000      1830        0\n",
              "23996  23997      20000    1          2  ...       606       500      1000        0\n",
              "23997  23998      10000    1          2  ...       320      1820      1000        0\n",
              "23998  23999      20000    1          5  ...      1000         0         0        0\n",
              "23999  24000     100000    1          1  ...       500      1000      1000        1\n",
              "\n",
              "[24000 rows x 25 columns]"
            ]
          },
          "metadata": {
            "tags": []
          },
          "execution_count": 200
        }
      ]
    },
    {
      "cell_type": "code",
      "metadata": {
        "colab": {
          "base_uri": "https://localhost:8080/"
        },
        "id": "eR3HXmore957",
        "outputId": "217efbc5-be52-497e-f23d-60f7406f87aa"
      },
      "source": [
        "# check the ratio of train-test split\n",
        "print('train:', df_train.shape[0] / (df_train.shape[0] + df_test.shape[0]))\n",
        "print('test:', df_test.shape[0] / (df_train.shape[0] + df_test.shape[0]))"
      ],
      "execution_count": 201,
      "outputs": [
        {
          "output_type": "stream",
          "text": [
            "train: 0.8\n",
            "test: 0.2\n"
          ],
          "name": "stdout"
        }
      ]
    },
    {
      "cell_type": "markdown",
      "metadata": {
        "id": "s1VnMKDWhWhZ"
      },
      "source": [
        "Train-test-split is 8:2."
      ]
    },
    {
      "cell_type": "markdown",
      "metadata": {
        "id": "dYoh7IY_eOte"
      },
      "source": [
        "# **3. Data Exploration and Transformation**"
      ]
    },
    {
      "cell_type": "markdown",
      "metadata": {
        "id": "JLUOGwH7gEOQ"
      },
      "source": [
        "## **3.1 Data Exploration**"
      ]
    },
    {
      "cell_type": "code",
      "metadata": {
        "colab": {
          "base_uri": "https://localhost:8080/"
        },
        "id": "RAs8ovj-4dqm",
        "outputId": "1d98795b-1e59-4c14-ac61-bf30d0d36b6c"
      },
      "source": [
        "df_train.info()"
      ],
      "execution_count": 202,
      "outputs": [
        {
          "output_type": "stream",
          "text": [
            "<class 'pandas.core.frame.DataFrame'>\n",
            "RangeIndex: 24000 entries, 0 to 23999\n",
            "Data columns (total 25 columns):\n",
            " #   Column     Non-Null Count  Dtype\n",
            "---  ------     --------------  -----\n",
            " 0   ID         24000 non-null  int64\n",
            " 1   LIMIT_BAL  24000 non-null  int64\n",
            " 2   SEX        24000 non-null  int64\n",
            " 3   EDUCATION  24000 non-null  int64\n",
            " 4   MARRIAGE   24000 non-null  int64\n",
            " 5   AGE        24000 non-null  int64\n",
            " 6   PAY_1      24000 non-null  int64\n",
            " 7   PAY_2      24000 non-null  int64\n",
            " 8   PAY_3      24000 non-null  int64\n",
            " 9   PAY_4      24000 non-null  int64\n",
            " 10  PAY_5      24000 non-null  int64\n",
            " 11  PAY_6      24000 non-null  int64\n",
            " 12  BILL_AMT1  24000 non-null  int64\n",
            " 13  BILL_AMT2  24000 non-null  int64\n",
            " 14  BILL_AMT3  24000 non-null  int64\n",
            " 15  BILL_AMT4  24000 non-null  int64\n",
            " 16  BILL_AMT5  24000 non-null  int64\n",
            " 17  BILL_AMT6  24000 non-null  int64\n",
            " 18  PAY_AMT1   24000 non-null  int64\n",
            " 19  PAY_AMT2   24000 non-null  int64\n",
            " 20  PAY_AMT3   24000 non-null  int64\n",
            " 21  PAY_AMT4   24000 non-null  int64\n",
            " 22  PAY_AMT5   24000 non-null  int64\n",
            " 23  PAY_AMT6   24000 non-null  int64\n",
            " 24  default    24000 non-null  int64\n",
            "dtypes: int64(25)\n",
            "memory usage: 4.6 MB\n"
          ],
          "name": "stdout"
        }
      ]
    },
    {
      "cell_type": "markdown",
      "metadata": {
        "id": "2YiTPI-l4g5j"
      },
      "source": [
        "No Missing Values. All variables have numerical values (int64)."
      ]
    },
    {
      "cell_type": "code",
      "metadata": {
        "id": "WUmv5-uM4d5A"
      },
      "source": [
        ""
      ],
      "execution_count": 202,
      "outputs": []
    },
    {
      "cell_type": "markdown",
      "metadata": {
        "id": "Pzzzgv1l4pcy"
      },
      "source": [
        "Check undocumented labels"
      ]
    },
    {
      "cell_type": "code",
      "metadata": {
        "colab": {
          "base_uri": "https://localhost:8080/"
        },
        "id": "uPZ_g5nH4riz",
        "outputId": "8309c81d-c96c-44a8-c74b-aa060ad4844d"
      },
      "source": [
        "# check the values of categorical variable in training set are well-documented\n",
        "print('SEX:', sorted(df_train['SEX'].unique()))\n",
        "print('EDUCATION:', sorted(df_train['EDUCATION'].unique()))\n",
        "print('MARRIAGE:', sorted(df_train['MARRIAGE'].unique()))\n",
        "print('PAY_1:', sorted(df_train['PAY_1'].unique()))\n",
        "print('PAY_2:', sorted(df_train['PAY_2'].unique()))\n",
        "print('PAY_3:', sorted(df_train['PAY_3'].unique()))\n",
        "print('PAY_4:', sorted(df_train['PAY_4'].unique()))\n",
        "print('PAY_5:', sorted(df_train['PAY_5'].unique()))\n",
        "print('PAY_6:', sorted(df_train['PAY_6'].unique()))\n",
        "print('default:', sorted(df_train['default'].unique()))"
      ],
      "execution_count": 203,
      "outputs": [
        {
          "output_type": "stream",
          "text": [
            "SEX: [1, 2]\n",
            "EDUCATION: [0, 1, 2, 3, 4, 5, 6]\n",
            "MARRIAGE: [0, 1, 2, 3]\n",
            "PAY_1: [-2, -1, 0, 1, 2, 3, 4, 5, 6, 7, 8]\n",
            "PAY_2: [-2, -1, 0, 1, 2, 3, 4, 5, 6, 7, 8]\n",
            "PAY_3: [-2, -1, 0, 1, 2, 3, 4, 5, 6, 7, 8]\n",
            "PAY_4: [-2, -1, 0, 1, 2, 3, 4, 5, 6, 7, 8]\n",
            "PAY_5: [-2, -1, 0, 2, 3, 4, 5, 6, 7, 8]\n",
            "PAY_6: [-2, -1, 0, 2, 3, 4, 5, 6, 7, 8]\n",
            "default: [0, 1]\n"
          ],
          "name": "stdout"
        }
      ]
    },
    {
      "cell_type": "markdown",
      "metadata": {
        "id": "WTikdofQ4vPX"
      },
      "source": [
        "Undocumented categories existed in both training and testing set:\n",
        "\n",
        "EDUCATION: 0, 5, 6  \n",
        "MARRIAGE: 0  \n",
        "PAY_1 to PAY_6: -2, 0"
      ]
    },
    {
      "cell_type": "markdown",
      "metadata": {
        "id": "wkPiXdvc431U"
      },
      "source": [
        "Count the number of rows for each undocumented label¶\n"
      ]
    },
    {
      "cell_type": "code",
      "metadata": {
        "colab": {
          "base_uri": "https://localhost:8080/",
          "height": 235
        },
        "id": "Rl9Keiop40HW",
        "outputId": "c8b86b46-0409-4552-d526-971fd4643772"
      },
      "source": [
        "# create a DataFrame to hold the results\n",
        "undocumented_labels = ['EDUCATION == 0','EDUCATION == 5','EDUCATION == 6','MARRIAGE == 0','PAY_n == -2', 'PAY_n == 0']\n",
        "counts = pd.DataFrame(index=undocumented_labels, columns=['Training'])\n",
        "counts"
      ],
      "execution_count": 204,
      "outputs": [
        {
          "output_type": "execute_result",
          "data": {
            "text/html": [
              "<div>\n",
              "<style scoped>\n",
              "    .dataframe tbody tr th:only-of-type {\n",
              "        vertical-align: middle;\n",
              "    }\n",
              "\n",
              "    .dataframe tbody tr th {\n",
              "        vertical-align: top;\n",
              "    }\n",
              "\n",
              "    .dataframe thead th {\n",
              "        text-align: right;\n",
              "    }\n",
              "</style>\n",
              "<table border=\"1\" class=\"dataframe\">\n",
              "  <thead>\n",
              "    <tr style=\"text-align: right;\">\n",
              "      <th></th>\n",
              "      <th>Training</th>\n",
              "    </tr>\n",
              "  </thead>\n",
              "  <tbody>\n",
              "    <tr>\n",
              "      <th>EDUCATION == 0</th>\n",
              "      <td>NaN</td>\n",
              "    </tr>\n",
              "    <tr>\n",
              "      <th>EDUCATION == 5</th>\n",
              "      <td>NaN</td>\n",
              "    </tr>\n",
              "    <tr>\n",
              "      <th>EDUCATION == 6</th>\n",
              "      <td>NaN</td>\n",
              "    </tr>\n",
              "    <tr>\n",
              "      <th>MARRIAGE == 0</th>\n",
              "      <td>NaN</td>\n",
              "    </tr>\n",
              "    <tr>\n",
              "      <th>PAY_n == -2</th>\n",
              "      <td>NaN</td>\n",
              "    </tr>\n",
              "    <tr>\n",
              "      <th>PAY_n == 0</th>\n",
              "      <td>NaN</td>\n",
              "    </tr>\n",
              "  </tbody>\n",
              "</table>\n",
              "</div>"
            ],
            "text/plain": [
              "               Training\n",
              "EDUCATION == 0      NaN\n",
              "EDUCATION == 5      NaN\n",
              "EDUCATION == 6      NaN\n",
              "MARRIAGE == 0       NaN\n",
              "PAY_n == -2         NaN\n",
              "PAY_n == 0          NaN"
            ]
          },
          "metadata": {
            "tags": []
          },
          "execution_count": 204
        }
      ]
    },
    {
      "cell_type": "code",
      "metadata": {
        "colab": {
          "base_uri": "https://localhost:8080/",
          "height": 235
        },
        "id": "-Asrcc9840Jo",
        "outputId": "5ef34638-e3ee-43f7-edcb-1794d532e48d"
      },
      "source": [
        "# EDUCATION, training set\n",
        "counts.loc['EDUCATION == 0', 'Training'] = df_train[df_train['EDUCATION'] == 0].shape[0]\n",
        "counts.loc['EDUCATION == 5', 'Training'] = df_train[df_train['EDUCATION'] == 5].shape[0]\n",
        "counts.loc['EDUCATION == 6', 'Training'] = df_train[df_train['EDUCATION'] == 6].shape[0]\n",
        "\n",
        "# MARRIAGE, training set\n",
        "counts.loc['MARRIAGE == 0', 'Training'] = df_train[df_train['MARRIAGE'] == 0].shape[0]\n",
        "\n",
        "# PAY_1 to PAY_6, training set\n",
        "counts.loc['PAY_n == -2', 'Training'] = df_train[(df_train['PAY_1'] == -2) | (df_train['PAY_2'] == -2) | \n",
        "                                                 (df_train['PAY_3'] == -2) | (df_train['PAY_4'] == -2) | \n",
        "                                                 (df_train['PAY_5'] == -2) | (df_train['PAY_6'] == -2)].shape[0]\n",
        "counts.loc['PAY_n == 0', 'Training'] = df_train[(df_train['PAY_1'] == 0) | (df_train['PAY_2'] == 0) | \n",
        "                                                (df_train['PAY_3'] == 0) | (df_train['PAY_4'] == 0) | \n",
        "                                                (df_train['PAY_5'] == 0) | (df_train['PAY_6'] == 0)].shape[0]\n",
        "\n",
        "counts"
      ],
      "execution_count": 205,
      "outputs": [
        {
          "output_type": "execute_result",
          "data": {
            "text/html": [
              "<div>\n",
              "<style scoped>\n",
              "    .dataframe tbody tr th:only-of-type {\n",
              "        vertical-align: middle;\n",
              "    }\n",
              "\n",
              "    .dataframe tbody tr th {\n",
              "        vertical-align: top;\n",
              "    }\n",
              "\n",
              "    .dataframe thead th {\n",
              "        text-align: right;\n",
              "    }\n",
              "</style>\n",
              "<table border=\"1\" class=\"dataframe\">\n",
              "  <thead>\n",
              "    <tr style=\"text-align: right;\">\n",
              "      <th></th>\n",
              "      <th>Training</th>\n",
              "    </tr>\n",
              "  </thead>\n",
              "  <tbody>\n",
              "    <tr>\n",
              "      <th>EDUCATION == 0</th>\n",
              "      <td>11</td>\n",
              "    </tr>\n",
              "    <tr>\n",
              "      <th>EDUCATION == 5</th>\n",
              "      <td>207</td>\n",
              "    </tr>\n",
              "    <tr>\n",
              "      <th>EDUCATION == 6</th>\n",
              "      <td>37</td>\n",
              "    </tr>\n",
              "    <tr>\n",
              "      <th>MARRIAGE == 0</th>\n",
              "      <td>41</td>\n",
              "    </tr>\n",
              "    <tr>\n",
              "      <th>PAY_n == -2</th>\n",
              "      <td>5185</td>\n",
              "    </tr>\n",
              "    <tr>\n",
              "      <th>PAY_n == 0</th>\n",
              "      <td>16929</td>\n",
              "    </tr>\n",
              "  </tbody>\n",
              "</table>\n",
              "</div>"
            ],
            "text/plain": [
              "               Training\n",
              "EDUCATION == 0       11\n",
              "EDUCATION == 5      207\n",
              "EDUCATION == 6       37\n",
              "MARRIAGE == 0        41\n",
              "PAY_n == -2        5185\n",
              "PAY_n == 0        16929"
            ]
          },
          "metadata": {
            "tags": []
          },
          "execution_count": 205
        }
      ]
    },
    {
      "cell_type": "markdown",
      "metadata": {
        "id": "1DRKmQf35IOZ"
      },
      "source": [
        "Solution: (Will be dealt in Data Transformation Phase)\n",
        "\n",
        "EDUCATION: categorise 0, 5, 6 as 4 (others)  \n",
        "others may refer to education level either higher than graduate school or lower than high school.  \n",
        "MARRIAGE: categorise 0 as 3 (others)  \n",
        "PAY_1 to PAY_6: keep -2 and categorise 0 as -1 (pay duly)"
      ]
    },
    {
      "cell_type": "markdown",
      "metadata": {
        "id": "c7xS3tc-5WHK"
      },
      "source": [
        "Check outliers in numerical variables"
      ]
    },
    {
      "cell_type": "code",
      "metadata": {
        "colab": {
          "base_uri": "https://localhost:8080/",
          "height": 297
        },
        "id": "mNi_LJKE40LJ",
        "outputId": "160a35ce-1502-4518-a9bd-cb56e4c866f6"
      },
      "source": [
        "# bill statement description\n",
        "df_train[['BILL_AMT1', 'BILL_AMT2', 'BILL_AMT3', 'BILL_AMT4', 'BILL_AMT5', 'BILL_AMT6']].describe()\n",
        "# alternative demo: histogram"
      ],
      "execution_count": 206,
      "outputs": [
        {
          "output_type": "execute_result",
          "data": {
            "text/html": [
              "<div>\n",
              "<style scoped>\n",
              "    .dataframe tbody tr th:only-of-type {\n",
              "        vertical-align: middle;\n",
              "    }\n",
              "\n",
              "    .dataframe tbody tr th {\n",
              "        vertical-align: top;\n",
              "    }\n",
              "\n",
              "    .dataframe thead th {\n",
              "        text-align: right;\n",
              "    }\n",
              "</style>\n",
              "<table border=\"1\" class=\"dataframe\">\n",
              "  <thead>\n",
              "    <tr style=\"text-align: right;\">\n",
              "      <th></th>\n",
              "      <th>BILL_AMT1</th>\n",
              "      <th>BILL_AMT2</th>\n",
              "      <th>BILL_AMT3</th>\n",
              "      <th>BILL_AMT4</th>\n",
              "      <th>BILL_AMT5</th>\n",
              "      <th>BILL_AMT6</th>\n",
              "    </tr>\n",
              "  </thead>\n",
              "  <tbody>\n",
              "    <tr>\n",
              "      <th>count</th>\n",
              "      <td>24000.000000</td>\n",
              "      <td>24000.000000</td>\n",
              "      <td>2.400000e+04</td>\n",
              "      <td>24000.000000</td>\n",
              "      <td>24000.000000</td>\n",
              "      <td>24000.000000</td>\n",
              "    </tr>\n",
              "    <tr>\n",
              "      <th>mean</th>\n",
              "      <td>50596.884708</td>\n",
              "      <td>48646.064125</td>\n",
              "      <td>4.636706e+04</td>\n",
              "      <td>42368.188417</td>\n",
              "      <td>40000.682542</td>\n",
              "      <td>38563.710625</td>\n",
              "    </tr>\n",
              "    <tr>\n",
              "      <th>std</th>\n",
              "      <td>72649.374256</td>\n",
              "      <td>70364.600436</td>\n",
              "      <td>6.819390e+04</td>\n",
              "      <td>63070.680934</td>\n",
              "      <td>60345.012766</td>\n",
              "      <td>59155.759799</td>\n",
              "    </tr>\n",
              "    <tr>\n",
              "      <th>min</th>\n",
              "      <td>-165580.000000</td>\n",
              "      <td>-69777.000000</td>\n",
              "      <td>-1.572640e+05</td>\n",
              "      <td>-170000.000000</td>\n",
              "      <td>-81334.000000</td>\n",
              "      <td>-339603.000000</td>\n",
              "    </tr>\n",
              "    <tr>\n",
              "      <th>25%</th>\n",
              "      <td>3631.500000</td>\n",
              "      <td>3098.500000</td>\n",
              "      <td>2.773500e+03</td>\n",
              "      <td>2340.000000</td>\n",
              "      <td>1740.000000</td>\n",
              "      <td>1234.750000</td>\n",
              "    </tr>\n",
              "    <tr>\n",
              "      <th>50%</th>\n",
              "      <td>22330.000000</td>\n",
              "      <td>21339.000000</td>\n",
              "      <td>2.003900e+04</td>\n",
              "      <td>18940.500000</td>\n",
              "      <td>18107.500000</td>\n",
              "      <td>17036.000000</td>\n",
              "    </tr>\n",
              "    <tr>\n",
              "      <th>75%</th>\n",
              "      <td>65779.500000</td>\n",
              "      <td>62761.250000</td>\n",
              "      <td>5.929800e+04</td>\n",
              "      <td>52188.500000</td>\n",
              "      <td>49746.500000</td>\n",
              "      <td>48796.250000</td>\n",
              "    </tr>\n",
              "    <tr>\n",
              "      <th>max</th>\n",
              "      <td>964511.000000</td>\n",
              "      <td>983931.000000</td>\n",
              "      <td>1.664089e+06</td>\n",
              "      <td>891586.000000</td>\n",
              "      <td>927171.000000</td>\n",
              "      <td>961664.000000</td>\n",
              "    </tr>\n",
              "  </tbody>\n",
              "</table>\n",
              "</div>"
            ],
            "text/plain": [
              "           BILL_AMT1      BILL_AMT2  ...      BILL_AMT5      BILL_AMT6\n",
              "count   24000.000000   24000.000000  ...   24000.000000   24000.000000\n",
              "mean    50596.884708   48646.064125  ...   40000.682542   38563.710625\n",
              "std     72649.374256   70364.600436  ...   60345.012766   59155.759799\n",
              "min   -165580.000000  -69777.000000  ...  -81334.000000 -339603.000000\n",
              "25%      3631.500000    3098.500000  ...    1740.000000    1234.750000\n",
              "50%     22330.000000   21339.000000  ...   18107.500000   17036.000000\n",
              "75%     65779.500000   62761.250000  ...   49746.500000   48796.250000\n",
              "max    964511.000000  983931.000000  ...  927171.000000  961664.000000\n",
              "\n",
              "[8 rows x 6 columns]"
            ]
          },
          "metadata": {
            "tags": []
          },
          "execution_count": 206
        }
      ]
    },
    {
      "cell_type": "code",
      "metadata": {
        "colab": {
          "base_uri": "https://localhost:8080/"
        },
        "id": "azWfICJR5U2_",
        "outputId": "c5d9813c-e863-40ff-80ca-a9131fb8a673"
      },
      "source": [
        "print('Negative BILL_AMT in training set:', df_train[(df_train['BILL_AMT1'] < 0) | (df_train['BILL_AMT2'] < 0) |\n",
        "                                                     (df_train['BILL_AMT3'] < 0) | (df_train['BILL_AMT4'] < 0) |\n",
        "                                                     (df_train['BILL_AMT5'] < 0) | (df_train['BILL_AMT6'] < 0)].shape[0])"
      ],
      "execution_count": 207,
      "outputs": [
        {
          "output_type": "stream",
          "text": [
            "Negative BILL_AMT in training set: 1496\n"
          ],
          "name": "stdout"
        }
      ]
    },
    {
      "cell_type": "markdown",
      "metadata": {
        "id": "E1Pzs6VN5l2v"
      },
      "source": [
        "There are negative values for bill statement in both training set (1496 rows)\n",
        "We are not going to convert negatives to zero"
      ]
    },
    {
      "cell_type": "markdown",
      "metadata": {
        "id": "5-EoG3a95oee"
      },
      "source": [
        "2. Check extremely large or small values"
      ]
    },
    {
      "cell_type": "code",
      "metadata": {
        "colab": {
          "base_uri": "https://localhost:8080/",
          "height": 297
        },
        "id": "dXhkmORh40Mr",
        "outputId": "3d0df2c9-e09f-4937-867e-ecb3163272a7"
      },
      "source": [
        "# given credit description\n",
        "df_train[['LIMIT_BAL']].describe()"
      ],
      "execution_count": 208,
      "outputs": [
        {
          "output_type": "execute_result",
          "data": {
            "text/html": [
              "<div>\n",
              "<style scoped>\n",
              "    .dataframe tbody tr th:only-of-type {\n",
              "        vertical-align: middle;\n",
              "    }\n",
              "\n",
              "    .dataframe tbody tr th {\n",
              "        vertical-align: top;\n",
              "    }\n",
              "\n",
              "    .dataframe thead th {\n",
              "        text-align: right;\n",
              "    }\n",
              "</style>\n",
              "<table border=\"1\" class=\"dataframe\">\n",
              "  <thead>\n",
              "    <tr style=\"text-align: right;\">\n",
              "      <th></th>\n",
              "      <th>LIMIT_BAL</th>\n",
              "    </tr>\n",
              "  </thead>\n",
              "  <tbody>\n",
              "    <tr>\n",
              "      <th>count</th>\n",
              "      <td>24000.000000</td>\n",
              "    </tr>\n",
              "    <tr>\n",
              "      <th>mean</th>\n",
              "      <td>165495.986667</td>\n",
              "    </tr>\n",
              "    <tr>\n",
              "      <th>std</th>\n",
              "      <td>129128.744855</td>\n",
              "    </tr>\n",
              "    <tr>\n",
              "      <th>min</th>\n",
              "      <td>10000.000000</td>\n",
              "    </tr>\n",
              "    <tr>\n",
              "      <th>25%</th>\n",
              "      <td>50000.000000</td>\n",
              "    </tr>\n",
              "    <tr>\n",
              "      <th>50%</th>\n",
              "      <td>140000.000000</td>\n",
              "    </tr>\n",
              "    <tr>\n",
              "      <th>75%</th>\n",
              "      <td>240000.000000</td>\n",
              "    </tr>\n",
              "    <tr>\n",
              "      <th>max</th>\n",
              "      <td>1000000.000000</td>\n",
              "    </tr>\n",
              "  </tbody>\n",
              "</table>\n",
              "</div>"
            ],
            "text/plain": [
              "            LIMIT_BAL\n",
              "count    24000.000000\n",
              "mean    165495.986667\n",
              "std     129128.744855\n",
              "min      10000.000000\n",
              "25%      50000.000000\n",
              "50%     140000.000000\n",
              "75%     240000.000000\n",
              "max    1000000.000000"
            ]
          },
          "metadata": {
            "tags": []
          },
          "execution_count": 208
        }
      ]
    },
    {
      "cell_type": "code",
      "metadata": {
        "colab": {
          "base_uri": "https://localhost:8080/",
          "height": 297
        },
        "id": "A_FO8Y885v3H",
        "outputId": "e0813da0-1da4-49fd-b154-8ea8b6f1e269"
      },
      "source": [
        "# previous payment description\n",
        "df_train[['PAY_AMT1', 'PAY_AMT2', 'PAY_AMT3', 'PAY_AMT4', 'PAY_AMT5', 'PAY_AMT6']].describe()\\\n",
        "                                        .apply(lambda s: s.apply(lambda x: format(x, 'f'))) # suppress scientific notation\n",
        "# alternative demo: histogram"
      ],
      "execution_count": 209,
      "outputs": [
        {
          "output_type": "execute_result",
          "data": {
            "text/html": [
              "<div>\n",
              "<style scoped>\n",
              "    .dataframe tbody tr th:only-of-type {\n",
              "        vertical-align: middle;\n",
              "    }\n",
              "\n",
              "    .dataframe tbody tr th {\n",
              "        vertical-align: top;\n",
              "    }\n",
              "\n",
              "    .dataframe thead th {\n",
              "        text-align: right;\n",
              "    }\n",
              "</style>\n",
              "<table border=\"1\" class=\"dataframe\">\n",
              "  <thead>\n",
              "    <tr style=\"text-align: right;\">\n",
              "      <th></th>\n",
              "      <th>PAY_AMT1</th>\n",
              "      <th>PAY_AMT2</th>\n",
              "      <th>PAY_AMT3</th>\n",
              "      <th>PAY_AMT4</th>\n",
              "      <th>PAY_AMT5</th>\n",
              "      <th>PAY_AMT6</th>\n",
              "    </tr>\n",
              "  </thead>\n",
              "  <tbody>\n",
              "    <tr>\n",
              "      <th>count</th>\n",
              "      <td>24000.000000</td>\n",
              "      <td>24000.000000</td>\n",
              "      <td>24000.000000</td>\n",
              "      <td>24000.000000</td>\n",
              "      <td>24000.000000</td>\n",
              "      <td>24000.000000</td>\n",
              "    </tr>\n",
              "    <tr>\n",
              "      <th>mean</th>\n",
              "      <td>5542.912917</td>\n",
              "      <td>5815.336208</td>\n",
              "      <td>4969.266000</td>\n",
              "      <td>4743.480042</td>\n",
              "      <td>4783.486042</td>\n",
              "      <td>5189.399042</td>\n",
              "    </tr>\n",
              "    <tr>\n",
              "      <th>std</th>\n",
              "      <td>15068.576072</td>\n",
              "      <td>20797.031923</td>\n",
              "      <td>16095.614340</td>\n",
              "      <td>14883.269990</td>\n",
              "      <td>15270.405279</td>\n",
              "      <td>17630.371990</td>\n",
              "    </tr>\n",
              "    <tr>\n",
              "      <th>min</th>\n",
              "      <td>0.000000</td>\n",
              "      <td>0.000000</td>\n",
              "      <td>0.000000</td>\n",
              "      <td>0.000000</td>\n",
              "      <td>0.000000</td>\n",
              "      <td>0.000000</td>\n",
              "    </tr>\n",
              "    <tr>\n",
              "      <th>25%</th>\n",
              "      <td>1000.000000</td>\n",
              "      <td>800.000000</td>\n",
              "      <td>379.000000</td>\n",
              "      <td>279.750000</td>\n",
              "      <td>244.000000</td>\n",
              "      <td>60.750000</td>\n",
              "    </tr>\n",
              "    <tr>\n",
              "      <th>50%</th>\n",
              "      <td>2100.000000</td>\n",
              "      <td>2000.000000</td>\n",
              "      <td>1702.500000</td>\n",
              "      <td>1500.000000</td>\n",
              "      <td>1500.000000</td>\n",
              "      <td>1500.000000</td>\n",
              "    </tr>\n",
              "    <tr>\n",
              "      <th>75%</th>\n",
              "      <td>5000.000000</td>\n",
              "      <td>5000.000000</td>\n",
              "      <td>4347.250000</td>\n",
              "      <td>4000.000000</td>\n",
              "      <td>4005.000000</td>\n",
              "      <td>4000.000000</td>\n",
              "    </tr>\n",
              "    <tr>\n",
              "      <th>max</th>\n",
              "      <td>505000.000000</td>\n",
              "      <td>1684259.000000</td>\n",
              "      <td>896040.000000</td>\n",
              "      <td>497000.000000</td>\n",
              "      <td>417990.000000</td>\n",
              "      <td>528666.000000</td>\n",
              "    </tr>\n",
              "  </tbody>\n",
              "</table>\n",
              "</div>"
            ],
            "text/plain": [
              "            PAY_AMT1        PAY_AMT2  ...       PAY_AMT5       PAY_AMT6\n",
              "count   24000.000000    24000.000000  ...   24000.000000   24000.000000\n",
              "mean     5542.912917     5815.336208  ...    4783.486042    5189.399042\n",
              "std     15068.576072    20797.031923  ...   15270.405279   17630.371990\n",
              "min         0.000000        0.000000  ...       0.000000       0.000000\n",
              "25%      1000.000000      800.000000  ...     244.000000      60.750000\n",
              "50%      2100.000000     2000.000000  ...    1500.000000    1500.000000\n",
              "75%      5000.000000     5000.000000  ...    4005.000000    4000.000000\n",
              "max    505000.000000  1684259.000000  ...  417990.000000  528666.000000\n",
              "\n",
              "[8 rows x 6 columns]"
            ]
          },
          "metadata": {
            "tags": []
          },
          "execution_count": 209
        }
      ]
    },
    {
      "cell_type": "markdown",
      "metadata": {
        "id": "VxUEmugx5y6W"
      },
      "source": [
        "LIMIT_BAL, BILL_AMT and PAY_AMT all have a very broad range. Need to check if these are outliers.\n",
        "Method: Check if the amount of previous payment (PAY_AMT) & bill statement (BILL_AMT) lie within the 'sensible' range of given credit (LIMIT_BAL). Choose LIMIT_BAL values below 5th percentile or above 95th percentile."
      ]
    },
    {
      "cell_type": "code",
      "metadata": {
        "colab": {
          "base_uri": "https://localhost:8080/",
          "height": 452
        },
        "id": "Gx4LdxM753R_",
        "outputId": "5e3c1774-2943-409c-d10e-9367639ab066"
      },
      "source": [
        "# investigate the percentiles for LIMIT_BAL, PAY_AMT and BILL_AMT\n",
        "percentiles = []\n",
        "variables = ['LIMIT_BAL', 'PAY_AMT1', 'PAY_AMT2', 'PAY_AMT3', 'PAY_AMT4', 'PAY_AMT5', 'PAY_AMT6', \n",
        "             'BILL_AMT1', 'BILL_AMT2', 'BILL_AMT3', 'BILL_AMT4', 'BILL_AMT5', 'BILL_AMT6']\n",
        "\n",
        "for var in variables:\n",
        "    percentiles.append(list(np.percentile(df_train[var], i) for i in range(5,100,10)))\n",
        "\n",
        "pd.DataFrame(data=percentiles, index=variables, columns=['5th','15th','25th','35th','45th','55th','65th','75th','85th','95th'])"
      ],
      "execution_count": 210,
      "outputs": [
        {
          "output_type": "execute_result",
          "data": {
            "text/html": [
              "<div>\n",
              "<style scoped>\n",
              "    .dataframe tbody tr th:only-of-type {\n",
              "        vertical-align: middle;\n",
              "    }\n",
              "\n",
              "    .dataframe tbody tr th {\n",
              "        vertical-align: top;\n",
              "    }\n",
              "\n",
              "    .dataframe thead th {\n",
              "        text-align: right;\n",
              "    }\n",
              "</style>\n",
              "<table border=\"1\" class=\"dataframe\">\n",
              "  <thead>\n",
              "    <tr style=\"text-align: right;\">\n",
              "      <th></th>\n",
              "      <th>5th</th>\n",
              "      <th>15th</th>\n",
              "      <th>25th</th>\n",
              "      <th>35th</th>\n",
              "      <th>45th</th>\n",
              "      <th>55th</th>\n",
              "      <th>65th</th>\n",
              "      <th>75th</th>\n",
              "      <th>85th</th>\n",
              "      <th>95th</th>\n",
              "    </tr>\n",
              "  </thead>\n",
              "  <tbody>\n",
              "    <tr>\n",
              "      <th>LIMIT_BAL</th>\n",
              "      <td>20000.0</td>\n",
              "      <td>50000.00</td>\n",
              "      <td>50000.00</td>\n",
              "      <td>80000.00</td>\n",
              "      <td>120000.00</td>\n",
              "      <td>150000.00</td>\n",
              "      <td>200000.00</td>\n",
              "      <td>240000.00</td>\n",
              "      <td>300000.00</td>\n",
              "      <td>430000.00</td>\n",
              "    </tr>\n",
              "    <tr>\n",
              "      <th>PAY_AMT1</th>\n",
              "      <td>0.0</td>\n",
              "      <td>0.00</td>\n",
              "      <td>1000.00</td>\n",
              "      <td>1500.00</td>\n",
              "      <td>2000.00</td>\n",
              "      <td>2550.00</td>\n",
              "      <td>3510.40</td>\n",
              "      <td>5000.00</td>\n",
              "      <td>8000.00</td>\n",
              "      <td>18243.85</td>\n",
              "    </tr>\n",
              "    <tr>\n",
              "      <th>PAY_AMT2</th>\n",
              "      <td>0.0</td>\n",
              "      <td>0.00</td>\n",
              "      <td>800.00</td>\n",
              "      <td>1379.00</td>\n",
              "      <td>1885.55</td>\n",
              "      <td>2390.90</td>\n",
              "      <td>3300.00</td>\n",
              "      <td>5000.00</td>\n",
              "      <td>7784.15</td>\n",
              "      <td>19000.15</td>\n",
              "    </tr>\n",
              "    <tr>\n",
              "      <th>PAY_AMT3</th>\n",
              "      <td>0.0</td>\n",
              "      <td>0.00</td>\n",
              "      <td>379.00</td>\n",
              "      <td>1000.00</td>\n",
              "      <td>1424.10</td>\n",
              "      <td>2000.00</td>\n",
              "      <td>3000.00</td>\n",
              "      <td>4347.25</td>\n",
              "      <td>6800.00</td>\n",
              "      <td>16513.55</td>\n",
              "    </tr>\n",
              "    <tr>\n",
              "      <th>PAY_AMT4</th>\n",
              "      <td>0.0</td>\n",
              "      <td>0.00</td>\n",
              "      <td>279.75</td>\n",
              "      <td>764.65</td>\n",
              "      <td>1100.00</td>\n",
              "      <td>1920.00</td>\n",
              "      <td>2728.35</td>\n",
              "      <td>4000.00</td>\n",
              "      <td>6200.00</td>\n",
              "      <td>16000.00</td>\n",
              "    </tr>\n",
              "    <tr>\n",
              "      <th>PAY_AMT5</th>\n",
              "      <td>0.0</td>\n",
              "      <td>0.00</td>\n",
              "      <td>244.00</td>\n",
              "      <td>780.00</td>\n",
              "      <td>1170.00</td>\n",
              "      <td>2000.00</td>\n",
              "      <td>2832.70</td>\n",
              "      <td>4005.00</td>\n",
              "      <td>6251.15</td>\n",
              "      <td>15963.75</td>\n",
              "    </tr>\n",
              "    <tr>\n",
              "      <th>PAY_AMT6</th>\n",
              "      <td>0.0</td>\n",
              "      <td>0.00</td>\n",
              "      <td>60.75</td>\n",
              "      <td>690.00</td>\n",
              "      <td>1065.00</td>\n",
              "      <td>1911.90</td>\n",
              "      <td>2711.00</td>\n",
              "      <td>4000.00</td>\n",
              "      <td>6100.00</td>\n",
              "      <td>17398.10</td>\n",
              "    </tr>\n",
              "    <tr>\n",
              "      <th>BILL_AMT1</th>\n",
              "      <td>0.0</td>\n",
              "      <td>815.00</td>\n",
              "      <td>3631.50</td>\n",
              "      <td>9245.90</td>\n",
              "      <td>17706.20</td>\n",
              "      <td>28347.00</td>\n",
              "      <td>46009.85</td>\n",
              "      <td>65779.50</td>\n",
              "      <td>105939.05</td>\n",
              "      <td>197600.00</td>\n",
              "    </tr>\n",
              "    <tr>\n",
              "      <th>BILL_AMT2</th>\n",
              "      <td>0.0</td>\n",
              "      <td>495.00</td>\n",
              "      <td>3098.50</td>\n",
              "      <td>8760.30</td>\n",
              "      <td>17385.00</td>\n",
              "      <td>27619.45</td>\n",
              "      <td>43981.00</td>\n",
              "      <td>62761.25</td>\n",
              "      <td>101462.40</td>\n",
              "      <td>191542.10</td>\n",
              "    </tr>\n",
              "    <tr>\n",
              "      <th>BILL_AMT3</th>\n",
              "      <td>0.0</td>\n",
              "      <td>390.00</td>\n",
              "      <td>2773.50</td>\n",
              "      <td>8600.55</td>\n",
              "      <td>16985.55</td>\n",
              "      <td>26011.90</td>\n",
              "      <td>40181.05</td>\n",
              "      <td>59298.00</td>\n",
              "      <td>97224.80</td>\n",
              "      <td>184792.90</td>\n",
              "    </tr>\n",
              "    <tr>\n",
              "      <th>BILL_AMT4</th>\n",
              "      <td>0.0</td>\n",
              "      <td>370.85</td>\n",
              "      <td>2340.00</td>\n",
              "      <td>7851.95</td>\n",
              "      <td>15528.55</td>\n",
              "      <td>22497.40</td>\n",
              "      <td>33408.05</td>\n",
              "      <td>52188.50</td>\n",
              "      <td>89414.40</td>\n",
              "      <td>171381.90</td>\n",
              "    </tr>\n",
              "    <tr>\n",
              "      <th>BILL_AMT5</th>\n",
              "      <td>0.0</td>\n",
              "      <td>225.00</td>\n",
              "      <td>1740.00</td>\n",
              "      <td>6805.65</td>\n",
              "      <td>14111.55</td>\n",
              "      <td>20328.45</td>\n",
              "      <td>30177.00</td>\n",
              "      <td>49746.50</td>\n",
              "      <td>84116.30</td>\n",
              "      <td>164724.15</td>\n",
              "    </tr>\n",
              "    <tr>\n",
              "      <th>BILL_AMT6</th>\n",
              "      <td>0.0</td>\n",
              "      <td>0.00</td>\n",
              "      <td>1234.75</td>\n",
              "      <td>5369.65</td>\n",
              "      <td>12266.40</td>\n",
              "      <td>19826.00</td>\n",
              "      <td>29736.40</td>\n",
              "      <td>48796.25</td>\n",
              "      <td>81631.80</td>\n",
              "      <td>160588.60</td>\n",
              "    </tr>\n",
              "  </tbody>\n",
              "</table>\n",
              "</div>"
            ],
            "text/plain": [
              "               5th      15th      25th  ...       75th       85th       95th\n",
              "LIMIT_BAL  20000.0  50000.00  50000.00  ...  240000.00  300000.00  430000.00\n",
              "PAY_AMT1       0.0      0.00   1000.00  ...    5000.00    8000.00   18243.85\n",
              "PAY_AMT2       0.0      0.00    800.00  ...    5000.00    7784.15   19000.15\n",
              "PAY_AMT3       0.0      0.00    379.00  ...    4347.25    6800.00   16513.55\n",
              "PAY_AMT4       0.0      0.00    279.75  ...    4000.00    6200.00   16000.00\n",
              "PAY_AMT5       0.0      0.00    244.00  ...    4005.00    6251.15   15963.75\n",
              "PAY_AMT6       0.0      0.00     60.75  ...    4000.00    6100.00   17398.10\n",
              "BILL_AMT1      0.0    815.00   3631.50  ...   65779.50  105939.05  197600.00\n",
              "BILL_AMT2      0.0    495.00   3098.50  ...   62761.25  101462.40  191542.10\n",
              "BILL_AMT3      0.0    390.00   2773.50  ...   59298.00   97224.80  184792.90\n",
              "BILL_AMT4      0.0    370.85   2340.00  ...   52188.50   89414.40  171381.90\n",
              "BILL_AMT5      0.0    225.00   1740.00  ...   49746.50   84116.30  164724.15\n",
              "BILL_AMT6      0.0      0.00   1234.75  ...   48796.25   81631.80  160588.60\n",
              "\n",
              "[13 rows x 10 columns]"
            ]
          },
          "metadata": {
            "tags": []
          },
          "execution_count": 210
        }
      ]
    },
    {
      "cell_type": "code",
      "metadata": {
        "colab": {
          "base_uri": "https://localhost:8080/",
          "height": 241
        },
        "id": "vHd9F_Va565a",
        "outputId": "efce292b-cfa1-431f-e53b-946767ca1af4"
      },
      "source": [
        "# Check outliers: \n",
        "# 1. Select the rows where the LIMIT_BAL value is below 5th percentile or above 95th percentile. \n",
        "# 2. Regard LIMIT_BAL as the credit base, check the rows where BILL_AMT or PAY_EMT exceed 2 * LIMIT_BAL\n",
        "data = df_train[(df_train['LIMIT_BAL'] < np.percentile(df_train['LIMIT_BAL'], 5)) | \n",
        "                (df_train['LIMIT_BAL'] > np.percentile(df_train['LIMIT_BAL'], 95))][variables]\n",
        "    \n",
        "data_out_of_range = []\n",
        "\n",
        "for i in data.index.values.tolist():\n",
        "    limit_bal = df_train.loc[i, 'LIMIT_BAL']\n",
        "    upper_limit = 2 * limit_bal\n",
        "\n",
        "    if (upper_limit < df_train.loc[i, 'BILL_AMT1']) | (upper_limit < df_train.loc[i, 'BILL_AMT2']) |\\\n",
        "       (upper_limit < df_train.loc[i, 'BILL_AMT3']) | (upper_limit < df_train.loc[i, 'BILL_AMT4']) |\\\n",
        "       (upper_limit < df_train.loc[i, 'BILL_AMT5']) | (upper_limit < df_train.loc[i, 'BILL_AMT6']) |\\\n",
        "       (upper_limit < df_train.loc[i, 'PAY_AMT1']) | (upper_limit < df_train.loc[i, 'PAY_AMT2']) |\\\n",
        "       (upper_limit < df_train.loc[i, 'PAY_AMT3']) | (upper_limit < df_train.loc[i, 'PAY_AMT4']) |\\\n",
        "       (upper_limit < df_train.loc[i, 'PAY_AMT5']) | (upper_limit < df_train.loc[i, 'PAY_AMT6']):\n",
        "            data_out_of_range.append(i)\n",
        "    \n",
        "print('Number of outliers:', len(data_out_of_range))\n",
        "outliers = df_train.loc[data_out_of_range, variables].sort_values(by=['LIMIT_BAL'])\n",
        "outliers"
      ],
      "execution_count": 211,
      "outputs": [
        {
          "output_type": "stream",
          "text": [
            "Number of outliers: 5\n"
          ],
          "name": "stdout"
        },
        {
          "output_type": "execute_result",
          "data": {
            "text/html": [
              "<div>\n",
              "<style scoped>\n",
              "    .dataframe tbody tr th:only-of-type {\n",
              "        vertical-align: middle;\n",
              "    }\n",
              "\n",
              "    .dataframe tbody tr th {\n",
              "        vertical-align: top;\n",
              "    }\n",
              "\n",
              "    .dataframe thead th {\n",
              "        text-align: right;\n",
              "    }\n",
              "</style>\n",
              "<table border=\"1\" class=\"dataframe\">\n",
              "  <thead>\n",
              "    <tr style=\"text-align: right;\">\n",
              "      <th></th>\n",
              "      <th>LIMIT_BAL</th>\n",
              "      <th>PAY_AMT1</th>\n",
              "      <th>PAY_AMT2</th>\n",
              "      <th>PAY_AMT3</th>\n",
              "      <th>PAY_AMT4</th>\n",
              "      <th>PAY_AMT5</th>\n",
              "      <th>PAY_AMT6</th>\n",
              "      <th>BILL_AMT1</th>\n",
              "      <th>BILL_AMT2</th>\n",
              "      <th>BILL_AMT3</th>\n",
              "      <th>BILL_AMT4</th>\n",
              "      <th>BILL_AMT5</th>\n",
              "      <th>BILL_AMT6</th>\n",
              "    </tr>\n",
              "  </thead>\n",
              "  <tbody>\n",
              "    <tr>\n",
              "      <th>5843</th>\n",
              "      <td>10000</td>\n",
              "      <td>1475</td>\n",
              "      <td>780</td>\n",
              "      <td>0</td>\n",
              "      <td>31250</td>\n",
              "      <td>0</td>\n",
              "      <td>0</td>\n",
              "      <td>885</td>\n",
              "      <td>1475</td>\n",
              "      <td>780</td>\n",
              "      <td>390</td>\n",
              "      <td>780</td>\n",
              "      <td>390</td>\n",
              "    </tr>\n",
              "    <tr>\n",
              "      <th>7508</th>\n",
              "      <td>10000</td>\n",
              "      <td>2134</td>\n",
              "      <td>1000</td>\n",
              "      <td>2500</td>\n",
              "      <td>122</td>\n",
              "      <td>0</td>\n",
              "      <td>0</td>\n",
              "      <td>53095</td>\n",
              "      <td>54562</td>\n",
              "      <td>5428</td>\n",
              "      <td>7928</td>\n",
              "      <td>6091</td>\n",
              "      <td>0</td>\n",
              "    </tr>\n",
              "    <tr>\n",
              "      <th>7688</th>\n",
              "      <td>10000</td>\n",
              "      <td>10400</td>\n",
              "      <td>1000</td>\n",
              "      <td>0</td>\n",
              "      <td>20200</td>\n",
              "      <td>200</td>\n",
              "      <td>0</td>\n",
              "      <td>219</td>\n",
              "      <td>9110</td>\n",
              "      <td>9797</td>\n",
              "      <td>-10433</td>\n",
              "      <td>9767</td>\n",
              "      <td>9067</td>\n",
              "    </tr>\n",
              "    <tr>\n",
              "      <th>16504</th>\n",
              "      <td>10000</td>\n",
              "      <td>1500</td>\n",
              "      <td>5000</td>\n",
              "      <td>4000</td>\n",
              "      <td>2000</td>\n",
              "      <td>22400</td>\n",
              "      <td>0</td>\n",
              "      <td>8525</td>\n",
              "      <td>5141</td>\n",
              "      <td>5239</td>\n",
              "      <td>7911</td>\n",
              "      <td>17890</td>\n",
              "      <td>10000</td>\n",
              "    </tr>\n",
              "    <tr>\n",
              "      <th>5296</th>\n",
              "      <td>500000</td>\n",
              "      <td>4366</td>\n",
              "      <td>1684259</td>\n",
              "      <td>121831</td>\n",
              "      <td>97670</td>\n",
              "      <td>379267</td>\n",
              "      <td>26759</td>\n",
              "      <td>125</td>\n",
              "      <td>-18088</td>\n",
              "      <td>1664089</td>\n",
              "      <td>121757</td>\n",
              "      <td>97115</td>\n",
              "      <td>377217</td>\n",
              "    </tr>\n",
              "  </tbody>\n",
              "</table>\n",
              "</div>"
            ],
            "text/plain": [
              "       LIMIT_BAL  PAY_AMT1  PAY_AMT2  ...  BILL_AMT4  BILL_AMT5  BILL_AMT6\n",
              "5843       10000      1475       780  ...        390        780        390\n",
              "7508       10000      2134      1000  ...       7928       6091          0\n",
              "7688       10000     10400      1000  ...     -10433       9767       9067\n",
              "16504      10000      1500      5000  ...       7911      17890      10000\n",
              "5296      500000      4366   1684259  ...     121757      97115     377217\n",
              "\n",
              "[5 rows x 13 columns]"
            ]
          },
          "metadata": {
            "tags": []
          },
          "execution_count": 211
        }
      ]
    },
    {
      "cell_type": "markdown",
      "metadata": {
        "id": "viJAB2OD57px"
      },
      "source": [
        "We filtered out 5 records. In these records, either one of the previous payments or one of the bill statements or both exceeded the twice of the range of their given credit. However, if we take a closer look at these records, we will notice that the previous payments and the bill statements are relatively balanced in general and most of their values lied with in the given credit. Therefore, we cannot regard them as anomalies."
      ]
    },
    {
      "cell_type": "markdown",
      "metadata": {
        "id": "z8LcZYrJg-Er"
      },
      "source": [
        "Calculate Ratios"
      ]
    },
    {
      "cell_type": "code",
      "metadata": {
        "colab": {
          "base_uri": "https://localhost:8080/",
          "height": 296
        },
        "id": "wIJVD5C5eaco",
        "outputId": "c1652f6e-884e-444a-b5b8-643e651527dd"
      },
      "source": [
        "# default probability in the training set\n",
        "print(df_train['default'].sum() / len(df_train['default']))\n",
        "# alternative: draw bar chart\n",
        "df_train['default'].value_counts().plot.bar()"
      ],
      "execution_count": 212,
      "outputs": [
        {
          "output_type": "stream",
          "text": [
            "0.22375\n"
          ],
          "name": "stdout"
        },
        {
          "output_type": "execute_result",
          "data": {
            "text/plain": [
              "<matplotlib.axes._subplots.AxesSubplot at 0x7f2024bb5240>"
            ]
          },
          "metadata": {
            "tags": []
          },
          "execution_count": 212
        },
        {
          "output_type": "display_data",
          "data": {
            "image/png": "[encoded data removed]",
            "text/plain": [
              "<Figure size 432x288 with 1 Axes>"
            ]
          },
          "metadata": {
            "tags": [],
            "needs_background": "light"
          }
        }
      ]
    },
    {
      "cell_type": "markdown",
      "metadata": {
        "id": "jUbKnk7WhH7j"
      },
      "source": [
        "22% Default, 78% No default in the training set."
      ]
    },
    {
      "cell_type": "code",
      "metadata": {
        "id": "xS12vCGyeafn"
      },
      "source": [
        ""
      ],
      "execution_count": 212,
      "outputs": []
    },
    {
      "cell_type": "markdown",
      "metadata": {
        "id": "Y-pd3F09ha7s"
      },
      "source": [
        "Check single variable's distribution"
      ]
    },
    {
      "cell_type": "code",
      "metadata": {
        "colab": {
          "base_uri": "https://localhost:8080/",
          "height": 551
        },
        "id": "Zl6eMtWZeIo6",
        "outputId": "a4809201-8016-4d30-e5d7-5c4911e9b5a1"
      },
      "source": [
        "# draw bar charts\n",
        "fig, axes = plt.subplots(nrows=3, figsize=(8,8))\n",
        "fig.suptitle('Data distribution in terms of SEX, MARRIAGE, EDUCATION', fontsize=14)\n",
        "\n",
        "df_train['SEX'].value_counts().plot.bar(ax=axes[0])\n",
        "df_train['EDUCATION'].value_counts().plot.bar(ax=axes[1])\n",
        "df_train['MARRIAGE'].value_counts().plot.bar(ax=axes[2])\n",
        "axes[0].set_title('SEX')\n",
        "axes[1].set_title('EDUCATION')\n",
        "axes[2].set_title('MARRIAGE')\n",
        "\n",
        "for ax in axes.flat:\n",
        "    ax.set(xlabel='unique values', ylabel='count')\n",
        "\n",
        "plt.subplots_adjust(hspace=0.5)\n",
        "plt.show()"
      ],
      "execution_count": 213,
      "outputs": [
        {
          "output_type": "display_data",
          "data": {
            "image/png": "[encoded data removed]",
            "text/plain": [
              "<Figure size 576x576 with 3 Axes>"
            ]
          },
          "metadata": {
            "tags": [],
            "needs_background": "light"
          }
        }
      ]
    },
    {
      "cell_type": "markdown",
      "metadata": {
        "id": "2c2OGaiJt67c"
      },
      "source": [
        "More females than males.\n",
        "Education level is mostly graduate school and university.\n",
        "Most of the clients are either marrined or single (less frequent the other status)."
      ]
    },
    {
      "cell_type": "code",
      "metadata": {
        "colab": {
          "base_uri": "https://localhost:8080/",
          "height": 801
        },
        "id": "Bk1hkjIfhclh",
        "outputId": "f751096b-c4ba-4ebe-a5b0-1246881a7c52"
      },
      "source": [
        "fig, axes = plt.subplots(nrows=2, ncols=3, figsize=(15,12))\n",
        "fig.suptitle('Data distribution in terms of past payment', fontsize=14)\n",
        "\n",
        "df_train['PAY_1'].value_counts().plot.bar(ax=axes[0,0])\n",
        "df_train['PAY_2'].value_counts().plot.bar(ax=axes[0,1])\n",
        "df_train['PAY_3'].value_counts().plot.bar(ax=axes[0,2])\n",
        "df_train['PAY_4'].value_counts().plot.bar(ax=axes[1,0])\n",
        "df_train['PAY_5'].value_counts().plot.bar(ax=axes[1,1])\n",
        "df_train['PAY_6'].value_counts().plot.bar(ax=axes[1,2])\n",
        "\n",
        "axes[0,0].set_title('PAY_1')\n",
        "axes[0,1].set_title('PAY_2')\n",
        "axes[0,2].set_title('PAY_3')\n",
        "axes[1,0].set_title('PAY_4')\n",
        "axes[1,1].set_title('PAY_5')\n",
        "axes[1,2].set_title('PAY_6')\n",
        "\n",
        "for ax in axes.flat:\n",
        "    ax.set(xlabel='unique values', ylabel='count')\n",
        "\n",
        "plt.subplots_adjust(hspace=0.2, wspace=0.3)\n",
        "plt.show()"
      ],
      "execution_count": 214,
      "outputs": [
        {
          "output_type": "display_data",
          "data": {
            "image/png": "[encoded data removed]",
            "text/plain": [
              "<Figure size 1080x864 with 6 Axes>"
            ]
          },
          "metadata": {
            "tags": [],
            "needs_background": "light"
          }
        }
      ]
    },
    {
      "cell_type": "code",
      "metadata": {
        "colab": {
          "base_uri": "https://localhost:8080/",
          "height": 739
        },
        "id": "-s95r5m5hcna",
        "outputId": "0c62e6d6-1f85-453c-bafd-1af700478389"
      },
      "source": [
        "# draw histograms\n",
        "fig= plt.figure(figsize = (18,12))\n",
        "ax = fig.gca()\n",
        "\n",
        "df_train[['LIMIT_BAL', 'BILL_AMT1', 'BILL_AMT2', 'BILL_AMT3', 'BILL_AMT4', 'BILL_AMT5', 'BILL_AMT6', \n",
        "    'PAY_AMT1', 'PAY_AMT2', 'PAY_AMT3', 'PAY_AMT4', 'PAY_AMT5', 'PAY_AMT6']].hist(ax=ax, bins=20)\n",
        "plt.show()"
      ],
      "execution_count": 215,
      "outputs": [
        {
          "output_type": "stream",
          "text": [
            "/usr/local/lib/python3.6/dist-packages/ipykernel_launcher.py:6: UserWarning: To output multiple subplots, the figure containing the passed axes is being cleared\n",
            "  \n"
          ],
          "name": "stderr"
        },
        {
          "output_type": "display_data",
          "data": {
            "image/png": "[encoded data removed]",
            "text/plain": [
              "<Figure size 1296x864 with 16 Axes>"
            ]
          },
          "metadata": {
            "tags": [],
            "needs_background": "light"
          }
        }
      ]
    },
    {
      "cell_type": "code",
      "metadata": {
        "colab": {
          "base_uri": "https://localhost:8080/",
          "height": 296
        },
        "id": "ed7NyLKlhcpK",
        "outputId": "b817cbec-1dae-40f1-f079-1295b89a616c"
      },
      "source": [
        "ax = df_train['AGE'].hist(bins=20)\n",
        "ax.set(xlabel='ages', ylabel='count')"
      ],
      "execution_count": 216,
      "outputs": [
        {
          "output_type": "execute_result",
          "data": {
            "text/plain": [
              "[Text(0, 0.5, 'count'), Text(0.5, 0, 'ages')]"
            ]
          },
          "metadata": {
            "tags": []
          },
          "execution_count": 216
        },
        {
          "output_type": "display_data",
          "data": {
            "image/png": "[encoded data removed]",
            "text/plain": [
              "<Figure size 432x288 with 1 Axes>"
            ]
          },
          "metadata": {
            "tags": [],
            "needs_background": "light"
          }
        }
      ]
    },
    {
      "cell_type": "code",
      "metadata": {
        "id": "WpN1yWNpug2R"
      },
      "source": [
        ""
      ],
      "execution_count": 216,
      "outputs": []
    },
    {
      "cell_type": "markdown",
      "metadata": {
        "id": "--aWShfcucoG"
      },
      "source": [
        "Feature correlation test"
      ]
    },
    {
      "cell_type": "code",
      "metadata": {
        "colab": {
          "base_uri": "https://localhost:8080/",
          "height": 296
        },
        "id": "dGFoa7Iihcq5",
        "outputId": "aeb2ed9f-d766-4ad4-9c69-cc68dd75aeba"
      },
      "source": [
        "# check the credit limit distribution vs. sex\n",
        "ax = sns.boxplot(x=\"SEX\", y=\"LIMIT_BAL\", hue=\"SEX\",data=df_train, palette=\"PRGn\",showfliers=False)\n",
        "ax.legend_.remove()\n",
        "\n",
        "# interpret the unique values in xticks\n",
        "xlabels = [item.get_text() for item in ax.get_xticklabels()]\n",
        "sex_encoder = {'1':'Male', '2':'Female'}\n",
        "xlabels = [sex_encoder.get(xlabels[i]) for i in range(len(xlabels))]\n",
        "ax.set_xticklabels(xlabels)"
      ],
      "execution_count": 217,
      "outputs": [
        {
          "output_type": "execute_result",
          "data": {
            "text/plain": [
              "[Text(0, 0, 'Male'), Text(0, 0, 'Female')]"
            ]
          },
          "metadata": {
            "tags": []
          },
          "execution_count": 217
        },
        {
          "output_type": "display_data",
          "data": {
            "image/png": "[encoded data removed]",
            "text/plain": [
              "<Figure size 432x288 with 1 Axes>"
            ]
          },
          "metadata": {
            "tags": [],
            "needs_background": "light"
          }
        }
      ]
    },
    {
      "cell_type": "markdown",
      "metadata": {
        "id": "02XEFCMUukzg"
      },
      "source": [
        "The limit credit amount is quite balanced between sexes. The males have a slightly smaller Q1 and mean.\n",
        "\n"
      ]
    },
    {
      "cell_type": "code",
      "metadata": {
        "id": "yo6ahk52ugKN"
      },
      "source": [
        "# Features correlation for numerical variables\n",
        "def check_correlation(variables, title:str):\n",
        "    plt.figure(figsize = (10,8))\n",
        "    plt.title(title + ' (Apr 2005 to Sep 2005)' + '\\nCorrelation Plot')\n",
        "    corr = df_train[variables].corr()\n",
        "    sns.heatmap(corr,xticklabels=corr.columns,yticklabels=corr.columns,linewidths=.1,vmin=-1, vmax=1)\n",
        "    plt.show()"
      ],
      "execution_count": 218,
      "outputs": []
    },
    {
      "cell_type": "code",
      "metadata": {
        "colab": {
          "base_uri": "https://localhost:8080/",
          "height": 515
        },
        "id": "lJKOimcQun4Y",
        "outputId": "6d4997f1-8dd4-4ce4-c832-f6ce9e98e294"
      },
      "source": [
        "# check the correlation of Amount of bill statement\n",
        "check_correlation(['BILL_AMT1','BILL_AMT2','BILL_AMT3','BILL_AMT4','BILL_AMT5','BILL_AMT6'], 'Amount of bill statement')"
      ],
      "execution_count": 219,
      "outputs": [
        {
          "output_type": "display_data",
          "data": {
            "image/png": "[encoded data removed]",
            "text/plain": [
              "<Figure size 720x576 with 2 Axes>"
            ]
          },
          "metadata": {
            "tags": [],
            "needs_background": "light"
          }
        }
      ]
    },
    {
      "cell_type": "markdown",
      "metadata": {
        "id": "pJ5TbXhAusHB"
      },
      "source": [
        "Correlation is decreasing as the distance between months increases. Lowest correlation is between Sept (BILL_AMT1) & April (BILL_AMT6).\n",
        "\n"
      ]
    },
    {
      "cell_type": "code",
      "metadata": {
        "colab": {
          "base_uri": "https://localhost:8080/",
          "height": 515
        },
        "id": "z0IN4XVAun7e",
        "outputId": "1a904ec3-7b96-47c5-fe92-155fb93c66ca"
      },
      "source": [
        "# check the correlation of Amount of previous payment\n",
        "check_correlation(['PAY_AMT1', 'PAY_AMT2', 'PAY_AMT3', 'PAY_AMT4', 'PAY_AMT5'], 'Amount of previous payment')"
      ],
      "execution_count": 220,
      "outputs": [
        {
          "output_type": "display_data",
          "data": {
            "image/png": "[encoded data removed]",
            "text/plain": [
              "<Figure size 720x576 with 2 Axes>"
            ]
          },
          "metadata": {
            "tags": [],
            "needs_background": "light"
          }
        }
      ]
    },
    {
      "cell_type": "markdown",
      "metadata": {
        "id": "lPCRygupuv1u"
      },
      "source": [
        "There are no correlations between amounts of previous payments.\n",
        "\n"
      ]
    },
    {
      "cell_type": "code",
      "metadata": {
        "colab": {
          "base_uri": "https://localhost:8080/",
          "height": 515
        },
        "id": "Ss2mbuhuhcsv",
        "outputId": "cc5e9eb3-866b-4499-b728-2bf52b5e8fa1"
      },
      "source": [
        "# check the correlation between Repayment status\n",
        "check_correlation(['PAY_1','PAY_2', 'PAY_3', 'PAY_4', 'PAY_5', 'PAY_6'], 'Repayment status')"
      ],
      "execution_count": 221,
      "outputs": [
        {
          "output_type": "display_data",
          "data": {
            "image/png": "[encoded data removed]",
            "text/plain": [
              "<Figure size 720x576 with 2 Axes>"
            ]
          },
          "metadata": {
            "tags": [],
            "needs_background": "light"
          }
        }
      ]
    },
    {
      "cell_type": "markdown",
      "metadata": {
        "id": "MnmLWYICuzeJ"
      },
      "source": [
        "Correlation is decreasing as the distance between months increases. Lowest correlation is between Sept (BILL_AMT1) & April (BILL_AMT6).\n",
        "\n"
      ]
    },
    {
      "cell_type": "code",
      "metadata": {
        "colab": {
          "base_uri": "https://localhost:8080/",
          "height": 388
        },
        "id": "Z6HVVrF3hcue",
        "outputId": "28ecfd18-6611-47b4-b084-4520b321e40c"
      },
      "source": [
        "# credit amount limit distribution grouped by marriage status and education level\n",
        "fig, ax = plt.subplots(figsize=(12, 6))\n",
        "sns.boxplot(ax=ax, x='MARRIAGE', y='LIMIT_BAL', hue='EDUCATION', data=df_train, palette=\"PRGn\",showfliers=False)\n",
        "\n",
        "# interpret the unique values (of EDUCATION) in legend\n",
        "education_encoder = {'1':'Graduate school', '2':'University', '3':'High school', '4': 'Others'}\n",
        "L = plt.legend()\n",
        "L.set_title('EDUCATION')\n",
        "for i in range(len(L.get_texts())):\n",
        "    legend_text = L.get_texts()[i].get_text()\n",
        "    L.get_texts()[i].set_text(education_encoder.get(legend_text))\n",
        "\n",
        "# interpret the unique values (of MARRIAGE) in xticks\n",
        "xlabels = [item.get_text() for item in ax.get_xticklabels()]\n",
        "marriage_encoder = {'1':'Married', '2':'Single', '3':'Others'}\n",
        "xlabels = [sex_encoder.get(xlabels[i]) for i in range(len(xlabels))]\n",
        "ax.set_xticklabels(xlabels)\n",
        "\n",
        "plt.show()"
      ],
      "execution_count": 222,
      "outputs": [
        {
          "output_type": "display_data",
          "data": {
            "image/png": "[encoded data removed]",
            "text/plain": [
              "<Figure size 864x432 with 1 Axes>"
            ]
          },
          "metadata": {
            "tags": [],
            "needs_background": "light"
          }
        }
      ]
    },
    {
      "cell_type": "markdown",
      "metadata": {
        "id": "hIs9ABU7u6Uf"
      },
      "source": [
        "In general, higher education level has higher credit among all marriage groups. Married people have higher credit than Single than Others among all education levels."
      ]
    },
    {
      "cell_type": "markdown",
      "metadata": {
        "id": "iYEOXxJEu81_"
      },
      "source": [
        "Feature Importance Test\n",
        "- Use of any classification model and feed raw data without any splitting and cross validation. This is purely to get a general understanding of importance of features and to set a certain goal for data transformation as part of exploration"
      ]
    },
    {
      "cell_type": "code",
      "metadata": {
        "colab": {
          "base_uri": "https://localhost:8080/"
        },
        "id": "2n-FTUMrKbf1",
        "outputId": "5bb38a58-d544-4a1a-f015-ecac01fd43fc"
      },
      "source": [
        "!pip install xgboost"
      ],
      "execution_count": 223,
      "outputs": [
        {
          "output_type": "stream",
          "text": [
            "Requirement already satisfied: xgboost in /usr/local/lib/python3.6/dist-packages (0.90)\n",
            "Requirement already satisfied: scipy in /usr/local/lib/python3.6/dist-packages (from xgboost) (1.4.1)\n",
            "Requirement already satisfied: numpy in /usr/local/lib/python3.6/dist-packages (from xgboost) (1.19.4)\n"
          ],
          "name": "stdout"
        }
      ]
    },
    {
      "cell_type": "code",
      "metadata": {
        "id": "UkS8iMpeu8Vo"
      },
      "source": [
        "from xgboost import XGBClassifier"
      ],
      "execution_count": 224,
      "outputs": []
    },
    {
      "cell_type": "code",
      "metadata": {
        "colab": {
          "base_uri": "https://localhost:8080/",
          "height": 587
        },
        "id": "EKGsDYlbu8X4",
        "outputId": "c621f797-1334-42eb-8a7e-d04475d54f7a"
      },
      "source": [
        "# split training data into X and y\n",
        "X = df_train.drop(['default'], axis=1)\n",
        "y = df_train[['default']]\n",
        "# fit model no training data\n",
        "model = XGBClassifier()\n",
        "model.fit(X, y)\n",
        "\n",
        "# Get feature name place number\n",
        "features_num = [i for i in range(len(model.feature_importances_))]\n",
        "importance = model.feature_importances_.tolist()\n",
        "feature_names = X.columns\n",
        "\n",
        "# Sorting\n",
        "matched = zip(features_num, feature_names, importance)\n",
        "sorted_importance = sorted(matched, key=lambda x: x[2])       # sort by importance\n",
        "\n",
        "sorted_features_importance = list(map(lambda x: x[2], sorted_importance))\n",
        "sorted_features_names = list(map(lambda x: x[1], sorted_importance))\n",
        "\n",
        "fig = plt.figure(figsize=(14, 8))\n",
        "plt.barh(features_num, sorted_features_importance, tick_label=sorted_features_names)\n",
        "plt.title('Feature Importance')\n",
        "plt.show()"
      ],
      "execution_count": 225,
      "outputs": [
        {
          "output_type": "stream",
          "text": [
            "/usr/local/lib/python3.6/dist-packages/sklearn/preprocessing/_label.py:235: DataConversionWarning: A column-vector y was passed when a 1d array was expected. Please change the shape of y to (n_samples, ), for example using ravel().\n",
            "  y = column_or_1d(y, warn=True)\n",
            "/usr/local/lib/python3.6/dist-packages/sklearn/preprocessing/_label.py:268: DataConversionWarning: A column-vector y was passed when a 1d array was expected. Please change the shape of y to (n_samples, ), for example using ravel().\n",
            "  y = column_or_1d(y, warn=True)\n"
          ],
          "name": "stderr"
        },
        {
          "output_type": "display_data",
          "data": {
            "image/png": "[encoded data removed]",
            "text/plain": [
              "<Figure size 1008x576 with 1 Axes>"
            ]
          },
          "metadata": {
            "tags": [],
            "needs_background": "light"
          }
        }
      ]
    },
    {
      "cell_type": "markdown",
      "metadata": {
        "id": "FZByAHQe0H41"
      },
      "source": [
        "1. PAY_N is the most important feature, so we will not change these features during transformation phase.\n",
        "2. Generally, PAY_N > PAY_AMT >LIMIT_BAL > BILL_AMT. Therefore we can try to use BILL_AMTs and try making stronger and semantically meaningful features by combining weak features.\n",
        "3. Among 4 personal information, Education is the most important feature.\n",
        "4. On the other hand, Marriage, Age, Sex are contributing very little to the classification. "
      ]
    },
    {
      "cell_type": "code",
      "metadata": {
        "id": "yYSgBMbm4V0g"
      },
      "source": [
        ""
      ],
      "execution_count": 225,
      "outputs": []
    },
    {
      "cell_type": "code",
      "metadata": {
        "id": "PhoHvvjM4V2X"
      },
      "source": [
        ""
      ],
      "execution_count": 225,
      "outputs": []
    },
    {
      "cell_type": "code",
      "metadata": {
        "id": "phsfdabd4V31"
      },
      "source": [
        ""
      ],
      "execution_count": 225,
      "outputs": []
    },
    {
      "cell_type": "markdown",
      "metadata": {
        "id": "qqsFHMlZgHrv"
      },
      "source": [
        "## **3.2 Data Transformation**"
      ]
    },
    {
      "cell_type": "markdown",
      "metadata": {
        "id": "LMAxQylDitwk"
      },
      "source": [
        "### **Data Cleaning**"
      ]
    },
    {
      "cell_type": "code",
      "metadata": {
        "id": "sRneAJcWg5Ax"
      },
      "source": [
        "def rename_pay_default(df):\n",
        "    df = df.rename(columns={'PAY_0':'PAY_1'})\n",
        "    df = df.rename(columns={'default payment next month':'default'})\n",
        "    return df\n",
        "\n",
        "def clean_edu(df):\n",
        "    df.loc[(df['EDUCATION'] == 0) | (df['EDUCATION'] == 5) | (df['EDUCATION'] == 6), 'EDUCATION'] = 4\n",
        "    return df\n",
        "\n",
        "def clean_marriage(df):\n",
        "    df.loc[df['MARRIAGE'] == 0, 'MARRIAGE'] = 3\n",
        "    return df\n",
        "\n",
        "def clean_pay(df):\n",
        "    for i in range(1, 7):\n",
        "        df.loc[(df[f'PAY_{i}'] == 0), f'PAY_{i}'] = -1\n",
        "    return df"
      ],
      "execution_count": 226,
      "outputs": []
    },
    {
      "cell_type": "markdown",
      "metadata": {
        "id": "7e_xAKY0iqbx"
      },
      "source": [
        "### **Feature Processing**"
      ]
    },
    {
      "cell_type": "code",
      "metadata": {
        "id": "VNCcDgpWiprh"
      },
      "source": [
        "def drop_id(df):\n",
        "    df = df.drop(['ID'], axis=1)\n",
        "    return df\n",
        "\n",
        "def combine_gender_marital(df):\n",
        "    df['SEX_MAR'] = df.SEX * df.MARRIAGE\n",
        "    df = df.drop(['SEX', 'MARRIAGE'], axis=1)\n",
        "    return df\n",
        "\n",
        "def make_age_bins(df):\n",
        "    df['AgeBin'] = 0 # placeholder column\n",
        "    df.loc[((df['AGE'] < 30)) , 'AgeBin'] = 1\n",
        "    df.loc[((df['AGE'] >= 30) & (df['AGE'] < 40)) , 'AgeBin'] = 2\n",
        "    df.loc[((df['AGE'] >= 40) & (df['AGE'] < 50)) , 'AgeBin'] = 3\n",
        "    df.loc[((df['AGE'] >= 50) & (df['AGE'] < 60)) , 'AgeBin'] = 4\n",
        "    df.loc[((df['AGE'] >= 60) & (df['AGE'] < 70)) , 'AgeBin'] = 5\n",
        "    df.loc[((df['AGE'] >= 70) & (df['AGE'] < 81)) , 'AgeBin'] = 6\n",
        "    \n",
        "    df = df.drop(['AGE'], axis=1)\n",
        "    return df\n",
        "\n",
        "def get_closeness(df):\n",
        "    for i in range(1, 7):\n",
        "        df[f'Closeness_{i}'] = (df.LIMIT_BAL - df[f'BILL_AMT{i}']) #/ df.LIMIT_BAL\n",
        "    \n",
        "    return df\n",
        "\n",
        "def get_diff_of_totals(df):\n",
        "    df['diff'] = 0   # Make placeholder\n",
        "    \n",
        "    bill_cols = [f'BILL_AMT{i}' for i in range(1, 7)]\n",
        "    pay_cols = [f'PAY_AMT{i}' for i in range(1, 7)]\n",
        "    \n",
        "    for index, row in df.iterrows():\n",
        "        bill_df = df.loc[index, bill_cols]\n",
        "        pay_df = df.loc[index, pay_cols]\n",
        "\n",
        "        bill_sum = np.sum(bill_df.values)\n",
        "        pay_sum = np.sum(pay_df.values)\n",
        "\n",
        "        df.loc[index, 'diff'] = bill_sum - pay_sum\n",
        "        \n",
        "    return df\n",
        "\n",
        "def drop_bill_amt(df):\n",
        "    df = df.drop([f'BILL_AMT{i}' for i in range(1, 7)], axis=1)\n",
        "    return df\n",
        "\n",
        "def drop_pay_amt(df):\n",
        "    df = df.drop([f'PAY_AMT{i}' for i in range(1, 7)], axis=1)\n",
        "    return df\n",
        "\n",
        "def drop_age(df):\n",
        "    df = df.drop(['AGE'], axis=1)\n",
        "    return df"
      ],
      "execution_count": 227,
      "outputs": []
    },
    {
      "cell_type": "markdown",
      "metadata": {
        "id": "lIjbT9Pml9wR"
      },
      "source": [
        "### **Data Preprocessing Pipeline**"
      ]
    },
    {
      "cell_type": "code",
      "metadata": {
        "id": "0QFl6vL8mEQM"
      },
      "source": [
        "def processing_pipline(df):\n",
        "    ### Cleaning ###\n",
        "    \"\"\"\n",
        "    Available functions:\n",
        "    rename_pay, clean_edu, clean_marriage, clean_pay\n",
        "    \"\"\"\n",
        "    for func in [rename_pay_default, clean_edu, clean_marriage, clean_pay]:\n",
        "        df = func(df)\n",
        "    \n",
        "    print(\"Cleaned Data\")\n",
        "    \n",
        "    ### Feature Engineering ###\n",
        "    \"\"\"\n",
        "    Available functions:\n",
        "    drop_id, combine_gender_marital, make_age_bins, get_closeness, get_diff_of_totals, drop_bill_amt, drop_pay_amt, drop_age\n",
        "    \"\"\"\n",
        "    for func in [drop_id, combine_gender_marital, make_age_bins, get_closeness, get_diff_of_totals]:\n",
        "        df = func(df)\n",
        "    \n",
        "    print(\"Transformed Features\")\n",
        "    \n",
        "    return df"
      ],
      "execution_count": 228,
      "outputs": []
    },
    {
      "cell_type": "code",
      "metadata": {
        "colab": {
          "base_uri": "https://localhost:8080/"
        },
        "id": "kTb9NYhmKbf3",
        "outputId": "9c8c8061-0605-4ea6-be7a-44331042b22b"
      },
      "source": [
        "transformed_train = processing_pipline(df_train)\n",
        "transformed_test = processing_pipline(df_test)"
      ],
      "execution_count": 229,
      "outputs": [
        {
          "output_type": "stream",
          "text": [
            "Cleaned Data\n",
            "Transformed Features\n",
            "Cleaned Data\n",
            "Transformed Features\n"
          ],
          "name": "stdout"
        }
      ]
    },
    {
      "cell_type": "code",
      "metadata": {
        "colab": {
          "base_uri": "https://localhost:8080/",
          "height": 439
        },
        "id": "WE3Zhk0GKbf3",
        "outputId": "6fed85ba-426f-4863-932d-e07d43f25aab"
      },
      "source": [
        "transformed_train = transformed_train[['LIMIT_BAL', 'EDUCATION', 'SEX_MAR', 'AgeBin', \\\n",
        "                    'PAY_1', 'PAY_2', 'PAY_3', 'PAY_4', 'PAY_5', 'PAY_6',\\\n",
        "                    'BILL_AMT1', 'BILL_AMT2', 'BILL_AMT3', 'BILL_AMT4', 'BILL_AMT5', 'BILL_AMT6',\\\n",
        "                    'PAY_AMT1', 'PAY_AMT2', 'PAY_AMT3', 'PAY_AMT4', 'PAY_AMT5', 'PAY_AMT6',\\\n",
        "                    'Closeness_1', 'Closeness_2', 'Closeness_3', 'Closeness_4','Closeness_5', 'Closeness_6',\\\n",
        "                    'diff', 'default'\n",
        "                   ]]\n",
        "transformed_test = transformed_test[['LIMIT_BAL', 'EDUCATION', 'SEX_MAR', 'AgeBin', \\\n",
        "'PAY_1', 'PAY_2', 'PAY_3', 'PAY_4', 'PAY_5', 'PAY_6',\\\n",
        "'BILL_AMT1', 'BILL_AMT2', 'BILL_AMT3', 'BILL_AMT4', 'BILL_AMT5', 'BILL_AMT6',\\\n",
        "'PAY_AMT1', 'PAY_AMT2', 'PAY_AMT3', 'PAY_AMT4', 'PAY_AMT5', 'PAY_AMT6',\\\n",
        "'Closeness_1', 'Closeness_2', 'Closeness_3', 'Closeness_4','Closeness_5', 'Closeness_6',\\\n",
        "'diff', 'default'\n",
        "]]\n",
        "transformed_train\n",
        "transformed_test"
      ],
      "execution_count": 230,
      "outputs": [
        {
          "output_type": "execute_result",
          "data": {
            "text/html": [
              "<div>\n",
              "<style scoped>\n",
              "    .dataframe tbody tr th:only-of-type {\n",
              "        vertical-align: middle;\n",
              "    }\n",
              "\n",
              "    .dataframe tbody tr th {\n",
              "        vertical-align: top;\n",
              "    }\n",
              "\n",
              "    .dataframe thead th {\n",
              "        text-align: right;\n",
              "    }\n",
              "</style>\n",
              "<table border=\"1\" class=\"dataframe\">\n",
              "  <thead>\n",
              "    <tr style=\"text-align: right;\">\n",
              "      <th></th>\n",
              "      <th>LIMIT_BAL</th>\n",
              "      <th>EDUCATION</th>\n",
              "      <th>SEX_MAR</th>\n",
              "      <th>AgeBin</th>\n",
              "      <th>PAY_1</th>\n",
              "      <th>PAY_2</th>\n",
              "      <th>PAY_3</th>\n",
              "      <th>PAY_4</th>\n",
              "      <th>PAY_5</th>\n",
              "      <th>PAY_6</th>\n",
              "      <th>BILL_AMT1</th>\n",
              "      <th>BILL_AMT2</th>\n",
              "      <th>BILL_AMT3</th>\n",
              "      <th>BILL_AMT4</th>\n",
              "      <th>BILL_AMT5</th>\n",
              "      <th>BILL_AMT6</th>\n",
              "      <th>PAY_AMT1</th>\n",
              "      <th>PAY_AMT2</th>\n",
              "      <th>PAY_AMT3</th>\n",
              "      <th>PAY_AMT4</th>\n",
              "      <th>PAY_AMT5</th>\n",
              "      <th>PAY_AMT6</th>\n",
              "      <th>Closeness_1</th>\n",
              "      <th>Closeness_2</th>\n",
              "      <th>Closeness_3</th>\n",
              "      <th>Closeness_4</th>\n",
              "      <th>Closeness_5</th>\n",
              "      <th>Closeness_6</th>\n",
              "      <th>diff</th>\n",
              "      <th>default</th>\n",
              "    </tr>\n",
              "  </thead>\n",
              "  <tbody>\n",
              "    <tr>\n",
              "      <th>0</th>\n",
              "      <td>50000</td>\n",
              "      <td>2</td>\n",
              "      <td>2</td>\n",
              "      <td>1</td>\n",
              "      <td>2</td>\n",
              "      <td>2</td>\n",
              "      <td>-1</td>\n",
              "      <td>-1</td>\n",
              "      <td>-1</td>\n",
              "      <td>-1</td>\n",
              "      <td>51246</td>\n",
              "      <td>49758</td>\n",
              "      <td>48456</td>\n",
              "      <td>44116</td>\n",
              "      <td>21247</td>\n",
              "      <td>20066</td>\n",
              "      <td>8</td>\n",
              "      <td>2401</td>\n",
              "      <td>2254</td>\n",
              "      <td>2004</td>\n",
              "      <td>704</td>\n",
              "      <td>707</td>\n",
              "      <td>-1246</td>\n",
              "      <td>242</td>\n",
              "      <td>1544</td>\n",
              "      <td>5884</td>\n",
              "      <td>28753</td>\n",
              "      <td>29934</td>\n",
              "      <td>226811</td>\n",
              "      <td>0</td>\n",
              "    </tr>\n",
              "    <tr>\n",
              "      <th>1</th>\n",
              "      <td>60000</td>\n",
              "      <td>2</td>\n",
              "      <td>2</td>\n",
              "      <td>1</td>\n",
              "      <td>-1</td>\n",
              "      <td>-1</td>\n",
              "      <td>-1</td>\n",
              "      <td>-1</td>\n",
              "      <td>-1</td>\n",
              "      <td>-1</td>\n",
              "      <td>58072</td>\n",
              "      <td>59040</td>\n",
              "      <td>57416</td>\n",
              "      <td>55736</td>\n",
              "      <td>26958</td>\n",
              "      <td>28847</td>\n",
              "      <td>2282</td>\n",
              "      <td>2324</td>\n",
              "      <td>2049</td>\n",
              "      <td>2000</td>\n",
              "      <td>3000</td>\n",
              "      <td>1120</td>\n",
              "      <td>1928</td>\n",
              "      <td>960</td>\n",
              "      <td>2584</td>\n",
              "      <td>4264</td>\n",
              "      <td>33042</td>\n",
              "      <td>31153</td>\n",
              "      <td>273294</td>\n",
              "      <td>1</td>\n",
              "    </tr>\n",
              "    <tr>\n",
              "      <th>2</th>\n",
              "      <td>400000</td>\n",
              "      <td>2</td>\n",
              "      <td>2</td>\n",
              "      <td>1</td>\n",
              "      <td>-1</td>\n",
              "      <td>-1</td>\n",
              "      <td>-1</td>\n",
              "      <td>-1</td>\n",
              "      <td>-1</td>\n",
              "      <td>-1</td>\n",
              "      <td>15330</td>\n",
              "      <td>8626</td>\n",
              "      <td>11470</td>\n",
              "      <td>10745</td>\n",
              "      <td>20737</td>\n",
              "      <td>9545</td>\n",
              "      <td>2501</td>\n",
              "      <td>10009</td>\n",
              "      <td>1437</td>\n",
              "      <td>1105</td>\n",
              "      <td>510</td>\n",
              "      <td>959</td>\n",
              "      <td>384670</td>\n",
              "      <td>391374</td>\n",
              "      <td>388530</td>\n",
              "      <td>389255</td>\n",
              "      <td>379263</td>\n",
              "      <td>390455</td>\n",
              "      <td>59932</td>\n",
              "      <td>0</td>\n",
              "    </tr>\n",
              "    <tr>\n",
              "      <th>3</th>\n",
              "      <td>20000</td>\n",
              "      <td>4</td>\n",
              "      <td>2</td>\n",
              "      <td>1</td>\n",
              "      <td>5</td>\n",
              "      <td>4</td>\n",
              "      <td>3</td>\n",
              "      <td>2</td>\n",
              "      <td>2</td>\n",
              "      <td>2</td>\n",
              "      <td>21673</td>\n",
              "      <td>21051</td>\n",
              "      <td>20440</td>\n",
              "      <td>19709</td>\n",
              "      <td>20113</td>\n",
              "      <td>19840</td>\n",
              "      <td>0</td>\n",
              "      <td>0</td>\n",
              "      <td>0</td>\n",
              "      <td>900</td>\n",
              "      <td>0</td>\n",
              "      <td>0</td>\n",
              "      <td>-1673</td>\n",
              "      <td>-1051</td>\n",
              "      <td>-440</td>\n",
              "      <td>291</td>\n",
              "      <td>-113</td>\n",
              "      <td>160</td>\n",
              "      <td>121926</td>\n",
              "      <td>0</td>\n",
              "    </tr>\n",
              "    <tr>\n",
              "      <th>4</th>\n",
              "      <td>50000</td>\n",
              "      <td>3</td>\n",
              "      <td>2</td>\n",
              "      <td>1</td>\n",
              "      <td>-1</td>\n",
              "      <td>-1</td>\n",
              "      <td>-2</td>\n",
              "      <td>-2</td>\n",
              "      <td>-1</td>\n",
              "      <td>-1</td>\n",
              "      <td>32590</td>\n",
              "      <td>-100</td>\n",
              "      <td>0</td>\n",
              "      <td>0</td>\n",
              "      <td>70</td>\n",
              "      <td>120</td>\n",
              "      <td>0</td>\n",
              "      <td>100</td>\n",
              "      <td>0</td>\n",
              "      <td>70</td>\n",
              "      <td>200</td>\n",
              "      <td>100</td>\n",
              "      <td>17410</td>\n",
              "      <td>50100</td>\n",
              "      <td>50000</td>\n",
              "      <td>50000</td>\n",
              "      <td>49930</td>\n",
              "      <td>49880</td>\n",
              "      <td>32210</td>\n",
              "      <td>0</td>\n",
              "    </tr>\n",
              "    <tr>\n",
              "      <th>...</th>\n",
              "      <td>...</td>\n",
              "      <td>...</td>\n",
              "      <td>...</td>\n",
              "      <td>...</td>\n",
              "      <td>...</td>\n",
              "      <td>...</td>\n",
              "      <td>...</td>\n",
              "      <td>...</td>\n",
              "      <td>...</td>\n",
              "      <td>...</td>\n",
              "      <td>...</td>\n",
              "      <td>...</td>\n",
              "      <td>...</td>\n",
              "      <td>...</td>\n",
              "      <td>...</td>\n",
              "      <td>...</td>\n",
              "      <td>...</td>\n",
              "      <td>...</td>\n",
              "      <td>...</td>\n",
              "      <td>...</td>\n",
              "      <td>...</td>\n",
              "      <td>...</td>\n",
              "      <td>...</td>\n",
              "      <td>...</td>\n",
              "      <td>...</td>\n",
              "      <td>...</td>\n",
              "      <td>...</td>\n",
              "      <td>...</td>\n",
              "      <td>...</td>\n",
              "      <td>...</td>\n",
              "    </tr>\n",
              "    <tr>\n",
              "      <th>5995</th>\n",
              "      <td>220000</td>\n",
              "      <td>3</td>\n",
              "      <td>1</td>\n",
              "      <td>2</td>\n",
              "      <td>-1</td>\n",
              "      <td>-1</td>\n",
              "      <td>-1</td>\n",
              "      <td>-1</td>\n",
              "      <td>-1</td>\n",
              "      <td>-1</td>\n",
              "      <td>188948</td>\n",
              "      <td>192815</td>\n",
              "      <td>208365</td>\n",
              "      <td>88004</td>\n",
              "      <td>31237</td>\n",
              "      <td>15980</td>\n",
              "      <td>8500</td>\n",
              "      <td>20000</td>\n",
              "      <td>5003</td>\n",
              "      <td>3047</td>\n",
              "      <td>5000</td>\n",
              "      <td>1000</td>\n",
              "      <td>31052</td>\n",
              "      <td>27185</td>\n",
              "      <td>11635</td>\n",
              "      <td>131996</td>\n",
              "      <td>188763</td>\n",
              "      <td>204020</td>\n",
              "      <td>682799</td>\n",
              "      <td>0</td>\n",
              "    </tr>\n",
              "    <tr>\n",
              "      <th>5996</th>\n",
              "      <td>150000</td>\n",
              "      <td>3</td>\n",
              "      <td>2</td>\n",
              "      <td>3</td>\n",
              "      <td>-1</td>\n",
              "      <td>-1</td>\n",
              "      <td>-1</td>\n",
              "      <td>-1</td>\n",
              "      <td>-1</td>\n",
              "      <td>-1</td>\n",
              "      <td>1683</td>\n",
              "      <td>1828</td>\n",
              "      <td>3502</td>\n",
              "      <td>8979</td>\n",
              "      <td>5190</td>\n",
              "      <td>0</td>\n",
              "      <td>1837</td>\n",
              "      <td>3526</td>\n",
              "      <td>8998</td>\n",
              "      <td>129</td>\n",
              "      <td>0</td>\n",
              "      <td>0</td>\n",
              "      <td>148317</td>\n",
              "      <td>148172</td>\n",
              "      <td>146498</td>\n",
              "      <td>141021</td>\n",
              "      <td>144810</td>\n",
              "      <td>150000</td>\n",
              "      <td>6692</td>\n",
              "      <td>0</td>\n",
              "    </tr>\n",
              "    <tr>\n",
              "      <th>5997</th>\n",
              "      <td>30000</td>\n",
              "      <td>2</td>\n",
              "      <td>2</td>\n",
              "      <td>2</td>\n",
              "      <td>4</td>\n",
              "      <td>3</td>\n",
              "      <td>2</td>\n",
              "      <td>-1</td>\n",
              "      <td>-1</td>\n",
              "      <td>-1</td>\n",
              "      <td>3565</td>\n",
              "      <td>3356</td>\n",
              "      <td>2758</td>\n",
              "      <td>20878</td>\n",
              "      <td>20582</td>\n",
              "      <td>19357</td>\n",
              "      <td>0</td>\n",
              "      <td>0</td>\n",
              "      <td>22000</td>\n",
              "      <td>4200</td>\n",
              "      <td>2000</td>\n",
              "      <td>3100</td>\n",
              "      <td>26435</td>\n",
              "      <td>26644</td>\n",
              "      <td>27242</td>\n",
              "      <td>9122</td>\n",
              "      <td>9418</td>\n",
              "      <td>10643</td>\n",
              "      <td>39196</td>\n",
              "      <td>1</td>\n",
              "    </tr>\n",
              "    <tr>\n",
              "      <th>5998</th>\n",
              "      <td>80000</td>\n",
              "      <td>3</td>\n",
              "      <td>1</td>\n",
              "      <td>3</td>\n",
              "      <td>1</td>\n",
              "      <td>-1</td>\n",
              "      <td>-1</td>\n",
              "      <td>-1</td>\n",
              "      <td>-1</td>\n",
              "      <td>-1</td>\n",
              "      <td>-1645</td>\n",
              "      <td>78379</td>\n",
              "      <td>76304</td>\n",
              "      <td>52774</td>\n",
              "      <td>11855</td>\n",
              "      <td>48944</td>\n",
              "      <td>85900</td>\n",
              "      <td>3409</td>\n",
              "      <td>1178</td>\n",
              "      <td>1926</td>\n",
              "      <td>52964</td>\n",
              "      <td>1804</td>\n",
              "      <td>81645</td>\n",
              "      <td>1621</td>\n",
              "      <td>3696</td>\n",
              "      <td>27226</td>\n",
              "      <td>68145</td>\n",
              "      <td>31056</td>\n",
              "      <td>119430</td>\n",
              "      <td>1</td>\n",
              "    </tr>\n",
              "    <tr>\n",
              "      <th>5999</th>\n",
              "      <td>50000</td>\n",
              "      <td>2</td>\n",
              "      <td>1</td>\n",
              "      <td>3</td>\n",
              "      <td>-1</td>\n",
              "      <td>-1</td>\n",
              "      <td>-1</td>\n",
              "      <td>-1</td>\n",
              "      <td>-1</td>\n",
              "      <td>-1</td>\n",
              "      <td>47929</td>\n",
              "      <td>48905</td>\n",
              "      <td>49764</td>\n",
              "      <td>36535</td>\n",
              "      <td>32428</td>\n",
              "      <td>15313</td>\n",
              "      <td>2078</td>\n",
              "      <td>1800</td>\n",
              "      <td>1430</td>\n",
              "      <td>1000</td>\n",
              "      <td>1000</td>\n",
              "      <td>1000</td>\n",
              "      <td>2071</td>\n",
              "      <td>1095</td>\n",
              "      <td>236</td>\n",
              "      <td>13465</td>\n",
              "      <td>17572</td>\n",
              "      <td>34687</td>\n",
              "      <td>222566</td>\n",
              "      <td>1</td>\n",
              "    </tr>\n",
              "  </tbody>\n",
              "</table>\n",
              "<p>6000 rows × 30 columns</p>\n",
              "</div>"
            ],
            "text/plain": [
              "      LIMIT_BAL  EDUCATION  SEX_MAR  ...  Closeness_6    diff  default\n",
              "0         50000          2        2  ...        29934  226811        0\n",
              "1         60000          2        2  ...        31153  273294        1\n",
              "2        400000          2        2  ...       390455   59932        0\n",
              "3         20000          4        2  ...          160  121926        0\n",
              "4         50000          3        2  ...        49880   32210        0\n",
              "...         ...        ...      ...  ...          ...     ...      ...\n",
              "5995     220000          3        1  ...       204020  682799        0\n",
              "5996     150000          3        2  ...       150000    6692        0\n",
              "5997      30000          2        2  ...        10643   39196        1\n",
              "5998      80000          3        1  ...        31056  119430        1\n",
              "5999      50000          2        1  ...        34687  222566        1\n",
              "\n",
              "[6000 rows x 30 columns]"
            ]
          },
          "metadata": {
            "tags": []
          },
          "execution_count": 230
        }
      ]
    },
    {
      "cell_type": "markdown",
      "metadata": {
        "id": "t2RgvDLp8wVZ"
      },
      "source": [
        "### **Dealing with an imabalanced dataset <br>**\n",
        "<font color='red'>\n",
        "Sorry i dont know how to put reference... i just leave it here for now ... sorry  <br>\n",
        "Reference: https://machinelearningmastery.com/smote-oversampling-for-imbalanced-classification/\n",
        "</font>"
      ]
    },
    {
      "cell_type": "markdown",
      "metadata": {
        "id": "ap198hs1Kbf4"
      },
      "source": [
        "The ratio of default to non-default is 2:8"
      ]
    },
    {
      "cell_type": "code",
      "metadata": {
        "id": "FR9AKW8685Qn",
        "colab": {
          "base_uri": "https://localhost:8080/",
          "height": 313
        },
        "outputId": "f69d9c29-1a30-4b12-9003-69f00e345129"
      },
      "source": [
        "print(Counter(transformed_train['default']))\n",
        "\n",
        "print(\"Probability of default is 1 in traing data: \", transformed_train['default'].sum() / len(transformed_train['default']))\n",
        "transformed_train['default'].value_counts().plot.bar()"
      ],
      "execution_count": 231,
      "outputs": [
        {
          "output_type": "stream",
          "text": [
            "Counter({0: 18630, 1: 5370})\n",
            "Probability of default is 1 in traing data:  0.22375\n"
          ],
          "name": "stdout"
        },
        {
          "output_type": "execute_result",
          "data": {
            "text/plain": [
              "<matplotlib.axes._subplots.AxesSubplot at 0x7f201aedab38>"
            ]
          },
          "metadata": {
            "tags": []
          },
          "execution_count": 231
        },
        {
          "output_type": "display_data",
          "data": {
            "image/png": "[encoded data removed]",
            "text/plain": [
              "<Figure size 432x288 with 1 Axes>"
            ]
          },
          "metadata": {
            "tags": [],
            "needs_background": "light"
          }
        }
      ]
    },
    {
      "cell_type": "markdown",
      "metadata": {
        "id": "XnVwNra885pI"
      },
      "source": [
        "In order to compare the performance of the **SMOTE** and **Borerline-SMOTE**, we generalised an imbalanced classes with 2 features"
      ]
    },
    {
      "cell_type": "markdown",
      "metadata": {
        "id": "d8P0Ej0X86Fw"
      },
      "source": [
        "Simulated data with 10000 samples and the radio of 0 and 1 is 0.99."
      ]
    },
    {
      "cell_type": "code",
      "metadata": {
        "id": "90xg2cCg86H1",
        "colab": {
          "base_uri": "https://localhost:8080/",
          "height": 282
        },
        "outputId": "1b41774e-2a1e-438f-9fd2-cbf0b571040d"
      },
      "source": [
        "X, y = make_classification(n_samples=10000, n_features=2, n_redundant=0, n_clusters_per_class=1, weights=[0.99], flip_y=0, random_state=1)\n",
        "counter = Counter(y)\n",
        "print(counter)\n",
        "for label, _ in counter.items():\n",
        "    row_ix = where(y == label)[0]\n",
        "    pyplot.scatter(X[row_ix, 0], X[row_ix, 1], label=str(label))\n",
        "pyplot.legend()\n",
        "pyplot.show()"
      ],
      "execution_count": 232,
      "outputs": [
        {
          "output_type": "stream",
          "text": [
            "Counter({0: 9900, 1: 100})\n"
          ],
          "name": "stdout"
        },
        {
          "output_type": "display_data",
          "data": {
            "image/png": "[encoded data removed]",
            "text/plain": [
              "<Figure size 432x288 with 1 Axes>"
            ]
          },
          "metadata": {
            "tags": [],
            "needs_background": "light"
          }
        }
      ]
    },
    {
      "cell_type": "markdown",
      "metadata": {
        "id": "zkFnLjGmKbf4"
      },
      "source": [
        "Handle the data by using SMOTE method and plot the scatter graph:"
      ]
    },
    {
      "cell_type": "code",
      "metadata": {
        "id": "QjiqKoS-86JU",
        "colab": {
          "base_uri": "https://localhost:8080/",
          "height": 336
        },
        "outputId": "58ecdcd4-f3cf-45b0-ed76-4ff4732b86ba"
      },
      "source": [
        "oversample = SMOTE()\n",
        "X_test_smote, y_test_smote = oversample.fit_sample(X, y)\n",
        "counter = Counter(y_test_smote)\n",
        "print(counter)\n",
        "for label, _ in counter.items():\n",
        "    row_ix = where(y_test_smote == label)[0]\n",
        "    pyplot.scatter(X_test_smote[row_ix, 0], X_test_smote[row_ix, 1], label=str(label))\n",
        "pyplot.legend()\n",
        "pyplot.show()\n"
      ],
      "execution_count": 233,
      "outputs": [
        {
          "output_type": "stream",
          "text": [
            "/usr/local/lib/python3.6/dist-packages/sklearn/utils/deprecation.py:87: FutureWarning: Function safe_indexing is deprecated; safe_indexing is deprecated in version 0.22 and will be removed in version 0.24.\n",
            "  warnings.warn(msg, category=FutureWarning)\n"
          ],
          "name": "stderr"
        },
        {
          "output_type": "stream",
          "text": [
            "Counter({0: 9900, 1: 9900})\n"
          ],
          "name": "stdout"
        },
        {
          "output_type": "display_data",
          "data": {
            "image/png": "[encoded data removed]",
            "text/plain": [
              "<Figure size 432x288 with 1 Axes>"
            ]
          },
          "metadata": {
            "tags": [],
            "needs_background": "light"
          }
        }
      ]
    },
    {
      "cell_type": "markdown",
      "metadata": {
        "id": "pTxEX4tSKbf5"
      },
      "source": [
        "From the graph, we can observe that all the minority samples are used to generate new synthetic data."
      ]
    },
    {
      "cell_type": "markdown",
      "metadata": {
        "id": "1HW6opmMKbf5"
      },
      "source": [
        "To improve the algorithm, we use Boarderline-SMOTE to regenerate the syntnetic samples:\n"
      ]
    },
    {
      "cell_type": "code",
      "metadata": {
        "colab": {
          "base_uri": "https://localhost:8080/",
          "height": 404
        },
        "id": "tYKtnOX2Kbf5",
        "outputId": "a9754d37-38f2-4245-a886-b6033db7f1f0"
      },
      "source": [
        "oversample = BorderlineSMOTE(random_state=42, kind=\"borderline-1\")\n",
        "X_test_BS, y_test_BS = oversample.fit_sample(X, y)\n",
        "counter = Counter(y_test_BS)\n",
        "print(counter)\n",
        "for label, _ in counter.items():\n",
        "    row_ix = where(y_test_BS == label)[0]\n",
        "    pyplot.scatter(X_test_BS[row_ix, 0], X_test_BS[row_ix, 1], label=str(label))\n",
        "pyplot.legend()\n",
        "pyplot.show()"
      ],
      "execution_count": 234,
      "outputs": [
        {
          "output_type": "stream",
          "text": [
            "/usr/local/lib/python3.6/dist-packages/sklearn/utils/deprecation.py:87: FutureWarning: Function safe_indexing is deprecated; safe_indexing is deprecated in version 0.22 and will be removed in version 0.24.\n",
            "  warnings.warn(msg, category=FutureWarning)\n",
            "/usr/local/lib/python3.6/dist-packages/sklearn/utils/deprecation.py:87: FutureWarning: Function safe_indexing is deprecated; safe_indexing is deprecated in version 0.22 and will be removed in version 0.24.\n",
            "  warnings.warn(msg, category=FutureWarning)\n",
            "/usr/local/lib/python3.6/dist-packages/sklearn/utils/deprecation.py:87: FutureWarning: Function safe_indexing is deprecated; safe_indexing is deprecated in version 0.22 and will be removed in version 0.24.\n",
            "  warnings.warn(msg, category=FutureWarning)\n"
          ],
          "name": "stderr"
        },
        {
          "output_type": "stream",
          "text": [
            "Counter({0: 9900, 1: 9900})\n"
          ],
          "name": "stdout"
        },
        {
          "output_type": "display_data",
          "data": {
            "image/png": "[encoded data removed]",
            "text/plain": [
              "<Figure size 432x288 with 1 Axes>"
            ]
          },
          "metadata": {
            "tags": [],
            "needs_background": "light"
          }
        }
      ]
    },
    {
      "cell_type": "markdown",
      "metadata": {
        "id": "YwK0w08kKbf5"
      },
      "source": [
        "After applying Borderline-SMOTE, minorty samples which are far away from the decision boundary are not taken to generate new synthetic samples. Minority samples which are overlapped with the majority samples are not used to generate new synthetic samples as well. "
      ]
    },
    {
      "cell_type": "markdown",
      "metadata": {
        "id": "W4xkLriYKbf5"
      },
      "source": [
        "As a result, we decided to apply borderline-SMOTE on Credit Card Default data:"
      ]
    },
    {
      "cell_type": "code",
      "metadata": {
        "id": "1mTe2BnPKbf5"
      },
      "source": [
        "# borderline_SMOTE provided data with less probability to overfit\n",
        "def Borderline_SMOTE(df):\n",
        "    oversample = BorderlineSMOTE(random_state=42, kind=\"borderline-1\")\n",
        "    y_train = df['default'].copy()\n",
        "    X_train = df.copy()\n",
        "    X_train = X_train.drop(['default'], axis = 1)\n",
        "    X_borderline_smote, y_borderline_smote = oversample.fit_sample(X_train, y_train)\n",
        "    counter = Counter(y_borderline_smote)\n",
        "    print(counter)\n",
        "    print(\"Probability of default is 1: \", y_borderline_smote.sum() / len(y_borderline_smote))\n",
        "    print(X_borderline_smote.shape)\n",
        "    \n",
        "    return X_borderline_smote, y_borderline_smote"
      ],
      "execution_count": 235,
      "outputs": []
    },
    {
      "cell_type": "code",
      "metadata": {
        "colab": {
          "base_uri": "https://localhost:8080/"
        },
        "id": "XDWzY2_SKbf5",
        "outputId": "29a93952-c838-4e20-cabb-e57183d4e5d7"
      },
      "source": [
        "X_train_oversampled, y_train_oversampled = Borderline_SMOTE(transformed_train)"
      ],
      "execution_count": 236,
      "outputs": [
        {
          "output_type": "stream",
          "text": [
            "/usr/local/lib/python3.6/dist-packages/sklearn/utils/deprecation.py:87: FutureWarning: Function safe_indexing is deprecated; safe_indexing is deprecated in version 0.22 and will be removed in version 0.24.\n",
            "  warnings.warn(msg, category=FutureWarning)\n",
            "/usr/local/lib/python3.6/dist-packages/sklearn/utils/deprecation.py:87: FutureWarning: Function safe_indexing is deprecated; safe_indexing is deprecated in version 0.22 and will be removed in version 0.24.\n",
            "  warnings.warn(msg, category=FutureWarning)\n",
            "/usr/local/lib/python3.6/dist-packages/sklearn/utils/deprecation.py:87: FutureWarning: Function safe_indexing is deprecated; safe_indexing is deprecated in version 0.22 and will be removed in version 0.24.\n",
            "  warnings.warn(msg, category=FutureWarning)\n"
          ],
          "name": "stderr"
        },
        {
          "output_type": "stream",
          "text": [
            "Counter({1: 18630, 0: 18630})\n",
            "Probability of default is 1:  0.5\n",
            "(37260, 29)\n"
          ],
          "name": "stdout"
        }
      ]
    },
    {
      "cell_type": "code",
      "metadata": {
        "colab": {
          "base_uri": "https://localhost:8080/",
          "height": 439
        },
        "id": "bifr_bZ5Kbf5",
        "outputId": "0f67e4cf-c037-4810-9bf1-beafe51ec68a"
      },
      "source": [
        "pd.DataFrame(X_train_oversampled, columns=['LIMIT_BAL', 'EDUCATION', 'SEX_MAR', 'AgeBin', \\\n",
        "                    'PAY_1', 'PAY_2', 'PAY_3', 'PAY_4', 'PAY_5', 'PAY_6',\\\n",
        "                    'BILL_AMT1', 'BILL_AMT2', 'BILL_AMT3', 'BILL_AMT4', 'BILL_AMT5', 'BILL_AMT6',\\\n",
        "                    'PAY_AMT1', 'PAY_AMT2', 'PAY_AMT3', 'PAY_AMT4', 'PAY_AMT5', 'PAY_AMT6',\\\n",
        "                    'Closeness_1', 'Closeness_2', 'Closeness_3', 'Closeness_4','Closeness_5', 'Closeness_6',\\\n",
        "                    'diff'\n",
        "                   ])"
      ],
      "execution_count": 237,
      "outputs": [
        {
          "output_type": "execute_result",
          "data": {
            "text/html": [
              "<div>\n",
              "<style scoped>\n",
              "    .dataframe tbody tr th:only-of-type {\n",
              "        vertical-align: middle;\n",
              "    }\n",
              "\n",
              "    .dataframe tbody tr th {\n",
              "        vertical-align: top;\n",
              "    }\n",
              "\n",
              "    .dataframe thead th {\n",
              "        text-align: right;\n",
              "    }\n",
              "</style>\n",
              "<table border=\"1\" class=\"dataframe\">\n",
              "  <thead>\n",
              "    <tr style=\"text-align: right;\">\n",
              "      <th></th>\n",
              "      <th>LIMIT_BAL</th>\n",
              "      <th>EDUCATION</th>\n",
              "      <th>SEX_MAR</th>\n",
              "      <th>AgeBin</th>\n",
              "      <th>PAY_1</th>\n",
              "      <th>PAY_2</th>\n",
              "      <th>PAY_3</th>\n",
              "      <th>PAY_4</th>\n",
              "      <th>PAY_5</th>\n",
              "      <th>PAY_6</th>\n",
              "      <th>BILL_AMT1</th>\n",
              "      <th>BILL_AMT2</th>\n",
              "      <th>BILL_AMT3</th>\n",
              "      <th>BILL_AMT4</th>\n",
              "      <th>BILL_AMT5</th>\n",
              "      <th>BILL_AMT6</th>\n",
              "      <th>PAY_AMT1</th>\n",
              "      <th>PAY_AMT2</th>\n",
              "      <th>PAY_AMT3</th>\n",
              "      <th>PAY_AMT4</th>\n",
              "      <th>PAY_AMT5</th>\n",
              "      <th>PAY_AMT6</th>\n",
              "      <th>Closeness_1</th>\n",
              "      <th>Closeness_2</th>\n",
              "      <th>Closeness_3</th>\n",
              "      <th>Closeness_4</th>\n",
              "      <th>Closeness_5</th>\n",
              "      <th>Closeness_6</th>\n",
              "      <th>diff</th>\n",
              "    </tr>\n",
              "  </thead>\n",
              "  <tbody>\n",
              "    <tr>\n",
              "      <th>0</th>\n",
              "      <td>20000</td>\n",
              "      <td>2</td>\n",
              "      <td>2</td>\n",
              "      <td>1</td>\n",
              "      <td>2</td>\n",
              "      <td>2</td>\n",
              "      <td>-1</td>\n",
              "      <td>-1</td>\n",
              "      <td>-2</td>\n",
              "      <td>-2</td>\n",
              "      <td>3913</td>\n",
              "      <td>3102</td>\n",
              "      <td>689</td>\n",
              "      <td>0</td>\n",
              "      <td>0</td>\n",
              "      <td>0</td>\n",
              "      <td>0</td>\n",
              "      <td>689</td>\n",
              "      <td>0</td>\n",
              "      <td>0</td>\n",
              "      <td>0</td>\n",
              "      <td>0</td>\n",
              "      <td>16087</td>\n",
              "      <td>16898</td>\n",
              "      <td>19311</td>\n",
              "      <td>20000</td>\n",
              "      <td>20000</td>\n",
              "      <td>20000</td>\n",
              "      <td>7015</td>\n",
              "    </tr>\n",
              "    <tr>\n",
              "      <th>1</th>\n",
              "      <td>120000</td>\n",
              "      <td>2</td>\n",
              "      <td>4</td>\n",
              "      <td>1</td>\n",
              "      <td>-1</td>\n",
              "      <td>2</td>\n",
              "      <td>-1</td>\n",
              "      <td>-1</td>\n",
              "      <td>-1</td>\n",
              "      <td>2</td>\n",
              "      <td>2682</td>\n",
              "      <td>1725</td>\n",
              "      <td>2682</td>\n",
              "      <td>3272</td>\n",
              "      <td>3455</td>\n",
              "      <td>3261</td>\n",
              "      <td>0</td>\n",
              "      <td>1000</td>\n",
              "      <td>1000</td>\n",
              "      <td>1000</td>\n",
              "      <td>0</td>\n",
              "      <td>2000</td>\n",
              "      <td>117318</td>\n",
              "      <td>118275</td>\n",
              "      <td>117318</td>\n",
              "      <td>116728</td>\n",
              "      <td>116545</td>\n",
              "      <td>116739</td>\n",
              "      <td>12077</td>\n",
              "    </tr>\n",
              "    <tr>\n",
              "      <th>2</th>\n",
              "      <td>90000</td>\n",
              "      <td>2</td>\n",
              "      <td>4</td>\n",
              "      <td>2</td>\n",
              "      <td>-1</td>\n",
              "      <td>-1</td>\n",
              "      <td>-1</td>\n",
              "      <td>-1</td>\n",
              "      <td>-1</td>\n",
              "      <td>-1</td>\n",
              "      <td>29239</td>\n",
              "      <td>14027</td>\n",
              "      <td>13559</td>\n",
              "      <td>14331</td>\n",
              "      <td>14948</td>\n",
              "      <td>15549</td>\n",
              "      <td>1518</td>\n",
              "      <td>1500</td>\n",
              "      <td>1000</td>\n",
              "      <td>1000</td>\n",
              "      <td>1000</td>\n",
              "      <td>5000</td>\n",
              "      <td>60761</td>\n",
              "      <td>75973</td>\n",
              "      <td>76441</td>\n",
              "      <td>75669</td>\n",
              "      <td>75052</td>\n",
              "      <td>74451</td>\n",
              "      <td>90635</td>\n",
              "    </tr>\n",
              "    <tr>\n",
              "      <th>3</th>\n",
              "      <td>50000</td>\n",
              "      <td>2</td>\n",
              "      <td>2</td>\n",
              "      <td>2</td>\n",
              "      <td>-1</td>\n",
              "      <td>-1</td>\n",
              "      <td>-1</td>\n",
              "      <td>-1</td>\n",
              "      <td>-1</td>\n",
              "      <td>-1</td>\n",
              "      <td>46990</td>\n",
              "      <td>48233</td>\n",
              "      <td>49291</td>\n",
              "      <td>28314</td>\n",
              "      <td>28959</td>\n",
              "      <td>29547</td>\n",
              "      <td>2000</td>\n",
              "      <td>2019</td>\n",
              "      <td>1200</td>\n",
              "      <td>1100</td>\n",
              "      <td>1069</td>\n",
              "      <td>1000</td>\n",
              "      <td>3010</td>\n",
              "      <td>1767</td>\n",
              "      <td>709</td>\n",
              "      <td>21686</td>\n",
              "      <td>21041</td>\n",
              "      <td>20453</td>\n",
              "      <td>222946</td>\n",
              "    </tr>\n",
              "    <tr>\n",
              "      <th>4</th>\n",
              "      <td>50000</td>\n",
              "      <td>2</td>\n",
              "      <td>1</td>\n",
              "      <td>4</td>\n",
              "      <td>-1</td>\n",
              "      <td>-1</td>\n",
              "      <td>-1</td>\n",
              "      <td>-1</td>\n",
              "      <td>-1</td>\n",
              "      <td>-1</td>\n",
              "      <td>8617</td>\n",
              "      <td>5670</td>\n",
              "      <td>35835</td>\n",
              "      <td>20940</td>\n",
              "      <td>19146</td>\n",
              "      <td>19131</td>\n",
              "      <td>2000</td>\n",
              "      <td>36681</td>\n",
              "      <td>10000</td>\n",
              "      <td>9000</td>\n",
              "      <td>689</td>\n",
              "      <td>679</td>\n",
              "      <td>41383</td>\n",
              "      <td>44330</td>\n",
              "      <td>14165</td>\n",
              "      <td>29060</td>\n",
              "      <td>30854</td>\n",
              "      <td>30869</td>\n",
              "      <td>50290</td>\n",
              "    </tr>\n",
              "    <tr>\n",
              "      <th>...</th>\n",
              "      <td>...</td>\n",
              "      <td>...</td>\n",
              "      <td>...</td>\n",
              "      <td>...</td>\n",
              "      <td>...</td>\n",
              "      <td>...</td>\n",
              "      <td>...</td>\n",
              "      <td>...</td>\n",
              "      <td>...</td>\n",
              "      <td>...</td>\n",
              "      <td>...</td>\n",
              "      <td>...</td>\n",
              "      <td>...</td>\n",
              "      <td>...</td>\n",
              "      <td>...</td>\n",
              "      <td>...</td>\n",
              "      <td>...</td>\n",
              "      <td>...</td>\n",
              "      <td>...</td>\n",
              "      <td>...</td>\n",
              "      <td>...</td>\n",
              "      <td>...</td>\n",
              "      <td>...</td>\n",
              "      <td>...</td>\n",
              "      <td>...</td>\n",
              "      <td>...</td>\n",
              "      <td>...</td>\n",
              "      <td>...</td>\n",
              "      <td>...</td>\n",
              "    </tr>\n",
              "    <tr>\n",
              "      <th>37255</th>\n",
              "      <td>30000</td>\n",
              "      <td>1</td>\n",
              "      <td>2</td>\n",
              "      <td>1</td>\n",
              "      <td>0</td>\n",
              "      <td>2</td>\n",
              "      <td>2</td>\n",
              "      <td>0</td>\n",
              "      <td>0</td>\n",
              "      <td>0</td>\n",
              "      <td>1148</td>\n",
              "      <td>1794</td>\n",
              "      <td>1083</td>\n",
              "      <td>1083</td>\n",
              "      <td>1189</td>\n",
              "      <td>1002</td>\n",
              "      <td>773</td>\n",
              "      <td>0</td>\n",
              "      <td>0</td>\n",
              "      <td>691</td>\n",
              "      <td>105</td>\n",
              "      <td>0</td>\n",
              "      <td>28851</td>\n",
              "      <td>28205</td>\n",
              "      <td>28916</td>\n",
              "      <td>28916</td>\n",
              "      <td>28810</td>\n",
              "      <td>28997</td>\n",
              "      <td>5731</td>\n",
              "    </tr>\n",
              "    <tr>\n",
              "      <th>37256</th>\n",
              "      <td>50000</td>\n",
              "      <td>2</td>\n",
              "      <td>1</td>\n",
              "      <td>2</td>\n",
              "      <td>2</td>\n",
              "      <td>2</td>\n",
              "      <td>2</td>\n",
              "      <td>2</td>\n",
              "      <td>2</td>\n",
              "      <td>2</td>\n",
              "      <td>39086</td>\n",
              "      <td>39865</td>\n",
              "      <td>40698</td>\n",
              "      <td>41430</td>\n",
              "      <td>42113</td>\n",
              "      <td>43921</td>\n",
              "      <td>1709</td>\n",
              "      <td>1781</td>\n",
              "      <td>1700</td>\n",
              "      <td>1573</td>\n",
              "      <td>2642</td>\n",
              "      <td>0</td>\n",
              "      <td>10913</td>\n",
              "      <td>10134</td>\n",
              "      <td>9301</td>\n",
              "      <td>8569</td>\n",
              "      <td>7886</td>\n",
              "      <td>6078</td>\n",
              "      <td>237708</td>\n",
              "    </tr>\n",
              "    <tr>\n",
              "      <th>37257</th>\n",
              "      <td>210000</td>\n",
              "      <td>1</td>\n",
              "      <td>2</td>\n",
              "      <td>3</td>\n",
              "      <td>-1</td>\n",
              "      <td>-1</td>\n",
              "      <td>-1</td>\n",
              "      <td>-1</td>\n",
              "      <td>-1</td>\n",
              "      <td>-1</td>\n",
              "      <td>216</td>\n",
              "      <td>216</td>\n",
              "      <td>216</td>\n",
              "      <td>216</td>\n",
              "      <td>258</td>\n",
              "      <td>216</td>\n",
              "      <td>216</td>\n",
              "      <td>216</td>\n",
              "      <td>216</td>\n",
              "      <td>258</td>\n",
              "      <td>175</td>\n",
              "      <td>216</td>\n",
              "      <td>209783</td>\n",
              "      <td>209783</td>\n",
              "      <td>209783</td>\n",
              "      <td>209783</td>\n",
              "      <td>209741</td>\n",
              "      <td>209783</td>\n",
              "      <td>41</td>\n",
              "    </tr>\n",
              "    <tr>\n",
              "      <th>37258</th>\n",
              "      <td>490000</td>\n",
              "      <td>1</td>\n",
              "      <td>1</td>\n",
              "      <td>3</td>\n",
              "      <td>-1</td>\n",
              "      <td>-1</td>\n",
              "      <td>-1</td>\n",
              "      <td>-1</td>\n",
              "      <td>-1</td>\n",
              "      <td>-1</td>\n",
              "      <td>12444</td>\n",
              "      <td>6985</td>\n",
              "      <td>5292</td>\n",
              "      <td>3222</td>\n",
              "      <td>2733</td>\n",
              "      <td>8791</td>\n",
              "      <td>6985</td>\n",
              "      <td>5556</td>\n",
              "      <td>3222</td>\n",
              "      <td>2733</td>\n",
              "      <td>8791</td>\n",
              "      <td>3486</td>\n",
              "      <td>477555</td>\n",
              "      <td>483014</td>\n",
              "      <td>484707</td>\n",
              "      <td>486777</td>\n",
              "      <td>487266</td>\n",
              "      <td>481208</td>\n",
              "      <td>8693</td>\n",
              "    </tr>\n",
              "    <tr>\n",
              "      <th>37259</th>\n",
              "      <td>260000</td>\n",
              "      <td>1</td>\n",
              "      <td>1</td>\n",
              "      <td>2</td>\n",
              "      <td>-1</td>\n",
              "      <td>-1</td>\n",
              "      <td>-1</td>\n",
              "      <td>-1</td>\n",
              "      <td>-1</td>\n",
              "      <td>-1</td>\n",
              "      <td>8657</td>\n",
              "      <td>1933</td>\n",
              "      <td>13236</td>\n",
              "      <td>8486</td>\n",
              "      <td>6612</td>\n",
              "      <td>4599</td>\n",
              "      <td>1936</td>\n",
              "      <td>13277</td>\n",
              "      <td>1791</td>\n",
              "      <td>2463</td>\n",
              "      <td>1815</td>\n",
              "      <td>5392</td>\n",
              "      <td>251342</td>\n",
              "      <td>258066</td>\n",
              "      <td>246763</td>\n",
              "      <td>251513</td>\n",
              "      <td>253387</td>\n",
              "      <td>255400</td>\n",
              "      <td>16848</td>\n",
              "    </tr>\n",
              "  </tbody>\n",
              "</table>\n",
              "<p>37260 rows × 29 columns</p>\n",
              "</div>"
            ],
            "text/plain": [
              "       LIMIT_BAL  EDUCATION  SEX_MAR  ...  Closeness_5  Closeness_6    diff\n",
              "0          20000          2        2  ...        20000        20000    7015\n",
              "1         120000          2        4  ...       116545       116739   12077\n",
              "2          90000          2        4  ...        75052        74451   90635\n",
              "3          50000          2        2  ...        21041        20453  222946\n",
              "4          50000          2        1  ...        30854        30869   50290\n",
              "...          ...        ...      ...  ...          ...          ...     ...\n",
              "37255      30000          1        2  ...        28810        28997    5731\n",
              "37256      50000          2        1  ...         7886         6078  237708\n",
              "37257     210000          1        2  ...       209741       209783      41\n",
              "37258     490000          1        1  ...       487266       481208    8693\n",
              "37259     260000          1        1  ...       253387       255400   16848\n",
              "\n",
              "[37260 rows x 29 columns]"
            ]
          },
          "metadata": {
            "tags": []
          },
          "execution_count": 237
        }
      ]
    },
    {
      "cell_type": "code",
      "metadata": {
        "colab": {
          "base_uri": "https://localhost:8080/",
          "height": 419
        },
        "id": "SPDESGVCKbf6",
        "outputId": "cfec11aa-47e3-490e-8917-71b0fa6ced78"
      },
      "source": [
        "pd.DataFrame(y_train_oversampled, columns=['default'])"
      ],
      "execution_count": 238,
      "outputs": [
        {
          "output_type": "execute_result",
          "data": {
            "text/html": [
              "<div>\n",
              "<style scoped>\n",
              "    .dataframe tbody tr th:only-of-type {\n",
              "        vertical-align: middle;\n",
              "    }\n",
              "\n",
              "    .dataframe tbody tr th {\n",
              "        vertical-align: top;\n",
              "    }\n",
              "\n",
              "    .dataframe thead th {\n",
              "        text-align: right;\n",
              "    }\n",
              "</style>\n",
              "<table border=\"1\" class=\"dataframe\">\n",
              "  <thead>\n",
              "    <tr style=\"text-align: right;\">\n",
              "      <th></th>\n",
              "      <th>default</th>\n",
              "    </tr>\n",
              "  </thead>\n",
              "  <tbody>\n",
              "    <tr>\n",
              "      <th>0</th>\n",
              "      <td>1</td>\n",
              "    </tr>\n",
              "    <tr>\n",
              "      <th>1</th>\n",
              "      <td>1</td>\n",
              "    </tr>\n",
              "    <tr>\n",
              "      <th>2</th>\n",
              "      <td>0</td>\n",
              "    </tr>\n",
              "    <tr>\n",
              "      <th>3</th>\n",
              "      <td>0</td>\n",
              "    </tr>\n",
              "    <tr>\n",
              "      <th>4</th>\n",
              "      <td>0</td>\n",
              "    </tr>\n",
              "    <tr>\n",
              "      <th>...</th>\n",
              "      <td>...</td>\n",
              "    </tr>\n",
              "    <tr>\n",
              "      <th>37255</th>\n",
              "      <td>1</td>\n",
              "    </tr>\n",
              "    <tr>\n",
              "      <th>37256</th>\n",
              "      <td>1</td>\n",
              "    </tr>\n",
              "    <tr>\n",
              "      <th>37257</th>\n",
              "      <td>1</td>\n",
              "    </tr>\n",
              "    <tr>\n",
              "      <th>37258</th>\n",
              "      <td>1</td>\n",
              "    </tr>\n",
              "    <tr>\n",
              "      <th>37259</th>\n",
              "      <td>1</td>\n",
              "    </tr>\n",
              "  </tbody>\n",
              "</table>\n",
              "<p>37260 rows × 1 columns</p>\n",
              "</div>"
            ],
            "text/plain": [
              "       default\n",
              "0            1\n",
              "1            1\n",
              "2            0\n",
              "3            0\n",
              "4            0\n",
              "...        ...\n",
              "37255        1\n",
              "37256        1\n",
              "37257        1\n",
              "37258        1\n",
              "37259        1\n",
              "\n",
              "[37260 rows x 1 columns]"
            ]
          },
          "metadata": {
            "tags": []
          },
          "execution_count": 238
        }
      ]
    },
    {
      "cell_type": "markdown",
      "metadata": {
        "id": "x3__76ErW1b2"
      },
      "source": [
        "### **Split Test Data**"
      ]
    },
    {
      "cell_type": "code",
      "metadata": {
        "id": "AmWJ_sVZWy-t"
      },
      "source": [
        "x_test = transformed_test.copy()\n",
        "x_test = x_test.drop(['default'], axis = 1)\n",
        "\n",
        "y_test = transformed_test['default'].copy()"
      ],
      "execution_count": 239,
      "outputs": []
    },
    {
      "cell_type": "markdown",
      "metadata": {
        "id": "6ET4dkQ8l3tg"
      },
      "source": [
        "### **Feature scaling: Normalisation or Standardization**\n",
        "\n",
        "NOTE:  \n",
        "Feature scaling of train data (SMOTEed) has to be done with test data with the same scale"
      ]
    },
    {
      "cell_type": "code",
      "metadata": {
        "id": "dBQGZZwH9HfM",
        "colab": {
          "base_uri": "https://localhost:8080/"
        },
        "outputId": "d68bbcdd-cc01-4095-9a06-e9b90dd365ff"
      },
      "source": [
        "### Feature scaling ###\n",
        "scaler = MinMaxScaler().fit(X_train_oversampled)\n",
        "x_train, x_test = scaler.transform(X_train_oversampled), scaler.transform(x_test)\n",
        "\n",
        "y_train = y_train_oversampled\n",
        "\n",
        "print(\"scaled numerical values\")"
      ],
      "execution_count": 240,
      "outputs": [
        {
          "output_type": "stream",
          "text": [
            "scaled numerical values\n"
          ],
          "name": "stdout"
        }
      ]
    },
    {
      "cell_type": "markdown",
      "metadata": {
        "id": "vrXd8X7POe0R"
      },
      "source": [
        "# **4. Methodology**"
      ]
    },
    {
      "cell_type": "code",
      "metadata": {
        "id": "TIjNXsQXYmzA"
      },
      "source": [
        "# used in 4.1, 4.2, 4.3\n",
        "def train_and_cross_validate(model, n_splits=5):\n",
        "    n_iter = 1      # this var is made just to keep track of the number of iteration\n",
        "    kfold = KFold(n_splits=n_splits)\n",
        "    cv_accuracy = []\n",
        "\n",
        "    for train_idx, val_idx in kfold.split(x_train):\n",
        "        x_train_cv, x_val = x_train[train_idx], x_train[val_idx]\n",
        "        y_train_cv, y_val = y_train[train_idx], y_train[val_idx]\n",
        "\n",
        "        model.train(x_train_cv, y_train_cv)\n",
        "        pred = model.predict(x_val)\n",
        "\n",
        "        accuracy = np.round(accuracy_score(y_val, pred), 3)\n",
        "\n",
        "        print(\"Iteration : {}, Cross-Validation Accuracy : {}\".format(n_iter, accuracy))\n",
        "\n",
        "        n_iter += 1\n",
        "\n",
        "        cv_accuracy.append(accuracy)\n",
        "\n",
        "    print(\"Average accuracy : \", np.mean(cv_accuracy))"
      ],
      "execution_count": 242,
      "outputs": []
    },
    {
      "cell_type": "markdown",
      "metadata": {
        "id": "A5nZqT18ntij"
      },
      "source": [
        "## **4.1 Adaboost**"
      ]
    },
    {
      "cell_type": "markdown",
      "metadata": {
        "id": "SPODt9CEcvl7"
      },
      "source": [
        "### **4.1.1 Model Training**"
      ]
    },
    {
      "cell_type": "code",
      "metadata": {
        "id": "oVn33isyPIFv"
      },
      "source": [
        "class adaboost(object):\n",
        "    def __init__(self):\n",
        "        # build the model\n",
        "        self.model  = ensemble.AdaBoostClassifier(n_estimators=200,learning_rate=0.001)\n",
        "\n",
        "    def train(self,x_train,y_train):\n",
        "        # training\n",
        "        self.model.fit(x_train,y_train)\n",
        "\n",
        "    def predict(self,x_test):\n",
        "        # predicting\n",
        "        y_pred = self.model.predict(x_test)\n",
        "\n",
        "        return y_pred"
      ],
      "execution_count": 243,
      "outputs": []
    },
    {
      "cell_type": "code",
      "metadata": {
        "id": "Rg1QCXP3YtkH"
      },
      "source": [
        "adaboost_model = adaboost()"
      ],
      "execution_count": 244,
      "outputs": []
    },
    {
      "cell_type": "code",
      "metadata": {
        "colab": {
          "base_uri": "https://localhost:8080/"
        },
        "id": "pY-viT9bYw5O",
        "outputId": "6a95c0c3-1023-4205-fdfc-9c2e33066a57"
      },
      "source": [
        "train_and_cross_validate(adaboost_model)"
      ],
      "execution_count": 245,
      "outputs": [
        {
          "output_type": "stream",
          "text": [
            "Iteration : 1, Cross-Validation Accuracy : 0.766\n",
            "Iteration : 2, Cross-Validation Accuracy : 0.77\n",
            "Iteration : 3, Cross-Validation Accuracy : 0.79\n",
            "Iteration : 4, Cross-Validation Accuracy : 0.731\n",
            "Iteration : 5, Cross-Validation Accuracy : 0.713\n",
            "Average accuracy :  0.754\n"
          ],
          "name": "stdout"
        }
      ]
    },
    {
      "cell_type": "markdown",
      "metadata": {
        "id": "W02Ta8TRZKCo"
      },
      "source": [
        "### **4.1.2 Results**"
      ]
    },
    {
      "cell_type": "code",
      "metadata": {
        "id": "YDT6-W2UZPee"
      },
      "source": [
        "# prediction\n",
        "y_pred_adaboost = adaboost_model.predict(x_test)"
      ],
      "execution_count": 246,
      "outputs": []
    },
    {
      "cell_type": "code",
      "metadata": {
        "colab": {
          "base_uri": "https://localhost:8080/"
        },
        "id": "dWApacy_ZZ7a",
        "outputId": "2455ab4e-62c2-4842-a85b-a0a96eb862c5"
      },
      "source": [
        "# Obtain the f1 score and report for three methods\n",
        "print(f1_score(y_test,y_pred_adaboost))"
      ],
      "execution_count": 247,
      "outputs": [
        {
          "output_type": "stream",
          "text": [
            "0.5122336227308603\n"
          ],
          "name": "stdout"
        }
      ]
    },
    {
      "cell_type": "code",
      "metadata": {
        "colab": {
          "base_uri": "https://localhost:8080/"
        },
        "id": "Z2uJt2IwZd1L",
        "outputId": "4a641942-4a99-4a3e-a681-e636c105cca0"
      },
      "source": [
        "print(classification_report(y_test,y_pred_adaboost))"
      ],
      "execution_count": 248,
      "outputs": [
        {
          "output_type": "stream",
          "text": [
            "              precision    recall  f1-score   support\n",
            "\n",
            "           0       0.87      0.87      0.87      4734\n",
            "           1       0.51      0.51      0.51      1266\n",
            "\n",
            "    accuracy                           0.79      6000\n",
            "   macro avg       0.69      0.69      0.69      6000\n",
            "weighted avg       0.79      0.79      0.79      6000\n",
            "\n"
          ],
          "name": "stdout"
        }
      ]
    },
    {
      "cell_type": "markdown",
      "metadata": {
        "id": "kz7_VHWTn1AT"
      },
      "source": [
        "## **4.2 Random Forest**"
      ]
    },
    {
      "cell_type": "markdown",
      "metadata": {
        "id": "T6y3SWT2coMO"
      },
      "source": [
        "### **4.2.1 Model Traning**"
      ]
    },
    {
      "cell_type": "code",
      "metadata": {
        "id": "8RfvbFJwPNND"
      },
      "source": [
        "class random_forest(object):\n",
        "    def __init__(self):\n",
        "        # create the model\n",
        "        self.model = ensemble.BaggingClassifier(KNeighborsClassifier(), n_estimators=200, max_samples=0.5,max_features=0.5)\n",
        "\n",
        "    def train(self,x_train,y_train):\n",
        "        # training\n",
        "        self.model.fit(x_train,y_train)\n",
        "\n",
        "    def predict(self,x_test):\n",
        "        # predicting\n",
        "        y_pred = self.model.predict(x_test)\n",
        "        return y_pred"
      ],
      "execution_count": 249,
      "outputs": []
    },
    {
      "cell_type": "code",
      "metadata": {
        "id": "Bfmu-6bTaqjx"
      },
      "source": [
        "random_forest_model = random_forest()"
      ],
      "execution_count": 250,
      "outputs": []
    },
    {
      "cell_type": "code",
      "metadata": {
        "colab": {
          "base_uri": "https://localhost:8080/"
        },
        "id": "vEiFXVCuaudl",
        "outputId": "5fec40fe-f304-4d56-b139-26ae10534f11"
      },
      "source": [
        "train_and_cross_validate(random_forest_model)"
      ],
      "execution_count": 251,
      "outputs": [
        {
          "output_type": "stream",
          "text": [
            "Iteration : 1, Cross-Validation Accuracy : 0.744\n",
            "Iteration : 2, Cross-Validation Accuracy : 0.749\n",
            "Iteration : 3, Cross-Validation Accuracy : 0.765\n",
            "Iteration : 4, Cross-Validation Accuracy : 0.873\n",
            "Iteration : 5, Cross-Validation Accuracy : 0.85\n",
            "Average accuracy :  0.7962\n"
          ],
          "name": "stdout"
        }
      ]
    },
    {
      "cell_type": "markdown",
      "metadata": {
        "id": "d71OwHxfbcaK"
      },
      "source": [
        "### **4.2.2 Results**"
      ]
    },
    {
      "cell_type": "code",
      "metadata": {
        "id": "fGm-FGfFbD0x"
      },
      "source": [
        "# prediction\n",
        "y_pred_random_forest = random_forest_model.predict(x_test)"
      ],
      "execution_count": 252,
      "outputs": []
    },
    {
      "cell_type": "code",
      "metadata": {
        "colab": {
          "base_uri": "https://localhost:8080/"
        },
        "id": "T5vFUApebjKw",
        "outputId": "1b8b0aeb-2d01-4535-a9eb-3c9aacc516ae"
      },
      "source": [
        "# Obtain the f1 score and report for three methods\n",
        "print(f1_score(y_test,y_pred_random_forest))"
      ],
      "execution_count": 253,
      "outputs": [
        {
          "output_type": "stream",
          "text": [
            "0.47188851513695335\n"
          ],
          "name": "stdout"
        }
      ]
    },
    {
      "cell_type": "code",
      "metadata": {
        "colab": {
          "base_uri": "https://localhost:8080/"
        },
        "id": "J3F6hE79bmGp",
        "outputId": "0772e372-ac9a-46a1-bffd-b5624103defd"
      },
      "source": [
        "print(classification_report(y_test,y_pred_random_forest))"
      ],
      "execution_count": 254,
      "outputs": [
        {
          "output_type": "stream",
          "text": [
            "              precision    recall  f1-score   support\n",
            "\n",
            "           0       0.85      0.93      0.89      4734\n",
            "           1       0.60      0.39      0.47      1266\n",
            "\n",
            "    accuracy                           0.82      6000\n",
            "   macro avg       0.73      0.66      0.68      6000\n",
            "weighted avg       0.80      0.82      0.80      6000\n",
            "\n"
          ],
          "name": "stdout"
        }
      ]
    },
    {
      "cell_type": "markdown",
      "metadata": {
        "id": "am0cMNQZn8qU"
      },
      "source": [
        "## **4.3 GBRT**"
      ]
    },
    {
      "cell_type": "markdown",
      "metadata": {
        "id": "dJJ-zM3VcfxN"
      },
      "source": [
        "### **4.3.1 Model Training**"
      ]
    },
    {
      "cell_type": "code",
      "metadata": {
        "id": "r681GPFCPRmj"
      },
      "source": [
        "class GBRT(object):\n",
        "    def __init__(self):\n",
        "        # create the model\n",
        "        self.model = ensemble.GradientBoostingClassifier(n_estimators=200)\n",
        "\n",
        "    def train(self,x_train,y_train):\n",
        "        # training\n",
        "        self.model.fit(x_train,y_train)\n",
        "\n",
        "    def predict(self,x_test):\n",
        "        # predicting\n",
        "        y_pred = self.model.predict(x_test)\n",
        "        return y_pred"
      ],
      "execution_count": 255,
      "outputs": []
    },
    {
      "cell_type": "code",
      "metadata": {
        "id": "KpnX-EGycADl"
      },
      "source": [
        "GBRT_model = GBRT()"
      ],
      "execution_count": 256,
      "outputs": []
    },
    {
      "cell_type": "code",
      "metadata": {
        "colab": {
          "base_uri": "https://localhost:8080/"
        },
        "id": "RPAScMzYcB9Q",
        "outputId": "6234ebfb-7ac8-4415-92f8-054a3bb39afb"
      },
      "source": [
        "train_and_cross_validate(GBRT_model)"
      ],
      "execution_count": 257,
      "outputs": [
        {
          "output_type": "stream",
          "text": [
            "Iteration : 1, Cross-Validation Accuracy : 0.766\n",
            "Iteration : 2, Cross-Validation Accuracy : 0.767\n",
            "Iteration : 3, Cross-Validation Accuracy : 0.794\n",
            "Iteration : 4, Cross-Validation Accuracy : 0.856\n",
            "Iteration : 5, Cross-Validation Accuracy : 0.837\n",
            "Average accuracy :  0.8039999999999999\n"
          ],
          "name": "stdout"
        }
      ]
    },
    {
      "cell_type": "markdown",
      "metadata": {
        "id": "8lnGN5-_PeUN"
      },
      "source": [
        "### **4.3.2 Results**"
      ]
    },
    {
      "cell_type": "code",
      "metadata": {
        "id": "dAqRUU1RbTrS"
      },
      "source": [
        "# prediction\n",
        "y_pred_GBRT = GBRT_model.predict(x_test)"
      ],
      "execution_count": 258,
      "outputs": []
    },
    {
      "cell_type": "code",
      "metadata": {
        "colab": {
          "base_uri": "https://localhost:8080/"
        },
        "id": "1I9pmQkOcGD0",
        "outputId": "2ff065fc-929c-440d-9b1d-9a0a4b3c65b2"
      },
      "source": [
        "# Obtain the f1 score and report for three methods\n",
        "print(f1_score(y_test,y_pred_GBRT))"
      ],
      "execution_count": 259,
      "outputs": [
        {
          "output_type": "stream",
          "text": [
            "0.5070555032925682\n"
          ],
          "name": "stdout"
        }
      ]
    },
    {
      "cell_type": "code",
      "metadata": {
        "colab": {
          "base_uri": "https://localhost:8080/"
        },
        "id": "sfNnDWCGcXjW",
        "outputId": "c9ba6435-08ee-4b47-bdda-8d76b2b1aea5"
      },
      "source": [
        "print(classification_report(y_test,y_pred_GBRT))"
      ],
      "execution_count": 260,
      "outputs": [
        {
          "output_type": "stream",
          "text": [
            "              precision    recall  f1-score   support\n",
            "\n",
            "           0       0.86      0.93      0.89      4734\n",
            "           1       0.63      0.43      0.51      1266\n",
            "\n",
            "    accuracy                           0.83      6000\n",
            "   macro avg       0.74      0.68      0.70      6000\n",
            "weighted avg       0.81      0.83      0.81      6000\n",
            "\n"
          ],
          "name": "stdout"
        }
      ]
    },
    {
      "cell_type": "markdown",
      "metadata": {
        "id": "qVDYHO3FfoGr"
      },
      "source": [
        "## **4.4 Artificial Neural Network (ANN)**"
      ]
    },
    {
      "cell_type": "markdown",
      "metadata": {
        "id": "7a-YkZ5LWB1k"
      },
      "source": [
        "### **4.4.1 Data Preparation**"
      ]
    },
    {
      "cell_type": "code",
      "metadata": {
        "id": "OdtEAkjagLtQ"
      },
      "source": [
        "x_train_ann = x_train.copy()\n",
        "y_train_ann = y_train.copy()"
      ],
      "execution_count": 261,
      "outputs": []
    },
    {
      "cell_type": "code",
      "metadata": {
        "scrolled": true,
        "id": "1mUQc6BbnKHK",
        "colab": {
          "base_uri": "https://localhost:8080/"
        },
        "outputId": "9c01a893-5617-4f22-a5dc-14e654721145"
      },
      "source": [
        "# y_train_ann = train[['default']]\n",
        "y_train_ann = to_categorical(y_train_ann, num_classes = 2) # make it as a categorial one-hot vector\n",
        "y_train_ann"
      ],
      "execution_count": 262,
      "outputs": [
        {
          "output_type": "execute_result",
          "data": {
            "text/plain": [
              "array([[0., 1.],\n",
              "       [0., 1.],\n",
              "       [1., 0.],\n",
              "       ...,\n",
              "       [0., 1.],\n",
              "       [0., 1.],\n",
              "       [0., 1.]], dtype=float32)"
            ]
          },
          "metadata": {
            "tags": []
          },
          "execution_count": 262
        }
      ]
    },
    {
      "cell_type": "code",
      "metadata": {
        "id": "UPEAIlIOnKHL",
        "colab": {
          "base_uri": "https://localhost:8080/"
        },
        "outputId": "082ddb48-d1fa-417e-8121-6b996a4dbd17"
      },
      "source": [
        "x_train_ann, x_val_ann, y_train_ann, y_val_ann = train_test_split(x_train_ann, y_train_ann, test_size = 0.1, shuffle=True)\n",
        "x_train_ann.shape, x_val_ann.shape, y_train_ann.shape, y_val_ann.shape"
      ],
      "execution_count": 264,
      "outputs": [
        {
          "output_type": "execute_result",
          "data": {
            "text/plain": [
              "((33534, 29), (3726, 29), (33534, 2), (3726, 2))"
            ]
          },
          "metadata": {
            "tags": []
          },
          "execution_count": 264
        }
      ]
    },
    {
      "cell_type": "markdown",
      "metadata": {
        "id": "7_Mm4FTFWOhB"
      },
      "source": [
        "### **4.4.2 Model Training**"
      ]
    },
    {
      "cell_type": "code",
      "metadata": {
        "id": "FULQtBB1nKHM"
      },
      "source": [
        "model = Sequential()\n",
        "\n",
        "model.add(Dense(256, activation = \"relu\", input_shape=(29,)))\n",
        "model.add(Dropout(0.25))\n",
        "\n",
        "model.add(Dense(128, activation = \"relu\"))\n",
        "model.add(Dropout(0.25))\n",
        "\n",
        "model.add(Dense(64, activation = \"relu\"))\n",
        "model.add(Dropout(0.25))\n",
        "\n",
        "model.add(Dense(32, activation = \"relu\"))\n",
        "model.add(Dropout(0.25))\n",
        "\n",
        "model.add(Dense(16, activation = \"relu\"))\n",
        "\n",
        "model.add(Dense(2, activation = \"softmax\"))"
      ],
      "execution_count": 265,
      "outputs": []
    },
    {
      "cell_type": "code",
      "metadata": {
        "id": "oDkqI2wAnKHM",
        "colab": {
          "base_uri": "https://localhost:8080/"
        },
        "outputId": "e244ce94-a3e2-49ce-cab6-e5c49f9dd357"
      },
      "source": [
        "model.summary()"
      ],
      "execution_count": 266,
      "outputs": [
        {
          "output_type": "stream",
          "text": [
            "Model: \"sequential_2\"\n",
            "_________________________________________________________________\n",
            "Layer (type)                 Output Shape              Param #   \n",
            "=================================================================\n",
            "dense_12 (Dense)             (None, 256)               7680      \n",
            "_________________________________________________________________\n",
            "dropout_8 (Dropout)          (None, 256)               0         \n",
            "_________________________________________________________________\n",
            "dense_13 (Dense)             (None, 128)               32896     \n",
            "_________________________________________________________________\n",
            "dropout_9 (Dropout)          (None, 128)               0         \n",
            "_________________________________________________________________\n",
            "dense_14 (Dense)             (None, 64)                8256      \n",
            "_________________________________________________________________\n",
            "dropout_10 (Dropout)         (None, 64)                0         \n",
            "_________________________________________________________________\n",
            "dense_15 (Dense)             (None, 32)                2080      \n",
            "_________________________________________________________________\n",
            "dropout_11 (Dropout)         (None, 32)                0         \n",
            "_________________________________________________________________\n",
            "dense_16 (Dense)             (None, 16)                528       \n",
            "_________________________________________________________________\n",
            "dense_17 (Dense)             (None, 2)                 34        \n",
            "=================================================================\n",
            "Total params: 51,474\n",
            "Trainable params: 51,474\n",
            "Non-trainable params: 0\n",
            "_________________________________________________________________\n"
          ],
          "name": "stdout"
        }
      ]
    },
    {
      "cell_type": "code",
      "metadata": {
        "id": "HsJG1WKwnKHM"
      },
      "source": [
        "optimizer = Adam(lr=0.001)\n",
        "model.compile(optimizer = optimizer, loss = \"categorical_crossentropy\", metrics=[\"accuracy\"])"
      ],
      "execution_count": 267,
      "outputs": []
    },
    {
      "cell_type": "code",
      "metadata": {
        "id": "uCe2wKp5nKHN"
      },
      "source": [
        "learning_rate_reduction = ReduceLROnPlateau(monitor='val_acc',\n",
        "                                            patience=3,\n",
        "                                            verbose=1,\n",
        "                                            factor=0.5,\n",
        "                                            min_lr=0.00001)"
      ],
      "execution_count": 268,
      "outputs": []
    },
    {
      "cell_type": "code",
      "metadata": {
        "id": "FmEe3y0ynKHN",
        "colab": {
          "base_uri": "https://localhost:8080/"
        },
        "outputId": "b20263a9-0354-4f8a-c718-3eda09241eb0"
      },
      "source": [
        "epochs = 50\n",
        "batch_size = 64\n",
        "\n",
        "# Early Stopping\n",
        "# This callback will stop the training when there is no improvement in\n",
        "# the validation loss for three consecutive epochs.\n",
        "callback = EarlyStopping(monitor='loss', patience=3)\n",
        "\n",
        "history = model.fit(x_train_ann, y_train_ann, batch_size = batch_size, epochs = epochs,\n",
        "                    validation_data = (x_val_ann, y_val_ann), verbose = 2, callbacks=[callback])"
      ],
      "execution_count": 269,
      "outputs": [
        {
          "output_type": "stream",
          "text": [
            "Epoch 1/50\n",
            "524/524 - 2s - loss: 0.5659 - accuracy: 0.7259 - val_loss: 0.5134 - val_accuracy: 0.7587\n",
            "Epoch 2/50\n",
            "524/524 - 1s - loss: 0.5185 - accuracy: 0.7591 - val_loss: 0.4933 - val_accuracy: 0.7614\n",
            "Epoch 3/50\n",
            "524/524 - 1s - loss: 0.5037 - accuracy: 0.7644 - val_loss: 0.4790 - val_accuracy: 0.7681\n",
            "Epoch 4/50\n",
            "524/524 - 1s - loss: 0.4873 - accuracy: 0.7673 - val_loss: 0.4661 - val_accuracy: 0.7754\n",
            "Epoch 5/50\n",
            "524/524 - 1s - loss: 0.4772 - accuracy: 0.7696 - val_loss: 0.4585 - val_accuracy: 0.7689\n",
            "Epoch 6/50\n",
            "524/524 - 1s - loss: 0.4671 - accuracy: 0.7758 - val_loss: 0.4502 - val_accuracy: 0.7746\n",
            "Epoch 7/50\n",
            "524/524 - 1s - loss: 0.4617 - accuracy: 0.7781 - val_loss: 0.4460 - val_accuracy: 0.7786\n",
            "Epoch 8/50\n",
            "524/524 - 1s - loss: 0.4569 - accuracy: 0.7790 - val_loss: 0.4368 - val_accuracy: 0.7848\n",
            "Epoch 9/50\n",
            "524/524 - 1s - loss: 0.4516 - accuracy: 0.7840 - val_loss: 0.4390 - val_accuracy: 0.7925\n",
            "Epoch 10/50\n",
            "524/524 - 1s - loss: 0.4468 - accuracy: 0.7852 - val_loss: 0.4218 - val_accuracy: 0.8011\n",
            "Epoch 11/50\n",
            "524/524 - 1s - loss: 0.4446 - accuracy: 0.7882 - val_loss: 0.4294 - val_accuracy: 0.7952\n",
            "Epoch 12/50\n",
            "524/524 - 1s - loss: 0.4447 - accuracy: 0.7898 - val_loss: 0.4525 - val_accuracy: 0.7947\n",
            "Epoch 13/50\n",
            "524/524 - 1s - loss: 0.4414 - accuracy: 0.7890 - val_loss: 0.4209 - val_accuracy: 0.8003\n",
            "Epoch 14/50\n",
            "524/524 - 1s - loss: 0.4389 - accuracy: 0.7880 - val_loss: 0.4226 - val_accuracy: 0.8065\n",
            "Epoch 15/50\n",
            "524/524 - 1s - loss: 0.4356 - accuracy: 0.7918 - val_loss: 0.4330 - val_accuracy: 0.7912\n",
            "Epoch 16/50\n",
            "524/524 - 1s - loss: 0.4339 - accuracy: 0.7932 - val_loss: 0.4223 - val_accuracy: 0.8030\n",
            "Epoch 17/50\n",
            "524/524 - 1s - loss: 0.4333 - accuracy: 0.7958 - val_loss: 0.4261 - val_accuracy: 0.7971\n",
            "Epoch 18/50\n",
            "524/524 - 1s - loss: 0.4331 - accuracy: 0.7928 - val_loss: 0.4198 - val_accuracy: 0.7998\n",
            "Epoch 19/50\n",
            "524/524 - 2s - loss: 0.4306 - accuracy: 0.7958 - val_loss: 0.4180 - val_accuracy: 0.8027\n",
            "Epoch 20/50\n",
            "524/524 - 1s - loss: 0.4280 - accuracy: 0.7950 - val_loss: 0.4108 - val_accuracy: 0.8035\n",
            "Epoch 21/50\n",
            "524/524 - 1s - loss: 0.4285 - accuracy: 0.7966 - val_loss: 0.4178 - val_accuracy: 0.8046\n",
            "Epoch 22/50\n",
            "524/524 - 1s - loss: 0.4290 - accuracy: 0.7961 - val_loss: 0.4137 - val_accuracy: 0.8068\n",
            "Epoch 23/50\n",
            "524/524 - 1s - loss: 0.4272 - accuracy: 0.7956 - val_loss: 0.4100 - val_accuracy: 0.8054\n",
            "Epoch 24/50\n",
            "524/524 - 1s - loss: 0.4273 - accuracy: 0.7966 - val_loss: 0.4104 - val_accuracy: 0.8033\n",
            "Epoch 25/50\n",
            "524/524 - 1s - loss: 0.4271 - accuracy: 0.7974 - val_loss: 0.4189 - val_accuracy: 0.8014\n",
            "Epoch 26/50\n",
            "524/524 - 1s - loss: 0.4253 - accuracy: 0.7971 - val_loss: 0.4086 - val_accuracy: 0.8086\n",
            "Epoch 27/50\n",
            "524/524 - 1s - loss: 0.4223 - accuracy: 0.8001 - val_loss: 0.4060 - val_accuracy: 0.8068\n",
            "Epoch 28/50\n",
            "524/524 - 1s - loss: 0.4244 - accuracy: 0.7972 - val_loss: 0.4116 - val_accuracy: 0.8035\n",
            "Epoch 29/50\n",
            "524/524 - 1s - loss: 0.4226 - accuracy: 0.7985 - val_loss: 0.4113 - val_accuracy: 0.8060\n",
            "Epoch 30/50\n",
            "524/524 - 1s - loss: 0.4210 - accuracy: 0.8018 - val_loss: 0.4081 - val_accuracy: 0.8078\n",
            "Epoch 31/50\n",
            "524/524 - 1s - loss: 0.4179 - accuracy: 0.8033 - val_loss: 0.4058 - val_accuracy: 0.8084\n",
            "Epoch 32/50\n",
            "524/524 - 1s - loss: 0.4179 - accuracy: 0.8029 - val_loss: 0.4054 - val_accuracy: 0.8078\n",
            "Epoch 33/50\n",
            "524/524 - 1s - loss: 0.4186 - accuracy: 0.8015 - val_loss: 0.4113 - val_accuracy: 0.8111\n",
            "Epoch 34/50\n",
            "524/524 - 1s - loss: 0.4190 - accuracy: 0.8021 - val_loss: 0.4018 - val_accuracy: 0.8124\n"
          ],
          "name": "stdout"
        }
      ]
    },
    {
      "cell_type": "markdown",
      "metadata": {
        "id": "z-wUWvpGsaAp"
      },
      "source": [
        "### **4.4.3 Results**"
      ]
    },
    {
      "cell_type": "code",
      "metadata": {
        "id": "pKhl8eHXnKHO",
        "colab": {
          "base_uri": "https://localhost:8080/",
          "height": 295
        },
        "outputId": "31b109d3-f3b6-4d82-c857-8343800ab890"
      },
      "source": [
        "fig, axes = plt.subplots(1, 3, figsize=(15,4))\n",
        "\n",
        "axes[0].plot(history.history['val_loss'], color='b', label=\"val loss\")\n",
        "axes[0].set_title(\"Vali Loss\")\n",
        "axes[0].set_xlabel(\"Epochs\")\n",
        "axes[0].set_ylabel(\"Loss\")\n",
        "axes[0].legend()\n",
        "\n",
        "axes[1].plot(history.history['val_accuracy'], color='r', label=\"val acc\")\n",
        "axes[1].set_title(\"Vali Acc\")\n",
        "axes[1].set_xlabel(\"Epochs\")\n",
        "axes[1].set_ylabel(\"Acc\")\n",
        "axes[1].legend()\n",
        "\n",
        "axes[2].plot(history.history['loss'], color='green', label=\"loss\")\n",
        "axes[2].set_title(\"Loss\")\n",
        "axes[2].set_xlabel(\"Epochs\")\n",
        "axes[2].set_ylabel(\"Loss\")\n",
        "axes[2].legend()\n",
        "\n",
        "plt.show()"
      ],
      "execution_count": 270,
      "outputs": [
        {
          "output_type": "display_data",
          "data": {
            "image/png": "[encoded data removed]",
            "text/plain": [
              "<Figure size 1080x288 with 3 Axes>"
            ]
          },
          "metadata": {
            "tags": [],
            "needs_background": "light"
          }
        }
      ]
    },
    {
      "cell_type": "code",
      "metadata": {
        "id": "x5q7p9rgnKHP"
      },
      "source": [
        ""
      ],
      "execution_count": 270,
      "outputs": []
    },
    {
      "cell_type": "code",
      "metadata": {
        "id": "Zum_RyK8nKHR"
      },
      "source": [
        "pred = model.predict(x_test)\n",
        "pred_classes = np.argmax(pred, axis = 1)\n",
        "result = pd.Series(pred_classes, name=\"Label\")"
      ],
      "execution_count": 271,
      "outputs": []
    },
    {
      "cell_type": "code",
      "metadata": {
        "id": "z6CJu2ffnKHR",
        "colab": {
          "base_uri": "https://localhost:8080/"
        },
        "outputId": "ed0cdf7e-9be7-4338-b933-056803ee74c5"
      },
      "source": [
        "pred"
      ],
      "execution_count": 272,
      "outputs": [
        {
          "output_type": "execute_result",
          "data": {
            "text/plain": [
              "array([[0.3667293 , 0.63327074],\n",
              "       [0.6152833 , 0.3847167 ],\n",
              "       [0.7352646 , 0.2647354 ],\n",
              "       ...,\n",
              "       [0.32185546, 0.6781445 ],\n",
              "       [0.79942477, 0.2005752 ],\n",
              "       [0.6555889 , 0.34441105]], dtype=float32)"
            ]
          },
          "metadata": {
            "tags": []
          },
          "execution_count": 272
        }
      ]
    },
    {
      "cell_type": "code",
      "metadata": {
        "id": "ndYsWMS3nKHS",
        "colab": {
          "base_uri": "https://localhost:8080/"
        },
        "outputId": "4fdac788-635a-4a9b-ab7d-83ee49eccef3"
      },
      "source": [
        "pred_classes.sum()"
      ],
      "execution_count": 273,
      "outputs": [
        {
          "output_type": "execute_result",
          "data": {
            "text/plain": [
              "1193"
            ]
          },
          "metadata": {
            "tags": []
          },
          "execution_count": 273
        }
      ]
    },
    {
      "cell_type": "code",
      "metadata": {
        "id": "eR73pnjLnKHS",
        "colab": {
          "base_uri": "https://localhost:8080/"
        },
        "outputId": "e1e147b8-faca-44fd-ebbb-7f8cc097f3aa"
      },
      "source": [
        "result"
      ],
      "execution_count": 274,
      "outputs": [
        {
          "output_type": "execute_result",
          "data": {
            "text/plain": [
              "0       1\n",
              "1       0\n",
              "2       0\n",
              "3       1\n",
              "4       0\n",
              "       ..\n",
              "5995    0\n",
              "5996    0\n",
              "5997    1\n",
              "5998    0\n",
              "5999    0\n",
              "Name: Label, Length: 6000, dtype: int64"
            ]
          },
          "metadata": {
            "tags": []
          },
          "execution_count": 274
        }
      ]
    },
    {
      "cell_type": "code",
      "metadata": {
        "id": "QEN0ZNlKnKHS"
      },
      "source": [
        "from sklearn.metrics import f1_score,classification_report"
      ],
      "execution_count": 275,
      "outputs": []
    },
    {
      "cell_type": "code",
      "metadata": {
        "id": "xDMIiug3nKHT",
        "colab": {
          "base_uri": "https://localhost:8080/"
        },
        "outputId": "6332ba20-c854-422b-874a-f0a4ddf22983"
      },
      "source": [
        "f1_score(y_test, pred_classes)"
      ],
      "execution_count": 276,
      "outputs": [
        {
          "output_type": "execute_result",
          "data": {
            "text/plain": [
              "0.508336722244815"
            ]
          },
          "metadata": {
            "tags": []
          },
          "execution_count": 276
        }
      ]
    },
    {
      "cell_type": "code",
      "metadata": {
        "id": "RZhc6M_hnKHT",
        "colab": {
          "base_uri": "https://localhost:8080/"
        },
        "outputId": "8e4f11e8-8a01-4f6b-9ce7-ae57d2424417"
      },
      "source": [
        "print(classification_report(y_test, pred_classes))"
      ],
      "execution_count": 277,
      "outputs": [
        {
          "output_type": "stream",
          "text": [
            "              precision    recall  f1-score   support\n",
            "\n",
            "           0       0.87      0.88      0.87      4734\n",
            "           1       0.52      0.49      0.51      1266\n",
            "\n",
            "    accuracy                           0.80      6000\n",
            "   macro avg       0.70      0.69      0.69      6000\n",
            "weighted avg       0.79      0.80      0.80      6000\n",
            "\n"
          ],
          "name": "stdout"
        }
      ]
    },
    {
      "cell_type": "markdown",
      "metadata": {
        "id": "IgN6Or0lScOO"
      },
      "source": [
        "## **4.5 XGBoost**"
      ]
    },
    {
      "cell_type": "code",
      "metadata": {
        "id": "NGN82ZB7TEdy"
      },
      "source": [
        ""
      ],
      "execution_count": 277,
      "outputs": []
    },
    {
      "cell_type": "markdown",
      "metadata": {
        "id": "2R4yxI_T1hsU"
      },
      "source": [
        "# **5. Model Training & Validation**"
      ]
    },
    {
      "cell_type": "markdown",
      "metadata": {
        "id": "CrfGt8lj13ob"
      },
      "source": [
        ""
      ]
    },
    {
      "cell_type": "markdown",
      "metadata": {
        "id": "vMhVlDLf15D2"
      },
      "source": [
        "# **6. Results**"
      ]
    },
    {
      "cell_type": "code",
      "metadata": {
        "id": "Mtn_xHg02ALS"
      },
      "source": [
        ""
      ],
      "execution_count": 277,
      "outputs": []
    },
    {
      "cell_type": "markdown",
      "metadata": {
        "id": "7MlD99BQ2BGY"
      },
      "source": [
        "# **7. Final Predictions on Test Set**"
      ]
    },
    {
      "cell_type": "code",
      "metadata": {
        "id": "NmJQI-MG2VDs"
      },
      "source": [
        ""
      ],
      "execution_count": 277,
      "outputs": []
    }
  ]
}