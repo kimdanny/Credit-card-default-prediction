{
 "cells": [
  {
   "cell_type": "markdown",
   "metadata": {
    "id": "dD_lmI_jfAVO"
   },
   "source": [
    "**1. Introduction**"
   ]
  },
  {
   "cell_type": "code",
   "execution_count": null,
   "metadata": {
    "id": "Zvsj9cRWe-6M"
   },
   "outputs": [],
   "source": []
  },
  {
   "cell_type": "markdown",
   "metadata": {
    "id": "T2wZnYJIncSS"
   },
   "source": [
    "**Library Imports**"
   ]
  },
  {
   "cell_type": "code",
   "execution_count": 15,
   "metadata": {},
   "outputs": [
    {
     "name": "stdout",
     "output_type": "stream",
     "text": [
      "Requirement already satisfied: sklearn in /Users/toeun_kim/tf2/lib/python3.7/site-packages (0.0)\n",
      "Requirement already satisfied: scikit-learn in /Users/toeun_kim/tf2/lib/python3.7/site-packages (from sklearn) (0.24.0)\n",
      "Requirement already satisfied: numpy>=1.13.3 in /Users/toeun_kim/tf2/lib/python3.7/site-packages (from scikit-learn->sklearn) (1.19.1)\n",
      "Requirement already satisfied: joblib>=0.11 in /Library/Frameworks/Python.framework/Versions/3.7/lib/python3.7/site-packages (from scikit-learn->sklearn) (0.13.2)\n",
      "Requirement already satisfied: scipy>=0.19.1 in /Library/Frameworks/Python.framework/Versions/3.7/lib/python3.7/site-packages (from scikit-learn->sklearn) (1.3.0)\n",
      "Requirement already satisfied: threadpoolctl>=2.0.0 in /Users/toeun_kim/tf2/lib/python3.7/site-packages (from scikit-learn->sklearn) (2.1.0)\n",
      "\u001b[33mWARNING: You are using pip version 20.2.2; however, version 20.3.3 is available.\n",
      "You should consider upgrading via the '/Users/toeun_kim/tf2/bin/python3 -m pip install --upgrade pip' command.\u001b[0m\n"
     ]
    }
   ],
   "source": [
    "!pip install sklearn"
   ]
  },
  {
   "cell_type": "code",
   "execution_count": 20,
   "metadata": {},
   "outputs": [
    {
     "name": "stdout",
     "output_type": "stream",
     "text": [
      "Collecting imbalanced-learn==0.5\n",
      "  Downloading imbalanced_learn-0.5.0-py3-none-any.whl (173 kB)\n",
      "\u001b[K     |████████████████████████████████| 173 kB 2.1 MB/s eta 0:00:01\n",
      "\u001b[?25hRequirement already satisfied: scikit-learn>=0.21 in /Users/toeun_kim/tf2/lib/python3.7/site-packages (from imbalanced-learn==0.5) (0.24.0)\n",
      "Requirement already satisfied: joblib>=0.11 in /Library/Frameworks/Python.framework/Versions/3.7/lib/python3.7/site-packages (from imbalanced-learn==0.5) (0.13.2)\n",
      "Requirement already satisfied: numpy>=1.11 in /Users/toeun_kim/tf2/lib/python3.7/site-packages (from imbalanced-learn==0.5) (1.19.1)\n",
      "Requirement already satisfied: scipy>=0.17 in /Library/Frameworks/Python.framework/Versions/3.7/lib/python3.7/site-packages (from imbalanced-learn==0.5) (1.3.0)\n",
      "Requirement already satisfied: threadpoolctl>=2.0.0 in /Users/toeun_kim/tf2/lib/python3.7/site-packages (from scikit-learn>=0.21->imbalanced-learn==0.5) (2.1.0)\n",
      "Installing collected packages: imbalanced-learn\n",
      "  Attempting uninstall: imbalanced-learn\n",
      "    Found existing installation: imbalanced-learn 0.7.0\n",
      "    Uninstalling imbalanced-learn-0.7.0:\n",
      "      Successfully uninstalled imbalanced-learn-0.7.0\n",
      "Successfully installed imbalanced-learn-0.5.0\n",
      "\u001b[33mWARNING: You are using pip version 20.2.2; however, version 20.3.3 is available.\n",
      "You should consider upgrading via the '/Users/toeun_kim/tf2/bin/python3 -m pip install --upgrade pip' command.\u001b[0m\n"
     ]
    }
   ],
   "source": [
    "!pip install imbalanced-learn==0.5"
   ]
  },
  {
   "cell_type": "code",
   "execution_count": 21,
   "metadata": {
    "id": "KIZ_1cgza6hW"
   },
   "outputs": [
    {
     "name": "stderr",
     "output_type": "stream",
     "text": [
      "Using TensorFlow backend.\n",
      "WARNING: Logging before flag parsing goes to stderr.\n",
      "W0109 03:47:39.494819 4339760640 __init__.py:820] Duplicate key in file '/Users/toeun_kim/.matplotlib/matplotlibrc', line 2 ('backend: TkAgg')\n"
     ]
    }
   ],
   "source": [
    "import pandas as pd\n",
    "import numpy as np\n",
    "import io\n",
    "\n",
    "from sklearn.preprocessing import MinMaxScaler\n",
    "from sklearn.preprocessing import Normalizer\n",
    "from sklearn.preprocessing import StandardScaler\n",
    "from sklearn.datasets import make_classification\n",
    "\n",
    "from numpy import where\n",
    "from imblearn.over_sampling import SMOTE\n",
    "\n",
    "from matplotlib import pyplot\n",
    "import matplotlib.pyplot as plt\n",
    "import seaborn as sns\n",
    "\n",
    "from imblearn.over_sampling import BorderlineSMOTE\n",
    "\n",
    "from collections import Counter"
   ]
  },
  {
   "cell_type": "markdown",
   "metadata": {
    "id": "enERxX_9nsw3"
   },
   "source": [
    "**2. Data Import**  \n",
    "Simply modify the data path to load your data"
   ]
  },
  {
   "cell_type": "code",
   "execution_count": 22,
   "metadata": {
    "id": "1IG-lsxaoe9C"
   },
   "outputs": [],
   "source": [
    "# Data path setting\n",
    "train_data_path = './data/CreditCard_train.csv' # change to your local file location\n",
    "test_data_path = './data/CreditCard_test.csv'   # change to your local file location"
   ]
  },
  {
   "cell_type": "code",
   "execution_count": 23,
   "metadata": {
    "id": "1YyPrUXPosn4"
   },
   "outputs": [],
   "source": [
    "# Option 1: Import from your local google drive\n",
    "# Clone this notebook and run on your local google drive.\n",
    "\n",
    "# from google.colab import drive\n",
    "# drive.mount('/content/drive')\n",
    "\n",
    "# with open('/content/drive/MyDrive/YOUR DATA PATH') as f:\n",
    "#   pass"
   ]
  },
  {
   "cell_type": "code",
   "execution_count": 24,
   "metadata": {
    "id": "safe_ChPp1KH"
   },
   "outputs": [],
   "source": [
    "# Option 2: Upload files\n",
    "# from google.colab import files\n",
    "# uploaded_train = files.upload()"
   ]
  },
  {
   "cell_type": "code",
   "execution_count": 25,
   "metadata": {
    "colab": {
     "base_uri": "https://localhost:8080/",
     "height": 73,
     "resources": {
      "http://localhost:8080/nbextensions/google.colab/files.js": {
       "data": "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",
       "headers": [
        [
         "content-type",
         "application/javascript"
        ]
       ],
       "ok": true,
       "status": 200,
       "status_text": ""
      }
     }
    },
    "id": "TUerUTL-pE-C",
    "outputId": "fc61c6ed-34b9-4220-9f97-605db06d48a3"
   },
   "outputs": [],
   "source": [
    "# uploaded_test = files.upload()"
   ]
  },
  {
   "cell_type": "code",
   "execution_count": 26,
   "metadata": {
    "id": "uxWLLWtTq82j"
   },
   "outputs": [],
   "source": [
    "# df_train = pd.read_csv(io.StringIO(uploaded_train['CreditCard_train.csv'].decode('utf-8')), header=1)\n",
    "# df_test = pd.read_csv(io.StringIO(uploaded_test['CreditCard_test.csv'].decode('utf-8')), header=1)\n",
    "df_train = pd.read_csv(train_data_path, header=1)\n",
    "df_test = pd.read_csv(test_data_path, header=1)"
   ]
  },
  {
   "cell_type": "code",
   "execution_count": 27,
   "metadata": {
    "colab": {
     "base_uri": "https://localhost:8080/",
     "height": 406
    },
    "id": "mK2Tkj-mgxPf",
    "outputId": "8a5a2b94-dc37-42fb-edef-c8466a99eed6"
   },
   "outputs": [
    {
     "data": {
      "text/html": [
       "<div>\n",
       "<style scoped>\n",
       "    .dataframe tbody tr th:only-of-type {\n",
       "        vertical-align: middle;\n",
       "    }\n",
       "\n",
       "    .dataframe tbody tr th {\n",
       "        vertical-align: top;\n",
       "    }\n",
       "\n",
       "    .dataframe thead th {\n",
       "        text-align: right;\n",
       "    }\n",
       "</style>\n",
       "<table border=\"1\" class=\"dataframe\">\n",
       "  <thead>\n",
       "    <tr style=\"text-align: right;\">\n",
       "      <th></th>\n",
       "      <th>ID</th>\n",
       "      <th>LIMIT_BAL</th>\n",
       "      <th>SEX</th>\n",
       "      <th>EDUCATION</th>\n",
       "      <th>MARRIAGE</th>\n",
       "      <th>AGE</th>\n",
       "      <th>PAY_1</th>\n",
       "      <th>PAY_2</th>\n",
       "      <th>PAY_3</th>\n",
       "      <th>PAY_4</th>\n",
       "      <th>...</th>\n",
       "      <th>BILL_AMT4</th>\n",
       "      <th>BILL_AMT5</th>\n",
       "      <th>BILL_AMT6</th>\n",
       "      <th>PAY_AMT1</th>\n",
       "      <th>PAY_AMT2</th>\n",
       "      <th>PAY_AMT3</th>\n",
       "      <th>PAY_AMT4</th>\n",
       "      <th>PAY_AMT5</th>\n",
       "      <th>PAY_AMT6</th>\n",
       "      <th>default</th>\n",
       "    </tr>\n",
       "  </thead>\n",
       "  <tbody>\n",
       "    <tr>\n",
       "      <th>0</th>\n",
       "      <td>1</td>\n",
       "      <td>20000</td>\n",
       "      <td>2</td>\n",
       "      <td>2</td>\n",
       "      <td>1</td>\n",
       "      <td>24</td>\n",
       "      <td>2</td>\n",
       "      <td>2</td>\n",
       "      <td>-1</td>\n",
       "      <td>-1</td>\n",
       "      <td>...</td>\n",
       "      <td>0</td>\n",
       "      <td>0</td>\n",
       "      <td>0</td>\n",
       "      <td>0</td>\n",
       "      <td>689</td>\n",
       "      <td>0</td>\n",
       "      <td>0</td>\n",
       "      <td>0</td>\n",
       "      <td>0</td>\n",
       "      <td>1</td>\n",
       "    </tr>\n",
       "    <tr>\n",
       "      <th>1</th>\n",
       "      <td>2</td>\n",
       "      <td>120000</td>\n",
       "      <td>2</td>\n",
       "      <td>2</td>\n",
       "      <td>2</td>\n",
       "      <td>26</td>\n",
       "      <td>-1</td>\n",
       "      <td>2</td>\n",
       "      <td>0</td>\n",
       "      <td>0</td>\n",
       "      <td>...</td>\n",
       "      <td>3272</td>\n",
       "      <td>3455</td>\n",
       "      <td>3261</td>\n",
       "      <td>0</td>\n",
       "      <td>1000</td>\n",
       "      <td>1000</td>\n",
       "      <td>1000</td>\n",
       "      <td>0</td>\n",
       "      <td>2000</td>\n",
       "      <td>1</td>\n",
       "    </tr>\n",
       "    <tr>\n",
       "      <th>2</th>\n",
       "      <td>3</td>\n",
       "      <td>90000</td>\n",
       "      <td>2</td>\n",
       "      <td>2</td>\n",
       "      <td>2</td>\n",
       "      <td>34</td>\n",
       "      <td>0</td>\n",
       "      <td>0</td>\n",
       "      <td>0</td>\n",
       "      <td>0</td>\n",
       "      <td>...</td>\n",
       "      <td>14331</td>\n",
       "      <td>14948</td>\n",
       "      <td>15549</td>\n",
       "      <td>1518</td>\n",
       "      <td>1500</td>\n",
       "      <td>1000</td>\n",
       "      <td>1000</td>\n",
       "      <td>1000</td>\n",
       "      <td>5000</td>\n",
       "      <td>0</td>\n",
       "    </tr>\n",
       "    <tr>\n",
       "      <th>3</th>\n",
       "      <td>4</td>\n",
       "      <td>50000</td>\n",
       "      <td>2</td>\n",
       "      <td>2</td>\n",
       "      <td>1</td>\n",
       "      <td>37</td>\n",
       "      <td>0</td>\n",
       "      <td>0</td>\n",
       "      <td>0</td>\n",
       "      <td>0</td>\n",
       "      <td>...</td>\n",
       "      <td>28314</td>\n",
       "      <td>28959</td>\n",
       "      <td>29547</td>\n",
       "      <td>2000</td>\n",
       "      <td>2019</td>\n",
       "      <td>1200</td>\n",
       "      <td>1100</td>\n",
       "      <td>1069</td>\n",
       "      <td>1000</td>\n",
       "      <td>0</td>\n",
       "    </tr>\n",
       "    <tr>\n",
       "      <th>4</th>\n",
       "      <td>5</td>\n",
       "      <td>50000</td>\n",
       "      <td>1</td>\n",
       "      <td>2</td>\n",
       "      <td>1</td>\n",
       "      <td>57</td>\n",
       "      <td>-1</td>\n",
       "      <td>0</td>\n",
       "      <td>-1</td>\n",
       "      <td>0</td>\n",
       "      <td>...</td>\n",
       "      <td>20940</td>\n",
       "      <td>19146</td>\n",
       "      <td>19131</td>\n",
       "      <td>2000</td>\n",
       "      <td>36681</td>\n",
       "      <td>10000</td>\n",
       "      <td>9000</td>\n",
       "      <td>689</td>\n",
       "      <td>679</td>\n",
       "      <td>0</td>\n",
       "    </tr>\n",
       "    <tr>\n",
       "      <th>...</th>\n",
       "      <td>...</td>\n",
       "      <td>...</td>\n",
       "      <td>...</td>\n",
       "      <td>...</td>\n",
       "      <td>...</td>\n",
       "      <td>...</td>\n",
       "      <td>...</td>\n",
       "      <td>...</td>\n",
       "      <td>...</td>\n",
       "      <td>...</td>\n",
       "      <td>...</td>\n",
       "      <td>...</td>\n",
       "      <td>...</td>\n",
       "      <td>...</td>\n",
       "      <td>...</td>\n",
       "      <td>...</td>\n",
       "      <td>...</td>\n",
       "      <td>...</td>\n",
       "      <td>...</td>\n",
       "      <td>...</td>\n",
       "      <td>...</td>\n",
       "    </tr>\n",
       "    <tr>\n",
       "      <th>23995</th>\n",
       "      <td>23996</td>\n",
       "      <td>80000</td>\n",
       "      <td>1</td>\n",
       "      <td>2</td>\n",
       "      <td>1</td>\n",
       "      <td>25</td>\n",
       "      <td>1</td>\n",
       "      <td>2</td>\n",
       "      <td>2</td>\n",
       "      <td>0</td>\n",
       "      <td>...</td>\n",
       "      <td>80215</td>\n",
       "      <td>63296</td>\n",
       "      <td>49854</td>\n",
       "      <td>3800</td>\n",
       "      <td>6</td>\n",
       "      <td>3636</td>\n",
       "      <td>2646</td>\n",
       "      <td>2000</td>\n",
       "      <td>1830</td>\n",
       "      <td>0</td>\n",
       "    </tr>\n",
       "    <tr>\n",
       "      <th>23996</th>\n",
       "      <td>23997</td>\n",
       "      <td>20000</td>\n",
       "      <td>1</td>\n",
       "      <td>2</td>\n",
       "      <td>1</td>\n",
       "      <td>25</td>\n",
       "      <td>0</td>\n",
       "      <td>0</td>\n",
       "      <td>0</td>\n",
       "      <td>0</td>\n",
       "      <td>...</td>\n",
       "      <td>17322</td>\n",
       "      <td>17119</td>\n",
       "      <td>17350</td>\n",
       "      <td>1552</td>\n",
       "      <td>2659</td>\n",
       "      <td>1419</td>\n",
       "      <td>606</td>\n",
       "      <td>500</td>\n",
       "      <td>1000</td>\n",
       "      <td>0</td>\n",
       "    </tr>\n",
       "    <tr>\n",
       "      <th>23997</th>\n",
       "      <td>23998</td>\n",
       "      <td>10000</td>\n",
       "      <td>1</td>\n",
       "      <td>2</td>\n",
       "      <td>2</td>\n",
       "      <td>26</td>\n",
       "      <td>0</td>\n",
       "      <td>0</td>\n",
       "      <td>0</td>\n",
       "      <td>0</td>\n",
       "      <td>...</td>\n",
       "      <td>17506</td>\n",
       "      <td>16608</td>\n",
       "      <td>9176</td>\n",
       "      <td>1300</td>\n",
       "      <td>2200</td>\n",
       "      <td>1300</td>\n",
       "      <td>320</td>\n",
       "      <td>1820</td>\n",
       "      <td>1000</td>\n",
       "      <td>0</td>\n",
       "    </tr>\n",
       "    <tr>\n",
       "      <th>23998</th>\n",
       "      <td>23999</td>\n",
       "      <td>20000</td>\n",
       "      <td>1</td>\n",
       "      <td>5</td>\n",
       "      <td>2</td>\n",
       "      <td>26</td>\n",
       "      <td>0</td>\n",
       "      <td>0</td>\n",
       "      <td>0</td>\n",
       "      <td>0</td>\n",
       "      <td>...</td>\n",
       "      <td>39950</td>\n",
       "      <td>0</td>\n",
       "      <td>0</td>\n",
       "      <td>3055</td>\n",
       "      <td>1467</td>\n",
       "      <td>1096</td>\n",
       "      <td>1000</td>\n",
       "      <td>0</td>\n",
       "      <td>0</td>\n",
       "      <td>0</td>\n",
       "    </tr>\n",
       "    <tr>\n",
       "      <th>23999</th>\n",
       "      <td>24000</td>\n",
       "      <td>100000</td>\n",
       "      <td>1</td>\n",
       "      <td>1</td>\n",
       "      <td>2</td>\n",
       "      <td>26</td>\n",
       "      <td>0</td>\n",
       "      <td>-1</td>\n",
       "      <td>0</td>\n",
       "      <td>0</td>\n",
       "      <td>...</td>\n",
       "      <td>1944</td>\n",
       "      <td>389</td>\n",
       "      <td>1221</td>\n",
       "      <td>1100</td>\n",
       "      <td>1200</td>\n",
       "      <td>1000</td>\n",
       "      <td>500</td>\n",
       "      <td>1000</td>\n",
       "      <td>1000</td>\n",
       "      <td>1</td>\n",
       "    </tr>\n",
       "  </tbody>\n",
       "</table>\n",
       "<p>24000 rows × 25 columns</p>\n",
       "</div>"
      ],
      "text/plain": [
       "          ID  LIMIT_BAL  SEX  EDUCATION  MARRIAGE  AGE  PAY_1  PAY_2  PAY_3  \\\n",
       "0          1      20000    2          2         1   24      2      2     -1   \n",
       "1          2     120000    2          2         2   26     -1      2      0   \n",
       "2          3      90000    2          2         2   34      0      0      0   \n",
       "3          4      50000    2          2         1   37      0      0      0   \n",
       "4          5      50000    1          2         1   57     -1      0     -1   \n",
       "...      ...        ...  ...        ...       ...  ...    ...    ...    ...   \n",
       "23995  23996      80000    1          2         1   25      1      2      2   \n",
       "23996  23997      20000    1          2         1   25      0      0      0   \n",
       "23997  23998      10000    1          2         2   26      0      0      0   \n",
       "23998  23999      20000    1          5         2   26      0      0      0   \n",
       "23999  24000     100000    1          1         2   26      0     -1      0   \n",
       "\n",
       "       PAY_4  ...  BILL_AMT4  BILL_AMT5  BILL_AMT6  PAY_AMT1  PAY_AMT2  \\\n",
       "0         -1  ...          0          0          0         0       689   \n",
       "1          0  ...       3272       3455       3261         0      1000   \n",
       "2          0  ...      14331      14948      15549      1518      1500   \n",
       "3          0  ...      28314      28959      29547      2000      2019   \n",
       "4          0  ...      20940      19146      19131      2000     36681   \n",
       "...      ...  ...        ...        ...        ...       ...       ...   \n",
       "23995      0  ...      80215      63296      49854      3800         6   \n",
       "23996      0  ...      17322      17119      17350      1552      2659   \n",
       "23997      0  ...      17506      16608       9176      1300      2200   \n",
       "23998      0  ...      39950          0          0      3055      1467   \n",
       "23999      0  ...       1944        389       1221      1100      1200   \n",
       "\n",
       "       PAY_AMT3  PAY_AMT4  PAY_AMT5  PAY_AMT6  default  \n",
       "0             0         0         0         0        1  \n",
       "1          1000      1000         0      2000        1  \n",
       "2          1000      1000      1000      5000        0  \n",
       "3          1200      1100      1069      1000        0  \n",
       "4         10000      9000       689       679        0  \n",
       "...         ...       ...       ...       ...      ...  \n",
       "23995      3636      2646      2000      1830        0  \n",
       "23996      1419       606       500      1000        0  \n",
       "23997      1300       320      1820      1000        0  \n",
       "23998      1096      1000         0         0        0  \n",
       "23999      1000       500      1000      1000        1  \n",
       "\n",
       "[24000 rows x 25 columns]"
      ]
     },
     "execution_count": 27,
     "metadata": {},
     "output_type": "execute_result"
    }
   ],
   "source": [
    "# From outside colab\n",
    "# df_train = pd.read_csv(path + 'CreditCard_train.csv', header=1) # pass the second line in the CSV file as column names\n",
    "\n",
    "df_train.rename(columns={'PAY_0':'PAY_1'}, inplace=True) # change strange (inconsistent) column name 'PAY_0'\n",
    "df_train.rename(columns={'default payment next month':'default'}, inplace=True) # shorten the name of the target column\n",
    "df_train"
   ]
  },
  {
   "cell_type": "code",
   "execution_count": 28,
   "metadata": {
    "colab": {
     "base_uri": "https://localhost:8080/"
    },
    "id": "eR3HXmore957",
    "outputId": "ff474c04-3a6c-460e-b288-0d31101f8fc5"
   },
   "outputs": [
    {
     "name": "stdout",
     "output_type": "stream",
     "text": [
      "train: 0.8\n",
      "test: 0.2\n"
     ]
    }
   ],
   "source": [
    "# check the ratio of train-test split\n",
    "print('train:', df_train.shape[0] / (df_train.shape[0] + df_test.shape[0]))\n",
    "print('test:', df_test.shape[0] / (df_train.shape[0] + df_test.shape[0]))"
   ]
  },
  {
   "cell_type": "markdown",
   "metadata": {
    "id": "s1VnMKDWhWhZ"
   },
   "source": [
    "Train-test-split is 8:2."
   ]
  },
  {
   "cell_type": "code",
   "execution_count": null,
   "metadata": {
    "id": "ZAtsrJyLre12"
   },
   "outputs": [],
   "source": []
  },
  {
   "cell_type": "markdown",
   "metadata": {
    "id": "dYoh7IY_eOte"
   },
   "source": [
    "**3. Data Exploration and Transformation**"
   ]
  },
  {
   "cell_type": "markdown",
   "metadata": {
    "id": "JLUOGwH7gEOQ"
   },
   "source": [
    "**3.1 Data Exploration**"
   ]
  },
  {
   "cell_type": "code",
   "execution_count": 29,
   "metadata": {
    "colab": {
     "base_uri": "https://localhost:8080/"
    },
    "id": "RAs8ovj-4dqm",
    "outputId": "43ec5cac-d5ed-4d86-ae0f-9fe441421287"
   },
   "outputs": [
    {
     "name": "stdout",
     "output_type": "stream",
     "text": [
      "<class 'pandas.core.frame.DataFrame'>\n",
      "RangeIndex: 24000 entries, 0 to 23999\n",
      "Data columns (total 25 columns):\n",
      " #   Column     Non-Null Count  Dtype\n",
      "---  ------     --------------  -----\n",
      " 0   ID         24000 non-null  int64\n",
      " 1   LIMIT_BAL  24000 non-null  int64\n",
      " 2   SEX        24000 non-null  int64\n",
      " 3   EDUCATION  24000 non-null  int64\n",
      " 4   MARRIAGE   24000 non-null  int64\n",
      " 5   AGE        24000 non-null  int64\n",
      " 6   PAY_1      24000 non-null  int64\n",
      " 7   PAY_2      24000 non-null  int64\n",
      " 8   PAY_3      24000 non-null  int64\n",
      " 9   PAY_4      24000 non-null  int64\n",
      " 10  PAY_5      24000 non-null  int64\n",
      " 11  PAY_6      24000 non-null  int64\n",
      " 12  BILL_AMT1  24000 non-null  int64\n",
      " 13  BILL_AMT2  24000 non-null  int64\n",
      " 14  BILL_AMT3  24000 non-null  int64\n",
      " 15  BILL_AMT4  24000 non-null  int64\n",
      " 16  BILL_AMT5  24000 non-null  int64\n",
      " 17  BILL_AMT6  24000 non-null  int64\n",
      " 18  PAY_AMT1   24000 non-null  int64\n",
      " 19  PAY_AMT2   24000 non-null  int64\n",
      " 20  PAY_AMT3   24000 non-null  int64\n",
      " 21  PAY_AMT4   24000 non-null  int64\n",
      " 22  PAY_AMT5   24000 non-null  int64\n",
      " 23  PAY_AMT6   24000 non-null  int64\n",
      " 24  default    24000 non-null  int64\n",
      "dtypes: int64(25)\n",
      "memory usage: 4.6 MB\n"
     ]
    }
   ],
   "source": [
    "df_train.info()"
   ]
  },
  {
   "cell_type": "markdown",
   "metadata": {
    "id": "2YiTPI-l4g5j"
   },
   "source": [
    "No Missing Values. All variables have numerical values (int64)."
   ]
  },
  {
   "cell_type": "code",
   "execution_count": null,
   "metadata": {
    "id": "WUmv5-uM4d5A"
   },
   "outputs": [],
   "source": []
  },
  {
   "cell_type": "markdown",
   "metadata": {
    "id": "Pzzzgv1l4pcy"
   },
   "source": [
    "Check undocumented labels"
   ]
  },
  {
   "cell_type": "code",
   "execution_count": 30,
   "metadata": {
    "colab": {
     "base_uri": "https://localhost:8080/"
    },
    "id": "uPZ_g5nH4riz",
    "outputId": "cd888c2e-3106-457f-bcc1-8b26c9102a3b"
   },
   "outputs": [
    {
     "name": "stdout",
     "output_type": "stream",
     "text": [
      "SEX: [1, 2]\n",
      "EDUCATION: [0, 1, 2, 3, 4, 5, 6]\n",
      "MARRIAGE: [0, 1, 2, 3]\n",
      "PAY_1: [-2, -1, 0, 1, 2, 3, 4, 5, 6, 7, 8]\n",
      "PAY_2: [-2, -1, 0, 1, 2, 3, 4, 5, 6, 7, 8]\n",
      "PAY_3: [-2, -1, 0, 1, 2, 3, 4, 5, 6, 7, 8]\n",
      "PAY_4: [-2, -1, 0, 1, 2, 3, 4, 5, 6, 7, 8]\n",
      "PAY_5: [-2, -1, 0, 2, 3, 4, 5, 6, 7, 8]\n",
      "PAY_6: [-2, -1, 0, 2, 3, 4, 5, 6, 7, 8]\n",
      "default: [0, 1]\n"
     ]
    }
   ],
   "source": [
    "# check the values of categorical variable in training set are well-documented\n",
    "print('SEX:', sorted(df_train['SEX'].unique()))\n",
    "print('EDUCATION:', sorted(df_train['EDUCATION'].unique()))\n",
    "print('MARRIAGE:', sorted(df_train['MARRIAGE'].unique()))\n",
    "print('PAY_1:', sorted(df_train['PAY_1'].unique()))\n",
    "print('PAY_2:', sorted(df_train['PAY_2'].unique()))\n",
    "print('PAY_3:', sorted(df_train['PAY_3'].unique()))\n",
    "print('PAY_4:', sorted(df_train['PAY_4'].unique()))\n",
    "print('PAY_5:', sorted(df_train['PAY_5'].unique()))\n",
    "print('PAY_6:', sorted(df_train['PAY_6'].unique()))\n",
    "print('default:', sorted(df_train['default'].unique()))"
   ]
  },
  {
   "cell_type": "markdown",
   "metadata": {
    "id": "WTikdofQ4vPX"
   },
   "source": [
    "Undocumented categories existed in both training and testing set:\n",
    "\n",
    "EDUCATION: 0, 5, 6  \n",
    "MARRIAGE: 0  \n",
    "PAY_1 to PAY_6: -2, 0"
   ]
  },
  {
   "cell_type": "markdown",
   "metadata": {
    "id": "wkPiXdvc431U"
   },
   "source": [
    "Count the number of rows for each undocumented label¶\n"
   ]
  },
  {
   "cell_type": "code",
   "execution_count": 31,
   "metadata": {
    "colab": {
     "base_uri": "https://localhost:8080/",
     "height": 227
    },
    "id": "Rl9Keiop40HW",
    "outputId": "d7fc1971-059f-40ea-b359-c1561cd9de14"
   },
   "outputs": [
    {
     "data": {
      "text/html": [
       "<div>\n",
       "<style scoped>\n",
       "    .dataframe tbody tr th:only-of-type {\n",
       "        vertical-align: middle;\n",
       "    }\n",
       "\n",
       "    .dataframe tbody tr th {\n",
       "        vertical-align: top;\n",
       "    }\n",
       "\n",
       "    .dataframe thead th {\n",
       "        text-align: right;\n",
       "    }\n",
       "</style>\n",
       "<table border=\"1\" class=\"dataframe\">\n",
       "  <thead>\n",
       "    <tr style=\"text-align: right;\">\n",
       "      <th></th>\n",
       "      <th>Training</th>\n",
       "    </tr>\n",
       "  </thead>\n",
       "  <tbody>\n",
       "    <tr>\n",
       "      <th>EDUCATION == 0</th>\n",
       "      <td>NaN</td>\n",
       "    </tr>\n",
       "    <tr>\n",
       "      <th>EDUCATION == 5</th>\n",
       "      <td>NaN</td>\n",
       "    </tr>\n",
       "    <tr>\n",
       "      <th>EDUCATION == 6</th>\n",
       "      <td>NaN</td>\n",
       "    </tr>\n",
       "    <tr>\n",
       "      <th>MARRIAGE == 0</th>\n",
       "      <td>NaN</td>\n",
       "    </tr>\n",
       "    <tr>\n",
       "      <th>PAY_n == -2</th>\n",
       "      <td>NaN</td>\n",
       "    </tr>\n",
       "    <tr>\n",
       "      <th>PAY_n == 0</th>\n",
       "      <td>NaN</td>\n",
       "    </tr>\n",
       "  </tbody>\n",
       "</table>\n",
       "</div>"
      ],
      "text/plain": [
       "               Training\n",
       "EDUCATION == 0      NaN\n",
       "EDUCATION == 5      NaN\n",
       "EDUCATION == 6      NaN\n",
       "MARRIAGE == 0       NaN\n",
       "PAY_n == -2         NaN\n",
       "PAY_n == 0          NaN"
      ]
     },
     "execution_count": 31,
     "metadata": {},
     "output_type": "execute_result"
    }
   ],
   "source": [
    "# create a DataFrame to hold the results\n",
    "undocumented_labels = ['EDUCATION == 0','EDUCATION == 5','EDUCATION == 6','MARRIAGE == 0','PAY_n == -2', 'PAY_n == 0']\n",
    "counts = pd.DataFrame(index=undocumented_labels, columns=['Training'])\n",
    "counts"
   ]
  },
  {
   "cell_type": "code",
   "execution_count": 32,
   "metadata": {
    "colab": {
     "base_uri": "https://localhost:8080/",
     "height": 227
    },
    "id": "-Asrcc9840Jo",
    "outputId": "642ada6b-dc3b-497b-8600-3da9be9ee720"
   },
   "outputs": [
    {
     "data": {
      "text/html": [
       "<div>\n",
       "<style scoped>\n",
       "    .dataframe tbody tr th:only-of-type {\n",
       "        vertical-align: middle;\n",
       "    }\n",
       "\n",
       "    .dataframe tbody tr th {\n",
       "        vertical-align: top;\n",
       "    }\n",
       "\n",
       "    .dataframe thead th {\n",
       "        text-align: right;\n",
       "    }\n",
       "</style>\n",
       "<table border=\"1\" class=\"dataframe\">\n",
       "  <thead>\n",
       "    <tr style=\"text-align: right;\">\n",
       "      <th></th>\n",
       "      <th>Training</th>\n",
       "    </tr>\n",
       "  </thead>\n",
       "  <tbody>\n",
       "    <tr>\n",
       "      <th>EDUCATION == 0</th>\n",
       "      <td>11</td>\n",
       "    </tr>\n",
       "    <tr>\n",
       "      <th>EDUCATION == 5</th>\n",
       "      <td>207</td>\n",
       "    </tr>\n",
       "    <tr>\n",
       "      <th>EDUCATION == 6</th>\n",
       "      <td>37</td>\n",
       "    </tr>\n",
       "    <tr>\n",
       "      <th>MARRIAGE == 0</th>\n",
       "      <td>41</td>\n",
       "    </tr>\n",
       "    <tr>\n",
       "      <th>PAY_n == -2</th>\n",
       "      <td>5185</td>\n",
       "    </tr>\n",
       "    <tr>\n",
       "      <th>PAY_n == 0</th>\n",
       "      <td>16929</td>\n",
       "    </tr>\n",
       "  </tbody>\n",
       "</table>\n",
       "</div>"
      ],
      "text/plain": [
       "               Training\n",
       "EDUCATION == 0       11\n",
       "EDUCATION == 5      207\n",
       "EDUCATION == 6       37\n",
       "MARRIAGE == 0        41\n",
       "PAY_n == -2        5185\n",
       "PAY_n == 0        16929"
      ]
     },
     "execution_count": 32,
     "metadata": {},
     "output_type": "execute_result"
    }
   ],
   "source": [
    "# EDUCATION, training set\n",
    "counts.loc['EDUCATION == 0', 'Training'] = df_train[df_train['EDUCATION'] == 0].shape[0]\n",
    "counts.loc['EDUCATION == 5', 'Training'] = df_train[df_train['EDUCATION'] == 5].shape[0]\n",
    "counts.loc['EDUCATION == 6', 'Training'] = df_train[df_train['EDUCATION'] == 6].shape[0]\n",
    "\n",
    "# MARRIAGE, training set\n",
    "counts.loc['MARRIAGE == 0', 'Training'] = df_train[df_train['MARRIAGE'] == 0].shape[0]\n",
    "\n",
    "# PAY_1 to PAY_6, training set\n",
    "counts.loc['PAY_n == -2', 'Training'] = df_train[(df_train['PAY_1'] == -2) | (df_train['PAY_2'] == -2) | \n",
    "                                                 (df_train['PAY_3'] == -2) | (df_train['PAY_4'] == -2) | \n",
    "                                                 (df_train['PAY_5'] == -2) | (df_train['PAY_6'] == -2)].shape[0]\n",
    "counts.loc['PAY_n == 0', 'Training'] = df_train[(df_train['PAY_1'] == 0) | (df_train['PAY_2'] == 0) | \n",
    "                                                (df_train['PAY_3'] == 0) | (df_train['PAY_4'] == 0) | \n",
    "                                                (df_train['PAY_5'] == 0) | (df_train['PAY_6'] == 0)].shape[0]\n",
    "\n",
    "counts"
   ]
  },
  {
   "cell_type": "markdown",
   "metadata": {
    "id": "1DRKmQf35IOZ"
   },
   "source": [
    "Solution: (Will be dealt in Data Transformation Phase)\n",
    "\n",
    "EDUCATION: categorise 0, 5, 6 as 4 (others)  \n",
    "others may refer to education level either higher than graduate school or lower than high school.  \n",
    "MARRIAGE: categorise 0 as 3 (others)  \n",
    "PAY_1 to PAY_6: keep -2 and categorise 0 as -1 (pay duly)"
   ]
  },
  {
   "cell_type": "markdown",
   "metadata": {
    "id": "c7xS3tc-5WHK"
   },
   "source": [
    "Check outliers in numerical variables"
   ]
  },
  {
   "cell_type": "code",
   "execution_count": 33,
   "metadata": {
    "colab": {
     "base_uri": "https://localhost:8080/",
     "height": 287
    },
    "id": "mNi_LJKE40LJ",
    "outputId": "f020019a-7609-4414-d3cd-9913d46937e8"
   },
   "outputs": [
    {
     "data": {
      "text/html": [
       "<div>\n",
       "<style scoped>\n",
       "    .dataframe tbody tr th:only-of-type {\n",
       "        vertical-align: middle;\n",
       "    }\n",
       "\n",
       "    .dataframe tbody tr th {\n",
       "        vertical-align: top;\n",
       "    }\n",
       "\n",
       "    .dataframe thead th {\n",
       "        text-align: right;\n",
       "    }\n",
       "</style>\n",
       "<table border=\"1\" class=\"dataframe\">\n",
       "  <thead>\n",
       "    <tr style=\"text-align: right;\">\n",
       "      <th></th>\n",
       "      <th>BILL_AMT1</th>\n",
       "      <th>BILL_AMT2</th>\n",
       "      <th>BILL_AMT3</th>\n",
       "      <th>BILL_AMT4</th>\n",
       "      <th>BILL_AMT5</th>\n",
       "      <th>BILL_AMT6</th>\n",
       "    </tr>\n",
       "  </thead>\n",
       "  <tbody>\n",
       "    <tr>\n",
       "      <th>count</th>\n",
       "      <td>24000.000000</td>\n",
       "      <td>24000.000000</td>\n",
       "      <td>2.400000e+04</td>\n",
       "      <td>24000.000000</td>\n",
       "      <td>24000.000000</td>\n",
       "      <td>24000.000000</td>\n",
       "    </tr>\n",
       "    <tr>\n",
       "      <th>mean</th>\n",
       "      <td>50596.884708</td>\n",
       "      <td>48646.064125</td>\n",
       "      <td>4.636706e+04</td>\n",
       "      <td>42368.188417</td>\n",
       "      <td>40000.682542</td>\n",
       "      <td>38563.710625</td>\n",
       "    </tr>\n",
       "    <tr>\n",
       "      <th>std</th>\n",
       "      <td>72649.374256</td>\n",
       "      <td>70364.600436</td>\n",
       "      <td>6.819390e+04</td>\n",
       "      <td>63070.680934</td>\n",
       "      <td>60345.012766</td>\n",
       "      <td>59155.759799</td>\n",
       "    </tr>\n",
       "    <tr>\n",
       "      <th>min</th>\n",
       "      <td>-165580.000000</td>\n",
       "      <td>-69777.000000</td>\n",
       "      <td>-1.572640e+05</td>\n",
       "      <td>-170000.000000</td>\n",
       "      <td>-81334.000000</td>\n",
       "      <td>-339603.000000</td>\n",
       "    </tr>\n",
       "    <tr>\n",
       "      <th>25%</th>\n",
       "      <td>3631.500000</td>\n",
       "      <td>3098.500000</td>\n",
       "      <td>2.773500e+03</td>\n",
       "      <td>2340.000000</td>\n",
       "      <td>1740.000000</td>\n",
       "      <td>1234.750000</td>\n",
       "    </tr>\n",
       "    <tr>\n",
       "      <th>50%</th>\n",
       "      <td>22330.000000</td>\n",
       "      <td>21339.000000</td>\n",
       "      <td>2.003900e+04</td>\n",
       "      <td>18940.500000</td>\n",
       "      <td>18107.500000</td>\n",
       "      <td>17036.000000</td>\n",
       "    </tr>\n",
       "    <tr>\n",
       "      <th>75%</th>\n",
       "      <td>65779.500000</td>\n",
       "      <td>62761.250000</td>\n",
       "      <td>5.929800e+04</td>\n",
       "      <td>52188.500000</td>\n",
       "      <td>49746.500000</td>\n",
       "      <td>48796.250000</td>\n",
       "    </tr>\n",
       "    <tr>\n",
       "      <th>max</th>\n",
       "      <td>964511.000000</td>\n",
       "      <td>983931.000000</td>\n",
       "      <td>1.664089e+06</td>\n",
       "      <td>891586.000000</td>\n",
       "      <td>927171.000000</td>\n",
       "      <td>961664.000000</td>\n",
       "    </tr>\n",
       "  </tbody>\n",
       "</table>\n",
       "</div>"
      ],
      "text/plain": [
       "           BILL_AMT1      BILL_AMT2     BILL_AMT3      BILL_AMT4  \\\n",
       "count   24000.000000   24000.000000  2.400000e+04   24000.000000   \n",
       "mean    50596.884708   48646.064125  4.636706e+04   42368.188417   \n",
       "std     72649.374256   70364.600436  6.819390e+04   63070.680934   \n",
       "min   -165580.000000  -69777.000000 -1.572640e+05 -170000.000000   \n",
       "25%      3631.500000    3098.500000  2.773500e+03    2340.000000   \n",
       "50%     22330.000000   21339.000000  2.003900e+04   18940.500000   \n",
       "75%     65779.500000   62761.250000  5.929800e+04   52188.500000   \n",
       "max    964511.000000  983931.000000  1.664089e+06  891586.000000   \n",
       "\n",
       "           BILL_AMT5      BILL_AMT6  \n",
       "count   24000.000000   24000.000000  \n",
       "mean    40000.682542   38563.710625  \n",
       "std     60345.012766   59155.759799  \n",
       "min    -81334.000000 -339603.000000  \n",
       "25%      1740.000000    1234.750000  \n",
       "50%     18107.500000   17036.000000  \n",
       "75%     49746.500000   48796.250000  \n",
       "max    927171.000000  961664.000000  "
      ]
     },
     "execution_count": 33,
     "metadata": {},
     "output_type": "execute_result"
    }
   ],
   "source": [
    "# bill statement description\n",
    "df_train[['BILL_AMT1', 'BILL_AMT2', 'BILL_AMT3', 'BILL_AMT4', 'BILL_AMT5', 'BILL_AMT6']].describe()\n",
    "# alternative demo: histogram"
   ]
  },
  {
   "cell_type": "code",
   "execution_count": 34,
   "metadata": {
    "colab": {
     "base_uri": "https://localhost:8080/"
    },
    "id": "azWfICJR5U2_",
    "outputId": "8f99623b-7519-4c2b-d0f1-ae46e18a68fa"
   },
   "outputs": [
    {
     "name": "stdout",
     "output_type": "stream",
     "text": [
      "Negative BILL_AMT in training set: 1496\n"
     ]
    }
   ],
   "source": [
    "print('Negative BILL_AMT in training set:', df_train[(df_train['BILL_AMT1'] < 0) | (df_train['BILL_AMT2'] < 0) |\n",
    "                                                     (df_train['BILL_AMT3'] < 0) | (df_train['BILL_AMT4'] < 0) |\n",
    "                                                     (df_train['BILL_AMT5'] < 0) | (df_train['BILL_AMT6'] < 0)].shape[0])"
   ]
  },
  {
   "cell_type": "markdown",
   "metadata": {
    "id": "E1Pzs6VN5l2v"
   },
   "source": [
    "There are negative values for bill statement in both training set (1496 rows)\n",
    "We are not going to convert negatives to zero"
   ]
  },
  {
   "cell_type": "markdown",
   "metadata": {
    "id": "5-EoG3a95oee"
   },
   "source": [
    "2. Check extremely large or small values"
   ]
  },
  {
   "cell_type": "code",
   "execution_count": 35,
   "metadata": {
    "colab": {
     "base_uri": "https://localhost:8080/",
     "height": 287
    },
    "id": "dXhkmORh40Mr",
    "outputId": "d8d8dc9c-a3e3-49d1-de8b-088dfd17ac06"
   },
   "outputs": [
    {
     "data": {
      "text/html": [
       "<div>\n",
       "<style scoped>\n",
       "    .dataframe tbody tr th:only-of-type {\n",
       "        vertical-align: middle;\n",
       "    }\n",
       "\n",
       "    .dataframe tbody tr th {\n",
       "        vertical-align: top;\n",
       "    }\n",
       "\n",
       "    .dataframe thead th {\n",
       "        text-align: right;\n",
       "    }\n",
       "</style>\n",
       "<table border=\"1\" class=\"dataframe\">\n",
       "  <thead>\n",
       "    <tr style=\"text-align: right;\">\n",
       "      <th></th>\n",
       "      <th>LIMIT_BAL</th>\n",
       "    </tr>\n",
       "  </thead>\n",
       "  <tbody>\n",
       "    <tr>\n",
       "      <th>count</th>\n",
       "      <td>24000.000000</td>\n",
       "    </tr>\n",
       "    <tr>\n",
       "      <th>mean</th>\n",
       "      <td>165495.986667</td>\n",
       "    </tr>\n",
       "    <tr>\n",
       "      <th>std</th>\n",
       "      <td>129128.744855</td>\n",
       "    </tr>\n",
       "    <tr>\n",
       "      <th>min</th>\n",
       "      <td>10000.000000</td>\n",
       "    </tr>\n",
       "    <tr>\n",
       "      <th>25%</th>\n",
       "      <td>50000.000000</td>\n",
       "    </tr>\n",
       "    <tr>\n",
       "      <th>50%</th>\n",
       "      <td>140000.000000</td>\n",
       "    </tr>\n",
       "    <tr>\n",
       "      <th>75%</th>\n",
       "      <td>240000.000000</td>\n",
       "    </tr>\n",
       "    <tr>\n",
       "      <th>max</th>\n",
       "      <td>1000000.000000</td>\n",
       "    </tr>\n",
       "  </tbody>\n",
       "</table>\n",
       "</div>"
      ],
      "text/plain": [
       "            LIMIT_BAL\n",
       "count    24000.000000\n",
       "mean    165495.986667\n",
       "std     129128.744855\n",
       "min      10000.000000\n",
       "25%      50000.000000\n",
       "50%     140000.000000\n",
       "75%     240000.000000\n",
       "max    1000000.000000"
      ]
     },
     "execution_count": 35,
     "metadata": {},
     "output_type": "execute_result"
    }
   ],
   "source": [
    "# given credit description\n",
    "df_train[['LIMIT_BAL']].describe()"
   ]
  },
  {
   "cell_type": "code",
   "execution_count": 36,
   "metadata": {
    "colab": {
     "base_uri": "https://localhost:8080/",
     "height": 287
    },
    "id": "A_FO8Y885v3H",
    "outputId": "45f9fa64-0e67-4354-ef4c-88993ce700b0"
   },
   "outputs": [
    {
     "data": {
      "text/html": [
       "<div>\n",
       "<style scoped>\n",
       "    .dataframe tbody tr th:only-of-type {\n",
       "        vertical-align: middle;\n",
       "    }\n",
       "\n",
       "    .dataframe tbody tr th {\n",
       "        vertical-align: top;\n",
       "    }\n",
       "\n",
       "    .dataframe thead th {\n",
       "        text-align: right;\n",
       "    }\n",
       "</style>\n",
       "<table border=\"1\" class=\"dataframe\">\n",
       "  <thead>\n",
       "    <tr style=\"text-align: right;\">\n",
       "      <th></th>\n",
       "      <th>PAY_AMT1</th>\n",
       "      <th>PAY_AMT2</th>\n",
       "      <th>PAY_AMT3</th>\n",
       "      <th>PAY_AMT4</th>\n",
       "      <th>PAY_AMT5</th>\n",
       "      <th>PAY_AMT6</th>\n",
       "    </tr>\n",
       "  </thead>\n",
       "  <tbody>\n",
       "    <tr>\n",
       "      <th>count</th>\n",
       "      <td>24000.000000</td>\n",
       "      <td>24000.000000</td>\n",
       "      <td>24000.000000</td>\n",
       "      <td>24000.000000</td>\n",
       "      <td>24000.000000</td>\n",
       "      <td>24000.000000</td>\n",
       "    </tr>\n",
       "    <tr>\n",
       "      <th>mean</th>\n",
       "      <td>5542.912917</td>\n",
       "      <td>5815.336208</td>\n",
       "      <td>4969.266000</td>\n",
       "      <td>4743.480042</td>\n",
       "      <td>4783.486042</td>\n",
       "      <td>5189.399042</td>\n",
       "    </tr>\n",
       "    <tr>\n",
       "      <th>std</th>\n",
       "      <td>15068.576072</td>\n",
       "      <td>20797.031923</td>\n",
       "      <td>16095.614340</td>\n",
       "      <td>14883.269990</td>\n",
       "      <td>15270.405279</td>\n",
       "      <td>17630.371990</td>\n",
       "    </tr>\n",
       "    <tr>\n",
       "      <th>min</th>\n",
       "      <td>0.000000</td>\n",
       "      <td>0.000000</td>\n",
       "      <td>0.000000</td>\n",
       "      <td>0.000000</td>\n",
       "      <td>0.000000</td>\n",
       "      <td>0.000000</td>\n",
       "    </tr>\n",
       "    <tr>\n",
       "      <th>25%</th>\n",
       "      <td>1000.000000</td>\n",
       "      <td>800.000000</td>\n",
       "      <td>379.000000</td>\n",
       "      <td>279.750000</td>\n",
       "      <td>244.000000</td>\n",
       "      <td>60.750000</td>\n",
       "    </tr>\n",
       "    <tr>\n",
       "      <th>50%</th>\n",
       "      <td>2100.000000</td>\n",
       "      <td>2000.000000</td>\n",
       "      <td>1702.500000</td>\n",
       "      <td>1500.000000</td>\n",
       "      <td>1500.000000</td>\n",
       "      <td>1500.000000</td>\n",
       "    </tr>\n",
       "    <tr>\n",
       "      <th>75%</th>\n",
       "      <td>5000.000000</td>\n",
       "      <td>5000.000000</td>\n",
       "      <td>4347.250000</td>\n",
       "      <td>4000.000000</td>\n",
       "      <td>4005.000000</td>\n",
       "      <td>4000.000000</td>\n",
       "    </tr>\n",
       "    <tr>\n",
       "      <th>max</th>\n",
       "      <td>505000.000000</td>\n",
       "      <td>1684259.000000</td>\n",
       "      <td>896040.000000</td>\n",
       "      <td>497000.000000</td>\n",
       "      <td>417990.000000</td>\n",
       "      <td>528666.000000</td>\n",
       "    </tr>\n",
       "  </tbody>\n",
       "</table>\n",
       "</div>"
      ],
      "text/plain": [
       "            PAY_AMT1        PAY_AMT2       PAY_AMT3       PAY_AMT4  \\\n",
       "count   24000.000000    24000.000000   24000.000000   24000.000000   \n",
       "mean     5542.912917     5815.336208    4969.266000    4743.480042   \n",
       "std     15068.576072    20797.031923   16095.614340   14883.269990   \n",
       "min         0.000000        0.000000       0.000000       0.000000   \n",
       "25%      1000.000000      800.000000     379.000000     279.750000   \n",
       "50%      2100.000000     2000.000000    1702.500000    1500.000000   \n",
       "75%      5000.000000     5000.000000    4347.250000    4000.000000   \n",
       "max    505000.000000  1684259.000000  896040.000000  497000.000000   \n",
       "\n",
       "            PAY_AMT5       PAY_AMT6  \n",
       "count   24000.000000   24000.000000  \n",
       "mean     4783.486042    5189.399042  \n",
       "std     15270.405279   17630.371990  \n",
       "min         0.000000       0.000000  \n",
       "25%       244.000000      60.750000  \n",
       "50%      1500.000000    1500.000000  \n",
       "75%      4005.000000    4000.000000  \n",
       "max    417990.000000  528666.000000  "
      ]
     },
     "execution_count": 36,
     "metadata": {},
     "output_type": "execute_result"
    }
   ],
   "source": [
    "# previous payment description\n",
    "df_train[['PAY_AMT1', 'PAY_AMT2', 'PAY_AMT3', 'PAY_AMT4', 'PAY_AMT5', 'PAY_AMT6']].describe()\\\n",
    "                                        .apply(lambda s: s.apply(lambda x: format(x, 'f'))) # suppress scientific notation\n",
    "# alternative demo: histogram"
   ]
  },
  {
   "cell_type": "markdown",
   "metadata": {
    "id": "VxUEmugx5y6W"
   },
   "source": [
    "LIMIT_BAL, BILL_AMT and PAY_AMT all have a very broad range. Need to check if these are outliers.\n",
    "Method: Check if the amount of previous payment (PAY_AMT) & bill statement (BILL_AMT) lie within the 'sensible' range of given credit (LIMIT_BAL). Choose LIMIT_BAL values below 5th percentile or above 95th percentile."
   ]
  },
  {
   "cell_type": "code",
   "execution_count": 37,
   "metadata": {
    "colab": {
     "base_uri": "https://localhost:8080/",
     "height": 437
    },
    "id": "Gx4LdxM753R_",
    "outputId": "2c9b4fd3-1e41-46bd-8962-e40605ef565d"
   },
   "outputs": [
    {
     "data": {
      "text/html": [
       "<div>\n",
       "<style scoped>\n",
       "    .dataframe tbody tr th:only-of-type {\n",
       "        vertical-align: middle;\n",
       "    }\n",
       "\n",
       "    .dataframe tbody tr th {\n",
       "        vertical-align: top;\n",
       "    }\n",
       "\n",
       "    .dataframe thead th {\n",
       "        text-align: right;\n",
       "    }\n",
       "</style>\n",
       "<table border=\"1\" class=\"dataframe\">\n",
       "  <thead>\n",
       "    <tr style=\"text-align: right;\">\n",
       "      <th></th>\n",
       "      <th>5th</th>\n",
       "      <th>15th</th>\n",
       "      <th>25th</th>\n",
       "      <th>35th</th>\n",
       "      <th>45th</th>\n",
       "      <th>55th</th>\n",
       "      <th>65th</th>\n",
       "      <th>75th</th>\n",
       "      <th>85th</th>\n",
       "      <th>95th</th>\n",
       "    </tr>\n",
       "  </thead>\n",
       "  <tbody>\n",
       "    <tr>\n",
       "      <th>LIMIT_BAL</th>\n",
       "      <td>20000.0</td>\n",
       "      <td>50000.00</td>\n",
       "      <td>50000.00</td>\n",
       "      <td>80000.00</td>\n",
       "      <td>120000.00</td>\n",
       "      <td>150000.00</td>\n",
       "      <td>200000.00</td>\n",
       "      <td>240000.00</td>\n",
       "      <td>300000.00</td>\n",
       "      <td>430000.00</td>\n",
       "    </tr>\n",
       "    <tr>\n",
       "      <th>PAY_AMT1</th>\n",
       "      <td>0.0</td>\n",
       "      <td>0.00</td>\n",
       "      <td>1000.00</td>\n",
       "      <td>1500.00</td>\n",
       "      <td>2000.00</td>\n",
       "      <td>2550.00</td>\n",
       "      <td>3510.40</td>\n",
       "      <td>5000.00</td>\n",
       "      <td>8000.00</td>\n",
       "      <td>18243.85</td>\n",
       "    </tr>\n",
       "    <tr>\n",
       "      <th>PAY_AMT2</th>\n",
       "      <td>0.0</td>\n",
       "      <td>0.00</td>\n",
       "      <td>800.00</td>\n",
       "      <td>1379.00</td>\n",
       "      <td>1885.55</td>\n",
       "      <td>2390.90</td>\n",
       "      <td>3300.00</td>\n",
       "      <td>5000.00</td>\n",
       "      <td>7784.15</td>\n",
       "      <td>19000.15</td>\n",
       "    </tr>\n",
       "    <tr>\n",
       "      <th>PAY_AMT3</th>\n",
       "      <td>0.0</td>\n",
       "      <td>0.00</td>\n",
       "      <td>379.00</td>\n",
       "      <td>1000.00</td>\n",
       "      <td>1424.10</td>\n",
       "      <td>2000.00</td>\n",
       "      <td>3000.00</td>\n",
       "      <td>4347.25</td>\n",
       "      <td>6800.00</td>\n",
       "      <td>16513.55</td>\n",
       "    </tr>\n",
       "    <tr>\n",
       "      <th>PAY_AMT4</th>\n",
       "      <td>0.0</td>\n",
       "      <td>0.00</td>\n",
       "      <td>279.75</td>\n",
       "      <td>764.65</td>\n",
       "      <td>1100.00</td>\n",
       "      <td>1920.00</td>\n",
       "      <td>2728.35</td>\n",
       "      <td>4000.00</td>\n",
       "      <td>6200.00</td>\n",
       "      <td>16000.00</td>\n",
       "    </tr>\n",
       "    <tr>\n",
       "      <th>PAY_AMT5</th>\n",
       "      <td>0.0</td>\n",
       "      <td>0.00</td>\n",
       "      <td>244.00</td>\n",
       "      <td>780.00</td>\n",
       "      <td>1170.00</td>\n",
       "      <td>2000.00</td>\n",
       "      <td>2832.70</td>\n",
       "      <td>4005.00</td>\n",
       "      <td>6251.15</td>\n",
       "      <td>15963.75</td>\n",
       "    </tr>\n",
       "    <tr>\n",
       "      <th>PAY_AMT6</th>\n",
       "      <td>0.0</td>\n",
       "      <td>0.00</td>\n",
       "      <td>60.75</td>\n",
       "      <td>690.00</td>\n",
       "      <td>1065.00</td>\n",
       "      <td>1911.90</td>\n",
       "      <td>2711.00</td>\n",
       "      <td>4000.00</td>\n",
       "      <td>6100.00</td>\n",
       "      <td>17398.10</td>\n",
       "    </tr>\n",
       "    <tr>\n",
       "      <th>BILL_AMT1</th>\n",
       "      <td>0.0</td>\n",
       "      <td>815.00</td>\n",
       "      <td>3631.50</td>\n",
       "      <td>9245.90</td>\n",
       "      <td>17706.20</td>\n",
       "      <td>28347.00</td>\n",
       "      <td>46009.85</td>\n",
       "      <td>65779.50</td>\n",
       "      <td>105939.05</td>\n",
       "      <td>197600.00</td>\n",
       "    </tr>\n",
       "    <tr>\n",
       "      <th>BILL_AMT2</th>\n",
       "      <td>0.0</td>\n",
       "      <td>495.00</td>\n",
       "      <td>3098.50</td>\n",
       "      <td>8760.30</td>\n",
       "      <td>17385.00</td>\n",
       "      <td>27619.45</td>\n",
       "      <td>43981.00</td>\n",
       "      <td>62761.25</td>\n",
       "      <td>101462.40</td>\n",
       "      <td>191542.10</td>\n",
       "    </tr>\n",
       "    <tr>\n",
       "      <th>BILL_AMT3</th>\n",
       "      <td>0.0</td>\n",
       "      <td>390.00</td>\n",
       "      <td>2773.50</td>\n",
       "      <td>8600.55</td>\n",
       "      <td>16985.55</td>\n",
       "      <td>26011.90</td>\n",
       "      <td>40181.05</td>\n",
       "      <td>59298.00</td>\n",
       "      <td>97224.80</td>\n",
       "      <td>184792.90</td>\n",
       "    </tr>\n",
       "    <tr>\n",
       "      <th>BILL_AMT4</th>\n",
       "      <td>0.0</td>\n",
       "      <td>370.85</td>\n",
       "      <td>2340.00</td>\n",
       "      <td>7851.95</td>\n",
       "      <td>15528.55</td>\n",
       "      <td>22497.40</td>\n",
       "      <td>33408.05</td>\n",
       "      <td>52188.50</td>\n",
       "      <td>89414.40</td>\n",
       "      <td>171381.90</td>\n",
       "    </tr>\n",
       "    <tr>\n",
       "      <th>BILL_AMT5</th>\n",
       "      <td>0.0</td>\n",
       "      <td>225.00</td>\n",
       "      <td>1740.00</td>\n",
       "      <td>6805.65</td>\n",
       "      <td>14111.55</td>\n",
       "      <td>20328.45</td>\n",
       "      <td>30177.00</td>\n",
       "      <td>49746.50</td>\n",
       "      <td>84116.30</td>\n",
       "      <td>164724.15</td>\n",
       "    </tr>\n",
       "    <tr>\n",
       "      <th>BILL_AMT6</th>\n",
       "      <td>0.0</td>\n",
       "      <td>0.00</td>\n",
       "      <td>1234.75</td>\n",
       "      <td>5369.65</td>\n",
       "      <td>12266.40</td>\n",
       "      <td>19826.00</td>\n",
       "      <td>29736.40</td>\n",
       "      <td>48796.25</td>\n",
       "      <td>81631.80</td>\n",
       "      <td>160588.60</td>\n",
       "    </tr>\n",
       "  </tbody>\n",
       "</table>\n",
       "</div>"
      ],
      "text/plain": [
       "               5th      15th      25th      35th       45th       55th  \\\n",
       "LIMIT_BAL  20000.0  50000.00  50000.00  80000.00  120000.00  150000.00   \n",
       "PAY_AMT1       0.0      0.00   1000.00   1500.00    2000.00    2550.00   \n",
       "PAY_AMT2       0.0      0.00    800.00   1379.00    1885.55    2390.90   \n",
       "PAY_AMT3       0.0      0.00    379.00   1000.00    1424.10    2000.00   \n",
       "PAY_AMT4       0.0      0.00    279.75    764.65    1100.00    1920.00   \n",
       "PAY_AMT5       0.0      0.00    244.00    780.00    1170.00    2000.00   \n",
       "PAY_AMT6       0.0      0.00     60.75    690.00    1065.00    1911.90   \n",
       "BILL_AMT1      0.0    815.00   3631.50   9245.90   17706.20   28347.00   \n",
       "BILL_AMT2      0.0    495.00   3098.50   8760.30   17385.00   27619.45   \n",
       "BILL_AMT3      0.0    390.00   2773.50   8600.55   16985.55   26011.90   \n",
       "BILL_AMT4      0.0    370.85   2340.00   7851.95   15528.55   22497.40   \n",
       "BILL_AMT5      0.0    225.00   1740.00   6805.65   14111.55   20328.45   \n",
       "BILL_AMT6      0.0      0.00   1234.75   5369.65   12266.40   19826.00   \n",
       "\n",
       "                65th       75th       85th       95th  \n",
       "LIMIT_BAL  200000.00  240000.00  300000.00  430000.00  \n",
       "PAY_AMT1     3510.40    5000.00    8000.00   18243.85  \n",
       "PAY_AMT2     3300.00    5000.00    7784.15   19000.15  \n",
       "PAY_AMT3     3000.00    4347.25    6800.00   16513.55  \n",
       "PAY_AMT4     2728.35    4000.00    6200.00   16000.00  \n",
       "PAY_AMT5     2832.70    4005.00    6251.15   15963.75  \n",
       "PAY_AMT6     2711.00    4000.00    6100.00   17398.10  \n",
       "BILL_AMT1   46009.85   65779.50  105939.05  197600.00  \n",
       "BILL_AMT2   43981.00   62761.25  101462.40  191542.10  \n",
       "BILL_AMT3   40181.05   59298.00   97224.80  184792.90  \n",
       "BILL_AMT4   33408.05   52188.50   89414.40  171381.90  \n",
       "BILL_AMT5   30177.00   49746.50   84116.30  164724.15  \n",
       "BILL_AMT6   29736.40   48796.25   81631.80  160588.60  "
      ]
     },
     "execution_count": 37,
     "metadata": {},
     "output_type": "execute_result"
    }
   ],
   "source": [
    "# investigate the percentiles for LIMIT_BAL, PAY_AMT and BILL_AMT\n",
    "percentiles = []\n",
    "variables = ['LIMIT_BAL', 'PAY_AMT1', 'PAY_AMT2', 'PAY_AMT3', 'PAY_AMT4', 'PAY_AMT5', 'PAY_AMT6', \n",
    "             'BILL_AMT1', 'BILL_AMT2', 'BILL_AMT3', 'BILL_AMT4', 'BILL_AMT5', 'BILL_AMT6']\n",
    "\n",
    "for var in variables:\n",
    "    percentiles.append(list(np.percentile(df_train[var], i) for i in range(5,100,10)))\n",
    "\n",
    "pd.DataFrame(data=percentiles, index=variables, columns=['5th','15th','25th','35th','45th','55th','65th','75th','85th','95th'])"
   ]
  },
  {
   "cell_type": "code",
   "execution_count": 38,
   "metadata": {
    "colab": {
     "base_uri": "https://localhost:8080/",
     "height": 215
    },
    "id": "vHd9F_Va565a",
    "outputId": "39c22ad0-61bc-4f95-9a44-6fc537f64dc4"
   },
   "outputs": [
    {
     "name": "stdout",
     "output_type": "stream",
     "text": [
      "Number of outliers: 5\n"
     ]
    },
    {
     "data": {
      "text/html": [
       "<div>\n",
       "<style scoped>\n",
       "    .dataframe tbody tr th:only-of-type {\n",
       "        vertical-align: middle;\n",
       "    }\n",
       "\n",
       "    .dataframe tbody tr th {\n",
       "        vertical-align: top;\n",
       "    }\n",
       "\n",
       "    .dataframe thead th {\n",
       "        text-align: right;\n",
       "    }\n",
       "</style>\n",
       "<table border=\"1\" class=\"dataframe\">\n",
       "  <thead>\n",
       "    <tr style=\"text-align: right;\">\n",
       "      <th></th>\n",
       "      <th>LIMIT_BAL</th>\n",
       "      <th>PAY_AMT1</th>\n",
       "      <th>PAY_AMT2</th>\n",
       "      <th>PAY_AMT3</th>\n",
       "      <th>PAY_AMT4</th>\n",
       "      <th>PAY_AMT5</th>\n",
       "      <th>PAY_AMT6</th>\n",
       "      <th>BILL_AMT1</th>\n",
       "      <th>BILL_AMT2</th>\n",
       "      <th>BILL_AMT3</th>\n",
       "      <th>BILL_AMT4</th>\n",
       "      <th>BILL_AMT5</th>\n",
       "      <th>BILL_AMT6</th>\n",
       "    </tr>\n",
       "  </thead>\n",
       "  <tbody>\n",
       "    <tr>\n",
       "      <th>5843</th>\n",
       "      <td>10000</td>\n",
       "      <td>1475</td>\n",
       "      <td>780</td>\n",
       "      <td>0</td>\n",
       "      <td>31250</td>\n",
       "      <td>0</td>\n",
       "      <td>0</td>\n",
       "      <td>885</td>\n",
       "      <td>1475</td>\n",
       "      <td>780</td>\n",
       "      <td>390</td>\n",
       "      <td>780</td>\n",
       "      <td>390</td>\n",
       "    </tr>\n",
       "    <tr>\n",
       "      <th>7508</th>\n",
       "      <td>10000</td>\n",
       "      <td>2134</td>\n",
       "      <td>1000</td>\n",
       "      <td>2500</td>\n",
       "      <td>122</td>\n",
       "      <td>0</td>\n",
       "      <td>0</td>\n",
       "      <td>53095</td>\n",
       "      <td>54562</td>\n",
       "      <td>5428</td>\n",
       "      <td>7928</td>\n",
       "      <td>6091</td>\n",
       "      <td>0</td>\n",
       "    </tr>\n",
       "    <tr>\n",
       "      <th>7688</th>\n",
       "      <td>10000</td>\n",
       "      <td>10400</td>\n",
       "      <td>1000</td>\n",
       "      <td>0</td>\n",
       "      <td>20200</td>\n",
       "      <td>200</td>\n",
       "      <td>0</td>\n",
       "      <td>219</td>\n",
       "      <td>9110</td>\n",
       "      <td>9797</td>\n",
       "      <td>-10433</td>\n",
       "      <td>9767</td>\n",
       "      <td>9067</td>\n",
       "    </tr>\n",
       "    <tr>\n",
       "      <th>16504</th>\n",
       "      <td>10000</td>\n",
       "      <td>1500</td>\n",
       "      <td>5000</td>\n",
       "      <td>4000</td>\n",
       "      <td>2000</td>\n",
       "      <td>22400</td>\n",
       "      <td>0</td>\n",
       "      <td>8525</td>\n",
       "      <td>5141</td>\n",
       "      <td>5239</td>\n",
       "      <td>7911</td>\n",
       "      <td>17890</td>\n",
       "      <td>10000</td>\n",
       "    </tr>\n",
       "    <tr>\n",
       "      <th>5296</th>\n",
       "      <td>500000</td>\n",
       "      <td>4366</td>\n",
       "      <td>1684259</td>\n",
       "      <td>121831</td>\n",
       "      <td>97670</td>\n",
       "      <td>379267</td>\n",
       "      <td>26759</td>\n",
       "      <td>125</td>\n",
       "      <td>-18088</td>\n",
       "      <td>1664089</td>\n",
       "      <td>121757</td>\n",
       "      <td>97115</td>\n",
       "      <td>377217</td>\n",
       "    </tr>\n",
       "  </tbody>\n",
       "</table>\n",
       "</div>"
      ],
      "text/plain": [
       "       LIMIT_BAL  PAY_AMT1  PAY_AMT2  PAY_AMT3  PAY_AMT4  PAY_AMT5  PAY_AMT6  \\\n",
       "5843       10000      1475       780         0     31250         0         0   \n",
       "7508       10000      2134      1000      2500       122         0         0   \n",
       "7688       10000     10400      1000         0     20200       200         0   \n",
       "16504      10000      1500      5000      4000      2000     22400         0   \n",
       "5296      500000      4366   1684259    121831     97670    379267     26759   \n",
       "\n",
       "       BILL_AMT1  BILL_AMT2  BILL_AMT3  BILL_AMT4  BILL_AMT5  BILL_AMT6  \n",
       "5843         885       1475        780        390        780        390  \n",
       "7508       53095      54562       5428       7928       6091          0  \n",
       "7688         219       9110       9797     -10433       9767       9067  \n",
       "16504       8525       5141       5239       7911      17890      10000  \n",
       "5296         125     -18088    1664089     121757      97115     377217  "
      ]
     },
     "execution_count": 38,
     "metadata": {},
     "output_type": "execute_result"
    }
   ],
   "source": [
    "# Check outliers: \n",
    "# 1. Select the rows where the LIMIT_BAL value is below 5th percentile or above 95th percentile. \n",
    "# 2. Regard LIMIT_BAL as the credit base, check the rows where BILL_AMT or PAY_EMT exceed 2 * LIMIT_BAL\n",
    "data = df_train[(df_train['LIMIT_BAL'] < np.percentile(df_train['LIMIT_BAL'], 5)) | \n",
    "                (df_train['LIMIT_BAL'] > np.percentile(df_train['LIMIT_BAL'], 95))][variables]\n",
    "    \n",
    "data_out_of_range = []\n",
    "\n",
    "for i in data.index.values.tolist():\n",
    "    limit_bal = df_train.loc[i, 'LIMIT_BAL']\n",
    "    upper_limit = 2 * limit_bal\n",
    "\n",
    "    if (upper_limit < df_train.loc[i, 'BILL_AMT1']) | (upper_limit < df_train.loc[i, 'BILL_AMT2']) |\\\n",
    "       (upper_limit < df_train.loc[i, 'BILL_AMT3']) | (upper_limit < df_train.loc[i, 'BILL_AMT4']) |\\\n",
    "       (upper_limit < df_train.loc[i, 'BILL_AMT5']) | (upper_limit < df_train.loc[i, 'BILL_AMT6']) |\\\n",
    "       (upper_limit < df_train.loc[i, 'PAY_AMT1']) | (upper_limit < df_train.loc[i, 'PAY_AMT2']) |\\\n",
    "       (upper_limit < df_train.loc[i, 'PAY_AMT3']) | (upper_limit < df_train.loc[i, 'PAY_AMT4']) |\\\n",
    "       (upper_limit < df_train.loc[i, 'PAY_AMT5']) | (upper_limit < df_train.loc[i, 'PAY_AMT6']):\n",
    "            data_out_of_range.append(i)\n",
    "    \n",
    "print('Number of outliers:', len(data_out_of_range))\n",
    "outliers = df_train.loc[data_out_of_range, variables].sort_values(by=['LIMIT_BAL'])\n",
    "outliers"
   ]
  },
  {
   "cell_type": "markdown",
   "metadata": {
    "id": "viJAB2OD57px"
   },
   "source": [
    "We filtered out 5 records. In these records, either one of the previous payments or one of the bill statements or both exceeded the twice of the range of their given credit. However, if we take a closer look at these records, we will notice that the previous payments and the bill statements are relatively balanced in general and most of their values lied with in the given credit. Therefore, we cannot regard them as anomalies."
   ]
  },
  {
   "cell_type": "markdown",
   "metadata": {
    "id": "z8LcZYrJg-Er"
   },
   "source": [
    "Calculate Ratios"
   ]
  },
  {
   "cell_type": "code",
   "execution_count": 39,
   "metadata": {
    "colab": {
     "base_uri": "https://localhost:8080/",
     "height": 297
    },
    "id": "wIJVD5C5eaco",
    "outputId": "a5ccf193-eb19-4e23-8b1b-b8dbed6df8f3"
   },
   "outputs": [
    {
     "name": "stdout",
     "output_type": "stream",
     "text": [
      "0.22375\n"
     ]
    },
    {
     "data": {
      "text/plain": [
       "<AxesSubplot:>"
      ]
     },
     "execution_count": 39,
     "metadata": {},
     "output_type": "execute_result"
    },
    {
     "data": {
      "image/png": "[encoded data removed]",
      "text/plain": [
       "<Figure size 432x288 with 1 Axes>"
      ]
     },
     "metadata": {
      "needs_background": "light"
     },
     "output_type": "display_data"
    }
   ],
   "source": [
    "# default probability in the training set\n",
    "print(df_train['default'].sum() / len(df_train['default']))\n",
    "# alternative: draw bar chart\n",
    "df_train['default'].value_counts().plot.bar()"
   ]
  },
  {
   "cell_type": "markdown",
   "metadata": {
    "id": "jUbKnk7WhH7j"
   },
   "source": [
    "22% Default, 78% No default in the training set."
   ]
  },
  {
   "cell_type": "code",
   "execution_count": null,
   "metadata": {
    "id": "xS12vCGyeafn"
   },
   "outputs": [],
   "source": []
  },
  {
   "cell_type": "markdown",
   "metadata": {
    "id": "Y-pd3F09ha7s"
   },
   "source": [
    "Check single variable's distribution"
   ]
  },
  {
   "cell_type": "code",
   "execution_count": 40,
   "metadata": {
    "colab": {
     "base_uri": "https://localhost:8080/",
     "height": 551
    },
    "id": "Zl6eMtWZeIo6",
    "outputId": "3f47bf94-bc4c-4b6d-8f03-5894b06112e6"
   },
   "outputs": [
    {
     "data": {
      "image/png": "[encoded data removed]",
      "text/plain": [
       "<Figure size 576x576 with 3 Axes>"
      ]
     },
     "metadata": {
      "needs_background": "light"
     },
     "output_type": "display_data"
    }
   ],
   "source": [
    "# draw bar charts\n",
    "fig, axes = plt.subplots(nrows=3, figsize=(8,8))\n",
    "fig.suptitle('Data distribution in terms of SEX, MARRIAGE, EDUCATION', fontsize=14)\n",
    "\n",
    "df_train['SEX'].value_counts().plot.bar(ax=axes[0])\n",
    "df_train['EDUCATION'].value_counts().plot.bar(ax=axes[1])\n",
    "df_train['MARRIAGE'].value_counts().plot.bar(ax=axes[2])\n",
    "axes[0].set_title('SEX')\n",
    "axes[1].set_title('EDUCATION')\n",
    "axes[2].set_title('MARRIAGE')\n",
    "\n",
    "for ax in axes.flat:\n",
    "    ax.set(xlabel='unique values', ylabel='count')\n",
    "\n",
    "plt.subplots_adjust(hspace=0.5)\n",
    "plt.show()"
   ]
  },
  {
   "cell_type": "markdown",
   "metadata": {
    "id": "2c2OGaiJt67c"
   },
   "source": [
    "More females than males.\n",
    "Education level is mostly graduate school and university.\n",
    "Most of the clients are either marrined or single (less frequent the other status)."
   ]
  },
  {
   "cell_type": "code",
   "execution_count": 41,
   "metadata": {
    "colab": {
     "base_uri": "https://localhost:8080/",
     "height": 801
    },
    "id": "Bk1hkjIfhclh",
    "outputId": "5457ef21-b383-49fc-9deb-06e3f96c89bc"
   },
   "outputs": [
    {
     "data": {
      "image/png": "[encoded data removed]",
      "text/plain": [
       "<Figure size 1080x864 with 6 Axes>"
      ]
     },
     "metadata": {
      "needs_background": "light"
     },
     "output_type": "display_data"
    }
   ],
   "source": [
    "fig, axes = plt.subplots(nrows=2, ncols=3, figsize=(15,12))\n",
    "fig.suptitle('Data distribution in terms of past payment', fontsize=14)\n",
    "\n",
    "df_train['PAY_1'].value_counts().plot.bar(ax=axes[0,0])\n",
    "df_train['PAY_2'].value_counts().plot.bar(ax=axes[0,1])\n",
    "df_train['PAY_3'].value_counts().plot.bar(ax=axes[0,2])\n",
    "df_train['PAY_4'].value_counts().plot.bar(ax=axes[1,0])\n",
    "df_train['PAY_5'].value_counts().plot.bar(ax=axes[1,1])\n",
    "df_train['PAY_6'].value_counts().plot.bar(ax=axes[1,2])\n",
    "\n",
    "axes[0,0].set_title('PAY_1')\n",
    "axes[0,1].set_title('PAY_2')\n",
    "axes[0,2].set_title('PAY_3')\n",
    "axes[1,0].set_title('PAY_4')\n",
    "axes[1,1].set_title('PAY_5')\n",
    "axes[1,2].set_title('PAY_6')\n",
    "\n",
    "for ax in axes.flat:\n",
    "    ax.set(xlabel='unique values', ylabel='count')\n",
    "\n",
    "plt.subplots_adjust(hspace=0.2, wspace=0.3)\n",
    "plt.show()"
   ]
  },
  {
   "cell_type": "code",
   "execution_count": 42,
   "metadata": {
    "colab": {
     "base_uri": "https://localhost:8080/",
     "height": 751
    },
    "id": "-s95r5m5hcna",
    "outputId": "e0f21c6c-8cae-4b6c-c293-2774c1948989"
   },
   "outputs": [
    {
     "name": "stderr",
     "output_type": "stream",
     "text": [
      "/Users/toeun_kim/tf2/lib/python3.7/site-packages/ipykernel_launcher.py:6: UserWarning: To output multiple subplots, the figure containing the passed axes is being cleared\n",
      "  \n"
     ]
    },
    {
     "data": {
      "image/png": "[encoded data removed]",
      "text/plain": [
       "<Figure size 1296x864 with 16 Axes>"
      ]
     },
     "metadata": {
      "needs_background": "light"
     },
     "output_type": "display_data"
    }
   ],
   "source": [
    "# draw histograms\n",
    "fig= plt.figure(figsize = (18,12))\n",
    "ax = fig.gca()\n",
    "\n",
    "df_train[['LIMIT_BAL', 'BILL_AMT1', 'BILL_AMT2', 'BILL_AMT3', 'BILL_AMT4', 'BILL_AMT5', 'BILL_AMT6', \n",
    "    'PAY_AMT1', 'PAY_AMT2', 'PAY_AMT3', 'PAY_AMT4', 'PAY_AMT5', 'PAY_AMT6']].hist(ax=ax, bins=20)\n",
    "plt.show()"
   ]
  },
  {
   "cell_type": "code",
   "execution_count": 43,
   "metadata": {
    "colab": {
     "base_uri": "https://localhost:8080/",
     "height": 296
    },
    "id": "ed7NyLKlhcpK",
    "outputId": "653bfff6-3e73-471d-aa11-a8de0a8a1e9f"
   },
   "outputs": [
    {
     "data": {
      "text/plain": [
       "[Text(0.5, 0, 'ages'), Text(0, 0.5, 'count')]"
      ]
     },
     "execution_count": 43,
     "metadata": {},
     "output_type": "execute_result"
    },
    {
     "data": {
      "image/png": "[encoded data removed]",
      "text/plain": [
       "<Figure size 432x288 with 1 Axes>"
      ]
     },
     "metadata": {
      "needs_background": "light"
     },
     "output_type": "display_data"
    }
   ],
   "source": [
    "ax = df_train['AGE'].hist(bins=20)\n",
    "ax.set(xlabel='ages', ylabel='count')"
   ]
  },
  {
   "cell_type": "code",
   "execution_count": null,
   "metadata": {
    "id": "WpN1yWNpug2R"
   },
   "outputs": [],
   "source": []
  },
  {
   "cell_type": "markdown",
   "metadata": {
    "id": "--aWShfcucoG"
   },
   "source": [
    "Feature correlation test"
   ]
  },
  {
   "cell_type": "code",
   "execution_count": 44,
   "metadata": {
    "colab": {
     "base_uri": "https://localhost:8080/",
     "height": 296
    },
    "id": "dGFoa7Iihcq5",
    "outputId": "1a17044a-4ea0-4b13-e2d0-26d121dc888c"
   },
   "outputs": [
    {
     "data": {
      "text/plain": [
       "[Text(0, 0, 'Male'), Text(1, 0, 'Female')]"
      ]
     },
     "execution_count": 44,
     "metadata": {},
     "output_type": "execute_result"
    },
    {
     "data": {
      "image/png": "[encoded data removed]",
      "text/plain": [
       "<Figure size 432x288 with 1 Axes>"
      ]
     },
     "metadata": {
      "needs_background": "light"
     },
     "output_type": "display_data"
    }
   ],
   "source": [
    "# check the credit limit distribution vs. sex\n",
    "ax = sns.boxplot(x=\"SEX\", y=\"LIMIT_BAL\", hue=\"SEX\",data=df_train, palette=\"PRGn\",showfliers=False)\n",
    "ax.legend_.remove()\n",
    "\n",
    "# interpret the unique values in xticks\n",
    "xlabels = [item.get_text() for item in ax.get_xticklabels()]\n",
    "sex_encoder = {'1':'Male', '2':'Female'}\n",
    "xlabels = [sex_encoder.get(xlabels[i]) for i in range(len(xlabels))]\n",
    "ax.set_xticklabels(xlabels)"
   ]
  },
  {
   "cell_type": "markdown",
   "metadata": {
    "id": "02XEFCMUukzg"
   },
   "source": [
    "The limit credit amount is quite balanced between sexes. The males have a slightly smaller Q1 and mean.\n",
    "\n"
   ]
  },
  {
   "cell_type": "code",
   "execution_count": 45,
   "metadata": {
    "id": "yo6ahk52ugKN"
   },
   "outputs": [],
   "source": [
    "# Features correlation for numerical variables\n",
    "def check_correlation(variables, title:str):\n",
    "    plt.figure(figsize = (10,8))\n",
    "    plt.title(title + ' (Apr 2005 to Sep 2005)' + '\\nCorrelation Plot')\n",
    "    corr = df_train[variables].corr()\n",
    "    sns.heatmap(corr,xticklabels=corr.columns,yticklabels=corr.columns,linewidths=.1,vmin=-1, vmax=1)\n",
    "    plt.show()"
   ]
  },
  {
   "cell_type": "code",
   "execution_count": 46,
   "metadata": {
    "colab": {
     "base_uri": "https://localhost:8080/",
     "height": 514
    },
    "id": "lJKOimcQun4Y",
    "outputId": "6a83a257-5c71-403a-f263-c75c3fd8eabd"
   },
   "outputs": [
    {
     "data": {
      "image/png": "[encoded data removed]",
      "text/plain": [
       "<Figure size 720x576 with 2 Axes>"
      ]
     },
     "metadata": {
      "needs_background": "light"
     },
     "output_type": "display_data"
    }
   ],
   "source": [
    "# check the correlation of Amount of bill statement\n",
    "check_correlation(['BILL_AMT1','BILL_AMT2','BILL_AMT3','BILL_AMT4','BILL_AMT5','BILL_AMT6'], 'Amount of bill statement')"
   ]
  },
  {
   "cell_type": "markdown",
   "metadata": {
    "id": "pJ5TbXhAusHB"
   },
   "source": [
    "Correlation is decreasing as the distance between months increases. Lowest correlation is between Sept (BILL_AMT1) & April (BILL_AMT6).\n",
    "\n"
   ]
  },
  {
   "cell_type": "code",
   "execution_count": 47,
   "metadata": {
    "colab": {
     "base_uri": "https://localhost:8080/",
     "height": 514
    },
    "id": "z0IN4XVAun7e",
    "outputId": "fd082adc-fe85-41a2-d1ae-a6da95b694f7"
   },
   "outputs": [
    {
     "data": {
      "image/png": "[encoded data removed]",
      "text/plain": [
       "<Figure size 720x576 with 2 Axes>"
      ]
     },
     "metadata": {
      "needs_background": "light"
     },
     "output_type": "display_data"
    }
   ],
   "source": [
    "# check the correlation of Amount of previous payment\n",
    "check_correlation(['PAY_AMT1', 'PAY_AMT2', 'PAY_AMT3', 'PAY_AMT4', 'PAY_AMT5'], 'Amount of previous payment')"
   ]
  },
  {
   "cell_type": "markdown",
   "metadata": {
    "id": "lPCRygupuv1u"
   },
   "source": [
    "There are no correlations between amounts of previous payments.\n",
    "\n"
   ]
  },
  {
   "cell_type": "code",
   "execution_count": 48,
   "metadata": {
    "colab": {
     "base_uri": "https://localhost:8080/",
     "height": 514
    },
    "id": "Ss2mbuhuhcsv",
    "outputId": "69b14c49-83ee-4a58-dc29-b1742b5f90fa"
   },
   "outputs": [
    {
     "data": {
      "image/png": "[encoded data removed]",
      "text/plain": [
       "<Figure size 720x576 with 2 Axes>"
      ]
     },
     "metadata": {
      "needs_background": "light"
     },
     "output_type": "display_data"
    }
   ],
   "source": [
    "# check the correlation between Repayment status\n",
    "check_correlation(['PAY_1','PAY_2', 'PAY_3', 'PAY_4', 'PAY_5', 'PAY_6'], 'Repayment status')"
   ]
  },
  {
   "cell_type": "markdown",
   "metadata": {
    "id": "MnmLWYICuzeJ"
   },
   "source": [
    "Correlation is decreasing as the distance between months increases. Lowest correlation is between Sept (BILL_AMT1) & April (BILL_AMT6).\n",
    "\n"
   ]
  },
  {
   "cell_type": "code",
   "execution_count": 49,
   "metadata": {
    "colab": {
     "base_uri": "https://localhost:8080/",
     "height": 387
    },
    "id": "Z6HVVrF3hcue",
    "outputId": "e7ad9704-bd59-41bb-e3c9-724c394bf5c2"
   },
   "outputs": [
    {
     "data": {
      "image/png": "[encoded data removed]",
      "text/plain": [
       "<Figure size 864x432 with 1 Axes>"
      ]
     },
     "metadata": {
      "needs_background": "light"
     },
     "output_type": "display_data"
    }
   ],
   "source": [
    "# credit amount limit distribution grouped by marriage status and education level\n",
    "fig, ax = plt.subplots(figsize=(12, 6))\n",
    "sns.boxplot(ax=ax, x='MARRIAGE', y='LIMIT_BAL', hue='EDUCATION', data=df_train, palette=\"PRGn\",showfliers=False)\n",
    "\n",
    "# interpret the unique values (of EDUCATION) in legend\n",
    "education_encoder = {'1':'Graduate school', '2':'University', '3':'High school', '4': 'Others'}\n",
    "L = plt.legend()\n",
    "L.set_title('EDUCATION')\n",
    "for i in range(len(L.get_texts())):\n",
    "    legend_text = L.get_texts()[i].get_text()\n",
    "    L.get_texts()[i].set_text(education_encoder.get(legend_text))\n",
    "\n",
    "# interpret the unique values (of MARRIAGE) in xticks\n",
    "xlabels = [item.get_text() for item in ax.get_xticklabels()]\n",
    "marriage_encoder = {'1':'Married', '2':'Single', '3':'Others'}\n",
    "xlabels = [sex_encoder.get(xlabels[i]) for i in range(len(xlabels))]\n",
    "ax.set_xticklabels(xlabels)\n",
    "\n",
    "plt.show()"
   ]
  },
  {
   "cell_type": "markdown",
   "metadata": {
    "id": "hIs9ABU7u6Uf"
   },
   "source": [
    "In general, higher education level has higher credit among all marriage groups. Married people have higher credit than Single than Others among all education levels."
   ]
  },
  {
   "cell_type": "markdown",
   "metadata": {
    "id": "iYEOXxJEu81_"
   },
   "source": [
    "Feature Importance Test\n",
    "- Use of any classification model and feed raw data without any splitting and cross validation. This is purely to get a general understanding of importance of features and to set a certain goal for data transformation as part of exploration"
   ]
  },
  {
   "cell_type": "code",
   "execution_count": 50,
   "metadata": {},
   "outputs": [
    {
     "name": "stdout",
     "output_type": "stream",
     "text": [
      "Requirement already satisfied: xgboost in /Library/Frameworks/Python.framework/Versions/3.7/lib/python3.7/site-packages (0.90)\n",
      "Requirement already satisfied: numpy in /Users/toeun_kim/tf2/lib/python3.7/site-packages (from xgboost) (1.19.1)\n",
      "Requirement already satisfied: scipy in /Library/Frameworks/Python.framework/Versions/3.7/lib/python3.7/site-packages (from xgboost) (1.3.0)\n",
      "\u001b[33mWARNING: You are using pip version 20.2.2; however, version 20.3.3 is available.\n",
      "You should consider upgrading via the '/Users/toeun_kim/tf2/bin/python3 -m pip install --upgrade pip' command.\u001b[0m\n"
     ]
    }
   ],
   "source": [
    "!pip install xgboost"
   ]
  },
  {
   "cell_type": "code",
   "execution_count": 51,
   "metadata": {
    "id": "UkS8iMpeu8Vo"
   },
   "outputs": [],
   "source": [
    "from xgboost import XGBClassifier"
   ]
  },
  {
   "cell_type": "code",
   "execution_count": 52,
   "metadata": {
    "colab": {
     "base_uri": "https://localhost:8080/",
     "height": 570
    },
    "id": "EKGsDYlbu8X4",
    "outputId": "caf8a3d7-22ae-430d-9c1c-579347a6d07e"
   },
   "outputs": [
    {
     "name": "stderr",
     "output_type": "stream",
     "text": [
      "/Library/Frameworks/Python.framework/Versions/3.7/lib/python3.7/site-packages/sklearn/preprocessing/label.py:219: DataConversionWarning: A column-vector y was passed when a 1d array was expected. Please change the shape of y to (n_samples, ), for example using ravel().\n",
      "  y = column_or_1d(y, warn=True)\n",
      "/Library/Frameworks/Python.framework/Versions/3.7/lib/python3.7/site-packages/sklearn/preprocessing/label.py:252: DataConversionWarning: A column-vector y was passed when a 1d array was expected. Please change the shape of y to (n_samples, ), for example using ravel().\n",
      "  y = column_or_1d(y, warn=True)\n"
     ]
    },
    {
     "data": {
      "image/png": "[encoded data removed]",
      "text/plain": [
       "<Figure size 1008x576 with 1 Axes>"
      ]
     },
     "metadata": {
      "needs_background": "light"
     },
     "output_type": "display_data"
    }
   ],
   "source": [
    "# split training data into X and y\n",
    "X = df_train.drop(['default'], axis=1)\n",
    "y = df_train[['default']]\n",
    "# fit model no training data\n",
    "model = XGBClassifier()\n",
    "model.fit(X, y)\n",
    "\n",
    "# Get feature name place number\n",
    "features_num = [i for i in range(len(model.feature_importances_))]\n",
    "importance = model.feature_importances_.tolist()\n",
    "feature_names = X.columns\n",
    "\n",
    "# Sorting\n",
    "matched = zip(features_num, feature_names, importance)\n",
    "sorted_importance = sorted(matched, key=lambda x: x[2])       # sort by importance\n",
    "\n",
    "sorted_features_importance = list(map(lambda x: x[2], sorted_importance))\n",
    "sorted_features_names = list(map(lambda x: x[1], sorted_importance))\n",
    "\n",
    "fig = plt.figure(figsize=(14, 8))\n",
    "plt.barh(features_num, sorted_features_importance, tick_label=sorted_features_names)\n",
    "plt.title('Feature Importance')\n",
    "plt.show()"
   ]
  },
  {
   "cell_type": "markdown",
   "metadata": {
    "id": "FZByAHQe0H41"
   },
   "source": [
    "1. PAY_N is the most important feature, so we will not change these features during transformation phase.\n",
    "2. Generally, PAY_N > PAY_AMT >LIMIT_BAL > BILL_AMT. Therefore we can try to use BILL_AMTs and try making stronger and semantically meaningful features by combining weak features.\n",
    "3. Among 4 personal information, Education is the most important feature.\n",
    "4. On the other hand, Marriage, Age, Sex are contributing very little to the classification. "
   ]
  },
  {
   "cell_type": "code",
   "execution_count": null,
   "metadata": {
    "id": "yYSgBMbm4V0g"
   },
   "outputs": [],
   "source": []
  },
  {
   "cell_type": "code",
   "execution_count": null,
   "metadata": {
    "id": "PhoHvvjM4V2X"
   },
   "outputs": [],
   "source": []
  },
  {
   "cell_type": "code",
   "execution_count": null,
   "metadata": {
    "id": "phsfdabd4V31"
   },
   "outputs": [],
   "source": []
  },
  {
   "cell_type": "markdown",
   "metadata": {
    "id": "qqsFHMlZgHrv"
   },
   "source": [
    "**3.2 Data Transformation**"
   ]
  },
  {
   "cell_type": "code",
   "execution_count": null,
   "metadata": {
    "id": "nDe5d7ADeIri"
   },
   "outputs": [],
   "source": []
  },
  {
   "cell_type": "markdown",
   "metadata": {
    "id": "LMAxQylDitwk"
   },
   "source": [
    "**Data Cleaning**"
   ]
  },
  {
   "cell_type": "code",
   "execution_count": 53,
   "metadata": {
    "id": "sRneAJcWg5Ax"
   },
   "outputs": [],
   "source": [
    "def rename_pay_default(df):\n",
    "    df = df.rename(columns={'PAY_0':'PAY_1'})\n",
    "    df = df.rename(columns={'default payment next month':'default'})\n",
    "    return df\n",
    "\n",
    "def clean_edu(df):\n",
    "    df.loc[(df['EDUCATION'] == 0) | (df['EDUCATION'] == 5) | (df['EDUCATION'] == 6), 'EDUCATION'] = 4\n",
    "    return df\n",
    "\n",
    "def clean_marriage(df):\n",
    "    df.loc[df['MARRIAGE'] == 0, 'MARRIAGE'] = 3\n",
    "    return df\n",
    "\n",
    "def clean_pay(df):\n",
    "    for i in range(1, 7):\n",
    "        df.loc[(df[f'PAY_{i}'] == 0), f'PAY_{i}'] = -1\n",
    "    return df"
   ]
  },
  {
   "cell_type": "markdown",
   "metadata": {
    "id": "7e_xAKY0iqbx"
   },
   "source": [
    "**Feature Processing**"
   ]
  },
  {
   "cell_type": "code",
   "execution_count": 54,
   "metadata": {
    "id": "VNCcDgpWiprh"
   },
   "outputs": [],
   "source": [
    "def drop_id(df):\n",
    "    df = df.drop(['ID'], axis=1)\n",
    "    return df\n",
    "\n",
    "def combine_gender_marital(df):\n",
    "    df['SEX_MAR'] = df.SEX * df.MARRIAGE\n",
    "    df = df.drop(['SEX', 'MARRIAGE'], axis=1)\n",
    "    return df\n",
    "\n",
    "def make_age_bins(df):\n",
    "    df['AgeBin'] = 0 # placeholder column\n",
    "    df.loc[((df['AGE'] < 30)) , 'AgeBin'] = 1\n",
    "    df.loc[((df['AGE'] >= 30) & (df['AGE'] < 40)) , 'AgeBin'] = 2\n",
    "    df.loc[((df['AGE'] >= 40) & (df['AGE'] < 50)) , 'AgeBin'] = 3\n",
    "    df.loc[((df['AGE'] >= 50) & (df['AGE'] < 60)) , 'AgeBin'] = 4\n",
    "    df.loc[((df['AGE'] >= 60) & (df['AGE'] < 70)) , 'AgeBin'] = 5\n",
    "    df.loc[((df['AGE'] >= 70) & (df['AGE'] < 81)) , 'AgeBin'] = 6\n",
    "    \n",
    "    df = df.drop(['AGE'], axis=1)\n",
    "    return df\n",
    "\n",
    "def get_closeness(df):\n",
    "    for i in range(1, 7):\n",
    "        df[f'Closeness_{i}'] = (df.LIMIT_BAL - df[f'BILL_AMT{i}']) #/ df.LIMIT_BAL\n",
    "    \n",
    "    return df\n",
    "\n",
    "def get_diff_of_totals(df):\n",
    "    df['diff'] = 0   # Make placeholder\n",
    "    \n",
    "    bill_cols = [f'BILL_AMT{i}' for i in range(1, 7)]\n",
    "    pay_cols = [f'PAY_AMT{i}' for i in range(1, 7)]\n",
    "    \n",
    "    for index, row in df.iterrows():\n",
    "        bill_df = df.loc[index, bill_cols]\n",
    "        pay_df = df.loc[index, pay_cols]\n",
    "\n",
    "        bill_sum = np.sum(bill_df.values)\n",
    "        pay_sum = np.sum(pay_df.values)\n",
    "\n",
    "        df.loc[index, 'diff'] = bill_sum - pay_sum\n",
    "        \n",
    "    return df\n",
    "\n",
    "def drop_bill_amt(df):\n",
    "    df = df.drop([f'BILL_AMT{i}' for i in range(1, 7)], axis=1)\n",
    "    return df\n",
    "\n",
    "def drop_pay_amt(df):\n",
    "    df = df.drop([f'PAY_AMT{i}' for i in range(1, 7)], axis=1)\n",
    "    return df\n",
    "\n",
    "def drop_age(df):\n",
    "    df = df.drop(['AGE'], axis=1)\n",
    "    return df"
   ]
  },
  {
   "cell_type": "markdown",
   "metadata": {
    "id": "lIjbT9Pml9wR"
   },
   "source": [
    "**Data Preprocessing Pipeline**"
   ]
  },
  {
   "cell_type": "code",
   "execution_count": 55,
   "metadata": {
    "id": "0QFl6vL8mEQM"
   },
   "outputs": [],
   "source": [
    "def processing_pipline(df):\n",
    "    ### Cleaning ###\n",
    "    \"\"\"\n",
    "    Available functions:\n",
    "    rename_pay, clean_edu, clean_marriage, clean_pay\n",
    "    \"\"\"\n",
    "    for func in [rename_pay_default, clean_edu, clean_marriage, clean_pay]:\n",
    "        df = func(df)\n",
    "    \n",
    "    print(\"Cleaned Data\")\n",
    "    \n",
    "    ### Feature Engineering ###\n",
    "    \"\"\"\n",
    "    Available functions:\n",
    "    drop_id, combine_gender_marital, make_age_bins, get_closeness, get_diff_of_totals, drop_bill_amt, drop_pay_amt, drop_age\n",
    "    \"\"\"\n",
    "    for func in [drop_id, combine_gender_marital, make_age_bins, get_closeness, get_diff_of_totals]:\n",
    "        df = func(df)\n",
    "    \n",
    "    print(\"Transformed Features\")\n",
    "    \n",
    "    return df"
   ]
  },
  {
   "cell_type": "code",
   "execution_count": 76,
   "metadata": {},
   "outputs": [
    {
     "name": "stdout",
     "output_type": "stream",
     "text": [
      "Cleaned Data\n",
      "Transformed Features\n"
     ]
    }
   ],
   "source": [
    "transformed_train = processing_pipline(df_train)"
   ]
  },
  {
   "cell_type": "code",
   "execution_count": 78,
   "metadata": {},
   "outputs": [
    {
     "data": {
      "text/html": [
       "<div>\n",
       "<style scoped>\n",
       "    .dataframe tbody tr th:only-of-type {\n",
       "        vertical-align: middle;\n",
       "    }\n",
       "\n",
       "    .dataframe tbody tr th {\n",
       "        vertical-align: top;\n",
       "    }\n",
       "\n",
       "    .dataframe thead th {\n",
       "        text-align: right;\n",
       "    }\n",
       "</style>\n",
       "<table border=\"1\" class=\"dataframe\">\n",
       "  <thead>\n",
       "    <tr style=\"text-align: right;\">\n",
       "      <th></th>\n",
       "      <th>LIMIT_BAL</th>\n",
       "      <th>EDUCATION</th>\n",
       "      <th>SEX_MAR</th>\n",
       "      <th>AgeBin</th>\n",
       "      <th>PAY_1</th>\n",
       "      <th>PAY_2</th>\n",
       "      <th>PAY_3</th>\n",
       "      <th>PAY_4</th>\n",
       "      <th>PAY_5</th>\n",
       "      <th>PAY_6</th>\n",
       "      <th>...</th>\n",
       "      <th>PAY_AMT5</th>\n",
       "      <th>PAY_AMT6</th>\n",
       "      <th>Closeness_1</th>\n",
       "      <th>Closeness_2</th>\n",
       "      <th>Closeness_3</th>\n",
       "      <th>Closeness_4</th>\n",
       "      <th>Closeness_5</th>\n",
       "      <th>Closeness_6</th>\n",
       "      <th>diff</th>\n",
       "      <th>default</th>\n",
       "    </tr>\n",
       "  </thead>\n",
       "  <tbody>\n",
       "    <tr>\n",
       "      <th>0</th>\n",
       "      <td>20000</td>\n",
       "      <td>2</td>\n",
       "      <td>2</td>\n",
       "      <td>1</td>\n",
       "      <td>2</td>\n",
       "      <td>2</td>\n",
       "      <td>-1</td>\n",
       "      <td>-1</td>\n",
       "      <td>-2</td>\n",
       "      <td>-2</td>\n",
       "      <td>...</td>\n",
       "      <td>0</td>\n",
       "      <td>0</td>\n",
       "      <td>16087</td>\n",
       "      <td>16898</td>\n",
       "      <td>19311</td>\n",
       "      <td>20000</td>\n",
       "      <td>20000</td>\n",
       "      <td>20000</td>\n",
       "      <td>7015</td>\n",
       "      <td>1</td>\n",
       "    </tr>\n",
       "    <tr>\n",
       "      <th>1</th>\n",
       "      <td>120000</td>\n",
       "      <td>2</td>\n",
       "      <td>4</td>\n",
       "      <td>1</td>\n",
       "      <td>-1</td>\n",
       "      <td>2</td>\n",
       "      <td>-1</td>\n",
       "      <td>-1</td>\n",
       "      <td>-1</td>\n",
       "      <td>2</td>\n",
       "      <td>...</td>\n",
       "      <td>0</td>\n",
       "      <td>2000</td>\n",
       "      <td>117318</td>\n",
       "      <td>118275</td>\n",
       "      <td>117318</td>\n",
       "      <td>116728</td>\n",
       "      <td>116545</td>\n",
       "      <td>116739</td>\n",
       "      <td>12077</td>\n",
       "      <td>1</td>\n",
       "    </tr>\n",
       "    <tr>\n",
       "      <th>2</th>\n",
       "      <td>90000</td>\n",
       "      <td>2</td>\n",
       "      <td>4</td>\n",
       "      <td>2</td>\n",
       "      <td>-1</td>\n",
       "      <td>-1</td>\n",
       "      <td>-1</td>\n",
       "      <td>-1</td>\n",
       "      <td>-1</td>\n",
       "      <td>-1</td>\n",
       "      <td>...</td>\n",
       "      <td>1000</td>\n",
       "      <td>5000</td>\n",
       "      <td>60761</td>\n",
       "      <td>75973</td>\n",
       "      <td>76441</td>\n",
       "      <td>75669</td>\n",
       "      <td>75052</td>\n",
       "      <td>74451</td>\n",
       "      <td>90635</td>\n",
       "      <td>0</td>\n",
       "    </tr>\n",
       "    <tr>\n",
       "      <th>3</th>\n",
       "      <td>50000</td>\n",
       "      <td>2</td>\n",
       "      <td>2</td>\n",
       "      <td>2</td>\n",
       "      <td>-1</td>\n",
       "      <td>-1</td>\n",
       "      <td>-1</td>\n",
       "      <td>-1</td>\n",
       "      <td>-1</td>\n",
       "      <td>-1</td>\n",
       "      <td>...</td>\n",
       "      <td>1069</td>\n",
       "      <td>1000</td>\n",
       "      <td>3010</td>\n",
       "      <td>1767</td>\n",
       "      <td>709</td>\n",
       "      <td>21686</td>\n",
       "      <td>21041</td>\n",
       "      <td>20453</td>\n",
       "      <td>222946</td>\n",
       "      <td>0</td>\n",
       "    </tr>\n",
       "    <tr>\n",
       "      <th>4</th>\n",
       "      <td>50000</td>\n",
       "      <td>2</td>\n",
       "      <td>1</td>\n",
       "      <td>4</td>\n",
       "      <td>-1</td>\n",
       "      <td>-1</td>\n",
       "      <td>-1</td>\n",
       "      <td>-1</td>\n",
       "      <td>-1</td>\n",
       "      <td>-1</td>\n",
       "      <td>...</td>\n",
       "      <td>689</td>\n",
       "      <td>679</td>\n",
       "      <td>41383</td>\n",
       "      <td>44330</td>\n",
       "      <td>14165</td>\n",
       "      <td>29060</td>\n",
       "      <td>30854</td>\n",
       "      <td>30869</td>\n",
       "      <td>50290</td>\n",
       "      <td>0</td>\n",
       "    </tr>\n",
       "    <tr>\n",
       "      <th>...</th>\n",
       "      <td>...</td>\n",
       "      <td>...</td>\n",
       "      <td>...</td>\n",
       "      <td>...</td>\n",
       "      <td>...</td>\n",
       "      <td>...</td>\n",
       "      <td>...</td>\n",
       "      <td>...</td>\n",
       "      <td>...</td>\n",
       "      <td>...</td>\n",
       "      <td>...</td>\n",
       "      <td>...</td>\n",
       "      <td>...</td>\n",
       "      <td>...</td>\n",
       "      <td>...</td>\n",
       "      <td>...</td>\n",
       "      <td>...</td>\n",
       "      <td>...</td>\n",
       "      <td>...</td>\n",
       "      <td>...</td>\n",
       "      <td>...</td>\n",
       "    </tr>\n",
       "    <tr>\n",
       "      <th>23995</th>\n",
       "      <td>80000</td>\n",
       "      <td>2</td>\n",
       "      <td>1</td>\n",
       "      <td>1</td>\n",
       "      <td>1</td>\n",
       "      <td>2</td>\n",
       "      <td>2</td>\n",
       "      <td>-1</td>\n",
       "      <td>-1</td>\n",
       "      <td>-1</td>\n",
       "      <td>...</td>\n",
       "      <td>2000</td>\n",
       "      <td>1830</td>\n",
       "      <td>-906</td>\n",
       "      <td>-2789</td>\n",
       "      <td>-903</td>\n",
       "      <td>-215</td>\n",
       "      <td>16704</td>\n",
       "      <td>30146</td>\n",
       "      <td>424045</td>\n",
       "      <td>0</td>\n",
       "    </tr>\n",
       "    <tr>\n",
       "      <th>23996</th>\n",
       "      <td>20000</td>\n",
       "      <td>2</td>\n",
       "      <td>1</td>\n",
       "      <td>1</td>\n",
       "      <td>-1</td>\n",
       "      <td>-1</td>\n",
       "      <td>-1</td>\n",
       "      <td>-1</td>\n",
       "      <td>-1</td>\n",
       "      <td>-1</td>\n",
       "      <td>...</td>\n",
       "      <td>500</td>\n",
       "      <td>1000</td>\n",
       "      <td>5553</td>\n",
       "      <td>4545</td>\n",
       "      <td>2438</td>\n",
       "      <td>2678</td>\n",
       "      <td>2881</td>\n",
       "      <td>2650</td>\n",
       "      <td>91519</td>\n",
       "      <td>0</td>\n",
       "    </tr>\n",
       "    <tr>\n",
       "      <th>23997</th>\n",
       "      <td>10000</td>\n",
       "      <td>2</td>\n",
       "      <td>2</td>\n",
       "      <td>1</td>\n",
       "      <td>-1</td>\n",
       "      <td>-1</td>\n",
       "      <td>-1</td>\n",
       "      <td>-1</td>\n",
       "      <td>-1</td>\n",
       "      <td>-1</td>\n",
       "      <td>...</td>\n",
       "      <td>1820</td>\n",
       "      <td>1000</td>\n",
       "      <td>1118</td>\n",
       "      <td>67</td>\n",
       "      <td>175</td>\n",
       "      <td>-7506</td>\n",
       "      <td>-6608</td>\n",
       "      <td>824</td>\n",
       "      <td>63990</td>\n",
       "      <td>0</td>\n",
       "    </tr>\n",
       "    <tr>\n",
       "      <th>23998</th>\n",
       "      <td>20000</td>\n",
       "      <td>4</td>\n",
       "      <td>2</td>\n",
       "      <td>1</td>\n",
       "      <td>-1</td>\n",
       "      <td>-1</td>\n",
       "      <td>-1</td>\n",
       "      <td>-1</td>\n",
       "      <td>-1</td>\n",
       "      <td>-2</td>\n",
       "      <td>...</td>\n",
       "      <td>0</td>\n",
       "      <td>0</td>\n",
       "      <td>-564</td>\n",
       "      <td>-284</td>\n",
       "      <td>606</td>\n",
       "      <td>-19950</td>\n",
       "      <td>20000</td>\n",
       "      <td>20000</td>\n",
       "      <td>93574</td>\n",
       "      <td>0</td>\n",
       "    </tr>\n",
       "    <tr>\n",
       "      <th>23999</th>\n",
       "      <td>100000</td>\n",
       "      <td>1</td>\n",
       "      <td>2</td>\n",
       "      <td>1</td>\n",
       "      <td>-1</td>\n",
       "      <td>-1</td>\n",
       "      <td>-1</td>\n",
       "      <td>-1</td>\n",
       "      <td>-1</td>\n",
       "      <td>-1</td>\n",
       "      <td>...</td>\n",
       "      <td>1000</td>\n",
       "      <td>1000</td>\n",
       "      <td>98456</td>\n",
       "      <td>98951</td>\n",
       "      <td>97933</td>\n",
       "      <td>98056</td>\n",
       "      <td>99611</td>\n",
       "      <td>98779</td>\n",
       "      <td>2414</td>\n",
       "      <td>1</td>\n",
       "    </tr>\n",
       "  </tbody>\n",
       "</table>\n",
       "<p>24000 rows × 30 columns</p>\n",
       "</div>"
      ],
      "text/plain": [
       "       LIMIT_BAL  EDUCATION  SEX_MAR  AgeBin  PAY_1  PAY_2  PAY_3  PAY_4  \\\n",
       "0          20000          2        2       1      2      2     -1     -1   \n",
       "1         120000          2        4       1     -1      2     -1     -1   \n",
       "2          90000          2        4       2     -1     -1     -1     -1   \n",
       "3          50000          2        2       2     -1     -1     -1     -1   \n",
       "4          50000          2        1       4     -1     -1     -1     -1   \n",
       "...          ...        ...      ...     ...    ...    ...    ...    ...   \n",
       "23995      80000          2        1       1      1      2      2     -1   \n",
       "23996      20000          2        1       1     -1     -1     -1     -1   \n",
       "23997      10000          2        2       1     -1     -1     -1     -1   \n",
       "23998      20000          4        2       1     -1     -1     -1     -1   \n",
       "23999     100000          1        2       1     -1     -1     -1     -1   \n",
       "\n",
       "       PAY_5  PAY_6  ...  PAY_AMT5  PAY_AMT6  Closeness_1  Closeness_2  \\\n",
       "0         -2     -2  ...         0         0        16087        16898   \n",
       "1         -1      2  ...         0      2000       117318       118275   \n",
       "2         -1     -1  ...      1000      5000        60761        75973   \n",
       "3         -1     -1  ...      1069      1000         3010         1767   \n",
       "4         -1     -1  ...       689       679        41383        44330   \n",
       "...      ...    ...  ...       ...       ...          ...          ...   \n",
       "23995     -1     -1  ...      2000      1830         -906        -2789   \n",
       "23996     -1     -1  ...       500      1000         5553         4545   \n",
       "23997     -1     -1  ...      1820      1000         1118           67   \n",
       "23998     -1     -2  ...         0         0         -564         -284   \n",
       "23999     -1     -1  ...      1000      1000        98456        98951   \n",
       "\n",
       "       Closeness_3  Closeness_4  Closeness_5  Closeness_6    diff  default  \n",
       "0            19311        20000        20000        20000    7015        1  \n",
       "1           117318       116728       116545       116739   12077        1  \n",
       "2            76441        75669        75052        74451   90635        0  \n",
       "3              709        21686        21041        20453  222946        0  \n",
       "4            14165        29060        30854        30869   50290        0  \n",
       "...            ...          ...          ...          ...     ...      ...  \n",
       "23995         -903         -215        16704        30146  424045        0  \n",
       "23996         2438         2678         2881         2650   91519        0  \n",
       "23997          175        -7506        -6608          824   63990        0  \n",
       "23998          606       -19950        20000        20000   93574        0  \n",
       "23999        97933        98056        99611        98779    2414        1  \n",
       "\n",
       "[24000 rows x 30 columns]"
      ]
     },
     "execution_count": 78,
     "metadata": {},
     "output_type": "execute_result"
    }
   ],
   "source": [
    "transformed_train = transformed_train[['LIMIT_BAL', 'EDUCATION', 'SEX_MAR', 'AgeBin', \\\n",
    "                    'PAY_1', 'PAY_2', 'PAY_3', 'PAY_4', 'PAY_5', 'PAY_6',\\\n",
    "                    'BILL_AMT1', 'BILL_AMT2', 'BILL_AMT3', 'BILL_AMT4', 'BILL_AMT5', 'BILL_AMT6',\\\n",
    "                    'PAY_AMT1', 'PAY_AMT2', 'PAY_AMT3', 'PAY_AMT4', 'PAY_AMT5', 'PAY_AMT6',\\\n",
    "                    'Closeness_1', 'Closeness_2', 'Closeness_3', 'Closeness_4','Closeness_5', 'Closeness_6',\\\n",
    "                    'diff', 'default'\n",
    "                   ]]\n",
    "transformed_train"
   ]
  },
  {
   "cell_type": "markdown",
   "metadata": {
    "id": "t2RgvDLp8wVZ"
   },
   "source": [
    "**Dealing with Imbalancing classfication <br>**\n",
    "<font color='red'>\n",
    "Sorry i dont know how to put reference... i just leave it here for now ... sorry  <br>\n",
    "Reference: https://machinelearningmastery.com/smote-oversampling-for-imbalanced-classification/\n",
    "</font>"
   ]
  },
  {
   "cell_type": "markdown",
   "metadata": {},
   "source": [
    "The ratio of default to non-default is 2:8"
   ]
  },
  {
   "cell_type": "code",
   "execution_count": 79,
   "metadata": {
    "id": "FR9AKW8685Qn"
   },
   "outputs": [
    {
     "name": "stdout",
     "output_type": "stream",
     "text": [
      "Counter({0: 18630, 1: 5370})\n",
      "Probability of default is 1 in traing data:  0.22375\n"
     ]
    },
    {
     "data": {
      "text/plain": [
       "<AxesSubplot:>"
      ]
     },
     "execution_count": 79,
     "metadata": {},
     "output_type": "execute_result"
    },
    {
     "data": {
      "image/png": "[encoded data removed]",
      "text/plain": [
       "<Figure size 432x288 with 1 Axes>"
      ]
     },
     "metadata": {
      "needs_background": "light"
     },
     "output_type": "display_data"
    }
   ],
   "source": [
    "print(Counter(transformed_train['default']))\n",
    "\n",
    "print(\"Probability of default is 1 in traing data: \", transformed_train['default'].sum() / len(transformed_train['default']))\n",
    "transformed_train['default'].value_counts().plot.bar()"
   ]
  },
  {
   "cell_type": "markdown",
   "metadata": {
    "id": "XnVwNra885pI"
   },
   "source": [
    "In order to compare the performance of the **SMOTE** and **Borerline-SMOTE**, we generalised an imbalanced classes with 2 features"
   ]
  },
  {
   "cell_type": "markdown",
   "metadata": {
    "id": "d8P0Ej0X86Fw"
   },
   "source": [
    "Simulated data with 10000 samples and the radio of 0 and 1 is 0.99."
   ]
  },
  {
   "cell_type": "code",
   "execution_count": 80,
   "metadata": {
    "id": "90xg2cCg86H1"
   },
   "outputs": [
    {
     "name": "stdout",
     "output_type": "stream",
     "text": [
      "Counter({0: 9900, 1: 100})\n"
     ]
    },
    {
     "data": {
      "image/png": "[encoded data removed]",
      "text/plain": [
       "<Figure size 432x288 with 1 Axes>"
      ]
     },
     "metadata": {
      "needs_background": "light"
     },
     "output_type": "display_data"
    }
   ],
   "source": [
    "X, y = make_classification(n_samples=10000, n_features=2, n_redundant=0, n_clusters_per_class=1, weights=[0.99], flip_y=0, random_state=1)\n",
    "counter = Counter(y)\n",
    "print(counter)\n",
    "for label, _ in counter.items():\n",
    "    row_ix = where(y == label)[0]\n",
    "    pyplot.scatter(X[row_ix, 0], X[row_ix, 1], label=str(label))\n",
    "pyplot.legend()\n",
    "pyplot.show()"
   ]
  },
  {
   "cell_type": "markdown",
   "metadata": {},
   "source": [
    "Handle the data by using SMOTE method and plot the scatter graph:"
   ]
  },
  {
   "cell_type": "code",
   "execution_count": 81,
   "metadata": {
    "id": "QjiqKoS-86JU"
   },
   "outputs": [
    {
     "name": "stdout",
     "output_type": "stream",
     "text": [
      "Counter({0: 9900, 1: 9900})\n"
     ]
    },
    {
     "data": {
      "image/png": "[encoded data removed]",
      "text/plain": [
       "<Figure size 432x288 with 1 Axes>"
      ]
     },
     "metadata": {
      "needs_background": "light"
     },
     "output_type": "display_data"
    }
   ],
   "source": [
    "oversample = SMOTE()\n",
    "X_test_smote, y_test_smote = oversample.fit_sample(X, y)\n",
    "counter = Counter(y_test_smote)\n",
    "print(counter)\n",
    "for label, _ in counter.items():\n",
    "    row_ix = where(y_test_smote == label)[0]\n",
    "    pyplot.scatter(X_test_smote[row_ix, 0], X_test_smote[row_ix, 1], label=str(label))\n",
    "pyplot.legend()\n",
    "pyplot.show()\n"
   ]
  },
  {
   "cell_type": "markdown",
   "metadata": {},
   "source": [
    "From the graph, we can observe that all the minority samples are used to generate new synthetic data."
   ]
  },
  {
   "cell_type": "markdown",
   "metadata": {},
   "source": [
    "To improve the algorithm, we use Boarderline-SMOTE to regenerate the syntnetic samples:\n"
   ]
  },
  {
   "cell_type": "code",
   "execution_count": 82,
   "metadata": {},
   "outputs": [
    {
     "name": "stdout",
     "output_type": "stream",
     "text": [
      "Counter({0: 9900, 1: 9900})\n"
     ]
    },
    {
     "data": {
      "image/png": "[encoded data removed]",
      "text/plain": [
       "<Figure size 432x288 with 1 Axes>"
      ]
     },
     "metadata": {
      "needs_background": "light"
     },
     "output_type": "display_data"
    }
   ],
   "source": [
    "oversample = BorderlineSMOTE(random_state=42, kind=\"borderline-1\")\n",
    "X_test_BS, y_test_BS = oversample.fit_sample(X, y)\n",
    "counter = Counter(y_test_BS)\n",
    "print(counter)\n",
    "for label, _ in counter.items():\n",
    "    row_ix = where(y_test_BS == label)[0]\n",
    "    pyplot.scatter(X_test_BS[row_ix, 0], X_test_BS[row_ix, 1], label=str(label))\n",
    "pyplot.legend()\n",
    "pyplot.show()"
   ]
  },
  {
   "cell_type": "markdown",
   "metadata": {},
   "source": [
    "After applying Borderline-SMOTE, minorty samples which are far away from the decision boundary are not taken to generate new synthetic samples. Minority samples which are overlapped with the majority samples are not used to generate new synthetic samples as well. "
   ]
  },
  {
   "cell_type": "markdown",
   "metadata": {},
   "source": [
    "As a result, we decided to apply borderline-SMOTE on Credit Card Default data:"
   ]
  },
  {
   "cell_type": "code",
   "execution_count": 85,
   "metadata": {},
   "outputs": [],
   "source": [
    "# borderline_SMOTE provided data with less probability to overfit\n",
    "def Borderline_SMOTE(df):\n",
    "    oversample = BorderlineSMOTE(random_state=42, kind=\"borderline-1\")\n",
    "    y_train = df['default'].copy()\n",
    "    X_train = df.copy()\n",
    "    X_train = X_train.drop(['default'], axis = 1)\n",
    "    X_borderline_smote, y_borderline_smote = oversample.fit_sample(X_train, y_train)\n",
    "    counter = Counter(y_borderline_smote)\n",
    "    print(counter)\n",
    "    print(\"Probability of default is 1: \", y_borderline_smote.sum() / len(y_borderline_smote))\n",
    "    print(X_borderline_smote.shape)\n",
    "    \n",
    "    return X_borderline_smote, y_borderline_smote"
   ]
  },
  {
   "cell_type": "code",
   "execution_count": 86,
   "metadata": {},
   "outputs": [
    {
     "name": "stdout",
     "output_type": "stream",
     "text": [
      "Counter({1: 18630, 0: 18630})\n",
      "Probability of default is 1:  0.5\n",
      "(37260, 29)\n"
     ]
    }
   ],
   "source": [
    "X_train_oversampled, y_train_oversampled = Borderline_SMOTE(transformed_train)"
   ]
  },
  {
   "cell_type": "code",
   "execution_count": 92,
   "metadata": {},
   "outputs": [
    {
     "data": {
      "text/html": [
       "<div>\n",
       "<style scoped>\n",
       "    .dataframe tbody tr th:only-of-type {\n",
       "        vertical-align: middle;\n",
       "    }\n",
       "\n",
       "    .dataframe tbody tr th {\n",
       "        vertical-align: top;\n",
       "    }\n",
       "\n",
       "    .dataframe thead th {\n",
       "        text-align: right;\n",
       "    }\n",
       "</style>\n",
       "<table border=\"1\" class=\"dataframe\">\n",
       "  <thead>\n",
       "    <tr style=\"text-align: right;\">\n",
       "      <th></th>\n",
       "      <th>LIMIT_BAL</th>\n",
       "      <th>EDUCATION</th>\n",
       "      <th>SEX_MAR</th>\n",
       "      <th>AgeBin</th>\n",
       "      <th>PAY_1</th>\n",
       "      <th>PAY_2</th>\n",
       "      <th>PAY_3</th>\n",
       "      <th>PAY_4</th>\n",
       "      <th>PAY_5</th>\n",
       "      <th>PAY_6</th>\n",
       "      <th>...</th>\n",
       "      <th>PAY_AMT4</th>\n",
       "      <th>PAY_AMT5</th>\n",
       "      <th>PAY_AMT6</th>\n",
       "      <th>Closeness_1</th>\n",
       "      <th>Closeness_2</th>\n",
       "      <th>Closeness_3</th>\n",
       "      <th>Closeness_4</th>\n",
       "      <th>Closeness_5</th>\n",
       "      <th>Closeness_6</th>\n",
       "      <th>diff</th>\n",
       "    </tr>\n",
       "  </thead>\n",
       "  <tbody>\n",
       "    <tr>\n",
       "      <th>0</th>\n",
       "      <td>20000</td>\n",
       "      <td>2</td>\n",
       "      <td>2</td>\n",
       "      <td>1</td>\n",
       "      <td>2</td>\n",
       "      <td>2</td>\n",
       "      <td>-1</td>\n",
       "      <td>-1</td>\n",
       "      <td>-2</td>\n",
       "      <td>-2</td>\n",
       "      <td>...</td>\n",
       "      <td>0</td>\n",
       "      <td>0</td>\n",
       "      <td>0</td>\n",
       "      <td>16087</td>\n",
       "      <td>16898</td>\n",
       "      <td>19311</td>\n",
       "      <td>20000</td>\n",
       "      <td>20000</td>\n",
       "      <td>20000</td>\n",
       "      <td>7015</td>\n",
       "    </tr>\n",
       "    <tr>\n",
       "      <th>1</th>\n",
       "      <td>120000</td>\n",
       "      <td>2</td>\n",
       "      <td>4</td>\n",
       "      <td>1</td>\n",
       "      <td>-1</td>\n",
       "      <td>2</td>\n",
       "      <td>-1</td>\n",
       "      <td>-1</td>\n",
       "      <td>-1</td>\n",
       "      <td>2</td>\n",
       "      <td>...</td>\n",
       "      <td>1000</td>\n",
       "      <td>0</td>\n",
       "      <td>2000</td>\n",
       "      <td>117318</td>\n",
       "      <td>118275</td>\n",
       "      <td>117318</td>\n",
       "      <td>116728</td>\n",
       "      <td>116545</td>\n",
       "      <td>116739</td>\n",
       "      <td>12077</td>\n",
       "    </tr>\n",
       "    <tr>\n",
       "      <th>2</th>\n",
       "      <td>90000</td>\n",
       "      <td>2</td>\n",
       "      <td>4</td>\n",
       "      <td>2</td>\n",
       "      <td>-1</td>\n",
       "      <td>-1</td>\n",
       "      <td>-1</td>\n",
       "      <td>-1</td>\n",
       "      <td>-1</td>\n",
       "      <td>-1</td>\n",
       "      <td>...</td>\n",
       "      <td>1000</td>\n",
       "      <td>1000</td>\n",
       "      <td>5000</td>\n",
       "      <td>60761</td>\n",
       "      <td>75973</td>\n",
       "      <td>76441</td>\n",
       "      <td>75669</td>\n",
       "      <td>75052</td>\n",
       "      <td>74451</td>\n",
       "      <td>90635</td>\n",
       "    </tr>\n",
       "    <tr>\n",
       "      <th>3</th>\n",
       "      <td>50000</td>\n",
       "      <td>2</td>\n",
       "      <td>2</td>\n",
       "      <td>2</td>\n",
       "      <td>-1</td>\n",
       "      <td>-1</td>\n",
       "      <td>-1</td>\n",
       "      <td>-1</td>\n",
       "      <td>-1</td>\n",
       "      <td>-1</td>\n",
       "      <td>...</td>\n",
       "      <td>1100</td>\n",
       "      <td>1069</td>\n",
       "      <td>1000</td>\n",
       "      <td>3010</td>\n",
       "      <td>1767</td>\n",
       "      <td>709</td>\n",
       "      <td>21686</td>\n",
       "      <td>21041</td>\n",
       "      <td>20453</td>\n",
       "      <td>222946</td>\n",
       "    </tr>\n",
       "    <tr>\n",
       "      <th>4</th>\n",
       "      <td>50000</td>\n",
       "      <td>2</td>\n",
       "      <td>1</td>\n",
       "      <td>4</td>\n",
       "      <td>-1</td>\n",
       "      <td>-1</td>\n",
       "      <td>-1</td>\n",
       "      <td>-1</td>\n",
       "      <td>-1</td>\n",
       "      <td>-1</td>\n",
       "      <td>...</td>\n",
       "      <td>9000</td>\n",
       "      <td>689</td>\n",
       "      <td>679</td>\n",
       "      <td>41383</td>\n",
       "      <td>44330</td>\n",
       "      <td>14165</td>\n",
       "      <td>29060</td>\n",
       "      <td>30854</td>\n",
       "      <td>30869</td>\n",
       "      <td>50290</td>\n",
       "    </tr>\n",
       "    <tr>\n",
       "      <th>...</th>\n",
       "      <td>...</td>\n",
       "      <td>...</td>\n",
       "      <td>...</td>\n",
       "      <td>...</td>\n",
       "      <td>...</td>\n",
       "      <td>...</td>\n",
       "      <td>...</td>\n",
       "      <td>...</td>\n",
       "      <td>...</td>\n",
       "      <td>...</td>\n",
       "      <td>...</td>\n",
       "      <td>...</td>\n",
       "      <td>...</td>\n",
       "      <td>...</td>\n",
       "      <td>...</td>\n",
       "      <td>...</td>\n",
       "      <td>...</td>\n",
       "      <td>...</td>\n",
       "      <td>...</td>\n",
       "      <td>...</td>\n",
       "      <td>...</td>\n",
       "    </tr>\n",
       "    <tr>\n",
       "      <th>37255</th>\n",
       "      <td>30000</td>\n",
       "      <td>1</td>\n",
       "      <td>2</td>\n",
       "      <td>1</td>\n",
       "      <td>0</td>\n",
       "      <td>2</td>\n",
       "      <td>2</td>\n",
       "      <td>0</td>\n",
       "      <td>0</td>\n",
       "      <td>0</td>\n",
       "      <td>...</td>\n",
       "      <td>691</td>\n",
       "      <td>105</td>\n",
       "      <td>0</td>\n",
       "      <td>28851</td>\n",
       "      <td>28205</td>\n",
       "      <td>28916</td>\n",
       "      <td>28916</td>\n",
       "      <td>28810</td>\n",
       "      <td>28997</td>\n",
       "      <td>5731</td>\n",
       "    </tr>\n",
       "    <tr>\n",
       "      <th>37256</th>\n",
       "      <td>50000</td>\n",
       "      <td>2</td>\n",
       "      <td>1</td>\n",
       "      <td>2</td>\n",
       "      <td>2</td>\n",
       "      <td>2</td>\n",
       "      <td>2</td>\n",
       "      <td>2</td>\n",
       "      <td>2</td>\n",
       "      <td>2</td>\n",
       "      <td>...</td>\n",
       "      <td>1573</td>\n",
       "      <td>2642</td>\n",
       "      <td>0</td>\n",
       "      <td>10913</td>\n",
       "      <td>10134</td>\n",
       "      <td>9301</td>\n",
       "      <td>8569</td>\n",
       "      <td>7886</td>\n",
       "      <td>6078</td>\n",
       "      <td>237708</td>\n",
       "    </tr>\n",
       "    <tr>\n",
       "      <th>37257</th>\n",
       "      <td>210000</td>\n",
       "      <td>1</td>\n",
       "      <td>2</td>\n",
       "      <td>3</td>\n",
       "      <td>-1</td>\n",
       "      <td>-1</td>\n",
       "      <td>-1</td>\n",
       "      <td>-1</td>\n",
       "      <td>-1</td>\n",
       "      <td>-1</td>\n",
       "      <td>...</td>\n",
       "      <td>258</td>\n",
       "      <td>175</td>\n",
       "      <td>216</td>\n",
       "      <td>209783</td>\n",
       "      <td>209783</td>\n",
       "      <td>209783</td>\n",
       "      <td>209783</td>\n",
       "      <td>209741</td>\n",
       "      <td>209783</td>\n",
       "      <td>41</td>\n",
       "    </tr>\n",
       "    <tr>\n",
       "      <th>37258</th>\n",
       "      <td>490000</td>\n",
       "      <td>1</td>\n",
       "      <td>1</td>\n",
       "      <td>3</td>\n",
       "      <td>-1</td>\n",
       "      <td>-1</td>\n",
       "      <td>-1</td>\n",
       "      <td>-1</td>\n",
       "      <td>-1</td>\n",
       "      <td>-1</td>\n",
       "      <td>...</td>\n",
       "      <td>2733</td>\n",
       "      <td>8791</td>\n",
       "      <td>3486</td>\n",
       "      <td>477555</td>\n",
       "      <td>483014</td>\n",
       "      <td>484707</td>\n",
       "      <td>486777</td>\n",
       "      <td>487266</td>\n",
       "      <td>481208</td>\n",
       "      <td>8693</td>\n",
       "    </tr>\n",
       "    <tr>\n",
       "      <th>37259</th>\n",
       "      <td>260000</td>\n",
       "      <td>1</td>\n",
       "      <td>1</td>\n",
       "      <td>2</td>\n",
       "      <td>-1</td>\n",
       "      <td>-1</td>\n",
       "      <td>-1</td>\n",
       "      <td>-1</td>\n",
       "      <td>-1</td>\n",
       "      <td>-1</td>\n",
       "      <td>...</td>\n",
       "      <td>2463</td>\n",
       "      <td>1815</td>\n",
       "      <td>5392</td>\n",
       "      <td>251342</td>\n",
       "      <td>258066</td>\n",
       "      <td>246763</td>\n",
       "      <td>251513</td>\n",
       "      <td>253387</td>\n",
       "      <td>255400</td>\n",
       "      <td>16848</td>\n",
       "    </tr>\n",
       "  </tbody>\n",
       "</table>\n",
       "<p>37260 rows × 29 columns</p>\n",
       "</div>"
      ],
      "text/plain": [
       "       LIMIT_BAL  EDUCATION  SEX_MAR  AgeBin  PAY_1  PAY_2  PAY_3  PAY_4  \\\n",
       "0          20000          2        2       1      2      2     -1     -1   \n",
       "1         120000          2        4       1     -1      2     -1     -1   \n",
       "2          90000          2        4       2     -1     -1     -1     -1   \n",
       "3          50000          2        2       2     -1     -1     -1     -1   \n",
       "4          50000          2        1       4     -1     -1     -1     -1   \n",
       "...          ...        ...      ...     ...    ...    ...    ...    ...   \n",
       "37255      30000          1        2       1      0      2      2      0   \n",
       "37256      50000          2        1       2      2      2      2      2   \n",
       "37257     210000          1        2       3     -1     -1     -1     -1   \n",
       "37258     490000          1        1       3     -1     -1     -1     -1   \n",
       "37259     260000          1        1       2     -1     -1     -1     -1   \n",
       "\n",
       "       PAY_5  PAY_6  ...  PAY_AMT4  PAY_AMT5  PAY_AMT6  Closeness_1  \\\n",
       "0         -2     -2  ...         0         0         0        16087   \n",
       "1         -1      2  ...      1000         0      2000       117318   \n",
       "2         -1     -1  ...      1000      1000      5000        60761   \n",
       "3         -1     -1  ...      1100      1069      1000         3010   \n",
       "4         -1     -1  ...      9000       689       679        41383   \n",
       "...      ...    ...  ...       ...       ...       ...          ...   \n",
       "37255      0      0  ...       691       105         0        28851   \n",
       "37256      2      2  ...      1573      2642         0        10913   \n",
       "37257     -1     -1  ...       258       175       216       209783   \n",
       "37258     -1     -1  ...      2733      8791      3486       477555   \n",
       "37259     -1     -1  ...      2463      1815      5392       251342   \n",
       "\n",
       "       Closeness_2  Closeness_3  Closeness_4  Closeness_5  Closeness_6    diff  \n",
       "0            16898        19311        20000        20000        20000    7015  \n",
       "1           118275       117318       116728       116545       116739   12077  \n",
       "2            75973        76441        75669        75052        74451   90635  \n",
       "3             1767          709        21686        21041        20453  222946  \n",
       "4            44330        14165        29060        30854        30869   50290  \n",
       "...            ...          ...          ...          ...          ...     ...  \n",
       "37255        28205        28916        28916        28810        28997    5731  \n",
       "37256        10134         9301         8569         7886         6078  237708  \n",
       "37257       209783       209783       209783       209741       209783      41  \n",
       "37258       483014       484707       486777       487266       481208    8693  \n",
       "37259       258066       246763       251513       253387       255400   16848  \n",
       "\n",
       "[37260 rows x 29 columns]"
      ]
     },
     "execution_count": 92,
     "metadata": {},
     "output_type": "execute_result"
    }
   ],
   "source": [
    "pd.DataFrame(X_train_oversampled, columns=['LIMIT_BAL', 'EDUCATION', 'SEX_MAR', 'AgeBin', \\\n",
    "                    'PAY_1', 'PAY_2', 'PAY_3', 'PAY_4', 'PAY_5', 'PAY_6',\\\n",
    "                    'BILL_AMT1', 'BILL_AMT2', 'BILL_AMT3', 'BILL_AMT4', 'BILL_AMT5', 'BILL_AMT6',\\\n",
    "                    'PAY_AMT1', 'PAY_AMT2', 'PAY_AMT3', 'PAY_AMT4', 'PAY_AMT5', 'PAY_AMT6',\\\n",
    "                    'Closeness_1', 'Closeness_2', 'Closeness_3', 'Closeness_4','Closeness_5', 'Closeness_6',\\\n",
    "                    'diff'\n",
    "                   ])"
   ]
  },
  {
   "cell_type": "code",
   "execution_count": 93,
   "metadata": {},
   "outputs": [
    {
     "data": {
      "text/html": [
       "<div>\n",
       "<style scoped>\n",
       "    .dataframe tbody tr th:only-of-type {\n",
       "        vertical-align: middle;\n",
       "    }\n",
       "\n",
       "    .dataframe tbody tr th {\n",
       "        vertical-align: top;\n",
       "    }\n",
       "\n",
       "    .dataframe thead th {\n",
       "        text-align: right;\n",
       "    }\n",
       "</style>\n",
       "<table border=\"1\" class=\"dataframe\">\n",
       "  <thead>\n",
       "    <tr style=\"text-align: right;\">\n",
       "      <th></th>\n",
       "      <th>default</th>\n",
       "    </tr>\n",
       "  </thead>\n",
       "  <tbody>\n",
       "    <tr>\n",
       "      <th>0</th>\n",
       "      <td>1</td>\n",
       "    </tr>\n",
       "    <tr>\n",
       "      <th>1</th>\n",
       "      <td>1</td>\n",
       "    </tr>\n",
       "    <tr>\n",
       "      <th>2</th>\n",
       "      <td>0</td>\n",
       "    </tr>\n",
       "    <tr>\n",
       "      <th>3</th>\n",
       "      <td>0</td>\n",
       "    </tr>\n",
       "    <tr>\n",
       "      <th>4</th>\n",
       "      <td>0</td>\n",
       "    </tr>\n",
       "    <tr>\n",
       "      <th>...</th>\n",
       "      <td>...</td>\n",
       "    </tr>\n",
       "    <tr>\n",
       "      <th>37255</th>\n",
       "      <td>1</td>\n",
       "    </tr>\n",
       "    <tr>\n",
       "      <th>37256</th>\n",
       "      <td>1</td>\n",
       "    </tr>\n",
       "    <tr>\n",
       "      <th>37257</th>\n",
       "      <td>1</td>\n",
       "    </tr>\n",
       "    <tr>\n",
       "      <th>37258</th>\n",
       "      <td>1</td>\n",
       "    </tr>\n",
       "    <tr>\n",
       "      <th>37259</th>\n",
       "      <td>1</td>\n",
       "    </tr>\n",
       "  </tbody>\n",
       "</table>\n",
       "<p>37260 rows × 1 columns</p>\n",
       "</div>"
      ],
      "text/plain": [
       "       default\n",
       "0            1\n",
       "1            1\n",
       "2            0\n",
       "3            0\n",
       "4            0\n",
       "...        ...\n",
       "37255        1\n",
       "37256        1\n",
       "37257        1\n",
       "37258        1\n",
       "37259        1\n",
       "\n",
       "[37260 rows x 1 columns]"
      ]
     },
     "execution_count": 93,
     "metadata": {},
     "output_type": "execute_result"
    }
   ],
   "source": [
    "pd.DataFrame(y_train_oversampled, columns=['default'])"
   ]
  },
  {
   "cell_type": "markdown",
   "metadata": {
    "id": "6ET4dkQ8l3tg"
   },
   "source": [
    "**Feature scaling: Normalisation or Standardization**\n",
    "\n",
    "NOTE:  \n",
    "Feature scaling of train data (SMOTEed) has to be done with test data with the same scale"
   ]
  },
  {
   "cell_type": "code",
   "execution_count": null,
   "metadata": {
    "id": "gjZ31g_Sl4I_"
   },
   "outputs": [],
   "source": [
    "def scale_columns(df, cols=['LIMIT_BAL', 'BILL_AMT', 'PAY_AMT', 'Closeness', 'diff'], method='minmax_norm'):\n",
    "    if method == 'normalise':\n",
    "        scaler = Normalizer()\n",
    "    elif method == 'minmax_norm':\n",
    "        scaler = MinMaxScaler()\n",
    "    elif method == 'standardise':\n",
    "        scaler = StandardScaler()\n",
    "    \n",
    "    if 'LIMIT_BAL' in cols:\n",
    "        df[['LIMIT_BAL']] = scaler.fit_transform(df[['LIMIT_BAL']])\n",
    "    if 'BILL_AMT' in cols:\n",
    "        df[[f'BILL_AMT{i}' for i in range(1, 7)]] = scaler.fit_transform(df[[f'BILL_AMT{i}' for i in range(1, 7)]])\n",
    "    if 'PAY_AMT' in cols:\n",
    "        df[[f'PAY_AMT{i}' for i in range(1, 7)]] = scaler.fit_transform(df[[f'PAY_AMT{i}' for i in range(1, 7)]])\n",
    "    if 'Closeness' in cols:\n",
    "        df[[f'Closeness_{i}' for i in range(1, 7)]] = scaler.fit_transform(df[[f'Closeness_{i}' for i in range(1, 7)]])\n",
    "    if 'diff' in cols:\n",
    "        df[['diff']] = scaler.fit_transform(df[['diff']])\n",
    "        \n",
    "    return df"
   ]
  },
  {
   "cell_type": "code",
   "execution_count": null,
   "metadata": {
    "id": "dBQGZZwH9HfM"
   },
   "outputs": [],
   "source": [
    "### Feature scaling ###\n",
    "\"\"\"\n",
    "Can specify columns that are to be scaled by 'cols' param\n",
    "\n",
    "Available methods:\n",
    "normalise, minmax_norm, standardise\n",
    "\"\"\"\n",
    "\n",
    "df = scale_columns(df, method='minmax_norm')\n",
    "\n",
    "print(\"scaled numerical values\")"
   ]
  },
  {
   "cell_type": "code",
   "execution_count": null,
   "metadata": {
    "id": "KwOfz7NjoNOp"
   },
   "outputs": [],
   "source": [
    "# perform sanity check on dataframe to catch trivial errors"
   ]
  }
 ],
 "metadata": {
  "colab": {
   "collapsed_sections": [],
   "name": "CreditCardDefault.ipynb",
   "provenance": []
  },
  "kernelspec": {
   "display_name": "Python 3",
   "language": "python",
   "name": "python3"
  },
  "language_info": {
   "codemirror_mode": {
    "name": "ipython",
    "version": 3
   },
   "file_extension": ".py",
   "mimetype": "text/x-python",
   "name": "python",
   "nbconvert_exporter": "python",
   "pygments_lexer": "ipython3",
   "version": "3.7.0"
  }
 },
 "nbformat": 4,
 "nbformat_minor": 1
}
