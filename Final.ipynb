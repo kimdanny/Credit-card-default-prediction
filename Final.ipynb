{
 "cells": [
  {
   "cell_type": "markdown",
   "metadata": {},
   "source": [
    "# Predicting Credit Card Default\n",
    "**Group F**: Chi Xue, Jingting Yan, Nicolas Ford, To Eun Kim, Xiaoqi Tan, Zi Lian Lim\n",
    "<br>\n",
    "January 10, 2021"
   ]
  },
  {
   "cell_type": "markdown",
   "metadata": {
    "id": "dD_lmI_jfAVO"
   },
   "source": [
    "# **1. Introduction**"
   ]
  },
  {
   "cell_type": "markdown",
   "metadata": {
    "id": "Zvsj9cRWe-6M"
   },
   "source": []
  },
  {
   "cell_type": "markdown",
   "metadata": {
    "id": "vhazDl7TpOb2"
   },
   "source": [
    "# **2. Data Import** "
   ]
  },
  {
   "cell_type": "markdown",
   "metadata": {
    "id": "T2wZnYJIncSS"
   },
   "source": [
    "### 2.1 Library Imports"
   ]
  },
  {
   "cell_type": "markdown",
   "metadata": {},
   "source": [
    "Install packages in conda environments."
   ]
  },
  {
   "cell_type": "code",
   "execution_count": 155,
   "metadata": {
    "collapsed": true
   },
   "outputs": [
    {
     "name": "stdout",
     "output_type": "stream",
     "text": [
      "Collecting package metadata (current_repodata.json): done\n",
      "Solving environment: done\n",
      "\n",
      "# All requested packages already installed.\n",
      "\n",
      "\n",
      "Note: you may need to restart the kernel to use updated packages.\n"
     ]
    }
   ],
   "source": [
    "conda install -c anaconda scikit-learn"
   ]
  },
  {
   "cell_type": "markdown",
   "metadata": {},
   "source": [
    "Note that in this notebook, the **0.5.0** version of imblearn is required:"
   ]
  },
  {
   "cell_type": "code",
   "execution_count": 22,
   "metadata": {
    "collapsed": true
   },
   "outputs": [
    {
     "name": "stdout",
     "output_type": "stream",
     "text": [
      "Collecting package metadata (current_repodata.json): done\n",
      "Solving environment: failed with initial frozen solve. Retrying with flexible solve.\n",
      "Collecting package metadata (repodata.json): done\n",
      "Solving environment: done\n",
      "\n",
      "## Package Plan ##\n",
      "\n",
      "  environment location: /opt/anaconda3\n",
      "\n",
      "  added / updated specs:\n",
      "    - imbalanced-learn==0.5.0\n",
      "\n",
      "\n",
      "The following packages will be downloaded:\n",
      "\n",
      "    package                    |            build\n",
      "    ---------------------------|-----------------\n",
      "    imbalanced-learn-0.5.0     |             py_0          98 KB  conda-forge\n",
      "    ------------------------------------------------------------\n",
      "                                           Total:          98 KB\n",
      "\n",
      "The following packages will be DOWNGRADED:\n",
      "\n",
      "  imbalanced-learn                               0.7.0-py_0 --> 0.5.0-py_0\n",
      "\n",
      "\n",
      "\n",
      "Downloading and Extracting Packages\n",
      "imbalanced-learn-0.5 | 98 KB     | ##################################### | 100% \n",
      "Preparing transaction: done\n",
      "Verifying transaction: | WARNING conda.core.path_actions:verify(963): Unable to create environments file. Path not writable.\n",
      "  environment location: /Users/yangent/.conda/environments.txt\n",
      "\n",
      "done\n",
      "Executing transaction: done\n",
      "\n",
      "Note: you may need to restart the kernel to use updated packages.\n"
     ]
    }
   ],
   "source": [
    "conda install -c conda-forge imbalanced-learn==0.5.0"
   ]
  },
  {
   "cell_type": "code",
   "execution_count": 26,
   "metadata": {
    "collapsed": true
   },
   "outputs": [
    {
     "name": "stdout",
     "output_type": "stream",
     "text": [
      "Collecting package metadata (current_repodata.json): done\n",
      "Solving environment: done\n",
      "\n",
      "# All requested packages already installed.\n",
      "\n",
      "\n",
      "Note: you may need to restart the kernel to use updated packages.\n"
     ]
    }
   ],
   "source": [
    "conda install -c conda-forge tensorflow"
   ]
  },
  {
   "cell_type": "code",
   "execution_count": 27,
   "metadata": {
    "collapsed": true
   },
   "outputs": [
    {
     "name": "stdout",
     "output_type": "stream",
     "text": [
      "Collecting package metadata (current_repodata.json): done\n",
      "Solving environment: done\n",
      "\n",
      "# All requested packages already installed.\n",
      "\n",
      "\n",
      "Note: you may need to restart the kernel to use updated packages.\n"
     ]
    }
   ],
   "source": [
    "conda install -c conda-forge keras"
   ]
  },
  {
   "cell_type": "code",
   "execution_count": 28,
   "metadata": {
    "collapsed": true
   },
   "outputs": [
    {
     "name": "stdout",
     "output_type": "stream",
     "text": [
      "Collecting package metadata (current_repodata.json): done\n",
      "Solving environment: done\n",
      "\n",
      "# All requested packages already installed.\n",
      "\n",
      "\n",
      "Note: you may need to restart the kernel to use updated packages.\n"
     ]
    }
   ],
   "source": [
    "conda install -c conda-forge xgboost"
   ]
  },
  {
   "cell_type": "code",
   "execution_count": 1,
   "metadata": {
    "id": "KIZ_1cgza6hW"
   },
   "outputs": [
    {
     "name": "stderr",
     "output_type": "stream",
     "text": [
      "Using TensorFlow backend.\n"
     ]
    }
   ],
   "source": [
    "import warnings\n",
    "warnings.filterwarnings('ignore')\n",
    "\n",
    "import io\n",
    "import time\n",
    "\n",
    "import pandas as pd\n",
    "import numpy as np\n",
    "import math\n",
    "import matplotlib.pyplot as plt\n",
    "import seaborn as sns\n",
    "\n",
    "from sklearn import ensemble\n",
    "from sklearn.datasets import make_classification\n",
    "from sklearn.preprocessing import MinMaxScaler, Normalizer, StandardScaler\n",
    "from sklearn.model_selection import train_test_split, KFold\n",
    "from sklearn.feature_selection import SelectFromModel\n",
    "from sklearn.metrics import accuracy_score, f1_score, classification_report, confusion_matrix, roc_auc_score\n",
    "from sklearn.impute import SimpleImputer\n",
    "from sklearn.neighbors import KNeighborsClassifier\n",
    "\n",
    "from numpy import where\n",
    "from imblearn.over_sampling import SMOTE, BorderlineSMOTE\n",
    "from collections import Counter\n",
    "\n",
    "import tensorflow as tf\n",
    "from tensorflow import keras\n",
    "from keras.callbacks import ReduceLROnPlateau, EarlyStopping\n",
    "from keras.optimizers import RMSprop, Adam\n",
    "from keras.utils import to_categorical\n",
    "from keras.models import Sequential, load_model\n",
    "from keras.layers import Dropout, Flatten, Dense\n",
    "\n",
    "import xgboost as xgb\n",
    "from xgboost import XGBClassifier"
   ]
  },
  {
   "cell_type": "markdown",
   "metadata": {},
   "source": [
    "### 2.2 Load datasets\n",
    "Simply modify the data path to load your data."
   ]
  },
  {
   "cell_type": "code",
   "execution_count": 15,
   "metadata": {
    "id": "1IG-lsxaoe9C"
   },
   "outputs": [],
   "source": [
    "# Data paths setting\n",
    "path = 'data/' # change to your local file location\n",
    "train_data_path = path + 'CreditCard_train.csv'\n",
    "test_data_path = path + 'CreditCard_test.csv'  "
   ]
  },
  {
   "cell_type": "code",
   "execution_count": 16,
   "metadata": {
    "id": "uxWLLWtTq82j"
   },
   "outputs": [],
   "source": [
    "# pass the second line in the CSV file as column names\n",
    "df_train = pd.read_csv(train_data_path, header=1)\n",
    "df_test = pd.read_csv(test_data_path, header=1)"
   ]
  },
  {
   "cell_type": "code",
   "execution_count": 17,
   "metadata": {
    "colab": {
     "base_uri": "https://localhost:8080/",
     "height": 439
    },
    "collapsed": true,
    "id": "mK2Tkj-mgxPf",
    "outputId": "1c47c62f-0aa7-4114-9db7-48d6f8c8ddf8"
   },
   "outputs": [
    {
     "data": {
      "text/html": [
       "<div>\n",
       "<style scoped>\n",
       "    .dataframe tbody tr th:only-of-type {\n",
       "        vertical-align: middle;\n",
       "    }\n",
       "\n",
       "    .dataframe tbody tr th {\n",
       "        vertical-align: top;\n",
       "    }\n",
       "\n",
       "    .dataframe thead th {\n",
       "        text-align: right;\n",
       "    }\n",
       "</style>\n",
       "<table border=\"1\" class=\"dataframe\">\n",
       "  <thead>\n",
       "    <tr style=\"text-align: right;\">\n",
       "      <th></th>\n",
       "      <th>ID</th>\n",
       "      <th>LIMIT_BAL</th>\n",
       "      <th>SEX</th>\n",
       "      <th>EDUCATION</th>\n",
       "      <th>MARRIAGE</th>\n",
       "      <th>AGE</th>\n",
       "      <th>PAY_1</th>\n",
       "      <th>PAY_2</th>\n",
       "      <th>PAY_3</th>\n",
       "      <th>PAY_4</th>\n",
       "      <th>...</th>\n",
       "      <th>BILL_AMT4</th>\n",
       "      <th>BILL_AMT5</th>\n",
       "      <th>BILL_AMT6</th>\n",
       "      <th>PAY_AMT1</th>\n",
       "      <th>PAY_AMT2</th>\n",
       "      <th>PAY_AMT3</th>\n",
       "      <th>PAY_AMT4</th>\n",
       "      <th>PAY_AMT5</th>\n",
       "      <th>PAY_AMT6</th>\n",
       "      <th>default</th>\n",
       "    </tr>\n",
       "  </thead>\n",
       "  <tbody>\n",
       "    <tr>\n",
       "      <th>0</th>\n",
       "      <td>1</td>\n",
       "      <td>20000</td>\n",
       "      <td>2</td>\n",
       "      <td>2</td>\n",
       "      <td>1</td>\n",
       "      <td>24</td>\n",
       "      <td>2</td>\n",
       "      <td>2</td>\n",
       "      <td>-1</td>\n",
       "      <td>-1</td>\n",
       "      <td>...</td>\n",
       "      <td>0</td>\n",
       "      <td>0</td>\n",
       "      <td>0</td>\n",
       "      <td>0</td>\n",
       "      <td>689</td>\n",
       "      <td>0</td>\n",
       "      <td>0</td>\n",
       "      <td>0</td>\n",
       "      <td>0</td>\n",
       "      <td>1</td>\n",
       "    </tr>\n",
       "    <tr>\n",
       "      <th>1</th>\n",
       "      <td>2</td>\n",
       "      <td>120000</td>\n",
       "      <td>2</td>\n",
       "      <td>2</td>\n",
       "      <td>2</td>\n",
       "      <td>26</td>\n",
       "      <td>-1</td>\n",
       "      <td>2</td>\n",
       "      <td>0</td>\n",
       "      <td>0</td>\n",
       "      <td>...</td>\n",
       "      <td>3272</td>\n",
       "      <td>3455</td>\n",
       "      <td>3261</td>\n",
       "      <td>0</td>\n",
       "      <td>1000</td>\n",
       "      <td>1000</td>\n",
       "      <td>1000</td>\n",
       "      <td>0</td>\n",
       "      <td>2000</td>\n",
       "      <td>1</td>\n",
       "    </tr>\n",
       "    <tr>\n",
       "      <th>2</th>\n",
       "      <td>3</td>\n",
       "      <td>90000</td>\n",
       "      <td>2</td>\n",
       "      <td>2</td>\n",
       "      <td>2</td>\n",
       "      <td>34</td>\n",
       "      <td>0</td>\n",
       "      <td>0</td>\n",
       "      <td>0</td>\n",
       "      <td>0</td>\n",
       "      <td>...</td>\n",
       "      <td>14331</td>\n",
       "      <td>14948</td>\n",
       "      <td>15549</td>\n",
       "      <td>1518</td>\n",
       "      <td>1500</td>\n",
       "      <td>1000</td>\n",
       "      <td>1000</td>\n",
       "      <td>1000</td>\n",
       "      <td>5000</td>\n",
       "      <td>0</td>\n",
       "    </tr>\n",
       "    <tr>\n",
       "      <th>3</th>\n",
       "      <td>4</td>\n",
       "      <td>50000</td>\n",
       "      <td>2</td>\n",
       "      <td>2</td>\n",
       "      <td>1</td>\n",
       "      <td>37</td>\n",
       "      <td>0</td>\n",
       "      <td>0</td>\n",
       "      <td>0</td>\n",
       "      <td>0</td>\n",
       "      <td>...</td>\n",
       "      <td>28314</td>\n",
       "      <td>28959</td>\n",
       "      <td>29547</td>\n",
       "      <td>2000</td>\n",
       "      <td>2019</td>\n",
       "      <td>1200</td>\n",
       "      <td>1100</td>\n",
       "      <td>1069</td>\n",
       "      <td>1000</td>\n",
       "      <td>0</td>\n",
       "    </tr>\n",
       "    <tr>\n",
       "      <th>4</th>\n",
       "      <td>5</td>\n",
       "      <td>50000</td>\n",
       "      <td>1</td>\n",
       "      <td>2</td>\n",
       "      <td>1</td>\n",
       "      <td>57</td>\n",
       "      <td>-1</td>\n",
       "      <td>0</td>\n",
       "      <td>-1</td>\n",
       "      <td>0</td>\n",
       "      <td>...</td>\n",
       "      <td>20940</td>\n",
       "      <td>19146</td>\n",
       "      <td>19131</td>\n",
       "      <td>2000</td>\n",
       "      <td>36681</td>\n",
       "      <td>10000</td>\n",
       "      <td>9000</td>\n",
       "      <td>689</td>\n",
       "      <td>679</td>\n",
       "      <td>0</td>\n",
       "    </tr>\n",
       "    <tr>\n",
       "      <th>...</th>\n",
       "      <td>...</td>\n",
       "      <td>...</td>\n",
       "      <td>...</td>\n",
       "      <td>...</td>\n",
       "      <td>...</td>\n",
       "      <td>...</td>\n",
       "      <td>...</td>\n",
       "      <td>...</td>\n",
       "      <td>...</td>\n",
       "      <td>...</td>\n",
       "      <td>...</td>\n",
       "      <td>...</td>\n",
       "      <td>...</td>\n",
       "      <td>...</td>\n",
       "      <td>...</td>\n",
       "      <td>...</td>\n",
       "      <td>...</td>\n",
       "      <td>...</td>\n",
       "      <td>...</td>\n",
       "      <td>...</td>\n",
       "      <td>...</td>\n",
       "    </tr>\n",
       "    <tr>\n",
       "      <th>23995</th>\n",
       "      <td>23996</td>\n",
       "      <td>80000</td>\n",
       "      <td>1</td>\n",
       "      <td>2</td>\n",
       "      <td>1</td>\n",
       "      <td>25</td>\n",
       "      <td>1</td>\n",
       "      <td>2</td>\n",
       "      <td>2</td>\n",
       "      <td>0</td>\n",
       "      <td>...</td>\n",
       "      <td>80215</td>\n",
       "      <td>63296</td>\n",
       "      <td>49854</td>\n",
       "      <td>3800</td>\n",
       "      <td>6</td>\n",
       "      <td>3636</td>\n",
       "      <td>2646</td>\n",
       "      <td>2000</td>\n",
       "      <td>1830</td>\n",
       "      <td>0</td>\n",
       "    </tr>\n",
       "    <tr>\n",
       "      <th>23996</th>\n",
       "      <td>23997</td>\n",
       "      <td>20000</td>\n",
       "      <td>1</td>\n",
       "      <td>2</td>\n",
       "      <td>1</td>\n",
       "      <td>25</td>\n",
       "      <td>0</td>\n",
       "      <td>0</td>\n",
       "      <td>0</td>\n",
       "      <td>0</td>\n",
       "      <td>...</td>\n",
       "      <td>17322</td>\n",
       "      <td>17119</td>\n",
       "      <td>17350</td>\n",
       "      <td>1552</td>\n",
       "      <td>2659</td>\n",
       "      <td>1419</td>\n",
       "      <td>606</td>\n",
       "      <td>500</td>\n",
       "      <td>1000</td>\n",
       "      <td>0</td>\n",
       "    </tr>\n",
       "    <tr>\n",
       "      <th>23997</th>\n",
       "      <td>23998</td>\n",
       "      <td>10000</td>\n",
       "      <td>1</td>\n",
       "      <td>2</td>\n",
       "      <td>2</td>\n",
       "      <td>26</td>\n",
       "      <td>0</td>\n",
       "      <td>0</td>\n",
       "      <td>0</td>\n",
       "      <td>0</td>\n",
       "      <td>...</td>\n",
       "      <td>17506</td>\n",
       "      <td>16608</td>\n",
       "      <td>9176</td>\n",
       "      <td>1300</td>\n",
       "      <td>2200</td>\n",
       "      <td>1300</td>\n",
       "      <td>320</td>\n",
       "      <td>1820</td>\n",
       "      <td>1000</td>\n",
       "      <td>0</td>\n",
       "    </tr>\n",
       "    <tr>\n",
       "      <th>23998</th>\n",
       "      <td>23999</td>\n",
       "      <td>20000</td>\n",
       "      <td>1</td>\n",
       "      <td>5</td>\n",
       "      <td>2</td>\n",
       "      <td>26</td>\n",
       "      <td>0</td>\n",
       "      <td>0</td>\n",
       "      <td>0</td>\n",
       "      <td>0</td>\n",
       "      <td>...</td>\n",
       "      <td>39950</td>\n",
       "      <td>0</td>\n",
       "      <td>0</td>\n",
       "      <td>3055</td>\n",
       "      <td>1467</td>\n",
       "      <td>1096</td>\n",
       "      <td>1000</td>\n",
       "      <td>0</td>\n",
       "      <td>0</td>\n",
       "      <td>0</td>\n",
       "    </tr>\n",
       "    <tr>\n",
       "      <th>23999</th>\n",
       "      <td>24000</td>\n",
       "      <td>100000</td>\n",
       "      <td>1</td>\n",
       "      <td>1</td>\n",
       "      <td>2</td>\n",
       "      <td>26</td>\n",
       "      <td>0</td>\n",
       "      <td>-1</td>\n",
       "      <td>0</td>\n",
       "      <td>0</td>\n",
       "      <td>...</td>\n",
       "      <td>1944</td>\n",
       "      <td>389</td>\n",
       "      <td>1221</td>\n",
       "      <td>1100</td>\n",
       "      <td>1200</td>\n",
       "      <td>1000</td>\n",
       "      <td>500</td>\n",
       "      <td>1000</td>\n",
       "      <td>1000</td>\n",
       "      <td>1</td>\n",
       "    </tr>\n",
       "  </tbody>\n",
       "</table>\n",
       "<p>24000 rows × 25 columns</p>\n",
       "</div>"
      ],
      "text/plain": [
       "          ID  LIMIT_BAL  SEX  EDUCATION  MARRIAGE  AGE  PAY_1  PAY_2  PAY_3  \\\n",
       "0          1      20000    2          2         1   24      2      2     -1   \n",
       "1          2     120000    2          2         2   26     -1      2      0   \n",
       "2          3      90000    2          2         2   34      0      0      0   \n",
       "3          4      50000    2          2         1   37      0      0      0   \n",
       "4          5      50000    1          2         1   57     -1      0     -1   \n",
       "...      ...        ...  ...        ...       ...  ...    ...    ...    ...   \n",
       "23995  23996      80000    1          2         1   25      1      2      2   \n",
       "23996  23997      20000    1          2         1   25      0      0      0   \n",
       "23997  23998      10000    1          2         2   26      0      0      0   \n",
       "23998  23999      20000    1          5         2   26      0      0      0   \n",
       "23999  24000     100000    1          1         2   26      0     -1      0   \n",
       "\n",
       "       PAY_4  ...  BILL_AMT4  BILL_AMT5  BILL_AMT6  PAY_AMT1  PAY_AMT2  \\\n",
       "0         -1  ...          0          0          0         0       689   \n",
       "1          0  ...       3272       3455       3261         0      1000   \n",
       "2          0  ...      14331      14948      15549      1518      1500   \n",
       "3          0  ...      28314      28959      29547      2000      2019   \n",
       "4          0  ...      20940      19146      19131      2000     36681   \n",
       "...      ...  ...        ...        ...        ...       ...       ...   \n",
       "23995      0  ...      80215      63296      49854      3800         6   \n",
       "23996      0  ...      17322      17119      17350      1552      2659   \n",
       "23997      0  ...      17506      16608       9176      1300      2200   \n",
       "23998      0  ...      39950          0          0      3055      1467   \n",
       "23999      0  ...       1944        389       1221      1100      1200   \n",
       "\n",
       "       PAY_AMT3  PAY_AMT4  PAY_AMT5  PAY_AMT6  default  \n",
       "0             0         0         0         0        1  \n",
       "1          1000      1000         0      2000        1  \n",
       "2          1000      1000      1000      5000        0  \n",
       "3          1200      1100      1069      1000        0  \n",
       "4         10000      9000       689       679        0  \n",
       "...         ...       ...       ...       ...      ...  \n",
       "23995      3636      2646      2000      1830        0  \n",
       "23996      1419       606       500      1000        0  \n",
       "23997      1300       320      1820      1000        0  \n",
       "23998      1096      1000         0         0        0  \n",
       "23999      1000       500      1000      1000        1  \n",
       "\n",
       "[24000 rows x 25 columns]"
      ]
     },
     "execution_count": 17,
     "metadata": {},
     "output_type": "execute_result"
    }
   ],
   "source": [
    "df_train.rename(columns={'PAY_0':'PAY_1'}, inplace=True) # change strange (inconsistent) column name 'PAY_0'\n",
    "df_train.rename(columns={'default payment next month':'default'}, inplace=True) # shorten the name of the target column\n",
    "df_train"
   ]
  },
  {
   "cell_type": "code",
   "execution_count": 18,
   "metadata": {
    "colab": {
     "base_uri": "https://localhost:8080/"
    },
    "collapsed": true,
    "id": "eR3HXmore957",
    "outputId": "217efbc5-be52-497e-f23d-60f7406f87aa"
   },
   "outputs": [
    {
     "name": "stdout",
     "output_type": "stream",
     "text": [
      "train: 0.8\n",
      "test: 0.2\n"
     ]
    }
   ],
   "source": [
    "# check the ratio of train-test split\n",
    "print('train:', df_train.shape[0] / (df_train.shape[0] + df_test.shape[0]))\n",
    "print('test:', df_test.shape[0] / (df_train.shape[0] + df_test.shape[0]))"
   ]
  },
  {
   "cell_type": "markdown",
   "metadata": {
    "id": "s1VnMKDWhWhZ"
   },
   "source": [
    "Train-test-split is 8:2."
   ]
  },
  {
   "cell_type": "markdown",
   "metadata": {
    "id": "dYoh7IY_eOte"
   },
   "source": [
    "# **3. Data Exploration and Transformation**\n",
    "This section contains four parts: 1) Data Exploration; 2) Data Cleaning; 3) Exploratory Data Analysis; 4) Feature Engineering."
   ]
  },
  {
   "cell_type": "markdown",
   "metadata": {
    "id": "JLUOGwH7gEOQ"
   },
   "source": [
    "### 3.1 Data Exploration\n",
    "1. Check missing values.\n",
    "2. Check if labels in categorical variables are all documented.\n",
    "3. Check if outliers existed in numerical variables: a) negative values; b) extreme values.\n",
    "4. Investigate whether the training set is balanced (ratio of 'default')."
   ]
  },
  {
   "cell_type": "markdown",
   "metadata": {},
   "source": [
    "**3.1.1 Check missing values**"
   ]
  },
  {
   "cell_type": "code",
   "execution_count": 38,
   "metadata": {
    "colab": {
     "base_uri": "https://localhost:8080/"
    },
    "collapsed": true,
    "id": "RAs8ovj-4dqm",
    "outputId": "1d98795b-1e59-4c14-ac61-bf30d0d36b6c"
   },
   "outputs": [
    {
     "name": "stdout",
     "output_type": "stream",
     "text": [
      "<class 'pandas.core.frame.DataFrame'>\n",
      "RangeIndex: 24000 entries, 0 to 23999\n",
      "Data columns (total 25 columns):\n",
      " #   Column     Non-Null Count  Dtype\n",
      "---  ------     --------------  -----\n",
      " 0   ID         24000 non-null  int64\n",
      " 1   LIMIT_BAL  24000 non-null  int64\n",
      " 2   SEX        24000 non-null  int64\n",
      " 3   EDUCATION  24000 non-null  int64\n",
      " 4   MARRIAGE   24000 non-null  int64\n",
      " 5   AGE        24000 non-null  int64\n",
      " 6   PAY_1      24000 non-null  int64\n",
      " 7   PAY_2      24000 non-null  int64\n",
      " 8   PAY_3      24000 non-null  int64\n",
      " 9   PAY_4      24000 non-null  int64\n",
      " 10  PAY_5      24000 non-null  int64\n",
      " 11  PAY_6      24000 non-null  int64\n",
      " 12  BILL_AMT1  24000 non-null  int64\n",
      " 13  BILL_AMT2  24000 non-null  int64\n",
      " 14  BILL_AMT3  24000 non-null  int64\n",
      " 15  BILL_AMT4  24000 non-null  int64\n",
      " 16  BILL_AMT5  24000 non-null  int64\n",
      " 17  BILL_AMT6  24000 non-null  int64\n",
      " 18  PAY_AMT1   24000 non-null  int64\n",
      " 19  PAY_AMT2   24000 non-null  int64\n",
      " 20  PAY_AMT3   24000 non-null  int64\n",
      " 21  PAY_AMT4   24000 non-null  int64\n",
      " 22  PAY_AMT5   24000 non-null  int64\n",
      " 23  PAY_AMT6   24000 non-null  int64\n",
      " 24  default    24000 non-null  int64\n",
      "dtypes: int64(25)\n",
      "memory usage: 4.6 MB\n"
     ]
    }
   ],
   "source": [
    "df_train.info()"
   ]
  },
  {
   "cell_type": "markdown",
   "metadata": {
    "id": "2YiTPI-l4g5j"
   },
   "source": [
    "No Missing Values. All variables have numerical values (int64)."
   ]
  },
  {
   "cell_type": "markdown",
   "metadata": {
    "id": "Pzzzgv1l4pcy"
   },
   "source": [
    "**3.1.2 Check undocumented labels**"
   ]
  },
  {
   "cell_type": "code",
   "execution_count": 40,
   "metadata": {
    "colab": {
     "base_uri": "https://localhost:8080/"
    },
    "collapsed": true,
    "id": "uPZ_g5nH4riz",
    "outputId": "8309c81d-c96c-44a8-c74b-aa060ad4844d"
   },
   "outputs": [
    {
     "name": "stdout",
     "output_type": "stream",
     "text": [
      "SEX: [1, 2]\n",
      "EDUCATION: [0, 1, 2, 3, 4, 5, 6]\n",
      "MARRIAGE: [0, 1, 2, 3]\n",
      "PAY_1: [-2, -1, 0, 1, 2, 3, 4, 5, 6, 7, 8]\n",
      "PAY_2: [-2, -1, 0, 1, 2, 3, 4, 5, 6, 7, 8]\n",
      "PAY_3: [-2, -1, 0, 1, 2, 3, 4, 5, 6, 7, 8]\n",
      "PAY_4: [-2, -1, 0, 1, 2, 3, 4, 5, 6, 7, 8]\n",
      "PAY_5: [-2, -1, 0, 2, 3, 4, 5, 6, 7, 8]\n",
      "PAY_6: [-2, -1, 0, 2, 3, 4, 5, 6, 7, 8]\n",
      "default: [0, 1]\n"
     ]
    }
   ],
   "source": [
    "# check if the values of categorical variable in training set are well-documented\n",
    "print('SEX:', sorted(df_train['SEX'].unique()))\n",
    "print('EDUCATION:', sorted(df_train['EDUCATION'].unique()))\n",
    "print('MARRIAGE:', sorted(df_train['MARRIAGE'].unique()))\n",
    "print('PAY_1:', sorted(df_train['PAY_1'].unique()))\n",
    "print('PAY_2:', sorted(df_train['PAY_2'].unique()))\n",
    "print('PAY_3:', sorted(df_train['PAY_3'].unique()))\n",
    "print('PAY_4:', sorted(df_train['PAY_4'].unique()))\n",
    "print('PAY_5:', sorted(df_train['PAY_5'].unique()))\n",
    "print('PAY_6:', sorted(df_train['PAY_6'].unique()))\n",
    "print('default:', sorted(df_train['default'].unique()))"
   ]
  },
  {
   "cell_type": "markdown",
   "metadata": {
    "id": "WTikdofQ4vPX"
   },
   "source": [
    "Undocumented categories existed in the training set:\n",
    "- EDUCATION: 0, 5, 6  \n",
    "- MARRIAGE: 0  \n",
    "- PAY_1 to PAY_6: -2, 0"
   ]
  },
  {
   "cell_type": "code",
   "execution_count": 41,
   "metadata": {
    "colab": {
     "base_uri": "https://localhost:8080/",
     "height": 235
    },
    "collapsed": true,
    "id": "-Asrcc9840Jo",
    "outputId": "5ef34638-e3ee-43f7-edcb-1794d532e48d"
   },
   "outputs": [
    {
     "data": {
      "text/html": [
       "<div>\n",
       "<style scoped>\n",
       "    .dataframe tbody tr th:only-of-type {\n",
       "        vertical-align: middle;\n",
       "    }\n",
       "\n",
       "    .dataframe tbody tr th {\n",
       "        vertical-align: top;\n",
       "    }\n",
       "\n",
       "    .dataframe thead th {\n",
       "        text-align: right;\n",
       "    }\n",
       "</style>\n",
       "<table border=\"1\" class=\"dataframe\">\n",
       "  <thead>\n",
       "    <tr style=\"text-align: right;\">\n",
       "      <th></th>\n",
       "      <th>Training</th>\n",
       "    </tr>\n",
       "  </thead>\n",
       "  <tbody>\n",
       "    <tr>\n",
       "      <th>EDUCATION == 0</th>\n",
       "      <td>11</td>\n",
       "    </tr>\n",
       "    <tr>\n",
       "      <th>EDUCATION == 5</th>\n",
       "      <td>207</td>\n",
       "    </tr>\n",
       "    <tr>\n",
       "      <th>EDUCATION == 6</th>\n",
       "      <td>37</td>\n",
       "    </tr>\n",
       "    <tr>\n",
       "      <th>MARRIAGE == 0</th>\n",
       "      <td>41</td>\n",
       "    </tr>\n",
       "    <tr>\n",
       "      <th>PAY_n == -2</th>\n",
       "      <td>5185</td>\n",
       "    </tr>\n",
       "    <tr>\n",
       "      <th>PAY_n == 0</th>\n",
       "      <td>16929</td>\n",
       "    </tr>\n",
       "  </tbody>\n",
       "</table>\n",
       "</div>"
      ],
      "text/plain": [
       "               Training\n",
       "EDUCATION == 0       11\n",
       "EDUCATION == 5      207\n",
       "EDUCATION == 6       37\n",
       "MARRIAGE == 0        41\n",
       "PAY_n == -2        5185\n",
       "PAY_n == 0        16929"
      ]
     },
     "execution_count": 41,
     "metadata": {},
     "output_type": "execute_result"
    }
   ],
   "source": [
    "# Count the number of rows for each undocumented label\n",
    "undocumented_labels = ['EDUCATION == 0','EDUCATION == 5','EDUCATION == 6','MARRIAGE == 0','PAY_n == -2', 'PAY_n == 0']\n",
    "counts = pd.DataFrame(index=undocumented_labels, columns=['Training'])\n",
    "\n",
    "# EDUCATION, training set\n",
    "counts.loc['EDUCATION == 0', 'Training'] = df_train[df_train['EDUCATION'] == 0].shape[0]\n",
    "counts.loc['EDUCATION == 5', 'Training'] = df_train[df_train['EDUCATION'] == 5].shape[0]\n",
    "counts.loc['EDUCATION == 6', 'Training'] = df_train[df_train['EDUCATION'] == 6].shape[0]\n",
    "\n",
    "# MARRIAGE, training set\n",
    "counts.loc['MARRIAGE == 0', 'Training'] = df_train[df_train['MARRIAGE'] == 0].shape[0]\n",
    "\n",
    "# PAY_1 to PAY_6, training set\n",
    "counts.loc['PAY_n == -2', 'Training'] = df_train[(df_train['PAY_1'] == -2) | (df_train['PAY_2'] == -2) | \n",
    "                                                 (df_train['PAY_3'] == -2) | (df_train['PAY_4'] == -2) | \n",
    "                                                 (df_train['PAY_5'] == -2) | (df_train['PAY_6'] == -2)].shape[0]\n",
    "counts.loc['PAY_n == 0', 'Training'] = df_train[(df_train['PAY_1'] == 0) | (df_train['PAY_2'] == 0) | \n",
    "                                                (df_train['PAY_3'] == 0) | (df_train['PAY_4'] == 0) | \n",
    "                                                (df_train['PAY_5'] == 0) | (df_train['PAY_6'] == 0)].shape[0]\n",
    "\n",
    "counts"
   ]
  },
  {
   "cell_type": "markdown",
   "metadata": {
    "id": "1DRKmQf35IOZ"
   },
   "source": [
    "**Solution:** *(will be dealt in the **Data Cleaning** phase)*\n",
    "- EDUCATION: categorise 0, 5, 6 as 4 (*others*)  \n",
    "*others* may refer to education level either higher than graduate school or lower than high school.  \n",
    "- MARRIAGE: categorise 0 as 3 (*others*)  \n",
    "- PAY_1 to PAY_6: keep -2 and categorise 0 as -1 (*pay duly*)"
   ]
  },
  {
   "cell_type": "markdown",
   "metadata": {
    "id": "c7xS3tc-5WHK"
   },
   "source": [
    "**3.1.3 Check outliers in numerical variables**"
   ]
  },
  {
   "cell_type": "markdown",
   "metadata": {},
   "source": [
    "**Check negative values**"
   ]
  },
  {
   "cell_type": "code",
   "execution_count": 44,
   "metadata": {
    "collapsed": true
   },
   "outputs": [
    {
     "data": {
      "text/html": [
       "<div>\n",
       "<style scoped>\n",
       "    .dataframe tbody tr th:only-of-type {\n",
       "        vertical-align: middle;\n",
       "    }\n",
       "\n",
       "    .dataframe tbody tr th {\n",
       "        vertical-align: top;\n",
       "    }\n",
       "\n",
       "    .dataframe thead th {\n",
       "        text-align: right;\n",
       "    }\n",
       "</style>\n",
       "<table border=\"1\" class=\"dataframe\">\n",
       "  <thead>\n",
       "    <tr style=\"text-align: right;\">\n",
       "      <th></th>\n",
       "      <th>LIMIT_BAL</th>\n",
       "      <th>BILL_AMT1</th>\n",
       "      <th>BILL_AMT2</th>\n",
       "      <th>BILL_AMT3</th>\n",
       "      <th>BILL_AMT4</th>\n",
       "      <th>BILL_AMT5</th>\n",
       "      <th>BILL_AMT6</th>\n",
       "      <th>PAY_AMT1</th>\n",
       "      <th>PAY_AMT2</th>\n",
       "      <th>PAY_AMT3</th>\n",
       "      <th>PAY_AMT4</th>\n",
       "      <th>PAY_AMT5</th>\n",
       "      <th>PAY_AMT6</th>\n",
       "    </tr>\n",
       "  </thead>\n",
       "  <tbody>\n",
       "    <tr>\n",
       "      <th>count</th>\n",
       "      <td>24000.000000</td>\n",
       "      <td>24000.000000</td>\n",
       "      <td>24000.000000</td>\n",
       "      <td>2.400000e+04</td>\n",
       "      <td>24000.000000</td>\n",
       "      <td>24000.000000</td>\n",
       "      <td>24000.000000</td>\n",
       "      <td>24000.000000</td>\n",
       "      <td>2.400000e+04</td>\n",
       "      <td>24000.00000</td>\n",
       "      <td>24000.000000</td>\n",
       "      <td>24000.000000</td>\n",
       "      <td>24000.000000</td>\n",
       "    </tr>\n",
       "    <tr>\n",
       "      <th>mean</th>\n",
       "      <td>165495.986667</td>\n",
       "      <td>50596.884708</td>\n",
       "      <td>48646.064125</td>\n",
       "      <td>4.636706e+04</td>\n",
       "      <td>42368.188417</td>\n",
       "      <td>40000.682542</td>\n",
       "      <td>38563.710625</td>\n",
       "      <td>5542.912917</td>\n",
       "      <td>5.815336e+03</td>\n",
       "      <td>4969.26600</td>\n",
       "      <td>4743.480042</td>\n",
       "      <td>4783.486042</td>\n",
       "      <td>5189.399042</td>\n",
       "    </tr>\n",
       "    <tr>\n",
       "      <th>std</th>\n",
       "      <td>129128.744855</td>\n",
       "      <td>72649.374256</td>\n",
       "      <td>70364.600436</td>\n",
       "      <td>6.819390e+04</td>\n",
       "      <td>63070.680934</td>\n",
       "      <td>60345.012766</td>\n",
       "      <td>59155.759799</td>\n",
       "      <td>15068.576072</td>\n",
       "      <td>2.079703e+04</td>\n",
       "      <td>16095.61434</td>\n",
       "      <td>14883.269990</td>\n",
       "      <td>15270.405279</td>\n",
       "      <td>17630.371990</td>\n",
       "    </tr>\n",
       "    <tr>\n",
       "      <th>min</th>\n",
       "      <td>10000.000000</td>\n",
       "      <td>-165580.000000</td>\n",
       "      <td>-69777.000000</td>\n",
       "      <td>-1.572640e+05</td>\n",
       "      <td>-170000.000000</td>\n",
       "      <td>-81334.000000</td>\n",
       "      <td>-339603.000000</td>\n",
       "      <td>0.000000</td>\n",
       "      <td>0.000000e+00</td>\n",
       "      <td>0.00000</td>\n",
       "      <td>0.000000</td>\n",
       "      <td>0.000000</td>\n",
       "      <td>0.000000</td>\n",
       "    </tr>\n",
       "    <tr>\n",
       "      <th>25%</th>\n",
       "      <td>50000.000000</td>\n",
       "      <td>3631.500000</td>\n",
       "      <td>3098.500000</td>\n",
       "      <td>2.773500e+03</td>\n",
       "      <td>2340.000000</td>\n",
       "      <td>1740.000000</td>\n",
       "      <td>1234.750000</td>\n",
       "      <td>1000.000000</td>\n",
       "      <td>8.000000e+02</td>\n",
       "      <td>379.00000</td>\n",
       "      <td>279.750000</td>\n",
       "      <td>244.000000</td>\n",
       "      <td>60.750000</td>\n",
       "    </tr>\n",
       "    <tr>\n",
       "      <th>50%</th>\n",
       "      <td>140000.000000</td>\n",
       "      <td>22330.000000</td>\n",
       "      <td>21339.000000</td>\n",
       "      <td>2.003900e+04</td>\n",
       "      <td>18940.500000</td>\n",
       "      <td>18107.500000</td>\n",
       "      <td>17036.000000</td>\n",
       "      <td>2100.000000</td>\n",
       "      <td>2.000000e+03</td>\n",
       "      <td>1702.50000</td>\n",
       "      <td>1500.000000</td>\n",
       "      <td>1500.000000</td>\n",
       "      <td>1500.000000</td>\n",
       "    </tr>\n",
       "    <tr>\n",
       "      <th>75%</th>\n",
       "      <td>240000.000000</td>\n",
       "      <td>65779.500000</td>\n",
       "      <td>62761.250000</td>\n",
       "      <td>5.929800e+04</td>\n",
       "      <td>52188.500000</td>\n",
       "      <td>49746.500000</td>\n",
       "      <td>48796.250000</td>\n",
       "      <td>5000.000000</td>\n",
       "      <td>5.000000e+03</td>\n",
       "      <td>4347.25000</td>\n",
       "      <td>4000.000000</td>\n",
       "      <td>4005.000000</td>\n",
       "      <td>4000.000000</td>\n",
       "    </tr>\n",
       "    <tr>\n",
       "      <th>max</th>\n",
       "      <td>1000000.000000</td>\n",
       "      <td>964511.000000</td>\n",
       "      <td>983931.000000</td>\n",
       "      <td>1.664089e+06</td>\n",
       "      <td>891586.000000</td>\n",
       "      <td>927171.000000</td>\n",
       "      <td>961664.000000</td>\n",
       "      <td>505000.000000</td>\n",
       "      <td>1.684259e+06</td>\n",
       "      <td>896040.00000</td>\n",
       "      <td>497000.000000</td>\n",
       "      <td>417990.000000</td>\n",
       "      <td>528666.000000</td>\n",
       "    </tr>\n",
       "  </tbody>\n",
       "</table>\n",
       "</div>"
      ],
      "text/plain": [
       "            LIMIT_BAL      BILL_AMT1      BILL_AMT2     BILL_AMT3  \\\n",
       "count    24000.000000   24000.000000   24000.000000  2.400000e+04   \n",
       "mean    165495.986667   50596.884708   48646.064125  4.636706e+04   \n",
       "std     129128.744855   72649.374256   70364.600436  6.819390e+04   \n",
       "min      10000.000000 -165580.000000  -69777.000000 -1.572640e+05   \n",
       "25%      50000.000000    3631.500000    3098.500000  2.773500e+03   \n",
       "50%     140000.000000   22330.000000   21339.000000  2.003900e+04   \n",
       "75%     240000.000000   65779.500000   62761.250000  5.929800e+04   \n",
       "max    1000000.000000  964511.000000  983931.000000  1.664089e+06   \n",
       "\n",
       "           BILL_AMT4      BILL_AMT5      BILL_AMT6       PAY_AMT1  \\\n",
       "count   24000.000000   24000.000000   24000.000000   24000.000000   \n",
       "mean    42368.188417   40000.682542   38563.710625    5542.912917   \n",
       "std     63070.680934   60345.012766   59155.759799   15068.576072   \n",
       "min   -170000.000000  -81334.000000 -339603.000000       0.000000   \n",
       "25%      2340.000000    1740.000000    1234.750000    1000.000000   \n",
       "50%     18940.500000   18107.500000   17036.000000    2100.000000   \n",
       "75%     52188.500000   49746.500000   48796.250000    5000.000000   \n",
       "max    891586.000000  927171.000000  961664.000000  505000.000000   \n",
       "\n",
       "           PAY_AMT2      PAY_AMT3       PAY_AMT4       PAY_AMT5       PAY_AMT6  \n",
       "count  2.400000e+04   24000.00000   24000.000000   24000.000000   24000.000000  \n",
       "mean   5.815336e+03    4969.26600    4743.480042    4783.486042    5189.399042  \n",
       "std    2.079703e+04   16095.61434   14883.269990   15270.405279   17630.371990  \n",
       "min    0.000000e+00       0.00000       0.000000       0.000000       0.000000  \n",
       "25%    8.000000e+02     379.00000     279.750000     244.000000      60.750000  \n",
       "50%    2.000000e+03    1702.50000    1500.000000    1500.000000    1500.000000  \n",
       "75%    5.000000e+03    4347.25000    4000.000000    4005.000000    4000.000000  \n",
       "max    1.684259e+06  896040.00000  497000.000000  417990.000000  528666.000000  "
      ]
     },
     "execution_count": 44,
     "metadata": {},
     "output_type": "execute_result"
    }
   ],
   "source": [
    "numerical_features = ['LIMIT_BAL', 'BILL_AMT1', 'BILL_AMT2', 'BILL_AMT3', 'BILL_AMT4', 'BILL_AMT5', 'BILL_AMT6', \n",
    "                      'PAY_AMT1', 'PAY_AMT2', 'PAY_AMT3', 'PAY_AMT4', 'PAY_AMT5', 'PAY_AMT6']\n",
    "# numerical features description\n",
    "df_train[numerical_features].describe()"
   ]
  },
  {
   "cell_type": "code",
   "execution_count": 43,
   "metadata": {
    "colab": {
     "base_uri": "https://localhost:8080/"
    },
    "id": "azWfICJR5U2_",
    "outputId": "c5d9813c-e863-40ff-80ca-a9131fb8a673"
   },
   "outputs": [
    {
     "name": "stdout",
     "output_type": "stream",
     "text": [
      "Negative BILL_AMT in training set: 1496\n"
     ]
    }
   ],
   "source": [
    "print('Negative BILL_AMT in training set:', df_train[(df_train['BILL_AMT1'] < 0) | (df_train['BILL_AMT2'] < 0) |\n",
    "                                                     (df_train['BILL_AMT3'] < 0) | (df_train['BILL_AMT4'] < 0) |\n",
    "                                                     (df_train['BILL_AMT5'] < 0) | (df_train['BILL_AMT6'] < 0)].shape[0])"
   ]
  },
  {
   "cell_type": "markdown",
   "metadata": {
    "id": "E1Pzs6VN5l2v"
   },
   "source": [
    "There are negative values for bill statement in training set (1496 rows).\n",
    "We are not going to convert negatives to zero."
   ]
  },
  {
   "cell_type": "markdown",
   "metadata": {
    "id": "5-EoG3a95oee"
   },
   "source": [
    "**Check extremely large or small values**\n",
    "<br><br>\n",
    "LIMIT_BAL, BILL_AMT and PAY_AMT all have a very broad range. Need to check if these are outliers.\n",
    "<br>\n",
    "**Method:** Check if the amount of previous payment (PAY_AMT) & bill statement (BILL_AMT) lie within the 'sensible' range of given credit (LIMIT_BAL). Choose LIMIT_BAL values below 5th percentile or above 95th percentile to check."
   ]
  },
  {
   "cell_type": "code",
   "execution_count": 46,
   "metadata": {
    "colab": {
     "base_uri": "https://localhost:8080/",
     "height": 452
    },
    "collapsed": true,
    "id": "Gx4LdxM753R_",
    "outputId": "5e3c1774-2943-409c-d10e-9367639ab066"
   },
   "outputs": [
    {
     "data": {
      "text/html": [
       "<div>\n",
       "<style scoped>\n",
       "    .dataframe tbody tr th:only-of-type {\n",
       "        vertical-align: middle;\n",
       "    }\n",
       "\n",
       "    .dataframe tbody tr th {\n",
       "        vertical-align: top;\n",
       "    }\n",
       "\n",
       "    .dataframe thead th {\n",
       "        text-align: right;\n",
       "    }\n",
       "</style>\n",
       "<table border=\"1\" class=\"dataframe\">\n",
       "  <thead>\n",
       "    <tr style=\"text-align: right;\">\n",
       "      <th></th>\n",
       "      <th>5th</th>\n",
       "      <th>15th</th>\n",
       "      <th>25th</th>\n",
       "      <th>35th</th>\n",
       "      <th>45th</th>\n",
       "      <th>55th</th>\n",
       "      <th>65th</th>\n",
       "      <th>75th</th>\n",
       "      <th>85th</th>\n",
       "      <th>95th</th>\n",
       "    </tr>\n",
       "  </thead>\n",
       "  <tbody>\n",
       "    <tr>\n",
       "      <th>LIMIT_BAL</th>\n",
       "      <td>20000.0</td>\n",
       "      <td>50000.00</td>\n",
       "      <td>50000.00</td>\n",
       "      <td>80000.00</td>\n",
       "      <td>120000.00</td>\n",
       "      <td>150000.00</td>\n",
       "      <td>200000.00</td>\n",
       "      <td>240000.00</td>\n",
       "      <td>300000.00</td>\n",
       "      <td>430000.00</td>\n",
       "    </tr>\n",
       "    <tr>\n",
       "      <th>BILL_AMT1</th>\n",
       "      <td>0.0</td>\n",
       "      <td>815.00</td>\n",
       "      <td>3631.50</td>\n",
       "      <td>9245.90</td>\n",
       "      <td>17706.20</td>\n",
       "      <td>28347.00</td>\n",
       "      <td>46009.85</td>\n",
       "      <td>65779.50</td>\n",
       "      <td>105939.05</td>\n",
       "      <td>197600.00</td>\n",
       "    </tr>\n",
       "    <tr>\n",
       "      <th>BILL_AMT2</th>\n",
       "      <td>0.0</td>\n",
       "      <td>495.00</td>\n",
       "      <td>3098.50</td>\n",
       "      <td>8760.30</td>\n",
       "      <td>17385.00</td>\n",
       "      <td>27619.45</td>\n",
       "      <td>43981.00</td>\n",
       "      <td>62761.25</td>\n",
       "      <td>101462.40</td>\n",
       "      <td>191542.10</td>\n",
       "    </tr>\n",
       "    <tr>\n",
       "      <th>BILL_AMT3</th>\n",
       "      <td>0.0</td>\n",
       "      <td>390.00</td>\n",
       "      <td>2773.50</td>\n",
       "      <td>8600.55</td>\n",
       "      <td>16985.55</td>\n",
       "      <td>26011.90</td>\n",
       "      <td>40181.05</td>\n",
       "      <td>59298.00</td>\n",
       "      <td>97224.80</td>\n",
       "      <td>184792.90</td>\n",
       "    </tr>\n",
       "    <tr>\n",
       "      <th>BILL_AMT4</th>\n",
       "      <td>0.0</td>\n",
       "      <td>370.85</td>\n",
       "      <td>2340.00</td>\n",
       "      <td>7851.95</td>\n",
       "      <td>15528.55</td>\n",
       "      <td>22497.40</td>\n",
       "      <td>33408.05</td>\n",
       "      <td>52188.50</td>\n",
       "      <td>89414.40</td>\n",
       "      <td>171381.90</td>\n",
       "    </tr>\n",
       "    <tr>\n",
       "      <th>BILL_AMT5</th>\n",
       "      <td>0.0</td>\n",
       "      <td>225.00</td>\n",
       "      <td>1740.00</td>\n",
       "      <td>6805.65</td>\n",
       "      <td>14111.55</td>\n",
       "      <td>20328.45</td>\n",
       "      <td>30177.00</td>\n",
       "      <td>49746.50</td>\n",
       "      <td>84116.30</td>\n",
       "      <td>164724.15</td>\n",
       "    </tr>\n",
       "    <tr>\n",
       "      <th>BILL_AMT6</th>\n",
       "      <td>0.0</td>\n",
       "      <td>0.00</td>\n",
       "      <td>1234.75</td>\n",
       "      <td>5369.65</td>\n",
       "      <td>12266.40</td>\n",
       "      <td>19826.00</td>\n",
       "      <td>29736.40</td>\n",
       "      <td>48796.25</td>\n",
       "      <td>81631.80</td>\n",
       "      <td>160588.60</td>\n",
       "    </tr>\n",
       "    <tr>\n",
       "      <th>PAY_AMT1</th>\n",
       "      <td>0.0</td>\n",
       "      <td>0.00</td>\n",
       "      <td>1000.00</td>\n",
       "      <td>1500.00</td>\n",
       "      <td>2000.00</td>\n",
       "      <td>2550.00</td>\n",
       "      <td>3510.40</td>\n",
       "      <td>5000.00</td>\n",
       "      <td>8000.00</td>\n",
       "      <td>18243.85</td>\n",
       "    </tr>\n",
       "    <tr>\n",
       "      <th>PAY_AMT2</th>\n",
       "      <td>0.0</td>\n",
       "      <td>0.00</td>\n",
       "      <td>800.00</td>\n",
       "      <td>1379.00</td>\n",
       "      <td>1885.55</td>\n",
       "      <td>2390.90</td>\n",
       "      <td>3300.00</td>\n",
       "      <td>5000.00</td>\n",
       "      <td>7784.15</td>\n",
       "      <td>19000.15</td>\n",
       "    </tr>\n",
       "    <tr>\n",
       "      <th>PAY_AMT3</th>\n",
       "      <td>0.0</td>\n",
       "      <td>0.00</td>\n",
       "      <td>379.00</td>\n",
       "      <td>1000.00</td>\n",
       "      <td>1424.10</td>\n",
       "      <td>2000.00</td>\n",
       "      <td>3000.00</td>\n",
       "      <td>4347.25</td>\n",
       "      <td>6800.00</td>\n",
       "      <td>16513.55</td>\n",
       "    </tr>\n",
       "    <tr>\n",
       "      <th>PAY_AMT4</th>\n",
       "      <td>0.0</td>\n",
       "      <td>0.00</td>\n",
       "      <td>279.75</td>\n",
       "      <td>764.65</td>\n",
       "      <td>1100.00</td>\n",
       "      <td>1920.00</td>\n",
       "      <td>2728.35</td>\n",
       "      <td>4000.00</td>\n",
       "      <td>6200.00</td>\n",
       "      <td>16000.00</td>\n",
       "    </tr>\n",
       "    <tr>\n",
       "      <th>PAY_AMT5</th>\n",
       "      <td>0.0</td>\n",
       "      <td>0.00</td>\n",
       "      <td>244.00</td>\n",
       "      <td>780.00</td>\n",
       "      <td>1170.00</td>\n",
       "      <td>2000.00</td>\n",
       "      <td>2832.70</td>\n",
       "      <td>4005.00</td>\n",
       "      <td>6251.15</td>\n",
       "      <td>15963.75</td>\n",
       "    </tr>\n",
       "    <tr>\n",
       "      <th>PAY_AMT6</th>\n",
       "      <td>0.0</td>\n",
       "      <td>0.00</td>\n",
       "      <td>60.75</td>\n",
       "      <td>690.00</td>\n",
       "      <td>1065.00</td>\n",
       "      <td>1911.90</td>\n",
       "      <td>2711.00</td>\n",
       "      <td>4000.00</td>\n",
       "      <td>6100.00</td>\n",
       "      <td>17398.10</td>\n",
       "    </tr>\n",
       "  </tbody>\n",
       "</table>\n",
       "</div>"
      ],
      "text/plain": [
       "               5th      15th      25th      35th       45th       55th  \\\n",
       "LIMIT_BAL  20000.0  50000.00  50000.00  80000.00  120000.00  150000.00   \n",
       "BILL_AMT1      0.0    815.00   3631.50   9245.90   17706.20   28347.00   \n",
       "BILL_AMT2      0.0    495.00   3098.50   8760.30   17385.00   27619.45   \n",
       "BILL_AMT3      0.0    390.00   2773.50   8600.55   16985.55   26011.90   \n",
       "BILL_AMT4      0.0    370.85   2340.00   7851.95   15528.55   22497.40   \n",
       "BILL_AMT5      0.0    225.00   1740.00   6805.65   14111.55   20328.45   \n",
       "BILL_AMT6      0.0      0.00   1234.75   5369.65   12266.40   19826.00   \n",
       "PAY_AMT1       0.0      0.00   1000.00   1500.00    2000.00    2550.00   \n",
       "PAY_AMT2       0.0      0.00    800.00   1379.00    1885.55    2390.90   \n",
       "PAY_AMT3       0.0      0.00    379.00   1000.00    1424.10    2000.00   \n",
       "PAY_AMT4       0.0      0.00    279.75    764.65    1100.00    1920.00   \n",
       "PAY_AMT5       0.0      0.00    244.00    780.00    1170.00    2000.00   \n",
       "PAY_AMT6       0.0      0.00     60.75    690.00    1065.00    1911.90   \n",
       "\n",
       "                65th       75th       85th       95th  \n",
       "LIMIT_BAL  200000.00  240000.00  300000.00  430000.00  \n",
       "BILL_AMT1   46009.85   65779.50  105939.05  197600.00  \n",
       "BILL_AMT2   43981.00   62761.25  101462.40  191542.10  \n",
       "BILL_AMT3   40181.05   59298.00   97224.80  184792.90  \n",
       "BILL_AMT4   33408.05   52188.50   89414.40  171381.90  \n",
       "BILL_AMT5   30177.00   49746.50   84116.30  164724.15  \n",
       "BILL_AMT6   29736.40   48796.25   81631.80  160588.60  \n",
       "PAY_AMT1     3510.40    5000.00    8000.00   18243.85  \n",
       "PAY_AMT2     3300.00    5000.00    7784.15   19000.15  \n",
       "PAY_AMT3     3000.00    4347.25    6800.00   16513.55  \n",
       "PAY_AMT4     2728.35    4000.00    6200.00   16000.00  \n",
       "PAY_AMT5     2832.70    4005.00    6251.15   15963.75  \n",
       "PAY_AMT6     2711.00    4000.00    6100.00   17398.10  "
      ]
     },
     "execution_count": 46,
     "metadata": {},
     "output_type": "execute_result"
    }
   ],
   "source": [
    "# investigate the percentiles for LIMIT_BAL, PAY_AMT and BILL_AMT\n",
    "percentiles = []\n",
    "for var in numerical_features:\n",
    "    percentiles.append(list(np.percentile(df_train[var], i) for i in range(5,100,10)))\n",
    "\n",
    "pd.DataFrame(data=percentiles, index=numerical_features, columns=['5th','15th','25th','35th','45th','55th','65th','75th','85th','95th'])"
   ]
  },
  {
   "cell_type": "code",
   "execution_count": 47,
   "metadata": {
    "colab": {
     "base_uri": "https://localhost:8080/",
     "height": 241
    },
    "collapsed": true,
    "id": "vHd9F_Va565a",
    "outputId": "efce292b-cfa1-431f-e53b-946767ca1af4"
   },
   "outputs": [
    {
     "name": "stdout",
     "output_type": "stream",
     "text": [
      "Number of outliers: 5\n"
     ]
    },
    {
     "data": {
      "text/html": [
       "<div>\n",
       "<style scoped>\n",
       "    .dataframe tbody tr th:only-of-type {\n",
       "        vertical-align: middle;\n",
       "    }\n",
       "\n",
       "    .dataframe tbody tr th {\n",
       "        vertical-align: top;\n",
       "    }\n",
       "\n",
       "    .dataframe thead th {\n",
       "        text-align: right;\n",
       "    }\n",
       "</style>\n",
       "<table border=\"1\" class=\"dataframe\">\n",
       "  <thead>\n",
       "    <tr style=\"text-align: right;\">\n",
       "      <th></th>\n",
       "      <th>LIMIT_BAL</th>\n",
       "      <th>BILL_AMT1</th>\n",
       "      <th>BILL_AMT2</th>\n",
       "      <th>BILL_AMT3</th>\n",
       "      <th>BILL_AMT4</th>\n",
       "      <th>BILL_AMT5</th>\n",
       "      <th>BILL_AMT6</th>\n",
       "      <th>PAY_AMT1</th>\n",
       "      <th>PAY_AMT2</th>\n",
       "      <th>PAY_AMT3</th>\n",
       "      <th>PAY_AMT4</th>\n",
       "      <th>PAY_AMT5</th>\n",
       "      <th>PAY_AMT6</th>\n",
       "    </tr>\n",
       "  </thead>\n",
       "  <tbody>\n",
       "    <tr>\n",
       "      <th>5843</th>\n",
       "      <td>10000</td>\n",
       "      <td>885</td>\n",
       "      <td>1475</td>\n",
       "      <td>780</td>\n",
       "      <td>390</td>\n",
       "      <td>780</td>\n",
       "      <td>390</td>\n",
       "      <td>1475</td>\n",
       "      <td>780</td>\n",
       "      <td>0</td>\n",
       "      <td>31250</td>\n",
       "      <td>0</td>\n",
       "      <td>0</td>\n",
       "    </tr>\n",
       "    <tr>\n",
       "      <th>7508</th>\n",
       "      <td>10000</td>\n",
       "      <td>53095</td>\n",
       "      <td>54562</td>\n",
       "      <td>5428</td>\n",
       "      <td>7928</td>\n",
       "      <td>6091</td>\n",
       "      <td>0</td>\n",
       "      <td>2134</td>\n",
       "      <td>1000</td>\n",
       "      <td>2500</td>\n",
       "      <td>122</td>\n",
       "      <td>0</td>\n",
       "      <td>0</td>\n",
       "    </tr>\n",
       "    <tr>\n",
       "      <th>7688</th>\n",
       "      <td>10000</td>\n",
       "      <td>219</td>\n",
       "      <td>9110</td>\n",
       "      <td>9797</td>\n",
       "      <td>-10433</td>\n",
       "      <td>9767</td>\n",
       "      <td>9067</td>\n",
       "      <td>10400</td>\n",
       "      <td>1000</td>\n",
       "      <td>0</td>\n",
       "      <td>20200</td>\n",
       "      <td>200</td>\n",
       "      <td>0</td>\n",
       "    </tr>\n",
       "    <tr>\n",
       "      <th>16504</th>\n",
       "      <td>10000</td>\n",
       "      <td>8525</td>\n",
       "      <td>5141</td>\n",
       "      <td>5239</td>\n",
       "      <td>7911</td>\n",
       "      <td>17890</td>\n",
       "      <td>10000</td>\n",
       "      <td>1500</td>\n",
       "      <td>5000</td>\n",
       "      <td>4000</td>\n",
       "      <td>2000</td>\n",
       "      <td>22400</td>\n",
       "      <td>0</td>\n",
       "    </tr>\n",
       "    <tr>\n",
       "      <th>5296</th>\n",
       "      <td>500000</td>\n",
       "      <td>125</td>\n",
       "      <td>-18088</td>\n",
       "      <td>1664089</td>\n",
       "      <td>121757</td>\n",
       "      <td>97115</td>\n",
       "      <td>377217</td>\n",
       "      <td>4366</td>\n",
       "      <td>1684259</td>\n",
       "      <td>121831</td>\n",
       "      <td>97670</td>\n",
       "      <td>379267</td>\n",
       "      <td>26759</td>\n",
       "    </tr>\n",
       "  </tbody>\n",
       "</table>\n",
       "</div>"
      ],
      "text/plain": [
       "       LIMIT_BAL  BILL_AMT1  BILL_AMT2  BILL_AMT3  BILL_AMT4  BILL_AMT5  \\\n",
       "5843       10000        885       1475        780        390        780   \n",
       "7508       10000      53095      54562       5428       7928       6091   \n",
       "7688       10000        219       9110       9797     -10433       9767   \n",
       "16504      10000       8525       5141       5239       7911      17890   \n",
       "5296      500000        125     -18088    1664089     121757      97115   \n",
       "\n",
       "       BILL_AMT6  PAY_AMT1  PAY_AMT2  PAY_AMT3  PAY_AMT4  PAY_AMT5  PAY_AMT6  \n",
       "5843         390      1475       780         0     31250         0         0  \n",
       "7508           0      2134      1000      2500       122         0         0  \n",
       "7688        9067     10400      1000         0     20200       200         0  \n",
       "16504      10000      1500      5000      4000      2000     22400         0  \n",
       "5296      377217      4366   1684259    121831     97670    379267     26759  "
      ]
     },
     "execution_count": 47,
     "metadata": {},
     "output_type": "execute_result"
    }
   ],
   "source": [
    "# Check outliers: \n",
    "# 1. Select the rows where the LIMIT_BAL value is below 5th percentile or above 95th percentile. \n",
    "# 2. Regard LIMIT_BAL as the credit base, check the rows where BILL_AMT or PAY_EMT exceed 2 * LIMIT_BAL\n",
    "\n",
    "data = df_train[(df_train['LIMIT_BAL'] < np.percentile(df_train['LIMIT_BAL'], 5)) | \n",
    "                (df_train['LIMIT_BAL'] > np.percentile(df_train['LIMIT_BAL'], 95))][numerical_features]\n",
    "    \n",
    "data_out_of_range = []\n",
    "\n",
    "for i in data.index.values.tolist():\n",
    "    limit_bal = df_train.loc[i, 'LIMIT_BAL']\n",
    "    upper_limit = 2 * limit_bal\n",
    "\n",
    "    if (upper_limit < df_train.loc[i, 'BILL_AMT1']) | (upper_limit < df_train.loc[i, 'BILL_AMT2']) |\\\n",
    "       (upper_limit < df_train.loc[i, 'BILL_AMT3']) | (upper_limit < df_train.loc[i, 'BILL_AMT4']) |\\\n",
    "       (upper_limit < df_train.loc[i, 'BILL_AMT5']) | (upper_limit < df_train.loc[i, 'BILL_AMT6']) |\\\n",
    "       (upper_limit < df_train.loc[i, 'PAY_AMT1']) | (upper_limit < df_train.loc[i, 'PAY_AMT2']) |\\\n",
    "       (upper_limit < df_train.loc[i, 'PAY_AMT3']) | (upper_limit < df_train.loc[i, 'PAY_AMT4']) |\\\n",
    "       (upper_limit < df_train.loc[i, 'PAY_AMT5']) | (upper_limit < df_train.loc[i, 'PAY_AMT6']):\n",
    "            data_out_of_range.append(i)\n",
    "    \n",
    "print('Number of outliers:', len(data_out_of_range))\n",
    "outliers = df_train.loc[data_out_of_range, numerical_features].sort_values(by=['LIMIT_BAL'])\n",
    "outliers"
   ]
  },
  {
   "cell_type": "markdown",
   "metadata": {
    "id": "viJAB2OD57px"
   },
   "source": [
    "5 records were filtered out. In these records, either one of the previous payments or one of the bill statements or both exceeded the twice of the range of their given credit. \n",
    "<br>However, if we take a closer look at these records, we will notice that the previous payments and the bill statements are relatively balanced in general and most of their values lied with in the given credit. **Therefore, we cannot regard them as anomalies.**"
   ]
  },
  {
   "cell_type": "markdown",
   "metadata": {
    "id": "z8LcZYrJg-Er"
   },
   "source": [
    "**3.1.4 Check the balance of the training set**"
   ]
  },
  {
   "cell_type": "code",
   "execution_count": 60,
   "metadata": {
    "colab": {
     "base_uri": "https://localhost:8080/",
     "height": 296
    },
    "collapsed": true,
    "id": "wIJVD5C5eaco",
    "outputId": "c1652f6e-884e-444a-b5b8-643e651527dd"
   },
   "outputs": [
    {
     "name": "stdout",
     "output_type": "stream",
     "text": [
      "0.22375\n"
     ]
    },
    {
     "data": {
      "text/plain": [
       "<matplotlib.axes._subplots.AxesSubplot at 0x7f9b1b989310>"
      ]
     },
     "execution_count": 60,
     "metadata": {},
     "output_type": "execute_result"
    },
    {
     "data": {
      "image/png": "[encoded data removed]",
      "text/plain": [
       "<Figure size 432x288 with 1 Axes>"
      ]
     },
     "metadata": {
      "needs_background": "light"
     },
     "output_type": "display_data"
    }
   ],
   "source": [
    "# calculate the ratio of 'default' in the training set\n",
    "print(df_train['default'].sum() / len(df_train['default']))\n",
    "\n",
    "df_train['default'].value_counts().plot.bar(rot=0)"
   ]
  },
  {
   "cell_type": "markdown",
   "metadata": {
    "id": "jUbKnk7WhH7j"
   },
   "source": [
    "22% Default, 78% No default in the training set. Therefore, **our dataset is imbalanced**."
   ]
  },
  {
   "cell_type": "markdown",
   "metadata": {
    "id": "LMAxQylDitwk"
   },
   "source": [
    "### 3.2 Data Cleaning"
   ]
  },
  {
   "cell_type": "code",
   "execution_count": 19,
   "metadata": {
    "id": "sRneAJcWg5Ax"
   },
   "outputs": [],
   "source": [
    "def rename_columns(df):\n",
    "    # change strange (inconsistent) column name 'PAY_0'\n",
    "    df = df.rename(columns={'PAY_0':'PAY_1'})\n",
    "    # shorten the name of the target column\n",
    "    df = df.rename(columns={'default payment next month':'default'})\n",
    "    return df\n",
    "\n",
    "# deal with undocumented Education labels\n",
    "def clean_edu(df):\n",
    "    df.loc[(df['EDUCATION'] == 0) | (df['EDUCATION'] == 5) | (df['EDUCATION'] == 6), 'EDUCATION'] = 4\n",
    "    return df\n",
    "\n",
    "# deal with undocumented Marriage labels\n",
    "def clean_marriage(df):\n",
    "    df.loc[df['MARRIAGE'] == 0, 'MARRIAGE'] = 3\n",
    "    return df\n",
    "\n",
    "# deal with undocumented past payments labels\n",
    "def clean_pay(df):\n",
    "    for i in range(1, 7):\n",
    "        df.loc[(df[f'PAY_{i}'] == 0), f'PAY_{i}'] = -1\n",
    "    return df"
   ]
  },
  {
   "cell_type": "code",
   "execution_count": 20,
   "metadata": {
    "id": "0QFl6vL8mEQM"
   },
   "outputs": [],
   "source": [
    "def cleaning_pipline(df):\n",
    "    \"\"\"\n",
    "    Available functions:\n",
    "    rename_pay, clean_edu, clean_marriage, clean_pay\n",
    "    \"\"\"\n",
    "    for func in [rename_columns, clean_edu, clean_marriage, clean_pay]:\n",
    "        df = func(df)\n",
    "    \n",
    "    print(\"Cleaned Data\")\n",
    "    return df"
   ]
  },
  {
   "cell_type": "code",
   "execution_count": 21,
   "metadata": {
    "colab": {
     "base_uri": "https://localhost:8080/"
    },
    "id": "kTb9NYhmKbf3",
    "outputId": "9c8c8061-0605-4ea6-be7a-44331042b22b"
   },
   "outputs": [
    {
     "name": "stdout",
     "output_type": "stream",
     "text": [
      "Cleaned Data\n",
      "Cleaned Data\n"
     ]
    }
   ],
   "source": [
    "transformed_train = cleaning_pipline(df_train)\n",
    "transformed_test = cleaning_pipline(df_test)"
   ]
  },
  {
   "cell_type": "markdown",
   "metadata": {},
   "source": [
    "### 3.3 Exploratory Data Analysis\n",
    "1. Draw bar charts to investigate categorical variables (SEX, MARRIAGE, EDUCATION). \n",
    "<br>See how the training dataset is divided and if there are sparse classes which can cause overfit of the model.\n",
    "2. Draw histograms to investigate numerical variables (LIMIT_BAL, AGE, BILL_AMT, PAY_AMT). \n",
    "<br>Check the distribution and the presence of extreme values.\n",
    "3. Draw box plots and heatmapes to investigate features correlations.\n",
    "4. Features importance test. "
   ]
  },
  {
   "cell_type": "markdown",
   "metadata": {
    "id": "Y-pd3F09ha7s"
   },
   "source": [
    "**3.3.1 Check categorical variable's distribution (with bar charts)**"
   ]
  },
  {
   "cell_type": "code",
   "execution_count": 105,
   "metadata": {
    "colab": {
     "base_uri": "https://localhost:8080/",
     "height": 551
    },
    "collapsed": true,
    "id": "Zl6eMtWZeIo6",
    "outputId": "a4809201-8016-4d30-e5d7-5c4911e9b5a1"
   },
   "outputs": [
    {
     "data": {
      "image/png": "[encoded data removed]",
      "text/plain": [
       "<Figure size 576x576 with 3 Axes>"
      ]
     },
     "metadata": {
      "needs_background": "light"
     },
     "output_type": "display_data"
    }
   ],
   "source": [
    "fig, axes = plt.subplots(nrows=3, figsize=(8,8))\n",
    "fig.suptitle('Data distribution in terms of SEX, MARRIAGE, EDUCATION', fontsize=14)\n",
    "\n",
    "transformed_train['SEX'].value_counts().sort_index().plot.bar(ax=axes[0], rot=0)\n",
    "transformed_train['EDUCATION'].value_counts().sort_index().plot.bar(ax=axes[1], rot=0)\n",
    "transformed_train['MARRIAGE'].value_counts().sort_index().plot.bar(ax=axes[2], rot=0)\n",
    "axes[0].set_title('SEX')\n",
    "axes[1].set_title('EDUCATION')\n",
    "axes[2].set_title('MARRIAGE')\n",
    "\n",
    "for ax in axes.flat:\n",
    "    ax.set(xlabel='unique values', ylabel='count')\n",
    "\n",
    "plt.subplots_adjust(hspace=0.5)\n",
    "plt.show()"
   ]
  },
  {
   "cell_type": "code",
   "execution_count": 106,
   "metadata": {
    "colab": {
     "base_uri": "https://localhost:8080/",
     "height": 801
    },
    "collapsed": true,
    "id": "Bk1hkjIfhclh",
    "outputId": "f751096b-c4ba-4ebe-a5b0-1246881a7c52"
   },
   "outputs": [
    {
     "data": {
      "image/png": "[encoded data removed]",
      "text/plain": [
       "<Figure size 1080x864 with 6 Axes>"
      ]
     },
     "metadata": {
      "needs_background": "light"
     },
     "output_type": "display_data"
    }
   ],
   "source": [
    "fig, axes = plt.subplots(nrows=2, ncols=3, figsize=(15,12))\n",
    "fig.suptitle('Data distribution in terms of past payment', fontsize=14)\n",
    "\n",
    "transformed_train['PAY_1'].value_counts().sort_index().plot.bar(ax=axes[0,0], rot=0)\n",
    "transformed_train['PAY_2'].value_counts().sort_index().plot.bar(ax=axes[0,1], rot=0)\n",
    "transformed_train['PAY_3'].value_counts().sort_index().plot.bar(ax=axes[0,2], rot=0)\n",
    "transformed_train['PAY_4'].value_counts().sort_index().plot.bar(ax=axes[1,0], rot=0)\n",
    "transformed_train['PAY_5'].value_counts().sort_index().plot.bar(ax=axes[1,1], rot=0)\n",
    "transformed_train['PAY_6'].value_counts().sort_index().plot.bar(ax=axes[1,2], rot=0)\n",
    "\n",
    "axes[0,0].set_title('PAY_1')\n",
    "axes[0,1].set_title('PAY_2')\n",
    "axes[0,2].set_title('PAY_3')\n",
    "axes[1,0].set_title('PAY_4')\n",
    "axes[1,1].set_title('PAY_5')\n",
    "axes[1,2].set_title('PAY_6')\n",
    "\n",
    "for ax in axes.flat:\n",
    "    ax.set(xlabel='unique values', ylabel='count')\n",
    "\n",
    "plt.subplots_adjust(hspace=0.2, wspace=0.3)\n",
    "plt.show()"
   ]
  },
  {
   "cell_type": "markdown",
   "metadata": {
    "id": "2c2OGaiJt67c"
   },
   "source": [
    "Observations: In general, no extreme distribution in meaningful SEX, MARRIAGE, EDUCATION labels (i.e. apart from *others*). So they won't cause overfit of the model.\n",
    "- More females than males.\n",
    "- More graduate school and university education level than high school.\n",
    "- Less frequent the *other* status is in Marriage.\n",
    "\n",
    "\n",
    "However, the majority of past payments is *pay duly*, which aligns with the imbalanced nature of our training set. We would deal with this at a later stage."
   ]
  },
  {
   "cell_type": "markdown",
   "metadata": {},
   "source": [
    "**3.3.2 Check numerical variable's distribution (with histograms)**"
   ]
  },
  {
   "cell_type": "code",
   "execution_count": 107,
   "metadata": {
    "colab": {
     "base_uri": "https://localhost:8080/",
     "height": 296
    },
    "collapsed": true,
    "id": "ed7NyLKlhcpK",
    "outputId": "b817cbec-1dae-40f1-f079-1295b89a616c"
   },
   "outputs": [
    {
     "data": {
      "image/png": "[encoded data removed]",
      "text/plain": [
       "<Figure size 432x288 with 1 Axes>"
      ]
     },
     "metadata": {
      "needs_background": "light"
     },
     "output_type": "display_data"
    }
   ],
   "source": [
    "ax = transformed_train['AGE'].hist(bins=20)\n",
    "ax.set(xlabel='ages', ylabel='count')\n",
    "plt.title('Data distribution in terms of AGE')\n",
    "plt.show()"
   ]
  },
  {
   "cell_type": "code",
   "execution_count": 108,
   "metadata": {
    "colab": {
     "base_uri": "https://localhost:8080/",
     "height": 739
    },
    "collapsed": true,
    "id": "-s95r5m5hcna",
    "outputId": "0c62e6d6-1f85-453c-bafd-1af700478389"
   },
   "outputs": [
    {
     "name": "stderr",
     "output_type": "stream",
     "text": [
      "/opt/anaconda3/lib/python3.7/site-packages/ipykernel_launcher.py:5: UserWarning: To output multiple subplots, the figure containing the passed axes is being cleared\n",
      "  \"\"\"\n"
     ]
    },
    {
     "data": {
      "image/png": "[encoded data removed]",
      "text/plain": [
       "<Figure size 1440x864 with 16 Axes>"
      ]
     },
     "metadata": {
      "needs_background": "light"
     },
     "output_type": "display_data"
    }
   ],
   "source": [
    "fig= plt.figure(figsize=(20,12))\n",
    "ax = fig.gca()\n",
    "fig.suptitle('Data distribution in terms of bill statements (BILL_AMT), credit (LIMIT_BAL) and previous payments (PAY_AMT)', fontsize=14)\n",
    "\n",
    "transformed_train[numerical_features].hist(ax=ax, bins=20)\n",
    "plt.show()"
   ]
  },
  {
   "cell_type": "markdown",
   "metadata": {},
   "source": [
    "Observations:\n",
    "- No extreme distribution existed in AGE.\n",
    "- LIMIT_BAL, BILL_AMT and PAY_AMT all have a few extremely large values. These values have been checked in **Data Exploration** phase to be treated as normal data points."
   ]
  },
  {
   "cell_type": "markdown",
   "metadata": {
    "id": "--aWShfcucoG"
   },
   "source": [
    "**3.3.3 Check features correlation (with box plot and heatmaps)**"
   ]
  },
  {
   "cell_type": "code",
   "execution_count": 110,
   "metadata": {
    "colab": {
     "base_uri": "https://localhost:8080/",
     "height": 296
    },
    "collapsed": true,
    "id": "dGFoa7Iihcq5",
    "outputId": "aeb2ed9f-d766-4ad4-9c69-cc68dd75aeba"
   },
   "outputs": [
    {
     "data": {
      "image/png": "[encoded data removed]",
      "text/plain": [
       "<Figure size 432x288 with 1 Axes>"
      ]
     },
     "metadata": {
      "needs_background": "light"
     },
     "output_type": "display_data"
    }
   ],
   "source": [
    "# check given credit vs. sex\n",
    "ax = sns.boxplot(x=\"SEX\", y=\"LIMIT_BAL\", hue=\"SEX\", data=transformed_train, palette=\"PRGn\",showfliers=False)\n",
    "ax.legend_.remove()\n",
    "ax.set_title('Correlation between credit (LIMIT_BAL) and SEX')\n",
    "\n",
    "# interpret the unique values in xticks\n",
    "xlabels = [item.get_text() for item in ax.get_xticklabels()]\n",
    "sex_encoder = {'1':'Male', '2':'Female'}\n",
    "xlabels = [sex_encoder.get(xlabels[i]) for i in range(len(xlabels))]\n",
    "ax.set_xticklabels(xlabels)\n",
    "\n",
    "plt.show()"
   ]
  },
  {
   "cell_type": "markdown",
   "metadata": {
    "id": "02XEFCMUukzg"
   },
   "source": [
    "Observations: The given credit is quite balanced between sexes. Males have a slightly smaller Q1 and mean."
   ]
  },
  {
   "cell_type": "code",
   "execution_count": 118,
   "metadata": {
    "colab": {
     "base_uri": "https://localhost:8080/",
     "height": 388
    },
    "collapsed": true,
    "id": "Z6HVVrF3hcue",
    "outputId": "28ecfd18-6611-47b4-b084-4520b321e40c"
   },
   "outputs": [
    {
     "data": {
      "image/png": "[encoded data removed]",
      "text/plain": [
       "<Figure size 864x432 with 1 Axes>"
      ]
     },
     "metadata": {
      "needs_background": "light"
     },
     "output_type": "display_data"
    }
   ],
   "source": [
    "# credit grouped by marriage status and education level\n",
    "fig, ax = plt.subplots(figsize=(12, 6))\n",
    "sns.boxplot(ax=ax, x='MARRIAGE', y='LIMIT_BAL', hue='EDUCATION', data=transformed_train, palette=\"PRGn\",showfliers=False)\n",
    "\n",
    "# interpret the unique values (of EDUCATION) in legend\n",
    "education_encoder = {'1':'Graduate school', '2':'University', '3':'High school', '4': 'Others (Education)'}\n",
    "L = plt.legend()\n",
    "L.set_title('EDUCATION')\n",
    "for i in range(len(L.get_texts())):\n",
    "    legend_text = L.get_texts()[i].get_text()\n",
    "    L.get_texts()[i].set_text(education_encoder.get(legend_text))\n",
    "\n",
    "# interpret the unique values (of MARRIAGE) in xticks\n",
    "xlabels = [item.get_text() for item in ax.get_xticklabels()]\n",
    "marriage_encoder = {'1':'Married', '2':'Single', '3':'Others (Marriage)'}\n",
    "xlabels = [marriage_encoder.get(xlabels[i]) for i in range(len(xlabels))]\n",
    "ax.set_xticklabels(xlabels)\n",
    "\n",
    "plt.title('Correlations between credit (LIMIT_BAL) and Marriage, grouped by Education')\n",
    "plt.show()"
   ]
  },
  {
   "cell_type": "markdown",
   "metadata": {
    "id": "hIs9ABU7u6Uf"
   },
   "source": [
    "Observations: In general, higher education level has higher credit among all marriage groups. Married people have higher credit than Single than Others among all education levels."
   ]
  },
  {
   "cell_type": "code",
   "execution_count": 111,
   "metadata": {
    "id": "yo6ahk52ugKN"
   },
   "outputs": [],
   "source": [
    "# plot heatmap for a certain set of numerical variables\n",
    "def check_correlation(variables, title:str):\n",
    "    plt.figure(figsize=(10,8))\n",
    "    plt.title(title + ' (Apr 2005 to Sep 2005)' + '\\nCorrelation Plot')\n",
    "    corr = transformed_train[variables].corr()\n",
    "    sns.heatmap(corr,xticklabels=corr.columns,yticklabels=corr.columns,linewidths=.1,vmin=-1, vmax=1)\n",
    "    plt.show()"
   ]
  },
  {
   "cell_type": "code",
   "execution_count": 112,
   "metadata": {
    "colab": {
     "base_uri": "https://localhost:8080/",
     "height": 515
    },
    "collapsed": true,
    "id": "lJKOimcQun4Y",
    "outputId": "6d4997f1-8dd4-4ce4-c832-f6ce9e98e294"
   },
   "outputs": [
    {
     "data": {
      "image/png": "[encoded data removed]",
      "text/plain": [
       "<Figure size 720x576 with 2 Axes>"
      ]
     },
     "metadata": {
      "needs_background": "light"
     },
     "output_type": "display_data"
    }
   ],
   "source": [
    "# check the correlation between bill statements\n",
    "check_correlation(['BILL_AMT1','BILL_AMT2','BILL_AMT3','BILL_AMT4','BILL_AMT5','BILL_AMT6'], 'Amount of bill statement')"
   ]
  },
  {
   "cell_type": "markdown",
   "metadata": {
    "id": "pJ5TbXhAusHB"
   },
   "source": [
    "Observations: Correlation is decreasing as the distance between months increases. The lowest correlation is between Sept (BILL_AMT1) & April (BILL_AMT6)."
   ]
  },
  {
   "cell_type": "code",
   "execution_count": 113,
   "metadata": {
    "colab": {
     "base_uri": "https://localhost:8080/",
     "height": 515
    },
    "collapsed": true,
    "id": "z0IN4XVAun7e",
    "outputId": "1a904ec3-7b96-47c5-fe92-155fb93c66ca"
   },
   "outputs": [
    {
     "data": {
      "image/png": "[encoded data removed]",
      "text/plain": [
       "<Figure size 720x576 with 2 Axes>"
      ]
     },
     "metadata": {
      "needs_background": "light"
     },
     "output_type": "display_data"
    }
   ],
   "source": [
    "# check the correlation betwee previous payments\n",
    "check_correlation(['PAY_AMT1', 'PAY_AMT2', 'PAY_AMT3', 'PAY_AMT4', 'PAY_AMT5'], 'Amount of previous payment')"
   ]
  },
  {
   "cell_type": "markdown",
   "metadata": {
    "id": "lPCRygupuv1u"
   },
   "source": [
    "Observations: There are no obvious correlations between the amounts of previous payments."
   ]
  },
  {
   "cell_type": "code",
   "execution_count": 114,
   "metadata": {
    "colab": {
     "base_uri": "https://localhost:8080/",
     "height": 515
    },
    "collapsed": true,
    "id": "Ss2mbuhuhcsv",
    "outputId": "cc5e9eb3-866b-4499-b728-2bf52b5e8fa1"
   },
   "outputs": [
    {
     "data": {
      "image/png": "[encoded data removed]",
      "text/plain": [
       "<Figure size 720x576 with 2 Axes>"
      ]
     },
     "metadata": {
      "needs_background": "light"
     },
     "output_type": "display_data"
    }
   ],
   "source": [
    "# check the correlation between Repayment status\n",
    "check_correlation(['PAY_1','PAY_2', 'PAY_3', 'PAY_4', 'PAY_5', 'PAY_6'], 'Repayment status')"
   ]
  },
  {
   "cell_type": "markdown",
   "metadata": {
    "id": "MnmLWYICuzeJ"
   },
   "source": [
    "Observations: Correlation is decreasing as the distance between months increases. The lowest correlation is between Sept (BILL_AMT1) & April (BILL_AMT6). **The repayment status and the bill statements have a similar distribution.**"
   ]
  },
  {
   "cell_type": "markdown",
   "metadata": {
    "id": "iYEOXxJEu81_"
   },
   "source": [
    "**3.3.4 Features Importance Test**\n",
    "<br>Use of any classification model and feed raw data without any splitting and cross validation. This is purely to get a general understanding of importance of features and to set a certain goal for data transformation as part of exploration."
   ]
  },
  {
   "cell_type": "code",
   "execution_count": 119,
   "metadata": {
    "colab": {
     "base_uri": "https://localhost:8080/",
     "height": 587
    },
    "collapsed": true,
    "id": "EKGsDYlbu8X4",
    "outputId": "c621f797-1334-42eb-8a7e-d04475d54f7a"
   },
   "outputs": [
    {
     "name": "stderr",
     "output_type": "stream",
     "text": [
      "/opt/anaconda3/lib/python3.7/site-packages/sklearn/preprocessing/_label.py:235: DataConversionWarning: A column-vector y was passed when a 1d array was expected. Please change the shape of y to (n_samples, ), for example using ravel().\n",
      "  y = column_or_1d(y, warn=True)\n",
      "/opt/anaconda3/lib/python3.7/site-packages/sklearn/preprocessing/_label.py:268: DataConversionWarning: A column-vector y was passed when a 1d array was expected. Please change the shape of y to (n_samples, ), for example using ravel().\n",
      "  y = column_or_1d(y, warn=True)\n"
     ]
    },
    {
     "data": {
      "image/png": "[encoded data removed]",
      "text/plain": [
       "<Figure size 1008x576 with 1 Axes>"
      ]
     },
     "metadata": {
      "needs_background": "light"
     },
     "output_type": "display_data"
    }
   ],
   "source": [
    "# split training data into X and y\n",
    "X = transformed_train.drop(['default'], axis=1)\n",
    "y = transformed_train[['default']]\n",
    "\n",
    "# fit model with training data\n",
    "model = XGBClassifier()\n",
    "model.fit(X, y)\n",
    "\n",
    "# Get feature name place number\n",
    "features_num = [i for i in range(len(model.feature_importances_))]\n",
    "importance = model.feature_importances_.tolist()\n",
    "feature_names = X.columns\n",
    "\n",
    "# Sorting\n",
    "matched = zip(features_num, feature_names, importance)\n",
    "sorted_importance = sorted(matched, key=lambda x: x[2])       # sort by importance\n",
    "\n",
    "sorted_features_importance = list(map(lambda x: x[2], sorted_importance))\n",
    "sorted_features_names = list(map(lambda x: x[1], sorted_importance))\n",
    "\n",
    "fig = plt.figure(figsize=(14, 8))\n",
    "plt.barh(features_num, sorted_features_importance, tick_label=sorted_features_names)\n",
    "plt.title('Features Importance Test Results')\n",
    "plt.show()"
   ]
  },
  {
   "cell_type": "markdown",
   "metadata": {
    "id": "FZByAHQe0H41"
   },
   "source": [
    "Observations:\n",
    "1. PAY_N is the most important feature, so we will not change these features during transformation phase.\n",
    "2. Generally, PAY_N > PAY_AMT >LIMIT_BAL > BILL_AMT. Therefore we can try to use BILL_AMTs and try making stronger and semantically meaningful features by combining weak features.\n",
    "3. Among 4 personal information (*Education, Marriage, Age, Sex*), Education is the most important feature. On the other hand, Marriage, Age & Sex are contributing very little to the classification. "
   ]
  },
  {
   "cell_type": "markdown",
   "metadata": {
    "id": "qqsFHMlZgHrv"
   },
   "source": [
    "### 3.4 Feature Engineering\n",
    "In this section, we conducted feature engineering based on the insights obtained from **Exploratory Data Analysis**. It contains three main parts of transformation: 1) feature processing; 2) remedy for imbalanced training set using **Borerline-SMOTE**; 3) feature scaling."
   ]
  },
  {
   "cell_type": "markdown",
   "metadata": {},
   "source": [
    "**3.4.1 Feature processing**"
   ]
  },
  {
   "cell_type": "code",
   "execution_count": 22,
   "metadata": {
    "id": "VNCcDgpWiprh"
   },
   "outputs": [],
   "source": [
    "def drop_id(df):\n",
    "    df = df.drop(['ID'], axis=1)\n",
    "    return df\n",
    "\n",
    "# combine SEX and MARRIAGE, encode each unique combination with an integer values [1,6]\n",
    "# this can reduce the dimension of the dataset\n",
    "def combine_gender_marital(df):\n",
    "    df['SEX_MAR'] = 0  # placeholder for integer values\n",
    "    # encoding\n",
    "    df.loc[(df['SEX'] == 1) & (df['MARRIAGE'] == 1), 'SEX_MAR'] = 1\n",
    "    df.loc[(df['SEX'] == 1) & (df['MARRIAGE'] == 2), 'SEX_MAR'] = 2\n",
    "    df.loc[(df['SEX'] == 1) & (df['MARRIAGE'] == 3), 'SEX_MAR'] = 3\n",
    "    df.loc[(df['SEX'] == 2) & (df['MARRIAGE'] == 1), 'SEX_MAR'] = 4\n",
    "    df.loc[(df['SEX'] == 2) & (df['MARRIAGE'] == 2), 'SEX_MAR'] = 5\n",
    "    df.loc[(df['SEX'] == 2) & (df['MARRIAGE'] == 3), 'SEX_MAR'] = 6\n",
    "    \n",
    "    df = df.drop(['SEX', 'MARRIAGE'], axis=1)\n",
    "    print('combined gender & marital')\n",
    "    return df\n",
    "\n",
    "# further categorise ages in step 10\n",
    "def make_age_bins(df):\n",
    "    df['AgeBin'] = 0 # placeholder for integer values\n",
    "    df.loc[((df['AGE'] < 30)) , 'AgeBin'] = 1\n",
    "    df.loc[((df['AGE'] >= 30) & (df['AGE'] < 40)) , 'AgeBin'] = 2\n",
    "    df.loc[((df['AGE'] >= 40) & (df['AGE'] < 50)) , 'AgeBin'] = 3\n",
    "    df.loc[((df['AGE'] >= 50) & (df['AGE'] < 60)) , 'AgeBin'] = 4\n",
    "    df.loc[((df['AGE'] >= 60) & (df['AGE'] < 70)) , 'AgeBin'] = 5\n",
    "    df.loc[((df['AGE'] >= 70) & (df['AGE'] < 81)) , 'AgeBin'] = 6\n",
    "    \n",
    "    df = df.drop(['AGE'], axis=1)\n",
    "    print('made age bins')\n",
    "    return df\n",
    "\n",
    "# create 6 new features, 'Closeness_1' to 'Closeness_6', which calculates the difference \n",
    "# between credit (LIMIT_BAL) and each bill statement.\n",
    "def get_closeness(df):\n",
    "    for i in range(1, 7):\n",
    "        df[f'Closeness_{i}'] = (df.LIMIT_BAL - df[f'BILL_AMT{i}']) #/ df.LIMIT_BAL\n",
    "    \n",
    "    print('added closeness')\n",
    "    return df\n",
    "\n",
    "# create a new feature called 'diff' that calculates the difference between the sum of \n",
    "# bill statements (BIL_AMT1 to BIL_AMT6) and the sum of previous payments (PAY_AMT1 to PAY_AMT6)\n",
    "def get_diff_of_totals(df):\n",
    "    df['diff'] = 0   # placeholder for integer values\n",
    "    \n",
    "    bill_cols = [f'BILL_AMT{i}' for i in range(1, 7)]\n",
    "    pay_cols = [f'PAY_AMT{i}' for i in range(1, 7)]\n",
    "    \n",
    "    for index, row in df.iterrows():\n",
    "        bill_df = df.loc[index, bill_cols]\n",
    "        pay_df = df.loc[index, pay_cols]\n",
    "\n",
    "        bill_sum = np.sum(bill_df.values)\n",
    "        pay_sum = np.sum(pay_df.values)\n",
    "\n",
    "        df.loc[index, 'diff'] = bill_sum - pay_sum\n",
    "    \n",
    "    print('added diff')\n",
    "    return df\n",
    "\n",
    "def drop_bill_amt(df):\n",
    "    df = df.drop([f'BILL_AMT{i}' for i in range(1, 7)], axis=1)\n",
    "    return df\n",
    "\n",
    "def drop_pay_amt(df):\n",
    "    df = df.drop([f'PAY_AMT{i}' for i in range(1, 7)], axis=1)\n",
    "    return df\n",
    "\n",
    "def drop_age(df):\n",
    "    df = df.drop(['AGE'], axis=1)\n",
    "    return df"
   ]
  },
  {
   "cell_type": "code",
   "execution_count": 23,
   "metadata": {
    "id": "0QFl6vL8mEQM"
   },
   "outputs": [],
   "source": [
    "def processing_pipline(df):\n",
    "    \"\"\"\n",
    "    Available functions:\n",
    "    drop_id, combine_gender_marital, make_age_bins, get_closeness, get_diff_of_totals, drop_bill_amt, drop_pay_amt, drop_age\n",
    "    \"\"\"\n",
    "    for func in [drop_id, combine_gender_marital, make_age_bins, get_closeness, get_diff_of_totals]:\n",
    "        df = func(df)\n",
    "    \n",
    "    print(\"Transformed Features\")\n",
    "    \n",
    "    return df"
   ]
  },
  {
   "cell_type": "code",
   "execution_count": 24,
   "metadata": {
    "colab": {
     "base_uri": "https://localhost:8080/"
    },
    "collapsed": true,
    "id": "kTb9NYhmKbf3",
    "outputId": "9c8c8061-0605-4ea6-be7a-44331042b22b"
   },
   "outputs": [
    {
     "name": "stdout",
     "output_type": "stream",
     "text": [
      "combined gender & marital\n",
      "made age bins\n",
      "added closeness\n",
      "added diff\n",
      "Transformed Features\n",
      "combined gender & marital\n",
      "made age bins\n",
      "added closeness\n",
      "added diff\n",
      "Transformed Features\n"
     ]
    }
   ],
   "source": [
    "transformed_train = processing_pipline(transformed_train)\n",
    "transformed_test = processing_pipline(transformed_test)"
   ]
  },
  {
   "cell_type": "markdown",
   "metadata": {
    "id": "t2RgvDLp8wVZ"
   },
   "source": [
    "### 3.4.2 Dealing with an imabalanced dataset\n",
    "The training set is imbalanced since the ratio of Default to No Default is about 2:8. We adopted the SMOTE oversampling technique for remedy.\n",
    "<br>Reference: https://machinelearningmastery.com/smote-oversampling-for-imbalanced-classification/"
   ]
  },
  {
   "cell_type": "markdown",
   "metadata": {},
   "source": [
    "**SMOTE vs. Borderline-SMOTE**\n",
    "<br>We first generalised an imbalanced classes with 2 features to compare the performance of  **SMOTE** and **Borderline-SMOTE**."
   ]
  },
  {
   "cell_type": "code",
   "execution_count": 19,
   "metadata": {
    "colab": {
     "base_uri": "https://localhost:8080/",
     "height": 282
    },
    "collapsed": true,
    "id": "90xg2cCg86H1",
    "outputId": "1b41774e-2a1e-438f-9fd2-cbf0b571040d"
   },
   "outputs": [
    {
     "name": "stdout",
     "output_type": "stream",
     "text": [
      "Counter({0: 9900, 1: 100})\n"
     ]
    },
    {
     "data": {
      "image/png": "[encoded data removed]",
      "text/plain": [
       "<Figure size 432x288 with 1 Axes>"
      ]
     },
     "metadata": {
      "needs_background": "light"
     },
     "output_type": "display_data"
    }
   ],
   "source": [
    "# Simulated data with 10000 samples and the radio of 0 and 1 is 0.99.\n",
    "X, y = make_classification(n_samples=10000, n_features=2, n_redundant=0, n_clusters_per_class=1, weights=[0.99], flip_y=0, random_state=1)\n",
    "counter = Counter(y)\n",
    "print(counter)\n",
    "\n",
    "for label, _ in counter.items():\n",
    "    row_ix = where(y == label)[0]\n",
    "    plt.scatter(X[row_ix, 0], X[row_ix, 1], label=str(label))\n",
    "plt.legend()\n",
    "plt.show()"
   ]
  },
  {
   "cell_type": "code",
   "execution_count": 20,
   "metadata": {
    "colab": {
     "base_uri": "https://localhost:8080/",
     "height": 336
    },
    "collapsed": true,
    "id": "QjiqKoS-86JU",
    "outputId": "58ecdcd4-f3cf-45b0-ed76-4ff4732b86ba"
   },
   "outputs": [
    {
     "name": "stdout",
     "output_type": "stream",
     "text": [
      "Counter({0: 9900, 1: 9900})\n"
     ]
    },
    {
     "data": {
      "image/png": "[encoded data removed]",
      "text/plain": [
       "<Figure size 432x288 with 1 Axes>"
      ]
     },
     "metadata": {
      "needs_background": "light"
     },
     "output_type": "display_data"
    }
   ],
   "source": [
    "# Handle the data by using SMOTE method and plot the scatter graph\n",
    "oversample = SMOTE()\n",
    "X_test_smote, y_test_smote = oversample.fit_sample(X, y)\n",
    "counter = Counter(y_test_smote)\n",
    "print(counter)\n",
    "\n",
    "for label, _ in counter.items():\n",
    "    row_ix = where(y_test_smote == label)[0]\n",
    "    plt.scatter(X_test_smote[row_ix, 0], X_test_smote[row_ix, 1], label=str(label))\n",
    "plt.legend()\n",
    "plt.show()"
   ]
  },
  {
   "cell_type": "markdown",
   "metadata": {
    "id": "pTxEX4tSKbf5"
   },
   "source": [
    "From the graph, we can observe that all the minority samples are used to generate new synthetic data."
   ]
  },
  {
   "cell_type": "markdown",
   "metadata": {
    "id": "1HW6opmMKbf5"
   },
   "source": [
    "To improve the algorithm, we use Boarderline-SMOTE to regenerate the syntnetic samples:\n"
   ]
  },
  {
   "cell_type": "code",
   "execution_count": 21,
   "metadata": {
    "colab": {
     "base_uri": "https://localhost:8080/",
     "height": 404
    },
    "collapsed": true,
    "id": "tYKtnOX2Kbf5",
    "outputId": "a9754d37-38f2-4245-a886-b6033db7f1f0"
   },
   "outputs": [
    {
     "name": "stdout",
     "output_type": "stream",
     "text": [
      "Counter({0: 9900, 1: 9900})\n"
     ]
    },
    {
     "data": {
      "image/png": "[encoded data removed]",
      "text/plain": [
       "<Figure size 432x288 with 1 Axes>"
      ]
     },
     "metadata": {
      "needs_background": "light"
     },
     "output_type": "display_data"
    }
   ],
   "source": [
    "oversample = BorderlineSMOTE(random_state=42, kind=\"borderline-1\")\n",
    "X_test_BS, y_test_BS = oversample.fit_sample(X, y)\n",
    "counter = Counter(y_test_BS)\n",
    "print(counter)\n",
    "\n",
    "for label, _ in counter.items():\n",
    "    row_ix = where(y_test_BS == label)[0]\n",
    "    plt.scatter(X_test_BS[row_ix, 0], X_test_BS[row_ix, 1], label=str(label))\n",
    "plt.legend()\n",
    "plt.show()"
   ]
  },
  {
   "cell_type": "markdown",
   "metadata": {
    "id": "YwK0w08kKbf5"
   },
   "source": [
    "After applying Borderline-SMOTE, minorty samples which are far away from the decision boundary are not taken to generate new synthetic samples. Minority samples which are overlapped with the majority samples are not used to generate new synthetic samples as well. "
   ]
  },
  {
   "cell_type": "markdown",
   "metadata": {
    "id": "W4xkLriYKbf5"
   },
   "source": [
    "As a result, **we decided to apply borderline-SMOTE on Credit Card Default data**:"
   ]
  },
  {
   "cell_type": "code",
   "execution_count": 25,
   "metadata": {
    "id": "1mTe2BnPKbf5"
   },
   "outputs": [],
   "source": [
    "# borderline_SMOTE provided data with less probability to overfit\n",
    "def Borderline_SMOTE(df):\n",
    "    oversample = BorderlineSMOTE(random_state=42, kind=\"borderline-1\")\n",
    "    y_train = df['default'].copy()\n",
    "    X_train = df.copy()\n",
    "    X_train = X_train.drop(['default'], axis = 1)\n",
    "    \n",
    "    X_borderline_smote, y_borderline_smote = oversample.fit_sample(X_train, y_train)\n",
    "    counter = Counter(y_borderline_smote)\n",
    "    print(counter)\n",
    "    print(\"Probability of default is 1: \", y_borderline_smote.sum() / len(y_borderline_smote))\n",
    "    \n",
    "    return X_borderline_smote, y_borderline_smote"
   ]
  },
  {
   "cell_type": "code",
   "execution_count": 26,
   "metadata": {
    "colab": {
     "base_uri": "https://localhost:8080/"
    },
    "collapsed": true,
    "id": "XDWzY2_SKbf5",
    "outputId": "29a93952-c838-4e20-cabb-e57183d4e5d7"
   },
   "outputs": [
    {
     "name": "stdout",
     "output_type": "stream",
     "text": [
      "Counter({1: 18630, 0: 18630})\n",
      "Probability of default is 1:  0.5\n",
      "X_train_oversampled shape: (37260, 29)\n",
      "y_train_oversampled shape: (37260,)\n"
     ]
    }
   ],
   "source": [
    "X_train_oversampled, y_train_oversampled = Borderline_SMOTE(transformed_train)\n",
    "print(\"X_train_oversampled shape:\", X_train_oversampled.shape)\n",
    "print(\"y_train_oversampled shape:\", y_train_oversampled.shape)"
   ]
  },
  {
   "cell_type": "markdown",
   "metadata": {},
   "source": [
    "Now, the ratio of Default is balanced. We obtained 37260 samples for training."
   ]
  },
  {
   "cell_type": "markdown",
   "metadata": {
    "id": "6ET4dkQ8l3tg"
   },
   "source": [
    "### 3.4.3 Feature scaling: Normalisation or Standardization\n",
    "NOTE: Feature scaling of training data has to be done with test data with the same scale.\n",
    "<br> Set up 2 sets of training & test data: 1) SMOTEd version; 2) non-SMOTEd version."
   ]
  },
  {
   "cell_type": "code",
   "execution_count": 28,
   "metadata": {
    "id": "AmWJ_sVZWy-t"
   },
   "outputs": [],
   "source": [
    "# split target column\n",
    "x_train = transformed_train.copy()\n",
    "x_train = x_train.drop(['default'], axis = 1)\n",
    "y_train = transformed_train['default'].copy()\n",
    "\n",
    "x_test = transformed_test.copy()\n",
    "x_test = x_test.drop(['default'], axis = 1)\n",
    "y_test = transformed_test['default'].copy()"
   ]
  },
  {
   "cell_type": "code",
   "execution_count": 31,
   "metadata": {},
   "outputs": [
    {
     "name": "stdout",
     "output_type": "stream",
     "text": [
      "x_train has shape (24000, 29)\n",
      "y_train has shape (24000,)\n",
      "x_test has shape (6000, 29)\n",
      "y_test has shape (6000,)\n"
     ]
    }
   ],
   "source": [
    "# scaling non-SMOTEd training & test data\n",
    "scaler = MinMaxScaler().fit(x_train)\n",
    "x_train, x_test = scaler.transform(x_train), scaler.transform(x_test)\n",
    "\n",
    "print(\"x_train has shape\", x_train.shape)\n",
    "print(\"y_train has shape\", y_train.shape)\n",
    "print(\"x_test has shape\", x_test.shape)\n",
    "print(\"y_test has shape\", y_test.shape)"
   ]
  },
  {
   "cell_type": "code",
   "execution_count": 34,
   "metadata": {
    "colab": {
     "base_uri": "https://localhost:8080/"
    },
    "id": "dBQGZZwH9HfM",
    "outputId": "d68bbcdd-cc01-4095-9a06-e9b90dd365ff"
   },
   "outputs": [
    {
     "name": "stdout",
     "output_type": "stream",
     "text": [
      "x_train_oversampled has shape (37260, 29)\n",
      "y_train_oversampled has shape (37260,)\n",
      "x_test_oversampled has shape (6000, 29)\n"
     ]
    }
   ],
   "source": [
    "# scaling SMOTEd training & test data\n",
    "scaler_oversampled = MinMaxScaler().fit(X_train_oversampled)\n",
    "x_train_oversampled, x_test_oversampled = scaler_oversampled.transform(X_train_oversampled), scaler_oversampled.transform(x_test)\n",
    "\n",
    "print(\"x_train_oversampled has shape\", x_train_oversampled.shape)\n",
    "print(\"y_train_oversampled has shape\", y_train_oversampled.shape)\n",
    "print(\"x_test_oversampled has shape\", x_test_oversampled.shape)"
   ]
  },
  {
   "cell_type": "markdown",
   "metadata": {
    "id": "vrXd8X7POe0R"
   },
   "source": [
    "# **4. Methodology**"
   ]
  },
  {
   "cell_type": "markdown",
   "metadata": {},
   "source": [
    "In this section, we tried 5 different methodologies from three main categories: Decision Trees(**AdaBoost**, **XGBoost** and **Gradient Boosting**), **Random Forest** and **Artificial Neural Networks**. For each methodology, we trained a oversampled and non-oversampled version (10 models in total). The evaluation metrics used to compare the prediction performances are: **accuracy score, f1 score, false positive (FP) rate and false negative (FN) rate**. Finally, we chose non-oversampled XGBoost as our final methodology."
   ]
  },
  {
   "cell_type": "code",
   "execution_count": 33,
   "metadata": {
    "collapsed": true
   },
   "outputs": [
    {
     "data": {
      "text/html": [
       "<div>\n",
       "<style scoped>\n",
       "    .dataframe tbody tr th:only-of-type {\n",
       "        vertical-align: middle;\n",
       "    }\n",
       "\n",
       "    .dataframe tbody tr th {\n",
       "        vertical-align: top;\n",
       "    }\n",
       "\n",
       "    .dataframe thead th {\n",
       "        text-align: right;\n",
       "    }\n",
       "</style>\n",
       "<table border=\"1\" class=\"dataframe\">\n",
       "  <thead>\n",
       "    <tr style=\"text-align: right;\">\n",
       "      <th></th>\n",
       "      <th>accuracy</th>\n",
       "      <th>f1</th>\n",
       "      <th>FP rate</th>\n",
       "      <th>FN rate</th>\n",
       "    </tr>\n",
       "  </thead>\n",
       "  <tbody>\n",
       "    <tr>\n",
       "      <th>AdaBoost (oversampled)</th>\n",
       "      <td>NaN</td>\n",
       "      <td>NaN</td>\n",
       "      <td>NaN</td>\n",
       "      <td>NaN</td>\n",
       "    </tr>\n",
       "    <tr>\n",
       "      <th>AdaBoost (non-oversampled)</th>\n",
       "      <td>NaN</td>\n",
       "      <td>NaN</td>\n",
       "      <td>NaN</td>\n",
       "      <td>NaN</td>\n",
       "    </tr>\n",
       "    <tr>\n",
       "      <th>Random Forest (oversampled)</th>\n",
       "      <td>NaN</td>\n",
       "      <td>NaN</td>\n",
       "      <td>NaN</td>\n",
       "      <td>NaN</td>\n",
       "    </tr>\n",
       "    <tr>\n",
       "      <th>Random Forest (non-oversampled)</th>\n",
       "      <td>NaN</td>\n",
       "      <td>NaN</td>\n",
       "      <td>NaN</td>\n",
       "      <td>NaN</td>\n",
       "    </tr>\n",
       "    <tr>\n",
       "      <th>GBRT (oversampled)</th>\n",
       "      <td>NaN</td>\n",
       "      <td>NaN</td>\n",
       "      <td>NaN</td>\n",
       "      <td>NaN</td>\n",
       "    </tr>\n",
       "    <tr>\n",
       "      <th>GBRT (non-oversampled)</th>\n",
       "      <td>NaN</td>\n",
       "      <td>NaN</td>\n",
       "      <td>NaN</td>\n",
       "      <td>NaN</td>\n",
       "    </tr>\n",
       "    <tr>\n",
       "      <th>ANN (oversampled)</th>\n",
       "      <td>NaN</td>\n",
       "      <td>NaN</td>\n",
       "      <td>NaN</td>\n",
       "      <td>NaN</td>\n",
       "    </tr>\n",
       "    <tr>\n",
       "      <th>ANN (non-oversampled)</th>\n",
       "      <td>NaN</td>\n",
       "      <td>NaN</td>\n",
       "      <td>NaN</td>\n",
       "      <td>NaN</td>\n",
       "    </tr>\n",
       "    <tr>\n",
       "      <th>XGBoost (oversampled)</th>\n",
       "      <td>NaN</td>\n",
       "      <td>NaN</td>\n",
       "      <td>NaN</td>\n",
       "      <td>NaN</td>\n",
       "    </tr>\n",
       "    <tr>\n",
       "      <th>XGBoost (non-oversampled)</th>\n",
       "      <td>NaN</td>\n",
       "      <td>NaN</td>\n",
       "      <td>NaN</td>\n",
       "      <td>NaN</td>\n",
       "    </tr>\n",
       "  </tbody>\n",
       "</table>\n",
       "</div>"
      ],
      "text/plain": [
       "                                accuracy   f1 FP rate FN rate\n",
       "AdaBoost (oversampled)               NaN  NaN     NaN     NaN\n",
       "AdaBoost (non-oversampled)           NaN  NaN     NaN     NaN\n",
       "Random Forest (oversampled)          NaN  NaN     NaN     NaN\n",
       "Random Forest (non-oversampled)      NaN  NaN     NaN     NaN\n",
       "GBRT (oversampled)                   NaN  NaN     NaN     NaN\n",
       "GBRT (non-oversampled)               NaN  NaN     NaN     NaN\n",
       "ANN (oversampled)                    NaN  NaN     NaN     NaN\n",
       "ANN (non-oversampled)                NaN  NaN     NaN     NaN\n",
       "XGBoost (oversampled)                NaN  NaN     NaN     NaN\n",
       "XGBoost (non-oversampled)            NaN  NaN     NaN     NaN"
      ]
     },
     "execution_count": 33,
     "metadata": {},
     "output_type": "execute_result"
    }
   ],
   "source": [
    "# create a DataFrame to hold the evalutation results for each model\n",
    "models_evals = pd.DataFrame(index=['AdaBoost (oversampled)', 'AdaBoost (non-oversampled)', \n",
    "                                   'Random Forest (oversampled)', 'Random Forest (non-oversampled)', \n",
    "                                   'GBRT (oversampled)', 'GBRT (non-oversampled)', \n",
    "                                   'ANN (oversampled)', 'ANN (non-oversampled)', \n",
    "                                   'XGBoost (oversampled)', 'XGBoost (non-oversampled)'],\n",
    "                           columns=['accuracy', 'f1', 'FP rate', 'FN rate'])\n",
    "models_evals"
   ]
  },
  {
   "cell_type": "code",
   "execution_count": 52,
   "metadata": {},
   "outputs": [],
   "source": [
    "# used in 4.1, 4.2, 4.3, 4.4, 4.5\n",
    "def cal_FP_FN(y_true, y_pred):\n",
    "    # compute the confusion metrix\n",
    "    cm = pd.DataFrame(confusion_matrix(y_true, y_pred), \n",
    "                      columns=['No Default', 'Default'], index = ['No Default', 'Default'])\n",
    "    cm.index.name = 'Actual'\n",
    "    cm.columns.name = 'Predicted'\n",
    "    \n",
    "    # FP = the number of incorrect positive predictions / the total number of negatives\n",
    "    fp = cm.loc['No Default','Default']/cm.loc['No Default',:].sum()\n",
    "    \n",
    "    # FN = the number of incorrect negative predictions / the total number of positives\n",
    "    fn = cm.loc['Default','No Default']/cm.loc['Default',:].sum()\n",
    "    \n",
    "    return fp, fn"
   ]
  },
  {
   "cell_type": "code",
   "execution_count": 37,
   "metadata": {
    "id": "TIjNXsQXYmzA"
   },
   "outputs": [],
   "source": [
    "# used in 4.1, 4.2, 4.3\n",
    "def train_and_cross_validate(model, x_train, y_train, prompt, n_splits=5):\n",
    "    n_iter = 1      # this var is made just to keep track of the number of iteration\n",
    "    kfold = KFold(n_splits=n_splits)\n",
    "    cv_accuracy = []\n",
    "\n",
    "    for train_idx, val_idx in kfold.split(x_train):\n",
    "        x_train_cv, x_val = x_train[train_idx], x_train[val_idx]\n",
    "        y_train_cv, y_val = y_train[train_idx], y_train[val_idx]\n",
    "\n",
    "        model.train(x_train_cv, y_train_cv)\n",
    "        pred = model.predict(x_val)\n",
    "\n",
    "        accuracy = np.round(accuracy_score(y_val, pred), 3)\n",
    "\n",
    "        print(\"Iteration : {}, Cross-Validation Accuracy : {}\".format(n_iter, accuracy))\n",
    "\n",
    "        n_iter += 1\n",
    "\n",
    "        cv_accuracy.append(accuracy)\n",
    "\n",
    "    print(\"Average accuracy for\", prompt, \":\", np.mean(cv_accuracy))"
   ]
  },
  {
   "cell_type": "markdown",
   "metadata": {
    "id": "A5nZqT18ntij"
   },
   "source": [
    "## 4.1 AdaBoost"
   ]
  },
  {
   "cell_type": "markdown",
   "metadata": {
    "id": "SPODt9CEcvl7"
   },
   "source": [
    "### 4.1.1 Model Training"
   ]
  },
  {
   "cell_type": "code",
   "execution_count": 38,
   "metadata": {
    "id": "oVn33isyPIFv"
   },
   "outputs": [],
   "source": [
    "class adaboost(object):\n",
    "    def __init__(self):\n",
    "        # build the model\n",
    "        self.model = ensemble.AdaBoostClassifier(n_estimators=200,learning_rate=0.001)\n",
    "\n",
    "    def train(self, x_train, y_train):\n",
    "        # training\n",
    "        self.model.fit(x_train,y_train)\n",
    "\n",
    "    def predict(self, x_test):\n",
    "        # predicting\n",
    "        y_pred = self.model.predict(x_test)\n",
    "\n",
    "        return y_pred"
   ]
  },
  {
   "cell_type": "code",
   "execution_count": 61,
   "metadata": {
    "colab": {
     "base_uri": "https://localhost:8080/"
    },
    "id": "pY-viT9bYw5O",
    "outputId": "6a95c0c3-1023-4205-fdfc-9c2e33066a57"
   },
   "outputs": [
    {
     "name": "stdout",
     "output_type": "stream",
     "text": [
      "Iteration : 1, Cross-Validation Accuracy : 0.805\n",
      "Iteration : 2, Cross-Validation Accuracy : 0.807\n",
      "Iteration : 3, Cross-Validation Accuracy : 0.812\n",
      "Iteration : 4, Cross-Validation Accuracy : 0.822\n",
      "Iteration : 5, Cross-Validation Accuracy : 0.838\n",
      "Average accuracy for Adaboost (non-oversampled) : 0.8168000000000001\n"
     ]
    }
   ],
   "source": [
    "# train Adaboost model with non-oversampled data\n",
    "adaboost_model = adaboost()\n",
    "train_and_cross_validate(adaboost_model, x_train, y_train, \"Adaboost (non-oversampled)\")"
   ]
  },
  {
   "cell_type": "code",
   "execution_count": 62,
   "metadata": {},
   "outputs": [
    {
     "name": "stdout",
     "output_type": "stream",
     "text": [
      "Iteration : 1, Cross-Validation Accuracy : 0.766\n",
      "Iteration : 2, Cross-Validation Accuracy : 0.77\n",
      "Iteration : 3, Cross-Validation Accuracy : 0.79\n",
      "Iteration : 4, Cross-Validation Accuracy : 0.74\n",
      "Iteration : 5, Cross-Validation Accuracy : 0.722\n",
      "Average accuracy for Adaboost (oversampled) : 0.7575999999999999\n"
     ]
    }
   ],
   "source": [
    "# train Adaboost model with oversampled data\n",
    "adaboost_model_os = adaboost()\n",
    "train_and_cross_validate(adaboost_model_os, x_train_oversampled, y_train_oversampled, \"Adaboost (oversampled)\")"
   ]
  },
  {
   "cell_type": "markdown",
   "metadata": {
    "id": "W02Ta8TRZKCo"
   },
   "source": [
    "### **4.1.2 Results**"
   ]
  },
  {
   "cell_type": "markdown",
   "metadata": {},
   "source": [
    "**Results for non-oversampled Adaboost**"
   ]
  },
  {
   "cell_type": "code",
   "execution_count": 63,
   "metadata": {
    "id": "YDT6-W2UZPee"
   },
   "outputs": [
    {
     "name": "stdout",
     "output_type": "stream",
     "text": [
      "Accuracy score for Adaboost (non-oversampled): 0.831\n",
      "f1 score for Adaboost (non-oversampled): 0.448\n",
      "False Positive rate for Adaboost (non-oversampled): 0.034\n",
      "False Negative rate for Adaboost (non-oversampled): 0.675\n"
     ]
    }
   ],
   "source": [
    "# prediction\n",
    "y_pred_adaboost = adaboost_model.predict(x_test)\n",
    "\n",
    "# evaluation metrics\n",
    "accuracy_adaboost = accuracy_score(y_test, y_pred_adaboost)\n",
    "f1_adaboost = f1_score(y_test, y_pred_adaboost)\n",
    "fp_adaboost, fn_adaboost = cal_FP_FN(y_test, y_pred_adaboost)\n",
    "\n",
    "print(f\"Accuracy score for Adaboost (non-oversampled): {accuracy_adaboost:.3f}\")\n",
    "print(f\"f1 score for Adaboost (non-oversampled): {f1_adaboost:.3f}\")\n",
    "print(f\"False Positive rate for Adaboost (non-oversampled): {fp_adaboost:.3f}\")\n",
    "print(f\"False Negative rate for Adaboost (non-oversampled): {fn_adaboost:.3f}\")\n",
    "\n",
    "# store the evaluation results\n",
    "models_evals.loc['AdaBoost (non-oversampled)', 'accuracy'] = round(accuracy_adaboost, 3)\n",
    "models_evals.loc['AdaBoost (non-oversampled)', 'f1'] = round(f1_adaboost, 3)\n",
    "models_evals.loc['AdaBoost (non-oversampled)', 'FP rate'] = round(fp_adaboost, 3)\n",
    "models_evals.loc['AdaBoost (non-oversampled)', 'FN rate'] = round(fn_adaboost, 3)"
   ]
  },
  {
   "cell_type": "markdown",
   "metadata": {},
   "source": [
    "**Results for oversampled Adaboost**"
   ]
  },
  {
   "cell_type": "code",
   "execution_count": 64,
   "metadata": {},
   "outputs": [
    {
     "name": "stdout",
     "output_type": "stream",
     "text": [
      "Accuracy score for Adaboost (oversampled): 0.211\n",
      "f1 score for Adaboost (oversampled): 0.348\n",
      "False Positive rate for Adaboost (oversampled): 1.000\n",
      "False Negative rate for Adaboost (oversampled): 0.000\n"
     ]
    }
   ],
   "source": [
    "# prediction\n",
    "y_pred_adaboost_os = adaboost_model_os.predict(x_test_oversampled)\n",
    "\n",
    "# evaluation metrics\n",
    "accuracy_adaboost_os = accuracy_score(y_test, y_pred_adaboost_os)\n",
    "f1_adaboost_os = f1_score(y_test, y_pred_adaboost_os)\n",
    "fp_adaboost_os, fn_adaboost_os = cal_FP_FN(y_test, y_pred_adaboost_os)\n",
    "\n",
    "print(f\"Accuracy score for Adaboost (oversampled): {accuracy_adaboost_os:.3f}\")\n",
    "print(f\"f1 score for Adaboost (oversampled): {f1_adaboost_os:.3f}\")\n",
    "print(f\"False Positive rate for Adaboost (oversampled): {fp_adaboost_os:.3f}\")\n",
    "print(f\"False Negative rate for Adaboost (oversampled): {fn_adaboost_os:.3f}\")\n",
    "\n",
    "# store the evaluation results\n",
    "models_evals.loc['AdaBoost (oversampled)', 'accuracy'] = round(accuracy_adaboost_os, 3)\n",
    "models_evals.loc['AdaBoost (oversampled)', 'f1'] = round(f1_adaboost_os, 3)\n",
    "models_evals.loc['AdaBoost (oversampled)', 'FP rate'] = round(fp_adaboost_os, 3)\n",
    "models_evals.loc['AdaBoost (oversampled)', 'FN rate'] = round(fn_adaboost_os, 3)"
   ]
  },
  {
   "cell_type": "markdown",
   "metadata": {
    "id": "kz7_VHWTn1AT"
   },
   "source": [
    "## **4.2 Random Forest**"
   ]
  },
  {
   "cell_type": "markdown",
   "metadata": {
    "id": "T6y3SWT2coMO"
   },
   "source": [
    "### **4.2.1 Model Traning**"
   ]
  },
  {
   "cell_type": "code",
   "execution_count": 75,
   "metadata": {
    "id": "8RfvbFJwPNND"
   },
   "outputs": [],
   "source": [
    "class random_forest(object):\n",
    "    def __init__(self):\n",
    "        # create the model\n",
    "        self.model = ensemble.BaggingClassifier(KNeighborsClassifier(), n_estimators=200, max_samples=0.5,max_features=0.5)\n",
    "\n",
    "    def train(self,x_train,y_train):\n",
    "        # training\n",
    "        self.model.fit(x_train,y_train)\n",
    "\n",
    "    def predict(self,x_test):\n",
    "        # predicting\n",
    "        y_pred = self.model.predict(x_test)\n",
    "        return y_pred"
   ]
  },
  {
   "cell_type": "code",
   "execution_count": 76,
   "metadata": {},
   "outputs": [
    {
     "name": "stdout",
     "output_type": "stream",
     "text": [
      "Iteration : 1, Cross-Validation Accuracy : 0.797\n",
      "Iteration : 2, Cross-Validation Accuracy : 0.8\n",
      "Iteration : 3, Cross-Validation Accuracy : 0.801\n",
      "Iteration : 4, Cross-Validation Accuracy : 0.806\n",
      "Iteration : 5, Cross-Validation Accuracy : 0.831\n",
      "Average accuracy for Random Forest (non-oversampled) : 0.807\n"
     ]
    }
   ],
   "source": [
    "# train Random Forest model with non-oversampled data\n",
    "random_forest_model = random_forest()\n",
    "train_and_cross_validate(random_forest_model, x_train, y_train, \"Random Forest (non-oversampled)\")"
   ]
  },
  {
   "cell_type": "code",
   "execution_count": 77,
   "metadata": {
    "colab": {
     "base_uri": "https://localhost:8080/"
    },
    "id": "vEiFXVCuaudl",
    "outputId": "5fec40fe-f304-4d56-b139-26ae10534f11"
   },
   "outputs": [
    {
     "name": "stdout",
     "output_type": "stream",
     "text": [
      "Iteration : 1, Cross-Validation Accuracy : 0.738\n",
      "Iteration : 2, Cross-Validation Accuracy : 0.753\n",
      "Iteration : 3, Cross-Validation Accuracy : 0.77\n",
      "Iteration : 4, Cross-Validation Accuracy : 0.87\n",
      "Iteration : 5, Cross-Validation Accuracy : 0.835\n",
      "Average accuracy for Random Forest (oversampled) : 0.7932\n"
     ]
    }
   ],
   "source": [
    "# train Random Forest model with oversampled data\n",
    "random_forest_model_os = random_forest()\n",
    "train_and_cross_validate(random_forest_model_os, x_train_oversampled, y_train_oversampled, \"Random Forest (oversampled)\")"
   ]
  },
  {
   "cell_type": "markdown",
   "metadata": {
    "id": "d71OwHxfbcaK"
   },
   "source": [
    "### **4.2.2 Results**"
   ]
  },
  {
   "cell_type": "markdown",
   "metadata": {},
   "source": [
    "**Results for non-oversampled Random Forest**"
   ]
  },
  {
   "cell_type": "code",
   "execution_count": 80,
   "metadata": {},
   "outputs": [
    {
     "name": "stdout",
     "output_type": "stream",
     "text": [
      "Accuracy score for Random Forest (non-oversampled): 0.822\n",
      "f1 score for Random Forest (non-oversampled): 0.380\n",
      "False Positive rate for Random Forest (non-oversampled): 0.027\n",
      "False Negative rate for Random Forest (non-oversampled): 0.742\n"
     ]
    }
   ],
   "source": [
    "# prediction\n",
    "y_pred_random_forest = random_forest_model.predict(x_test)\n",
    "\n",
    "# evaluation metrics\n",
    "accuracy_random_forest = accuracy_score(y_test, y_pred_random_forest)\n",
    "f1_random_forest = f1_score(y_test, y_pred_random_forest)\n",
    "fp_random_forest, fn_random_forest = cal_FP_FN(y_test, y_pred_random_forest)\n",
    "\n",
    "print(f\"Accuracy score for Random Forest (non-oversampled): {accuracy_random_forest:.3f}\")\n",
    "print(f\"f1 score for Random Forest (non-oversampled): {f1_random_forest:.3f}\")\n",
    "print(f\"False Positive rate for Random Forest (non-oversampled): {fp_random_forest:.3f}\")\n",
    "print(f\"False Negative rate for Random Forest (non-oversampled): {fn_random_forest:.3f}\")\n",
    "\n",
    "# store the evaluation results\n",
    "models_evals.loc['Random Forest (non-oversampled)', 'accuracy'] = round(accuracy_random_forest, 3)\n",
    "models_evals.loc['Random Forest (non-oversampled)', 'f1'] = round(f1_random_forest, 3)\n",
    "models_evals.loc['Random Forest (non-oversampled)', 'FP rate'] = round(fp_random_forest, 3)\n",
    "models_evals.loc['Random Forest (non-oversampled)', 'FN rate'] = round(fn_random_forest, 3)"
   ]
  },
  {
   "cell_type": "markdown",
   "metadata": {},
   "source": [
    "**Results for oversampled Random Forest**"
   ]
  },
  {
   "cell_type": "code",
   "execution_count": 81,
   "metadata": {},
   "outputs": [
    {
     "name": "stdout",
     "output_type": "stream",
     "text": [
      "Accuracy score for Random Forest (oversampled): 0.211\n",
      "f1 score for Random Forest (oversampled): 0.348\n",
      "False Positive rate for Random Forest (oversampled): 1.000\n",
      "False Negative rate for Random Forest (oversampled): 0.000\n"
     ]
    }
   ],
   "source": [
    "# prediction\n",
    "y_pred_random_forest_os = random_forest_model_os.predict(x_test_oversampled)\n",
    "\n",
    "# evaluation metrics\n",
    "accuracy_random_forest_os = accuracy_score(y_test, y_pred_random_forest_os)\n",
    "f1_random_forest_os = f1_score(y_test, y_pred_random_forest_os)\n",
    "fp_random_forest_os, fn_random_forest_os = cal_FP_FN(y_test, y_pred_random_forest_os)\n",
    "\n",
    "print(f\"Accuracy score for Random Forest (oversampled): {accuracy_random_forest_os:.3f}\")\n",
    "print(f\"f1 score for Random Forest (oversampled): {f1_random_forest_os:.3f}\")\n",
    "print(f\"False Positive rate for Random Forest (oversampled): {fp_random_forest_os:.3f}\")\n",
    "print(f\"False Negative rate for Random Forest (oversampled): {fn_random_forest_os:.3f}\")\n",
    "\n",
    "# store the evaluation results\n",
    "models_evals.loc['Random Forest (oversampled)', 'accuracy'] = round(accuracy_random_forest_os, 3)\n",
    "models_evals.loc['Random Forest (oversampled)', 'f1'] = round(f1_random_forest_os, 3)\n",
    "models_evals.loc['Random Forest (oversampled)', 'FP rate'] = round(fp_random_forest_os, 3)\n",
    "models_evals.loc['Random Forest (oversampled)', 'FN rate'] = round(fn_random_forest_os, 3)"
   ]
  },
  {
   "cell_type": "markdown",
   "metadata": {
    "id": "am0cMNQZn8qU"
   },
   "source": [
    "## **4.3 GBRT**"
   ]
  },
  {
   "cell_type": "markdown",
   "metadata": {
    "id": "dJJ-zM3VcfxN"
   },
   "source": [
    "### **4.3.1 Model Training**"
   ]
  },
  {
   "cell_type": "code",
   "execution_count": 255,
   "metadata": {
    "id": "r681GPFCPRmj"
   },
   "outputs": [],
   "source": [
    "class GBRT(object):\n",
    "    def __init__(self):\n",
    "        # create the model\n",
    "        self.model = ensemble.GradientBoostingClassifier(n_estimators=200)\n",
    "\n",
    "    def train(self,x_train,y_train):\n",
    "        # training\n",
    "        self.model.fit(x_train,y_train)\n",
    "\n",
    "    def predict(self,x_test):\n",
    "        # predicting\n",
    "        y_pred = self.model.predict(x_test)\n",
    "        return y_pred"
   ]
  },
  {
   "cell_type": "code",
   "execution_count": 256,
   "metadata": {
    "id": "KpnX-EGycADl"
   },
   "outputs": [],
   "source": [
    "GBRT_model = GBRT()"
   ]
  },
  {
   "cell_type": "code",
   "execution_count": 257,
   "metadata": {
    "colab": {
     "base_uri": "https://localhost:8080/"
    },
    "id": "RPAScMzYcB9Q",
    "outputId": "6234ebfb-7ac8-4415-92f8-054a3bb39afb"
   },
   "outputs": [
    {
     "name": "stdout",
     "output_type": "stream",
     "text": [
      "Iteration : 1, Cross-Validation Accuracy : 0.766\n",
      "Iteration : 2, Cross-Validation Accuracy : 0.767\n",
      "Iteration : 3, Cross-Validation Accuracy : 0.794\n",
      "Iteration : 4, Cross-Validation Accuracy : 0.856\n",
      "Iteration : 5, Cross-Validation Accuracy : 0.837\n",
      "Average accuracy :  0.8039999999999999\n"
     ]
    }
   ],
   "source": [
    "train_and_cross_validate(GBRT_model)"
   ]
  },
  {
   "cell_type": "markdown",
   "metadata": {
    "id": "8lnGN5-_PeUN"
   },
   "source": [
    "### **4.3.2 Results**"
   ]
  },
  {
   "cell_type": "code",
   "execution_count": 258,
   "metadata": {
    "id": "dAqRUU1RbTrS"
   },
   "outputs": [],
   "source": [
    "# prediction\n",
    "y_pred_GBRT = GBRT_model.predict(x_test)"
   ]
  },
  {
   "cell_type": "code",
   "execution_count": 259,
   "metadata": {
    "colab": {
     "base_uri": "https://localhost:8080/"
    },
    "id": "1I9pmQkOcGD0",
    "outputId": "2ff065fc-929c-440d-9b1d-9a0a4b3c65b2"
   },
   "outputs": [
    {
     "name": "stdout",
     "output_type": "stream",
     "text": [
      "0.5070555032925682\n"
     ]
    }
   ],
   "source": [
    "# Obtain the f1 score and report for three methods\n",
    "f1_GBRT = f1_score(y_test,y_pred_GBRT)\n",
    "print(f\"f1 score for GBRT: {f1_GBRT:.3f}\")"
   ]
  },
  {
   "cell_type": "code",
   "execution_count": 260,
   "metadata": {
    "colab": {
     "base_uri": "https://localhost:8080/"
    },
    "id": "sfNnDWCGcXjW",
    "outputId": "c9ba6435-08ee-4b47-bdda-8d76b2b1aea5"
   },
   "outputs": [
    {
     "name": "stdout",
     "output_type": "stream",
     "text": [
      "              precision    recall  f1-score   support\n",
      "\n",
      "           0       0.86      0.93      0.89      4734\n",
      "           1       0.63      0.43      0.51      1266\n",
      "\n",
      "    accuracy                           0.83      6000\n",
      "   macro avg       0.74      0.68      0.70      6000\n",
      "weighted avg       0.81      0.83      0.81      6000\n",
      "\n"
     ]
    }
   ],
   "source": [
    "print(classification_report(y_test,y_pred_GBRT))"
   ]
  },
  {
   "cell_type": "markdown",
   "metadata": {
    "id": "qVDYHO3FfoGr"
   },
   "source": [
    "## **4.4 Artificial Neural Network (ANN)**"
   ]
  },
  {
   "cell_type": "markdown",
   "metadata": {
    "id": "7a-YkZ5LWB1k"
   },
   "source": [
    "### **4.4.1 Data Preparation**"
   ]
  },
  {
   "cell_type": "code",
   "execution_count": 261,
   "metadata": {
    "id": "OdtEAkjagLtQ"
   },
   "outputs": [],
   "source": [
    "x_train_ann = x_train.copy()\n",
    "y_train_ann = y_train.copy()"
   ]
  },
  {
   "cell_type": "code",
   "execution_count": 262,
   "metadata": {
    "colab": {
     "base_uri": "https://localhost:8080/"
    },
    "collapsed": true,
    "id": "1mUQc6BbnKHK",
    "outputId": "9c01a893-5617-4f22-a5dc-14e654721145"
   },
   "outputs": [
    {
     "data": {
      "text/plain": [
       "array([[0., 1.],\n",
       "       [0., 1.],\n",
       "       [1., 0.],\n",
       "       ...,\n",
       "       [0., 1.],\n",
       "       [0., 1.],\n",
       "       [0., 1.]], dtype=float32)"
      ]
     },
     "execution_count": 262,
     "metadata": {
      "tags": []
     },
     "output_type": "execute_result"
    }
   ],
   "source": [
    "# y_train_ann = train[['default']]\n",
    "y_train_ann = to_categorical(y_train_ann, num_classes = 2) # make it as a categorial one-hot vector\n",
    "y_train_ann"
   ]
  },
  {
   "cell_type": "code",
   "execution_count": 264,
   "metadata": {
    "colab": {
     "base_uri": "https://localhost:8080/"
    },
    "id": "UPEAIlIOnKHL",
    "outputId": "082ddb48-d1fa-417e-8121-6b996a4dbd17"
   },
   "outputs": [
    {
     "data": {
      "text/plain": [
       "((33534, 29), (3726, 29), (33534, 2), (3726, 2))"
      ]
     },
     "execution_count": 264,
     "metadata": {
      "tags": []
     },
     "output_type": "execute_result"
    }
   ],
   "source": [
    "x_train_ann, x_val_ann, y_train_ann, y_val_ann = train_test_split(x_train_ann, y_train_ann, test_size = 0.1, shuffle=True)\n",
    "x_train_ann.shape, x_val_ann.shape, y_train_ann.shape, y_val_ann.shape"
   ]
  },
  {
   "cell_type": "markdown",
   "metadata": {
    "id": "7_Mm4FTFWOhB"
   },
   "source": [
    "### **4.4.2 Model Training**"
   ]
  },
  {
   "cell_type": "code",
   "execution_count": 265,
   "metadata": {
    "id": "FULQtBB1nKHM"
   },
   "outputs": [],
   "source": [
    "model = Sequential()\n",
    "\n",
    "model.add(Dense(256, activation = \"relu\", input_shape=(29,)))\n",
    "model.add(Dropout(0.25))\n",
    "\n",
    "model.add(Dense(128, activation = \"relu\"))\n",
    "model.add(Dropout(0.25))\n",
    "\n",
    "model.add(Dense(64, activation = \"relu\"))\n",
    "model.add(Dropout(0.25))\n",
    "\n",
    "model.add(Dense(32, activation = \"relu\"))\n",
    "model.add(Dropout(0.25))\n",
    "\n",
    "model.add(Dense(16, activation = \"relu\"))\n",
    "\n",
    "model.add(Dense(2, activation = \"softmax\"))"
   ]
  },
  {
   "cell_type": "code",
   "execution_count": 266,
   "metadata": {
    "colab": {
     "base_uri": "https://localhost:8080/"
    },
    "collapsed": true,
    "id": "oDkqI2wAnKHM",
    "outputId": "e244ce94-a3e2-49ce-cab6-e5c49f9dd357"
   },
   "outputs": [
    {
     "name": "stdout",
     "output_type": "stream",
     "text": [
      "Model: \"sequential_2\"\n",
      "_________________________________________________________________\n",
      "Layer (type)                 Output Shape              Param #   \n",
      "=================================================================\n",
      "dense_12 (Dense)             (None, 256)               7680      \n",
      "_________________________________________________________________\n",
      "dropout_8 (Dropout)          (None, 256)               0         \n",
      "_________________________________________________________________\n",
      "dense_13 (Dense)             (None, 128)               32896     \n",
      "_________________________________________________________________\n",
      "dropout_9 (Dropout)          (None, 128)               0         \n",
      "_________________________________________________________________\n",
      "dense_14 (Dense)             (None, 64)                8256      \n",
      "_________________________________________________________________\n",
      "dropout_10 (Dropout)         (None, 64)                0         \n",
      "_________________________________________________________________\n",
      "dense_15 (Dense)             (None, 32)                2080      \n",
      "_________________________________________________________________\n",
      "dropout_11 (Dropout)         (None, 32)                0         \n",
      "_________________________________________________________________\n",
      "dense_16 (Dense)             (None, 16)                528       \n",
      "_________________________________________________________________\n",
      "dense_17 (Dense)             (None, 2)                 34        \n",
      "=================================================================\n",
      "Total params: 51,474\n",
      "Trainable params: 51,474\n",
      "Non-trainable params: 0\n",
      "_________________________________________________________________\n"
     ]
    }
   ],
   "source": [
    "model.summary()"
   ]
  },
  {
   "cell_type": "code",
   "execution_count": 267,
   "metadata": {
    "id": "HsJG1WKwnKHM"
   },
   "outputs": [],
   "source": [
    "optimizer = Adam(lr=0.001)\n",
    "model.compile(optimizer = optimizer, loss = \"categorical_crossentropy\", metrics=[\"accuracy\"])"
   ]
  },
  {
   "cell_type": "code",
   "execution_count": 268,
   "metadata": {
    "id": "uCe2wKp5nKHN"
   },
   "outputs": [],
   "source": [
    "learning_rate_reduction = ReduceLROnPlateau(monitor='val_acc',\n",
    "                                            patience=3,\n",
    "                                            verbose=1,\n",
    "                                            factor=0.5,\n",
    "                                            min_lr=0.00001)"
   ]
  },
  {
   "cell_type": "code",
   "execution_count": 269,
   "metadata": {
    "colab": {
     "base_uri": "https://localhost:8080/"
    },
    "collapsed": true,
    "id": "FmEe3y0ynKHN",
    "outputId": "b20263a9-0354-4f8a-c718-3eda09241eb0"
   },
   "outputs": [
    {
     "name": "stdout",
     "output_type": "stream",
     "text": [
      "Epoch 1/50\n",
      "524/524 - 2s - loss: 0.5659 - accuracy: 0.7259 - val_loss: 0.5134 - val_accuracy: 0.7587\n",
      "Epoch 2/50\n",
      "524/524 - 1s - loss: 0.5185 - accuracy: 0.7591 - val_loss: 0.4933 - val_accuracy: 0.7614\n",
      "Epoch 3/50\n",
      "524/524 - 1s - loss: 0.5037 - accuracy: 0.7644 - val_loss: 0.4790 - val_accuracy: 0.7681\n",
      "Epoch 4/50\n",
      "524/524 - 1s - loss: 0.4873 - accuracy: 0.7673 - val_loss: 0.4661 - val_accuracy: 0.7754\n",
      "Epoch 5/50\n",
      "524/524 - 1s - loss: 0.4772 - accuracy: 0.7696 - val_loss: 0.4585 - val_accuracy: 0.7689\n",
      "Epoch 6/50\n",
      "524/524 - 1s - loss: 0.4671 - accuracy: 0.7758 - val_loss: 0.4502 - val_accuracy: 0.7746\n",
      "Epoch 7/50\n",
      "524/524 - 1s - loss: 0.4617 - accuracy: 0.7781 - val_loss: 0.4460 - val_accuracy: 0.7786\n",
      "Epoch 8/50\n",
      "524/524 - 1s - loss: 0.4569 - accuracy: 0.7790 - val_loss: 0.4368 - val_accuracy: 0.7848\n",
      "Epoch 9/50\n",
      "524/524 - 1s - loss: 0.4516 - accuracy: 0.7840 - val_loss: 0.4390 - val_accuracy: 0.7925\n",
      "Epoch 10/50\n",
      "524/524 - 1s - loss: 0.4468 - accuracy: 0.7852 - val_loss: 0.4218 - val_accuracy: 0.8011\n",
      "Epoch 11/50\n",
      "524/524 - 1s - loss: 0.4446 - accuracy: 0.7882 - val_loss: 0.4294 - val_accuracy: 0.7952\n",
      "Epoch 12/50\n",
      "524/524 - 1s - loss: 0.4447 - accuracy: 0.7898 - val_loss: 0.4525 - val_accuracy: 0.7947\n",
      "Epoch 13/50\n",
      "524/524 - 1s - loss: 0.4414 - accuracy: 0.7890 - val_loss: 0.4209 - val_accuracy: 0.8003\n",
      "Epoch 14/50\n",
      "524/524 - 1s - loss: 0.4389 - accuracy: 0.7880 - val_loss: 0.4226 - val_accuracy: 0.8065\n",
      "Epoch 15/50\n",
      "524/524 - 1s - loss: 0.4356 - accuracy: 0.7918 - val_loss: 0.4330 - val_accuracy: 0.7912\n",
      "Epoch 16/50\n",
      "524/524 - 1s - loss: 0.4339 - accuracy: 0.7932 - val_loss: 0.4223 - val_accuracy: 0.8030\n",
      "Epoch 17/50\n",
      "524/524 - 1s - loss: 0.4333 - accuracy: 0.7958 - val_loss: 0.4261 - val_accuracy: 0.7971\n",
      "Epoch 18/50\n",
      "524/524 - 1s - loss: 0.4331 - accuracy: 0.7928 - val_loss: 0.4198 - val_accuracy: 0.7998\n",
      "Epoch 19/50\n",
      "524/524 - 2s - loss: 0.4306 - accuracy: 0.7958 - val_loss: 0.4180 - val_accuracy: 0.8027\n",
      "Epoch 20/50\n",
      "524/524 - 1s - loss: 0.4280 - accuracy: 0.7950 - val_loss: 0.4108 - val_accuracy: 0.8035\n",
      "Epoch 21/50\n",
      "524/524 - 1s - loss: 0.4285 - accuracy: 0.7966 - val_loss: 0.4178 - val_accuracy: 0.8046\n",
      "Epoch 22/50\n",
      "524/524 - 1s - loss: 0.4290 - accuracy: 0.7961 - val_loss: 0.4137 - val_accuracy: 0.8068\n",
      "Epoch 23/50\n",
      "524/524 - 1s - loss: 0.4272 - accuracy: 0.7956 - val_loss: 0.4100 - val_accuracy: 0.8054\n",
      "Epoch 24/50\n",
      "524/524 - 1s - loss: 0.4273 - accuracy: 0.7966 - val_loss: 0.4104 - val_accuracy: 0.8033\n",
      "Epoch 25/50\n",
      "524/524 - 1s - loss: 0.4271 - accuracy: 0.7974 - val_loss: 0.4189 - val_accuracy: 0.8014\n",
      "Epoch 26/50\n",
      "524/524 - 1s - loss: 0.4253 - accuracy: 0.7971 - val_loss: 0.4086 - val_accuracy: 0.8086\n",
      "Epoch 27/50\n",
      "524/524 - 1s - loss: 0.4223 - accuracy: 0.8001 - val_loss: 0.4060 - val_accuracy: 0.8068\n",
      "Epoch 28/50\n",
      "524/524 - 1s - loss: 0.4244 - accuracy: 0.7972 - val_loss: 0.4116 - val_accuracy: 0.8035\n",
      "Epoch 29/50\n",
      "524/524 - 1s - loss: 0.4226 - accuracy: 0.7985 - val_loss: 0.4113 - val_accuracy: 0.8060\n",
      "Epoch 30/50\n",
      "524/524 - 1s - loss: 0.4210 - accuracy: 0.8018 - val_loss: 0.4081 - val_accuracy: 0.8078\n",
      "Epoch 31/50\n",
      "524/524 - 1s - loss: 0.4179 - accuracy: 0.8033 - val_loss: 0.4058 - val_accuracy: 0.8084\n",
      "Epoch 32/50\n",
      "524/524 - 1s - loss: 0.4179 - accuracy: 0.8029 - val_loss: 0.4054 - val_accuracy: 0.8078\n",
      "Epoch 33/50\n",
      "524/524 - 1s - loss: 0.4186 - accuracy: 0.8015 - val_loss: 0.4113 - val_accuracy: 0.8111\n",
      "Epoch 34/50\n",
      "524/524 - 1s - loss: 0.4190 - accuracy: 0.8021 - val_loss: 0.4018 - val_accuracy: 0.8124\n"
     ]
    }
   ],
   "source": [
    "epochs = 50\n",
    "batch_size = 64\n",
    "\n",
    "# Early Stopping\n",
    "# This callback will stop the training when there is no improvement in\n",
    "# the validation loss for three consecutive epochs.\n",
    "callback = EarlyStopping(monitor='loss', patience=3)\n",
    "\n",
    "history = model.fit(x_train_ann, y_train_ann, batch_size = batch_size, epochs = epochs,\n",
    "                    validation_data = (x_val_ann, y_val_ann), verbose = 2, callbacks=[callback])"
   ]
  },
  {
   "cell_type": "markdown",
   "metadata": {
    "id": "z-wUWvpGsaAp"
   },
   "source": [
    "### **4.4.3 Results**"
   ]
  },
  {
   "cell_type": "code",
   "execution_count": 270,
   "metadata": {
    "colab": {
     "base_uri": "https://localhost:8080/",
     "height": 295
    },
    "collapsed": true,
    "id": "pKhl8eHXnKHO",
    "outputId": "31b109d3-f3b6-4d82-c857-8343800ab890"
   },
   "outputs": [
    {
     "data": {
      "image/png": "[encoded data removed]",
      "text/plain": [
       "<Figure size 1080x288 with 3 Axes>"
      ]
     },
     "metadata": {
      "needs_background": "light",
      "tags": []
     },
     "output_type": "display_data"
    }
   ],
   "source": [
    "fig, axes = plt.subplots(1, 3, figsize=(15,4))\n",
    "\n",
    "axes[0].plot(history.history['val_loss'], color='b', label=\"val loss\")\n",
    "axes[0].set_title(\"Vali Loss\")\n",
    "axes[0].set_xlabel(\"Epochs\")\n",
    "axes[0].set_ylabel(\"Loss\")\n",
    "axes[0].legend()\n",
    "\n",
    "axes[1].plot(history.history['val_accuracy'], color='r', label=\"val acc\")\n",
    "axes[1].set_title(\"Vali Acc\")\n",
    "axes[1].set_xlabel(\"Epochs\")\n",
    "axes[1].set_ylabel(\"Acc\")\n",
    "axes[1].legend()\n",
    "\n",
    "axes[2].plot(history.history['loss'], color='green', label=\"loss\")\n",
    "axes[2].set_title(\"Loss\")\n",
    "axes[2].set_xlabel(\"Epochs\")\n",
    "axes[2].set_ylabel(\"Loss\")\n",
    "axes[2].legend()\n",
    "\n",
    "plt.show()"
   ]
  },
  {
   "cell_type": "code",
   "execution_count": 271,
   "metadata": {
    "id": "Zum_RyK8nKHR"
   },
   "outputs": [],
   "source": [
    "pred = model.predict(x_test)\n",
    "pred_classes = np.argmax(pred, axis = 1)\n",
    "result = pd.Series(pred_classes, name=\"Label\")"
   ]
  },
  {
   "cell_type": "code",
   "execution_count": 272,
   "metadata": {
    "colab": {
     "base_uri": "https://localhost:8080/"
    },
    "id": "z6CJu2ffnKHR",
    "outputId": "ed0cdf7e-9be7-4338-b933-056803ee74c5"
   },
   "outputs": [
    {
     "data": {
      "text/plain": [
       "array([[0.3667293 , 0.63327074],\n",
       "       [0.6152833 , 0.3847167 ],\n",
       "       [0.7352646 , 0.2647354 ],\n",
       "       ...,\n",
       "       [0.32185546, 0.6781445 ],\n",
       "       [0.79942477, 0.2005752 ],\n",
       "       [0.6555889 , 0.34441105]], dtype=float32)"
      ]
     },
     "execution_count": 272,
     "metadata": {
      "tags": []
     },
     "output_type": "execute_result"
    }
   ],
   "source": [
    "pred"
   ]
  },
  {
   "cell_type": "code",
   "execution_count": 273,
   "metadata": {
    "colab": {
     "base_uri": "https://localhost:8080/"
    },
    "id": "ndYsWMS3nKHS",
    "outputId": "4fdac788-635a-4a9b-ab7d-83ee49eccef3"
   },
   "outputs": [
    {
     "data": {
      "text/plain": [
       "1193"
      ]
     },
     "execution_count": 273,
     "metadata": {
      "tags": []
     },
     "output_type": "execute_result"
    }
   ],
   "source": [
    "pred_classes.sum()"
   ]
  },
  {
   "cell_type": "code",
   "execution_count": 274,
   "metadata": {
    "colab": {
     "base_uri": "https://localhost:8080/"
    },
    "id": "eR73pnjLnKHS",
    "outputId": "e1e147b8-faca-44fd-ebbb-7f8cc097f3aa"
   },
   "outputs": [
    {
     "data": {
      "text/plain": [
       "0       1\n",
       "1       0\n",
       "2       0\n",
       "3       1\n",
       "4       0\n",
       "       ..\n",
       "5995    0\n",
       "5996    0\n",
       "5997    1\n",
       "5998    0\n",
       "5999    0\n",
       "Name: Label, Length: 6000, dtype: int64"
      ]
     },
     "execution_count": 274,
     "metadata": {
      "tags": []
     },
     "output_type": "execute_result"
    }
   ],
   "source": [
    "result"
   ]
  },
  {
   "cell_type": "code",
   "execution_count": 276,
   "metadata": {
    "colab": {
     "base_uri": "https://localhost:8080/"
    },
    "id": "xDMIiug3nKHT",
    "outputId": "6332ba20-c854-422b-874a-f0a4ddf22983"
   },
   "outputs": [
    {
     "data": {
      "text/plain": [
       "0.508336722244815"
      ]
     },
     "execution_count": 276,
     "metadata": {
      "tags": []
     },
     "output_type": "execute_result"
    }
   ],
   "source": [
    "f1_ANN = f1_score(y_test, pred_classes)\n",
    "print(f\"f1 score for Artificial Neural Network: {f1_ANN:.3f}\")"
   ]
  },
  {
   "cell_type": "code",
   "execution_count": 277,
   "metadata": {
    "colab": {
     "base_uri": "https://localhost:8080/"
    },
    "id": "RZhc6M_hnKHT",
    "outputId": "8e4f11e8-8a01-4f6b-9ce7-ae57d2424417"
   },
   "outputs": [
    {
     "name": "stdout",
     "output_type": "stream",
     "text": [
      "              precision    recall  f1-score   support\n",
      "\n",
      "           0       0.87      0.88      0.87      4734\n",
      "           1       0.52      0.49      0.51      1266\n",
      "\n",
      "    accuracy                           0.80      6000\n",
      "   macro avg       0.70      0.69      0.69      6000\n",
      "weighted avg       0.79      0.80      0.80      6000\n",
      "\n"
     ]
    }
   ],
   "source": [
    "print(classification_report(y_test, pred_classes))"
   ]
  },
  {
   "cell_type": "markdown",
   "metadata": {
    "id": "IgN6Or0lScOO"
   },
   "source": [
    "## **4.5 XGBoost**"
   ]
  },
  {
   "cell_type": "markdown",
   "metadata": {},
   "source": [
    "### 4.5.1 Data Preparation"
   ]
  },
  {
   "cell_type": "code",
   "execution_count": 142,
   "metadata": {},
   "outputs": [
    {
     "name": "stdout",
     "output_type": "stream",
     "text": [
      "Training set: 18000\n",
      "Validation set: 6000\n",
      "Training/Validation: 3.0\n"
     ]
    }
   ],
   "source": [
    "# set up validation set - aim for train:val = 3:1\n",
    "Xtrain, Xval, ytrain, yval = train_test_split(x_train, y_train, test_size=0.25, random_state=1) # 0.25 x 0.8 = 0.2\n",
    "print('Training set:', len(ytrain))\n",
    "print('Validation set:', len(yval))\n",
    "print('Training/Validation:', len(ytrain)/len(yval))"
   ]
  },
  {
   "cell_type": "code",
   "execution_count": 143,
   "metadata": {
    "id": "NGN82ZB7TEdy"
   },
   "outputs": [],
   "source": [
    "# create DMatrix\n",
    "DTrain = xgb.DMatrix(Xtrain, label=ytrain)\n",
    "DVal = xgb.DMatrix(Xval, label=yval)\n",
    "DTest = xgb.DMatrix(x_test, label=y_test)"
   ]
  },
  {
   "cell_type": "markdown",
   "metadata": {},
   "source": [
    "### 4.5.2 Model Training"
   ]
  },
  {
   "cell_type": "code",
   "execution_count": 147,
   "metadata": {},
   "outputs": [],
   "source": [
    "# Baseline model: hyperparameters with default values\n",
    "params = {\n",
    "    # parameters for tree booster with default values\n",
    "    'max_depth': 6,\n",
    "    'min_child_weight': 1,\n",
    "    'eta': .3,\n",
    "    'subsample': 1,\n",
    "    'colsample_bytree': 1,\n",
    "    'gamma': 0,\n",
    "    'alpha': 0,\n",
    "    'lambda': 1,\n",
    "    # other parameters\n",
    "    'scale_pos_weight': 3.5180722891566263, # comments\n",
    "    'objective': 'binary:logistic',\n",
    "    'eval_metric': 'logloss' # default for classification task\n",
    "}"
   ]
  },
  {
   "cell_type": "code",
   "execution_count": 157,
   "metadata": {
    "collapsed": true
   },
   "outputs": [
    {
     "name": "stdout",
     "output_type": "stream",
     "text": [
      "[0]\tvalid-logloss:0.629996\n",
      "Will train until valid-logloss hasn't improved in 10 rounds.\n",
      "[1]\tvalid-logloss:0.594123\n",
      "[2]\tvalid-logloss:0.573664\n",
      "[3]\tvalid-logloss:0.561353\n",
      "[4]\tvalid-logloss:0.552807\n",
      "[5]\tvalid-logloss:0.547466\n",
      "[6]\tvalid-logloss:0.543771\n",
      "[7]\tvalid-logloss:0.54108\n",
      "[8]\tvalid-logloss:0.539003\n",
      "[9]\tvalid-logloss:0.537715\n",
      "[10]\tvalid-logloss:0.53666\n",
      "[11]\tvalid-logloss:0.534924\n",
      "[12]\tvalid-logloss:0.534944\n",
      "[13]\tvalid-logloss:0.535172\n",
      "[14]\tvalid-logloss:0.535152\n",
      "[15]\tvalid-logloss:0.535003\n",
      "[16]\tvalid-logloss:0.53459\n",
      "[17]\tvalid-logloss:0.532848\n",
      "[18]\tvalid-logloss:0.532792\n",
      "[19]\tvalid-logloss:0.532258\n",
      "[20]\tvalid-logloss:0.531489\n",
      "[21]\tvalid-logloss:0.531096\n",
      "[22]\tvalid-logloss:0.530983\n",
      "[23]\tvalid-logloss:0.529984\n",
      "[24]\tvalid-logloss:0.53017\n",
      "[25]\tvalid-logloss:0.529885\n",
      "[26]\tvalid-logloss:0.529412\n",
      "[27]\tvalid-logloss:0.528597\n",
      "[28]\tvalid-logloss:0.52782\n",
      "[29]\tvalid-logloss:0.526888\n",
      "[30]\tvalid-logloss:0.526735\n",
      "[31]\tvalid-logloss:0.526466\n",
      "[32]\tvalid-logloss:0.526259\n",
      "[33]\tvalid-logloss:0.526183\n",
      "[34]\tvalid-logloss:0.526119\n",
      "[35]\tvalid-logloss:0.525999\n",
      "[36]\tvalid-logloss:0.525899\n",
      "[37]\tvalid-logloss:0.525369\n",
      "[38]\tvalid-logloss:0.524887\n",
      "[39]\tvalid-logloss:0.524744\n",
      "[40]\tvalid-logloss:0.524444\n",
      "[41]\tvalid-logloss:0.523945\n",
      "[42]\tvalid-logloss:0.522791\n",
      "[43]\tvalid-logloss:0.522191\n",
      "[44]\tvalid-logloss:0.522093\n",
      "[45]\tvalid-logloss:0.52152\n",
      "[46]\tvalid-logloss:0.521198\n",
      "[47]\tvalid-logloss:0.521037\n",
      "[48]\tvalid-logloss:0.520489\n",
      "[49]\tvalid-logloss:0.520389\n",
      "[50]\tvalid-logloss:0.520733\n",
      "[51]\tvalid-logloss:0.51989\n",
      "[52]\tvalid-logloss:0.519562\n",
      "[53]\tvalid-logloss:0.51878\n",
      "[54]\tvalid-logloss:0.518745\n",
      "[55]\tvalid-logloss:0.518862\n",
      "[56]\tvalid-logloss:0.518476\n",
      "[57]\tvalid-logloss:0.518397\n",
      "[58]\tvalid-logloss:0.519209\n",
      "[59]\tvalid-logloss:0.520033\n",
      "[60]\tvalid-logloss:0.519232\n",
      "[61]\tvalid-logloss:0.51875\n",
      "[62]\tvalid-logloss:0.518159\n",
      "[63]\tvalid-logloss:0.517968\n",
      "[64]\tvalid-logloss:0.517529\n",
      "[65]\tvalid-logloss:0.517475\n",
      "[66]\tvalid-logloss:0.517779\n",
      "[67]\tvalid-logloss:0.51727\n",
      "[68]\tvalid-logloss:0.517502\n",
      "[69]\tvalid-logloss:0.517458\n",
      "[70]\tvalid-logloss:0.517678\n",
      "[71]\tvalid-logloss:0.517242\n",
      "[72]\tvalid-logloss:0.517295\n",
      "[73]\tvalid-logloss:0.517204\n",
      "[74]\tvalid-logloss:0.517012\n",
      "[75]\tvalid-logloss:0.516852\n",
      "[76]\tvalid-logloss:0.517407\n",
      "[77]\tvalid-logloss:0.517144\n",
      "[78]\tvalid-logloss:0.517025\n",
      "[79]\tvalid-logloss:0.517423\n",
      "[80]\tvalid-logloss:0.516808\n",
      "[81]\tvalid-logloss:0.516202\n",
      "[82]\tvalid-logloss:0.515867\n",
      "[83]\tvalid-logloss:0.515935\n",
      "[84]\tvalid-logloss:0.516229\n",
      "[85]\tvalid-logloss:0.516162\n",
      "[86]\tvalid-logloss:0.51643\n",
      "[87]\tvalid-logloss:0.516425\n",
      "[88]\tvalid-logloss:0.516384\n",
      "[89]\tvalid-logloss:0.516351\n",
      "[90]\tvalid-logloss:0.515954\n",
      "[91]\tvalid-logloss:0.51562\n",
      "[92]\tvalid-logloss:0.515545\n",
      "[93]\tvalid-logloss:0.515464\n",
      "[94]\tvalid-logloss:0.515261\n",
      "[95]\tvalid-logloss:0.515558\n",
      "[96]\tvalid-logloss:0.515635\n",
      "[97]\tvalid-logloss:0.514909\n",
      "[98]\tvalid-logloss:0.515332\n",
      "[99]\tvalid-logloss:0.515047\n",
      "[100]\tvalid-logloss:0.515054\n",
      "[101]\tvalid-logloss:0.514845\n",
      "[102]\tvalid-logloss:0.514466\n",
      "[103]\tvalid-logloss:0.514493\n",
      "[104]\tvalid-logloss:0.514624\n",
      "[105]\tvalid-logloss:0.514176\n",
      "[106]\tvalid-logloss:0.514663\n",
      "[107]\tvalid-logloss:0.514655\n",
      "[108]\tvalid-logloss:0.514638\n",
      "[109]\tvalid-logloss:0.514734\n",
      "[110]\tvalid-logloss:0.515106\n",
      "[111]\tvalid-logloss:0.515059\n",
      "[112]\tvalid-logloss:0.514927\n",
      "[113]\tvalid-logloss:0.515092\n",
      "[114]\tvalid-logloss:0.514067\n",
      "[115]\tvalid-logloss:0.513986\n",
      "[116]\tvalid-logloss:0.514164\n",
      "[117]\tvalid-logloss:0.514162\n",
      "[118]\tvalid-logloss:0.51405\n",
      "[119]\tvalid-logloss:0.514009\n",
      "[120]\tvalid-logloss:0.514231\n",
      "[121]\tvalid-logloss:0.514429\n",
      "[122]\tvalid-logloss:0.514623\n",
      "[123]\tvalid-logloss:0.515082\n",
      "[124]\tvalid-logloss:0.515047\n",
      "[125]\tvalid-logloss:0.515314\n",
      "Stopping. Best iteration:\n",
      "[115]\tvalid-logloss:0.513986\n",
      "\n",
      "Lowest logloss for validation set: 0.513986 with 116 rounds\n"
     ]
    }
   ],
   "source": [
    "# train the baseline model\n",
    "xgb0 = xgb.train(\n",
    "    params,\n",
    "    DTrain,\n",
    "    num_boost_round=1000,\n",
    "    evals=[(DVal, 'valid')],\n",
    "    early_stopping_rounds=10\n",
    ")\n",
    "\n",
    "print(\"Lowest logloss for validation set: {} with {} rounds\".format(xgb0.best_score, xgb0.best_iteration+1))"
   ]
  },
  {
   "cell_type": "code",
   "execution_count": 158,
   "metadata": {},
   "outputs": [],
   "source": [
    "# prediction\n",
    "y_pred_xgboost = [int(round(value)) for value in xgb0.predict(DTest)]"
   ]
  },
  {
   "cell_type": "code",
   "execution_count": 159,
   "metadata": {
    "colab": {
     "base_uri": "https://localhost:8080/"
    },
    "id": "T5vFUApebjKw",
    "outputId": "1b8b0aeb-2d01-4535-a9eb-3c9aacc516ae"
   },
   "outputs": [
    {
     "name": "stdout",
     "output_type": "stream",
     "text": [
      "f1 score for XGBoost: 0.514\n"
     ]
    }
   ],
   "source": [
    "# Obtain the f1 score and report for three methods\n",
    "f1_xgboost = f1_score(y_test, y_pred_xgboost)\n",
    "print(f\"f1 score for XGBoost: {f1_xgboost:.3f}\")"
   ]
  },
  {
   "cell_type": "code",
   "execution_count": 161,
   "metadata": {
    "colab": {
     "base_uri": "https://localhost:8080/"
    },
    "id": "J3F6hE79bmGp",
    "outputId": "0772e372-ac9a-46a1-bffd-b5624103defd",
    "scrolled": true
   },
   "outputs": [
    {
     "name": "stdout",
     "output_type": "stream",
     "text": [
      "              precision    recall  f1-score   support\n",
      "\n",
      "           0       0.87      0.85      0.86      4734\n",
      "           1       0.49      0.54      0.51      1266\n",
      "\n",
      "    accuracy                           0.78      6000\n",
      "   macro avg       0.68      0.69      0.69      6000\n",
      "weighted avg       0.79      0.78      0.79      6000\n",
      "\n"
     ]
    }
   ],
   "source": [
    "print(classification_report(y_test, y_pred_xgboost))"
   ]
  },
  {
   "cell_type": "markdown",
   "metadata": {
    "id": "2R4yxI_T1hsU"
   },
   "source": [
    "# **5. Model Training & Validation**"
   ]
  },
  {
   "cell_type": "markdown",
   "metadata": {
    "id": "CrfGt8lj13ob"
   },
   "source": [
    "We chose XGBoost as our final methodology. This section contains the step-by-step model training and hyperparameter tuning for our final optimal XGBoost model."
   ]
  },
  {
   "cell_type": "markdown",
   "metadata": {},
   "source": [
    "### 5.1 Set up XGBoost Classification model"
   ]
  },
  {
   "cell_type": "code",
   "execution_count": 86,
   "metadata": {},
   "outputs": [],
   "source": [
    "params = {\n",
    "    # parameters for tree booster with default values (to be tuned)\n",
    "    'max_depth': 6,\n",
    "    'min_child_weight': 1,\n",
    "    'eta': .3,\n",
    "    'subsample': 1,\n",
    "    'colsample_bytree': 1,\n",
    "    'gamma': 0,\n",
    "    'alpha': 0,\n",
    "    'lambda': 1,\n",
    "    # other parameters\n",
    "    'objective': 'binary:logistic',\n",
    "    'eval_metric': 'logloss' # default for classification task\n",
    "}"
   ]
  },
  {
   "cell_type": "code",
   "execution_count": 68,
   "metadata": {},
   "outputs": [],
   "source": [
    "# global variable\n",
    "NUM_BOOST_ROUND = 1000"
   ]
  },
  {
   "cell_type": "markdown",
   "metadata": {},
   "source": [
    "**Some helper functions**"
   ]
  },
  {
   "cell_type": "code",
   "execution_count": 69,
   "metadata": {},
   "outputs": [],
   "source": [
    "# gridsearch parameter set (for 2 parameters) using 5-fold cross validation with single evaluation metrix 'logloss'\n",
    "def gridsearch_best_params(params_set, param1_name:str, param2_name:str, string_format, figwidth=10):\n",
    "    # create a DataFrame to hold the results\n",
    "    results = pd.DataFrame(columns=['params', 'test-logloss-mean', 'boost rounds'])\n",
    "    \n",
    "    for param1, param2 in params_set:\n",
    "        print(string_format.format(param1, param2))\n",
    "        # update parameters\n",
    "        params[param1_name] = param1\n",
    "        params[param2_name] = param2\n",
    "        \n",
    "        # run CV\n",
    "        cv_results = xgb.cv(\n",
    "            params,\n",
    "            DTrain,\n",
    "            num_boost_round=NUM_BOOST_ROUND, # set up a large iteration, will stop early\n",
    "            seed=42,\n",
    "            nfold=5,\n",
    "            metrics={'logloss'}, # default choice for classification task\n",
    "            early_stopping_rounds=10)\n",
    "        \n",
    "        # write down the results\n",
    "        mean_logloss = cv_results['test-logloss-mean'].min()\n",
    "        boost_rounds = cv_results['test-logloss-mean'].argmin()\n",
    "        results = results.append({'params':\"({},{})\".format(param1, param2), 'test-logloss-mean':mean_logloss, 'boost rounds':boost_rounds},\n",
    "                                ignore_index=True)\n",
    "    \n",
    "    # visualise the results\n",
    "    fig, ax = plt.subplots(nrows=2, ncols=1, figsize=(figwidth,8))\n",
    "    results.plot(x=\"params\", y=[\"test-logloss-mean\"], ax=ax[0], color='green')\n",
    "    results.plot(x=\"params\", y=[\"boost rounds\"], ax=ax[1], x_compat=True)\n",
    "\n",
    "    plt.setp(ax[0].get_xticklabels(), visible=False)\n",
    "    plt.xticks(results.index, results['params']) \n",
    "    fig.suptitle(\"Gridsearch CV for parameters tuning: {}, {}\".format(param1_name, param2_name), fontsize=14)\n",
    "    plt.show()\n",
    "    \n",
    "    print(results)"
   ]
  },
  {
   "cell_type": "code",
   "execution_count": 70,
   "metadata": {},
   "outputs": [],
   "source": [
    "# gridsearch parameter set (for single parameter) using 5-fold cross validation with single evaluation metrix 'logloss'\n",
    "def gridsearch_best_param(param_set, param_name:str, string_format, figwidth=10, convert_to_str=False, timed=False):\n",
    "    # create a DataFrame to hold the results\n",
    "    results = pd.DataFrame(columns=['param', 'test-logloss-mean', 'boost rounds'])\n",
    "    \n",
    "    for param in param_set:\n",
    "        print(string_format.format(param))\n",
    "        # update parameters\n",
    "        params[param_name] = param\n",
    "        \n",
    "        if timed:\n",
    "            start = time.time()\n",
    "        # run CV\n",
    "        cv_results = xgb.cv(\n",
    "            params,\n",
    "            DTrain,\n",
    "            num_boost_round=NUM_BOOST_ROUND,\n",
    "            seed=42,\n",
    "            nfold=5,\n",
    "            metrics={'logloss'}, # default choice for classification task\n",
    "            early_stopping_rounds=10)\n",
    "        \n",
    "        if timed:\n",
    "            end = time.time()\n",
    "            print (\"Time used:\", end - start)\n",
    "        \n",
    "        # write down the results\n",
    "        mean_logloss = cv_results['test-logloss-mean'].min()\n",
    "        boost_rounds = cv_results['test-logloss-mean'].argmin()\n",
    "        results = results.append({'param':param, 'test-logloss-mean':mean_logloss, 'boost rounds':boost_rounds},\n",
    "                                ignore_index=True)\n",
    "    \n",
    "    # visualise the results\n",
    "    if convert_to_str:\n",
    "        results['param'] = results['param'].astype(str)\n",
    "    \n",
    "    fig, ax = plt.subplots(nrows=2, ncols=1, figsize=(figwidth,8))\n",
    "    results.plot(x=\"param\", y=[\"test-logloss-mean\"], ax=ax[0], color='green')\n",
    "    results.plot(x=\"param\", y=[\"boost rounds\"], ax=ax[1], x_compat=True)\n",
    "\n",
    "    plt.setp(ax[0].get_xticklabels(), visible=False)\n",
    "    plt.xticks(results.index, results['param'])\n",
    "    fig.suptitle(\"Gridsearch CV for parameter tuning: {}\".format(param_name), fontsize=14)\n",
    "    plt.show()\n",
    "    \n",
    "    print(results)"
   ]
  },
  {
   "cell_type": "markdown",
   "metadata": {},
   "source": [
    "### 5.2 Hyperparmeters Tuning"
   ]
  },
  {
   "cell_type": "markdown",
   "metadata": {},
   "source": [
    "#### 5.2.1 Step 1: Tune max_depth and min_child_weight"
   ]
  },
  {
   "cell_type": "code",
   "execution_count": 71,
   "metadata": {
    "collapsed": true
   },
   "outputs": [
    {
     "name": "stdout",
     "output_type": "stream",
     "text": [
      "CV with max_depth=3, min_child_weight=1\n",
      "CV with max_depth=3, min_child_weight=3\n",
      "CV with max_depth=3, min_child_weight=5\n",
      "CV with max_depth=5, min_child_weight=1\n",
      "CV with max_depth=5, min_child_weight=3\n",
      "CV with max_depth=5, min_child_weight=5\n",
      "CV with max_depth=7, min_child_weight=1\n",
      "CV with max_depth=7, min_child_weight=3\n",
      "CV with max_depth=7, min_child_weight=5\n",
      "CV with max_depth=9, min_child_weight=1\n",
      "CV with max_depth=9, min_child_weight=3\n",
      "CV with max_depth=9, min_child_weight=5\n"
     ]
    },
    {
     "data": {
      "image/png": "[encoded data removed]",
      "text/plain": [
       "<Figure size 720x576 with 2 Axes>"
      ]
     },
     "metadata": {
      "needs_background": "light"
     },
     "output_type": "display_data"
    },
    {
     "name": "stdout",
     "output_type": "stream",
     "text": [
      "   params  test-logloss-mean boost rounds\n",
      "0   (3,1)           0.364770          226\n",
      "1   (3,3)           0.363003          283\n",
      "2   (3,5)           0.364235          240\n",
      "3   (5,1)           0.357830          152\n",
      "4   (5,3)           0.359495          112\n",
      "5   (5,5)           0.357257          150\n",
      "6   (7,1)           0.354153           95\n",
      "7   (7,3)           0.356485           87\n",
      "8   (7,5)           0.355134          123\n",
      "9   (9,1)           0.351348           50\n",
      "10  (9,3)           0.354171           63\n",
      "11  (9,5)           0.354543           79\n"
     ]
    }
   ],
   "source": [
    "# perform GridSearch on testing 12 combinations\n",
    "param_test1 = [(max_depth, min_child_weight)\n",
    "              for max_depth in range(3,10,2)\n",
    "              for min_child_weight in range(1,6,2)]\n",
    "\n",
    "gridsearch_best_params(param_test1, 'max_depth', 'min_child_weight', \"CV with max_depth={}, min_child_weight={}\")"
   ]
  },
  {
   "cell_type": "markdown",
   "metadata": {},
   "source": [
    "Choose (9,1) which has the lowest test-logloss-mean and a low boost rounds. This can be considered as the optimal.\n",
    "<br>\n",
    "Need to check optimal value in step 1."
   ]
  },
  {
   "cell_type": "code",
   "execution_count": 77,
   "metadata": {
    "collapsed": true
   },
   "outputs": [
    {
     "name": "stdout",
     "output_type": "stream",
     "text": [
      "CV with max_depth=8, min_child_weight=1\n",
      "CV with max_depth=8, min_child_weight=2\n",
      "CV with max_depth=8, min_child_weight=3\n",
      "CV with max_depth=9, min_child_weight=1\n",
      "CV with max_depth=9, min_child_weight=2\n",
      "CV with max_depth=9, min_child_weight=3\n",
      "CV with max_depth=10, min_child_weight=1\n",
      "CV with max_depth=10, min_child_weight=2\n",
      "CV with max_depth=10, min_child_weight=3\n"
     ]
    },
    {
     "data": {
      "image/png": "[encoded data removed]",
      "text/plain": [
       "<Figure size 576x576 with 2 Axes>"
      ]
     },
     "metadata": {
      "needs_background": "light"
     },
     "output_type": "display_data"
    },
    {
     "name": "stdout",
     "output_type": "stream",
     "text": [
      "   params  test-logloss-mean boost rounds\n",
      "0   (8,1)           0.353144           71\n",
      "1   (8,2)           0.351956           71\n",
      "2   (8,3)           0.355920           67\n",
      "3   (9,1)           0.351348           50\n",
      "4   (9,2)           0.351522           71\n",
      "5   (9,3)           0.354171           63\n",
      "6  (10,1)           0.351121           59\n",
      "7  (10,2)           0.352838           48\n",
      "8  (10,3)           0.351583           51\n"
     ]
    }
   ],
   "source": [
    "# test values in step 1, centred at (9,1)\n",
    "param_test1b = [(max_depth, min_child_weight)\n",
    "              for max_depth in [8,9,10]\n",
    "              for min_child_weight in [1,2,3]]\n",
    "\n",
    "gridsearch_best_params(param_test1b, 'max_depth', 'min_child_weight', \"CV with max_depth={}, min_child_weight={}\", 8)"
   ]
  },
  {
   "cell_type": "markdown",
   "metadata": {},
   "source": [
    "(10,1) is the optimal one."
   ]
  },
  {
   "cell_type": "code",
   "execution_count": 78,
   "metadata": {},
   "outputs": [],
   "source": [
    "# update optimal parameter values\n",
    "params['max_depth'] = 10\n",
    "params['min_child_weight'] = 1"
   ]
  },
  {
   "cell_type": "markdown",
   "metadata": {},
   "source": [
    "### Step 2: Tune subsamples and colsample_bytree"
   ]
  },
  {
   "cell_type": "code",
   "execution_count": 79,
   "metadata": {
    "collapsed": true
   },
   "outputs": [
    {
     "name": "stdout",
     "output_type": "stream",
     "text": [
      "CV with subsample=0.7, colsample_bytree=0.7\n",
      "CV with subsample=0.7, colsample_bytree=0.8\n",
      "CV with subsample=0.7, colsample_bytree=0.9\n",
      "CV with subsample=0.7, colsample_bytree=1.0\n",
      "CV with subsample=0.8, colsample_bytree=0.7\n",
      "CV with subsample=0.8, colsample_bytree=0.8\n",
      "CV with subsample=0.8, colsample_bytree=0.9\n",
      "CV with subsample=0.8, colsample_bytree=1.0\n",
      "CV with subsample=0.9, colsample_bytree=0.7\n",
      "CV with subsample=0.9, colsample_bytree=0.8\n",
      "CV with subsample=0.9, colsample_bytree=0.9\n",
      "CV with subsample=0.9, colsample_bytree=1.0\n",
      "CV with subsample=1.0, colsample_bytree=0.7\n",
      "CV with subsample=1.0, colsample_bytree=0.8\n",
      "CV with subsample=1.0, colsample_bytree=0.9\n",
      "CV with subsample=1.0, colsample_bytree=1.0\n"
     ]
    },
    {
     "data": {
      "image/png": "[encoded data removed]",
      "text/plain": [
       "<Figure size 1152x576 with 2 Axes>"
      ]
     },
     "metadata": {
      "needs_background": "light"
     },
     "output_type": "display_data"
    },
    {
     "name": "stdout",
     "output_type": "stream",
     "text": [
      "       params  test-logloss-mean boost rounds\n",
      "0   (0.7,0.7)           0.360762           49\n",
      "1   (0.7,0.8)           0.360139           31\n",
      "2   (0.7,0.9)           0.357464           46\n",
      "3   (0.7,1.0)           0.361802           32\n",
      "4   (0.8,0.7)           0.354550           46\n",
      "5   (0.8,0.8)           0.355477           45\n",
      "6   (0.8,0.9)           0.355829           58\n",
      "7   (0.8,1.0)           0.355388           45\n",
      "8   (0.9,0.7)           0.355573           50\n",
      "9   (0.9,0.8)           0.355264           50\n",
      "10  (0.9,0.9)           0.352514           45\n",
      "11  (0.9,1.0)           0.354282           48\n",
      "12  (1.0,0.7)           0.347328           58\n",
      "13  (1.0,0.8)           0.350895           61\n",
      "14  (1.0,0.9)           0.352077           55\n",
      "15  (1.0,1.0)           0.351121           59\n"
     ]
    }
   ],
   "source": [
    "# perform GridSearch on testing 16 combinations\n",
    "param_test2 = [(subsample, colsample)\n",
    "              for subsample in [i/10 for i in range(7,11)]\n",
    "              for colsample in [i/10 for i in range(7,11)]]\n",
    "\n",
    "gridsearch_best_params(param_test2, 'subsample', 'colsample_bytree', \"CV with subsample={}, colsample_bytree={}\", 16)"
   ]
  },
  {
   "cell_type": "markdown",
   "metadata": {},
   "source": [
    "(1.0,0.7) has the lowest test-logloss-mean but a relatively high boost rounds. This can be considered as the optimal.\n",
    "<br>\n",
    "Need to check optimal value in step 0.05."
   ]
  },
  {
   "cell_type": "code",
   "execution_count": 80,
   "metadata": {
    "collapsed": true
   },
   "outputs": [
    {
     "name": "stdout",
     "output_type": "stream",
     "text": [
      "CV with subsample=0.95, colsample_bytree=0.65\n",
      "CV with subsample=0.95, colsample_bytree=0.7\n",
      "CV with subsample=0.95, colsample_bytree=0.75\n",
      "CV with subsample=1.0, colsample_bytree=0.65\n",
      "CV with subsample=1.0, colsample_bytree=0.7\n",
      "CV with subsample=1.0, colsample_bytree=0.75\n"
     ]
    },
    {
     "data": {
      "image/png": "[encoded data removed]",
      "text/plain": [
       "<Figure size 864x576 with 2 Axes>"
      ]
     },
     "metadata": {
      "needs_background": "light"
     },
     "output_type": "display_data"
    },
    {
     "name": "stdout",
     "output_type": "stream",
     "text": [
      "        params  test-logloss-mean boost rounds\n",
      "0  (0.95,0.65)           0.352807           47\n",
      "1   (0.95,0.7)           0.351772           50\n",
      "2  (0.95,0.75)           0.352566           53\n",
      "3   (1.0,0.65)           0.349777           44\n",
      "4    (1.0,0.7)           0.347328           58\n",
      "5   (1.0,0.75)           0.351839           41\n"
     ]
    }
   ],
   "source": [
    "# test values in step 0.05, centred at (1.0,0.7)\n",
    "# note that 1.0 is the maximum value for 'subsample' and 'colsample_bytree'\n",
    "param_test2b = [(subsample, colsample)\n",
    "              for subsample in [i/100 for i in range(95,105,5)]\n",
    "              for colsample in [i/100 for i in range(65,80,5)]]\n",
    "\n",
    "gridsearch_best_params(param_test2b, 'subsample', 'colsample_bytree', \"CV with subsample={}, colsample_bytree={}\", 12)"
   ]
  },
  {
   "cell_type": "markdown",
   "metadata": {},
   "source": [
    "(1.0,0.7) is still the optimal one for test-logloss-mean, though it needs a high boost rounds."
   ]
  },
  {
   "cell_type": "code",
   "execution_count": 81,
   "metadata": {},
   "outputs": [],
   "source": [
    "# update optimal parameter values\n",
    "params['subsample'] = 1.0\n",
    "params['colsample_bytree'] = 0.7"
   ]
  },
  {
   "cell_type": "markdown",
   "metadata": {},
   "source": [
    "### Step 3: Tune gamma"
   ]
  },
  {
   "cell_type": "code",
   "execution_count": 82,
   "metadata": {
    "collapsed": true
   },
   "outputs": [
    {
     "name": "stdout",
     "output_type": "stream",
     "text": [
      "CV with gamma=0\n",
      "CV with gamma=1\n",
      "CV with gamma=2\n",
      "CV with gamma=3\n",
      "CV with gamma=4\n",
      "CV with gamma=5\n",
      "CV with gamma=6\n",
      "CV with gamma=7\n",
      "CV with gamma=8\n",
      "CV with gamma=9\n",
      "CV with gamma=10\n"
     ]
    },
    {
     "data": {
      "image/png": "[encoded data removed]",
      "text/plain": [
       "<Figure size 720x576 with 2 Axes>"
      ]
     },
     "metadata": {
      "needs_background": "light"
     },
     "output_type": "display_data"
    },
    {
     "name": "stdout",
     "output_type": "stream",
     "text": [
      "    param  test-logloss-mean  boost rounds\n",
      "0     0.0           0.347328          58.0\n",
      "1     1.0           0.353551          49.0\n",
      "2     2.0           0.353365          45.0\n",
      "3     3.0           0.352342          78.0\n",
      "4     4.0           0.351586          73.0\n",
      "5     5.0           0.352478          59.0\n",
      "6     6.0           0.353543         133.0\n",
      "7     7.0           0.355832         127.0\n",
      "8     8.0           0.357931         103.0\n",
      "9     9.0           0.359480         194.0\n",
      "10   10.0           0.359973         120.0\n"
     ]
    }
   ],
   "source": [
    "# perform GridSearch on testing 11 values\n",
    "param_test3 = [i for i in range(0,11)]\n",
    "\n",
    "gridsearch_best_param(param_test3, 'gamma', \"CV with gamma={}\")"
   ]
  },
  {
   "cell_type": "markdown",
   "metadata": {},
   "source": [
    "gamma = 0 has the lowest test-logloss-mean and a relatively low boost rounds. This can be considered as the optimal.\n",
    "<br>\n",
    "Need to check optimal value in step 0.1."
   ]
  },
  {
   "cell_type": "code",
   "execution_count": 83,
   "metadata": {
    "collapsed": true
   },
   "outputs": [
    {
     "name": "stdout",
     "output_type": "stream",
     "text": [
      "CV with gamma=0.0\n",
      "CV with gamma=0.1\n",
      "CV with gamma=0.2\n",
      "CV with gamma=0.3\n",
      "CV with gamma=0.4\n",
      "CV with gamma=0.5\n",
      "CV with gamma=0.6\n",
      "CV with gamma=0.7\n",
      "CV with gamma=0.8\n",
      "CV with gamma=0.9\n",
      "CV with gamma=1.0\n"
     ]
    },
    {
     "data": {
      "image/png": "[encoded data removed]",
      "text/plain": [
       "<Figure size 720x576 with 2 Axes>"
      ]
     },
     "metadata": {
      "needs_background": "light"
     },
     "output_type": "display_data"
    },
    {
     "name": "stdout",
     "output_type": "stream",
     "text": [
      "   param  test-logloss-mean  boost rounds\n",
      "0    0.0           0.347328          58.0\n",
      "1    0.1           0.351439          44.0\n",
      "2    0.2           0.349226          56.0\n",
      "3    0.3           0.352775          42.0\n",
      "4    0.4           0.350940          46.0\n",
      "5    0.5           0.353204          54.0\n",
      "6    0.6           0.352880          57.0\n",
      "7    0.7           0.351366          49.0\n",
      "8    0.8           0.352395          54.0\n",
      "9    0.9           0.353246          46.0\n",
      "10   1.0           0.353551          49.0\n"
     ]
    }
   ],
   "source": [
    "# test values in step 0.1, centred at (0.0)\n",
    "param_test3b = [i/10 for i in range(0,11)]\n",
    "\n",
    "gridsearch_best_param(param_test3b, 'gamma', \"CV with gamma={}\", convert_to_str=True)"
   ]
  },
  {
   "cell_type": "markdown",
   "metadata": {},
   "source": [
    "gamma = 0 is still the optimal one."
   ]
  },
  {
   "cell_type": "code",
   "execution_count": 84,
   "metadata": {},
   "outputs": [],
   "source": [
    "# update optimal parameter value\n",
    "params['gamma'] = 0"
   ]
  },
  {
   "cell_type": "markdown",
   "metadata": {},
   "source": [
    "### Step 4: Tune regularisation parameters - alpha, lambda"
   ]
  },
  {
   "cell_type": "code",
   "execution_count": 85,
   "metadata": {},
   "outputs": [
    {
     "name": "stdout",
     "output_type": "stream",
     "text": [
      "CV with alpha=1e-05\n",
      "CV with alpha=0.0001\n",
      "CV with alpha=0.001\n",
      "CV with alpha=0.01\n",
      "CV with alpha=0.1\n",
      "CV with alpha=1\n",
      "CV with alpha=10\n",
      "CV with alpha=50\n",
      "CV with alpha=100\n"
     ]
    },
    {
     "data": {
      "image/png": "[encoded data removed]",
      "text/plain": [
       "<Figure size 720x576 with 2 Axes>"
      ]
     },
     "metadata": {
      "needs_background": "light"
     },
     "output_type": "display_data"
    },
    {
     "name": "stdout",
     "output_type": "stream",
     "text": [
      "    param  test-logloss-mean  boost rounds\n",
      "0   1e-05           0.347328          58.0\n",
      "1  0.0001           0.349091          44.0\n",
      "2   0.001           0.353137          42.0\n",
      "3    0.01           0.350673          55.0\n",
      "4     0.1           0.349633          49.0\n",
      "5     1.0           0.346845          53.0\n",
      "6    10.0           0.344805         126.0\n",
      "7    50.0           0.380332          59.0\n",
      "8   100.0           0.405573          36.0\n"
     ]
    }
   ],
   "source": [
    "# select 9 values from a broad range, perform GridSearch on testing these 9 values for 'alpha'\n",
    "param_test4_alpha = [1e-5, 1e-4, 1e-3, 0.01, 0.1, 1, 10, 50, 100]\n",
    "\n",
    "gridsearch_best_param(param_test4_alpha, 'alpha', \"CV with alpha={}\", convert_to_str=True)"
   ]
  },
  {
   "cell_type": "markdown",
   "metadata": {},
   "source": [
    "The lower the alpha, the lower the test-logloss-mean. Therefore, it'd better to keep alpha as its default value: 0."
   ]
  },
  {
   "cell_type": "code",
   "execution_count": null,
   "metadata": {},
   "outputs": [],
   "source": [
    "# update optimal parameter value\n",
    "params['alpha'] = 0     # the default value"
   ]
  },
  {
   "cell_type": "code",
   "execution_count": null,
   "metadata": {},
   "outputs": [],
   "source": [
    "# select 9 values from a broad range, perform GridSearch on testing 9 values for 'lambda'\n",
    "param_test4_lambda = [1e-5, 1e-4, 1e-3, 0.01, 0.1, 1, 10, 50, 100]\n",
    "\n",
    "gridsearch_best_param(param_test4_lambda, 'lambda', \"CV with lambda={}\", convert_to_str=True)"
   ]
  },
  {
   "cell_type": "markdown",
   "metadata": {},
   "source": [
    "The higher the lambda, the lower the test-logloss-mean. Take a closer look at values between 0.1 and 50. "
   ]
  },
  {
   "cell_type": "code",
   "execution_count": null,
   "metadata": {},
   "outputs": [],
   "source": [
    "# test values between 0.1 and 50\n",
    "param_test4b_lambda = [0.1, 0.3, 0.6, 0.9, 1, 3, 6, 9, 10, 20, 30, 40, 50]\n",
    "\n",
    "gridsearch_best_param(param_test4b_lambda, 'lambda', \"CV with lambda={}\", convert_to_str=True)"
   ]
  },
  {
   "cell_type": "markdown",
   "metadata": {},
   "source": [
    "lambda = 20 has the lowest the test-logloss-mean. This is a relatively high lambda value, with the risk of underfitting the model. But let's consider it as the optimal at the moment.\n",
    "<br>\n",
    "Need to check values around 20 in a smaller step."
   ]
  },
  {
   "cell_type": "code",
   "execution_count": null,
   "metadata": {},
   "outputs": [],
   "source": [
    "# test values around 20 in step 1\n",
    "param_test4c_lambda = [i for i in range(15,26,1)]\n",
    "\n",
    "gridsearch_best_param(param_test4c_lambda, 'lambda', \"CV with lambda={}\", convert_to_str=True)"
   ]
  },
  {
   "cell_type": "markdown",
   "metadata": {},
   "source": [
    "lambda = 21 is the optimal one."
   ]
  },
  {
   "cell_type": "code",
   "execution_count": null,
   "metadata": {},
   "outputs": [],
   "source": [
    "# update optimal parameter value\n",
    "params['lambda'] = 21"
   ]
  },
  {
   "cell_type": "markdown",
   "metadata": {},
   "source": [
    "### Step 5: Reduce learning rate"
   ]
  },
  {
   "cell_type": "code",
   "execution_count": null,
   "metadata": {},
   "outputs": [],
   "source": [
    "# perform GridSearch on testing 5 values for eta\n",
    "param_test5 = [1, .1, .05, .01, .005]\n",
    "\n",
    "# timing\n",
    "%time gridsearch_best_param(param_test5, 'eta', \"CV with eta={}\", convert_to_str=True, timed=True)"
   ]
  },
  {
   "cell_type": "markdown",
   "metadata": {},
   "source": [
    "eta = 0.05 has lowest test-logloss-mean but a high boost rounds (429 rounds). However, it didn't take a long time to run (83 seconds). Hence, we can consider 0.05 as the optimal."
   ]
  },
  {
   "cell_type": "code",
   "execution_count": null,
   "metadata": {},
   "outputs": [],
   "source": [
    "# update best parameter\n",
    "params['eta'] = 0.05"
   ]
  },
  {
   "cell_type": "markdown",
   "metadata": {
    "id": "vMhVlDLf15D2"
   },
   "source": [
    "# **6. Results**"
   ]
  },
  {
   "cell_type": "code",
   "execution_count": 277,
   "metadata": {
    "id": "Mtn_xHg02ALS"
   },
   "outputs": [],
   "source": [
    "# tuned hyperparameters values\n",
    "params\n",
    "\n",
    "# compared with default values:\n",
    "# 'max_depth': 6,\n",
    "# 'min_child_weight': 1,\n",
    "# 'eta': 0.3,\n",
    "# 'subsample': 1,\n",
    "# 'colsample_bytree': 1,\n",
    "# 'gamma': 0,\n",
    "# 'alpha': 0,\n",
    "# 'lambda': 1,"
   ]
  },
  {
   "cell_type": "code",
   "execution_count": null,
   "metadata": {},
   "outputs": [],
   "source": [
    "# feed in parameters to find optimal 'num_boost_round'\n",
    "xgb1 = xgb.train(\n",
    "    params,\n",
    "    DTrain,\n",
    "    num_boost_round=NUM_BOOST_ROUND,\n",
    "    evals=[(DVal, 'valid')],\n",
    "    early_stopping_rounds=10\n",
    ")\n",
    "\n",
    "print(\"Lowest logloss for validation set: {} with {} rounds\".format(xgb1.best_score, xgb1.best_iteration+1))"
   ]
  },
  {
   "cell_type": "code",
   "execution_count": null,
   "metadata": {},
   "outputs": [],
   "source": [
    "# remove the early_stopping_rounds since we've got the exact optimal num_boost_round\n",
    "NUM_BOOST_ROUND = xgb1.best_iteration + 1\n",
    "\n",
    "optimal_model = xgb.train(\n",
    "    params,\n",
    "    DTrain,\n",
    "    num_boost_round=NUM_BOOST_ROUND,\n",
    "    evals=[(DVal, 'valid')]\n",
    ")"
   ]
  },
  {
   "cell_type": "code",
   "execution_count": null,
   "metadata": {},
   "outputs": [],
   "source": [
    "# save model\n",
    "path = '' # change to your local directory\n",
    "optimal_model.save_model(path + 'CreditCardDefault_model_LogisticRegression_XGBoost.model')"
   ]
  },
  {
   "cell_type": "markdown",
   "metadata": {
    "id": "7MlD99BQ2BGY"
   },
   "source": [
    "# **7. Final Predictions on Test Set**"
   ]
  },
  {
   "cell_type": "code",
   "execution_count": 277,
   "metadata": {
    "id": "NmJQI-MG2VDs"
   },
   "outputs": [],
   "source": []
  }
 ],
 "metadata": {
  "colab": {
   "collapsed_sections": [
    "dD_lmI_jfAVO",
    "JLUOGwH7gEOQ",
    "LMAxQylDitwk",
    "7e_xAKY0iqbx",
    "lIjbT9Pml9wR",
    "t2RgvDLp8wVZ",
    "x3__76ErW1b2",
    "IgN6Or0lScOO",
    "2R4yxI_T1hsU",
    "vMhVlDLf15D2",
    "7MlD99BQ2BGY"
   ],
   "name": "Final (1).ipynb",
   "provenance": [],
   "toc_visible": true
  },
  "kernelspec": {
   "display_name": "Python 3",
   "language": "python",
   "name": "python3"
  },
  "language_info": {
   "codemirror_mode": {
    "name": "ipython",
    "version": 3
   },
   "file_extension": ".py",
   "mimetype": "text/x-python",
   "name": "python",
   "nbconvert_exporter": "python",
   "pygments_lexer": "ipython3",
   "version": "3.7.6"
  }
 },
 "nbformat": 4,
 "nbformat_minor": 1
}
